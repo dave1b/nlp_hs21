{
 "cells": [
  {
   "cell_type": "markdown",
   "id": "09f04ff1",
   "metadata": {},
   "source": [
    "# INLP : SW08"
   ]
  },
  {
   "cell_type": "markdown",
   "id": "95be2562",
   "metadata": {},
   "source": [
    "from statistic and thin NN to shallow ones"
   ]
  },
  {
   "cell_type": "markdown",
   "id": "ed816ff0",
   "metadata": {},
   "source": [
    "encapsulating distributional semantics in text applications"
   ]
  },
  {
   "cell_type": "markdown",
   "id": "789d210e",
   "metadata": {},
   "source": [
    "we will see different approaches, with varying level of complexity:\n",
    "\n",
    "1) GLoVe\n",
    "\n",
    "2) ELMo\n",
    "\n",
    "3) BERT\n",
    "\n",
    "4) GPT"
   ]
  },
  {
   "cell_type": "markdown",
   "id": "05f04893",
   "metadata": {},
   "source": [
    "## GLoVe"
   ]
  },
  {
   "cell_type": "markdown",
   "id": "44ea7ff0",
   "metadata": {},
   "source": [
    "GLoVe \n",
    "* unsupervised learning algorithm for obtaining vector representations for words (source: [GLoVe webpage](https://nlp.stanford.edu/projects/glove/))\n",
    "* resulting representations showcase interesting linear substructures of the word vector space"
   ]
  },
  {
   "cell_type": "code",
   "execution_count": 10,
   "id": "b00bcc9b",
   "metadata": {},
   "outputs": [],
   "source": [
    "import numpy as np\n",
    "from scipy import spatial\n",
    "import matplotlib.pyplot as plt\n",
    "from sklearn.manifold import TSNE"
   ]
  },
  {
   "cell_type": "code",
   "execution_count": 11,
   "id": "9acb0aff",
   "metadata": {},
   "outputs": [],
   "source": [
    "embeddings_dict = {}"
   ]
  },
  {
   "cell_type": "markdown",
   "id": "3e869fe1",
   "metadata": {},
   "source": [
    "We need a pre-trained GLoVe model, you can dowload them form the [official webpage](https://nlp.stanford.edu/projects/glove/), at the __Download pre-trained word vectors__ section. We specifically use the \"glove.6B\" model, trained on a [Wikipedia dump (2014)](http://dumps.wikimedia.org/enwiki/20140102/) and the [Gigaworld dataset](https://catalog.ldc.upenn.edu/LDC2011T07)\n",
    "\n",
    "This generate models with:\n",
    "* 6B tokens, \n",
    "* 400K (uncased, all small letters) vocab\n",
    "\n",
    "and with dimensions of \n",
    "* 50, 100, 200 & 300 vectors\n",
    "\n",
    "The dowload is big (822 MB) and you need to expand the zip file in the corrent directory, for running it."
   ]
  },
  {
   "cell_type": "code",
   "execution_count": 12,
   "id": "ab044338",
   "metadata": {},
   "outputs": [],
   "source": [
    "with open(\"glove.6B.50d.txt\", 'r', encoding=\"utf-8\") as f:\n",
    "    for line in f:\n",
    "        values = line.split()\n",
    "        word = values[0]\n",
    "        vector = np.asarray(values[1:], \"float32\")\n",
    "        embeddings_dict[word] = vector\n",
    "#d here model is loaded"
   ]
  },
  {
   "cell_type": "code",
   "execution_count": 39,
   "id": "77e3f0bf",
   "metadata": {},
   "outputs": [],
   "source": [
    "def find_closest_embeddings(embedding):\n",
    "    return sorted(embeddings_dict.keys(), key=lambda word: spatial.distance.euclidean(embeddings_dict[word], embedding))\n",
    "#d defining function here\n",
    "\n",
    "# faster\n",
    "def find_closest_embeddings_euclidian(embedding):\n",
    "    word_dist = [\n",
    "        (word, spatial.distance.euclidean(word_embedding, embedding))\n",
    "        for word, word_embedding in embeddings_dict.items()\n",
    "    ]\n",
    "    return sorted(word_dist, key=lambda ele: ele[1])\n",
    "\n",
    "# genauer\n",
    "def find_closest_embeddings_cosine(embedding):\n",
    "    word_dist = [\n",
    "        (word, spatial.distance.cosine(word_embedding, embedding))\n",
    "        for word, word_embedding in embeddings_dict.items()\n",
    "    ]\n",
    "    return sorted(word_dist, key=lambda ele: ele[1])\n",
    "\n",
    "#d what is the similarity (cosine distance)\n"
   ]
  },
  {
   "cell_type": "code",
   "execution_count": 14,
   "id": "7206833d",
   "metadata": {},
   "outputs": [
    {
     "name": "stdout",
     "output_type": "stream",
     "text": [
      "[('king', 0.0), ('prince', 3.117973566055298), ('queen', 3.4777562618255615), ('uncle', 3.5069308280944824), ('ii', 3.5766706466674805), ('grandson', 3.6911327838897705)]\n"
     ]
    }
   ],
   "source": [
    "print(find_closest_embeddings_euclidian(embeddings_dict[\"king\"])[:6])\n",
    "#d first 6 which are closest\n",
    "#d number is distance\n",
    "#d number is dinstance here with 50 dimension"
   ]
  },
  {
   "cell_type": "code",
   "execution_count": 15,
   "id": "5a4dfacd",
   "metadata": {},
   "outputs": [
    {
     "name": "stdout",
     "output_type": "stream",
     "text": [
      "[('king', 0.0), ('prince', 0.17638200521469116), ('queen', 0.2160956859588623), ('ii', 0.22537702322006226), ('emperor', 0.22637510299682617), ('son', 0.23328059911727905)]\n"
     ]
    }
   ],
   "source": [
    "print(find_closest_embeddings_cosine(embeddings_dict[\"king\"])[:6])\n",
    "#d goes throw the whole dataset one by one"
   ]
  },
  {
   "cell_type": "code",
   "execution_count": 40,
   "id": "a715b316",
   "metadata": {},
   "outputs": [
    {
     "name": "stdout",
     "output_type": "stream",
     "text": [
      "['fingernails', 'toenails', 'stringy', 'peeling', 'shove']\n"
     ]
    }
   ],
   "source": [
    "print(find_closest_embeddings(\n",
    "    embeddings_dict[\"twig\"] - embeddings_dict[\"branch\"] + embeddings_dict[\"hand\"]\n",
    ")[:5])\n",
    "#d combining different words"
   ]
  },
  {
   "cell_type": "code",
   "execution_count": 17,
   "id": "b2f20265",
   "metadata": {},
   "outputs": [
    {
     "name": "stdout",
     "output_type": "stream",
     "text": [
      "[('fingernails', 0.2360442876815796), ('toenails', 0.2595106363296509), ('stringy', 0.3188042640686035), ('shove', 0.3370434045791626), ('peeling', 0.33767378330230713)]\n"
     ]
    }
   ],
   "source": [
    "print(find_closest_embeddings_cosine(\n",
    "    embeddings_dict[\"twig\"] - embeddings_dict[\"branch\"] + embeddings_dict[\"hand\"]\n",
    ")[:5])"
   ]
  },
  {
   "cell_type": "markdown",
   "id": "60fff405",
   "metadata": {},
   "source": [
    "To \"represent\" the embeddings (50d), we need to project the space to lower dimensionality, and we will use the [t-SNE approach (T-distributed Stochastic Neighbor Embedding)](https://scikit-learn.org/stable/modules/generated/sklearn.manifold.TSNE.html) \n",
    "Reducing to 2 dimensions will allow us to plot it out..."
   ]
  },
  {
   "cell_type": "code",
   "execution_count": 18,
   "id": "c1043930",
   "metadata": {},
   "outputs": [],
   "source": [
    "tsne = TSNE(n_components=2, random_state=0, metric=\"cosine\", perplexity=30.0, square_distances=True, verbose=1)"
   ]
  },
  {
   "cell_type": "code",
   "execution_count": 19,
   "id": "191a1d4e",
   "metadata": {},
   "outputs": [],
   "source": [
    "max_index = len(embeddings_dict)\n",
    "nr = 5000\n",
    "restricted_embeddings_dict_indexes = np.random.choice(max_index,nr)\n",
    "\n",
    "embedding_matrix = list(embeddings_dict.values())\n",
    "\n",
    "selected_embeddings = [embedding_matrix[index] for index in restricted_embeddings_dict_indexes]\n",
    "\n",
    "#tSNE_model = tsne.fit(selected_embeddings)"
   ]
  },
  {
   "cell_type": "code",
   "execution_count": 20,
   "id": "8d291364",
   "metadata": {},
   "outputs": [],
   "source": [
    "words =  list(embeddings_dict.keys())\n",
    "vectors = [embeddings_dict[word] for word in words]"
   ]
  },
  {
   "cell_type": "code",
   "execution_count": 21,
   "id": "6395c03d",
   "metadata": {},
   "outputs": [],
   "source": [
    "#vectors"
   ]
  },
  {
   "cell_type": "code",
   "execution_count": 22,
   "id": "422725e3",
   "metadata": {},
   "outputs": [
    {
     "name": "stdout",
     "output_type": "stream",
     "text": [
      "[t-SNE] Computing 91 nearest neighbors...\n",
      "[t-SNE] Indexed 5050 samples in 0.000s...\n",
      "[t-SNE] Computed neighbors for 5050 samples in 0.658s...\n",
      "[t-SNE] Computed conditional probabilities for sample 1000 / 5050\n",
      "[t-SNE] Computed conditional probabilities for sample 2000 / 5050\n",
      "[t-SNE] Computed conditional probabilities for sample 3000 / 5050\n",
      "[t-SNE] Computed conditional probabilities for sample 4000 / 5050\n",
      "[t-SNE] Computed conditional probabilities for sample 5000 / 5050\n",
      "[t-SNE] Computed conditional probabilities for sample 5050 / 5050\n",
      "[t-SNE] Mean sigma: 0.179982\n",
      "[t-SNE] KL divergence after 100 iterations with early exaggeration: 88.247734\n",
      "[t-SNE] KL divergence after 1000 iterations: 2.770226\n"
     ]
    }
   ],
   "source": [
    "base = 0\n",
    "step = 50\n",
    "\n",
    "space = selected_embeddings+vectors[base:(base+step)]\n",
    "\n",
    "Y = tsne.fit_transform(space)"
   ]
  },
  {
   "cell_type": "code",
   "execution_count": 23,
   "id": "5803f483",
   "metadata": {},
   "outputs": [
    {
     "data": {
      "image/png": "[encoded data removed]",
      "text/plain": [
       "<Figure size 432x288 with 1 Axes>"
      ]
     },
     "metadata": {
      "needs_background": "light"
     },
     "output_type": "display_data"
    }
   ],
   "source": [
    "plt.scatter(Y[nr:nr+step-1, 0], Y[nr:nr+step-1, 1])\n",
    "for label, x, y in zip(words, Y[nr:nr+step-1, 0], Y[nr:nr+step-1, 1]):\n",
    "    plt.annotate(label, xy=(x, y), xytext=(5, 1), textcoords=\"offset points\")\n",
    "plt.show()\n",
    "#d print out the first 50 elements"
   ]
  },
  {
   "cell_type": "code",
   "execution_count": 24,
   "id": "83b9c8bd",
   "metadata": {},
   "outputs": [],
   "source": [
    "#list(zip(words, Y[:, 0], Y[:, 1]))"
   ]
  },
  {
   "cell_type": "code",
   "execution_count": 25,
   "id": "7789874d",
   "metadata": {},
   "outputs": [
    {
     "name": "stdout",
     "output_type": "stream",
     "text": [
      "[('turin', 0.20273685455322266), ('italy', 0.20814186334609985), ('milan', 0.21722441911697388), ('bologna', 0.2400570511817932), ('genoa', 0.2542887330055237), ('rome', 0.274344801902771), ('italian', 0.28251564502716064), ('frankfurt', 0.2838957905769348), ('palermo', 0.28456568717956543), ('parma', 0.29977142810821533), ('zurich', 0.30454617738723755), ('torino', 0.3153432011604309), ('naples', 0.31587064266204834), ('madrid', 0.3159630298614502), ('cologne', 0.3241654634475708)]\n"
     ]
    }
   ],
   "source": [
    "print(find_closest_embeddings_cosine(\n",
    "    embeddings_dict[\"zurich\"]-embeddings_dict[\"switzerland\"]+embeddings_dict[\"italy\"]\n",
    ")[:15])\n",
    "#d the results are good considering that there is now semantic background\n",
    "#d data can be influneced by noise"
   ]
  },
  {
   "cell_type": "code",
   "execution_count": 26,
   "id": "61bc9f13",
   "metadata": {},
   "outputs": [],
   "source": [
    "idx_zurich = words.index(\"zurich\")\n",
    "idx_switzerland = words.index(\"switzerland\")\n",
    "idx_italy = words.index(\"italy\")\n",
    "#d getting the index of the words"
   ]
  },
  {
   "cell_type": "code",
   "execution_count": 27,
   "id": "bb0924d3",
   "metadata": {},
   "outputs": [],
   "source": [
    "words_sel = [words[i] for i in  [idx_zurich, idx_switzerland, idx_italy]]\n",
    "#words_sel"
   ]
  },
  {
   "cell_type": "code",
   "execution_count": 28,
   "id": "391b329d",
   "metadata": {},
   "outputs": [],
   "source": [
    "vectors_start_sel=[vectors[i] for i in  [idx_zurich, idx_switzerland, idx_italy]]\n",
    "len_start = len(vectors_start_sel)\n",
    "pos1_start=nr\n",
    "pos2_start=nr+len_start"
   ]
  },
  {
   "cell_type": "code",
   "execution_count": 29,
   "id": "71de4270",
   "metadata": {},
   "outputs": [],
   "source": [
    "#start_points = tsne.fit_transform(vectors_sel)"
   ]
  },
  {
   "cell_type": "code",
   "execution_count": 30,
   "id": "84703a43",
   "metadata": {},
   "outputs": [
    {
     "name": "stdout",
     "output_type": "stream",
     "text": [
      "[('turin', 0.20273685455322266), ('italy', 0.20814186334609985), ('milan', 0.21722441911697388), ('bologna', 0.2400570511817932), ('genoa', 0.2542887330055237), ('rome', 0.274344801902771), ('italian', 0.28251564502716064), ('frankfurt', 0.2838957905769348), ('palermo', 0.28456568717956543), ('parma', 0.29977142810821533), ('zurich', 0.30454617738723755), ('torino', 0.3153432011604309), ('naples', 0.31587064266204834), ('madrid', 0.3159630298614502), ('cologne', 0.3241654634475708)]\n"
     ]
    }
   ],
   "source": [
    "results = find_closest_embeddings_cosine(\n",
    "    embeddings_dict[\"zurich\"]-embeddings_dict[\"switzerland\"]+embeddings_dict[\"italy\"]\n",
    ")[:15]\n",
    "print(results)"
   ]
  },
  {
   "cell_type": "code",
   "execution_count": 31,
   "id": "988d5018",
   "metadata": {},
   "outputs": [],
   "source": [
    "results_list = [(res[0]) for res in results]"
   ]
  },
  {
   "cell_type": "code",
   "execution_count": 32,
   "id": "9face15c",
   "metadata": {},
   "outputs": [],
   "source": [
    "results_sel = list(words.index(i) for i in results_list)\n",
    "#results_sel"
   ]
  },
  {
   "cell_type": "code",
   "execution_count": 33,
   "id": "b2a679ce",
   "metadata": {},
   "outputs": [],
   "source": [
    "vectors_result_sel=[vectors[i] for i in results_sel]\n",
    "len_end = len(vectors_result_sel)\n",
    "pos1_end=nr+len_start\n",
    "pos2_end=nr+len_start+len_end"
   ]
  },
  {
   "cell_type": "code",
   "execution_count": 34,
   "id": "d19db0c5",
   "metadata": {},
   "outputs": [],
   "source": [
    "#end_points = tsne.fit_transform(tSNE_model,vectors_result_sel)"
   ]
  },
  {
   "cell_type": "code",
   "execution_count": 35,
   "id": "8b348c2a",
   "metadata": {},
   "outputs": [
    {
     "name": "stdout",
     "output_type": "stream",
     "text": [
      "[t-SNE] Computing 91 nearest neighbors...\n",
      "[t-SNE] Indexed 5018 samples in 0.000s...\n",
      "[t-SNE] Computed neighbors for 5018 samples in 0.637s...\n",
      "[t-SNE] Computed conditional probabilities for sample 1000 / 5018\n",
      "[t-SNE] Computed conditional probabilities for sample 2000 / 5018\n",
      "[t-SNE] Computed conditional probabilities for sample 3000 / 5018\n",
      "[t-SNE] Computed conditional probabilities for sample 4000 / 5018\n",
      "[t-SNE] Computed conditional probabilities for sample 5000 / 5018\n",
      "[t-SNE] Computed conditional probabilities for sample 5018 / 5018\n",
      "[t-SNE] Mean sigma: 0.181203\n",
      "[t-SNE] KL divergence after 100 iterations with early exaggeration: 88.252258\n",
      "[t-SNE] KL divergence after 1000 iterations: 2.782161\n"
     ]
    }
   ],
   "source": [
    "space = selected_embeddings+vectors_start_sel+vectors_result_sel\n",
    "\n",
    "trans_space = tsne.fit_transform(space)"
   ]
  },
  {
   "cell_type": "code",
   "execution_count": 36,
   "id": "94d61bbb",
   "metadata": {},
   "outputs": [
    {
     "data": {
      "image/png": "[encoded data removed]",
      "text/plain": [
       "<Figure size 432x288 with 1 Axes>"
      ]
     },
     "metadata": {
      "needs_background": "light"
     },
     "output_type": "display_data"
    }
   ],
   "source": [
    "plt.scatter(trans_space[pos1_start:pos2_start, 0], trans_space[pos1_start:pos2_start, 1], c='#bbbbbb', alpha=1)\n",
    "for label, x, y in zip(words_sel, trans_space[pos1_start:pos2_start, 0], trans_space[pos1_start:pos2_start, 1]):\n",
    "    plt.annotate(label, xy=(x, y), xytext=(5, 1), textcoords=\"offset points\")\n",
    "    \n",
    "plt.scatter(trans_space[pos1_end:pos2_end, 0], trans_space[pos1_end:pos2_end, 1], c='#dd3333', alpha=0.45)\n",
    "for label, x, y in zip(results_list, trans_space[pos1_end:pos2_end, 0], trans_space[pos1_end:pos2_end, 1]):\n",
    "    plt.annotate(label, xy=(x, y), xytext=(5, 1), textcoords=\"offset points\")   \n",
    "    \n",
    "plt.show()\n",
    "#d object can seem to collapse but they're not. cause we are downsampling the dimension to 2"
   ]
  },
  {
   "cell_type": "code",
   "execution_count": 37,
   "id": "8d74e6e5",
   "metadata": {},
   "outputs": [
    {
     "data": {
      "text/plain": [
       "[('genoa', 0.21028155088424683),\n",
       " ('bologna', 0.21674096584320068),\n",
       " ('naples', 0.24427741765975952),\n",
       " ('pisa', 0.26043444871902466),\n",
       " ('bergamo', 0.2650136351585388),\n",
       " ('palermo', 0.26965200901031494),\n",
       " ('ravenna', 0.286521315574646),\n",
       " ('brescia', 0.28866642713546753),\n",
       " ('arezzo', 0.2913787364959717),\n",
       " ('catania', 0.2916412949562073),\n",
       " ('rome', 0.3029777407646179),\n",
       " ('verona', 0.30579155683517456),\n",
       " ('italy', 0.3068803548812866),\n",
       " ('sivas', 0.3071025013923645),\n",
       " ('pavia', 0.30817562341690063)]"
      ]
     },
     "execution_count": 37,
     "metadata": {},
     "output_type": "execute_result"
    }
   ],
   "source": [
    "results = find_closest_embeddings_cosine(\n",
    "    embeddings_dict[\"bern\"]-embeddings_dict[\"switzerland\"]+embeddings_dict[\"italy\"]\n",
    ")[:15]\n",
    "list(results)"
   ]
  },
  {
   "cell_type": "markdown",
   "id": "3286d16a",
   "metadata": {},
   "source": [
    "You could repeat the same t-SNE tranformation of the space and then plotting, if you wpould like..."
   ]
  },
  {
   "cell_type": "markdown",
   "id": "8119e630",
   "metadata": {},
   "source": [
    "Other examples:"
   ]
  },
  {
   "cell_type": "code",
   "execution_count": 41,
   "id": "86f8e3e8",
   "metadata": {},
   "outputs": [
    {
     "name": "stdout",
     "output_type": "stream",
     "text": [
      "['frankfurt', 'berlin', 'munich', 'zurich', 'germany', 'cologne', 'stuttgart', 'hamburg', 'deutsche', 'vienna', 'bonn', 'warsaw', 'hanover', 'german', 'prague']\n"
     ]
    }
   ],
   "source": [
    "print(find_closest_embeddings(\n",
    "    embeddings_dict[\"zurich\"]-embeddings_dict[\"switzerland\"]+embeddings_dict[\"germany\"]\n",
    ")[:15])"
   ]
  },
  {
   "cell_type": "code",
   "execution_count": 42,
   "id": "457e7278",
   "metadata": {},
   "outputs": [
    {
     "name": "stdout",
     "output_type": "stream",
     "text": [
      "['lombardy', 'pavia', 'novara', 'macerata', 'lecco']\n"
     ]
    }
   ],
   "source": [
    "print(find_closest_embeddings(\n",
    "    embeddings_dict[\"zurich\"]-embeddings_dict[\"switzerland\"]+embeddings_dict[\"lombardy\"]\n",
    ")[:5])"
   ]
  },
  {
   "cell_type": "code",
   "execution_count": 43,
   "id": "c1caae24",
   "metadata": {},
   "outputs": [
    {
     "name": "stdout",
     "output_type": "stream",
     "text": [
      "['bride', 'surrogate', 'fiancee', 'newlyweds']\n"
     ]
    }
   ],
   "source": [
    "print(find_closest_embeddings(\n",
    "    embeddings_dict[\"groom\"]-embeddings_dict[\"man\"]+embeddings_dict[\"woman\"]\n",
    ")[1:5])"
   ]
  },
  {
   "cell_type": "markdown",
   "id": "59ae2054",
   "metadata": {},
   "source": [
    "### EXERCISE 1"
   ]
  },
  {
   "cell_type": "markdown",
   "id": "6929c7ec",
   "metadata": {},
   "source": [
    "1) Compute the embeddings for different mayor cities in Switzerland (eg: Zürich, Bern, Lausanne, ...) using the largest GLoVe model avaiable (glove.6B.300d.txt)  #d using the model with 300 dimension\n",
    "\n",
    "2) Plot out their relative position using [t-SNE](https://en.wikipedia.org/wiki/T-distributed_stochastic_neighbor_embedding) \n",
    "\n",
    "3) Compute the embeddings for different Countries (including Switzerland) and print them in the same t-SNE space (as from point 2) \n",
    "\n",
    "What can you observe?"
   ]
  },
  {
   "cell_type": "markdown",
   "id": "5ccce10b",
   "metadata": {},
   "source": [
    "<h4>Exercise</h4>"
   ]
  },
  {
   "cell_type": "code",
   "execution_count": 45,
   "id": "078e95d0",
   "metadata": {},
   "outputs": [],
   "source": [
    "#open model with 300 Dimensions\n",
    "with open(\"glove.6B.300d.txt\", 'r', encoding=\"utf-8\") as f:\n",
    "    for line in f:\n",
    "        values = line.split()\n",
    "        word = values[0]\n",
    "        vector = np.asarray(values[1:], \"float32\")\n",
    "        embeddings_dict[word] = vector\n",
    "#d here model is loaded"
   ]
  },
  {
   "cell_type": "code",
   "execution_count": 52,
   "id": "605b7398",
   "metadata": {},
   "outputs": [
    {
     "name": "stdout",
     "output_type": "stream",
     "text": [
      "[('mint', 0.2921972870826721), ('drink', 0.4290121793746948), ('beer', 0.5628136396408081), ('bottle', 0.5658661127090454), ('tea', 0.5721238851547241), ('drinks', 0.5809600651264191), ('coffee', 0.5886818468570709), ('coins', 0.5899558365345001), ('vodka', 0.5918902456760406), ('bottles', 0.5942589640617371), ('cola', 0.6001726686954498), ('beverage', 0.6086882054805756), ('drinking', 0.6120114922523499), ('coke', 0.6148993968963623), ('commemorative', 0.6178262233734131)]\n",
      "[t-SNE] Computing 91 nearest neighbors...\n",
      "[t-SNE] Indexed 5018 samples in 0.000s...\n",
      "[t-SNE] Computed neighbors for 5018 samples in 0.631s...\n",
      "[t-SNE] Computed conditional probabilities for sample 1000 / 5018\n",
      "[t-SNE] Computed conditional probabilities for sample 2000 / 5018\n",
      "[t-SNE] Computed conditional probabilities for sample 3000 / 5018\n",
      "[t-SNE] Computed conditional probabilities for sample 4000 / 5018\n",
      "[t-SNE] Computed conditional probabilities for sample 5000 / 5018\n",
      "[t-SNE] Computed conditional probabilities for sample 5018 / 5018\n",
      "[t-SNE] Mean sigma: 0.181188\n",
      "[t-SNE] KL divergence after 100 iterations with early exaggeration: 88.252037\n",
      "[t-SNE] KL divergence after 1000 iterations: 2.772949\n"
     ]
    },
    {
     "data": {
      "image/png": "[encoded data removed]",
      "text/plain": [
       "<Figure size 432x288 with 1 Axes>"
      ]
     },
     "metadata": {
      "needs_background": "light"
     },
     "output_type": "display_data"
    }
   ],
   "source": [
    "results = find_closest_embeddings_cosine(\n",
    "    embeddings_dict[\"drink\"]-embeddings_dict[\"salty\"]+embeddings_dict[\"mint\"]\n",
    ")[:15]\n",
    "print(results)\n",
    "results_list = [(res[0]) for res in results]\n",
    "results_sel = list(words.index(i) for i in results_list)\n",
    "#results_sel\n",
    "vectors_result_sel=[vectors[i] for i in results_sel]\n",
    "len_end = len(vectors_result_sel)\n",
    "pos1_end=nr+len_start\n",
    "pos2_end=nr+len_start+len_end\n",
    "space = selected_embeddings+vectors_start_sel+vectors_result_sel\n",
    "\n",
    "trans_space = tsne.fit_transform(space)\n",
    "plt.scatter(trans_space[pos1_start:pos2_start, 0], trans_space[pos1_start:pos2_start, 1], c='#bbbbbb', alpha=1)\n",
    "for label, x, y in zip(words_sel, trans_space[pos1_start:pos2_start, 0], trans_space[pos1_start:pos2_start, 1]):\n",
    "    plt.annotate(label, xy=(x, y), xytext=(5, 1), textcoords=\"offset points\")\n",
    "    \n",
    "plt.scatter(trans_space[pos1_end:pos2_end, 0], trans_space[pos1_end:pos2_end, 1], c='#dd3333', alpha=0.45)\n",
    "for label, x, y in zip(results_list, trans_space[pos1_end:pos2_end, 0], trans_space[pos1_end:pos2_end, 1]):\n",
    "    plt.annotate(label, xy=(x, y), xytext=(5, 1), textcoords=\"offset points\")      \n",
    "plt.show()\n",
    "#d object can seem to collapse but they're not. cause we are downsampling the dimension to 2"
   ]
  },
  {
   "cell_type": "markdown",
   "id": "4f09a1ac",
   "metadata": {},
   "source": [
    "## ELMO"
   ]
  },
  {
   "cell_type": "markdown",
   "id": "0595ac12",
   "metadata": {},
   "source": [
    "https://allennlp.org/elmo"
   ]
  },
  {
   "cell_type": "markdown",
   "id": "09b1bd6d",
   "metadata": {},
   "source": [
    "deep contextualized word representation"
   ]
  },
  {
   "cell_type": "markdown",
   "id": "c8168687",
   "metadata": {},
   "source": [
    "ELMo model generates embeddings for a word based on the context it appears thus generating slightly different embeddings for each of its occurrence."
   ]
  },
  {
   "cell_type": "code",
   "execution_count": null,
   "id": "c38807a2",
   "metadata": {},
   "outputs": [],
   "source": [
    "#!pip3 install allennlp\n",
    "#!pip3 install allennlp_models"
   ]
  },
  {
   "cell_type": "code",
   "execution_count": 13,
   "id": "b84e11ef",
   "metadata": {},
   "outputs": [
    {
     "ename": "ModuleNotFoundError",
     "evalue": "No module named 'google.cloud.storage.retry'",
     "output_type": "error",
     "traceback": [
      "\u001b[1;31m---------------------------------------------------------------------------\u001b[0m",
      "\u001b[1;31mModuleNotFoundError\u001b[0m                       Traceback (most recent call last)",
      "\u001b[1;32m<ipython-input-13-ab6ecfc890cc>\u001b[0m in \u001b[0;36m<module>\u001b[1;34m\u001b[0m\n\u001b[1;32m----> 1\u001b[1;33m \u001b[1;32mfrom\u001b[0m \u001b[0mallennlp\u001b[0m\u001b[1;33m.\u001b[0m\u001b[0mpredictors\u001b[0m\u001b[1;33m.\u001b[0m\u001b[0mpredictor\u001b[0m \u001b[1;32mimport\u001b[0m \u001b[0mPredictor\u001b[0m\u001b[1;33m\u001b[0m\u001b[1;33m\u001b[0m\u001b[0m\n\u001b[0m\u001b[0;32m      2\u001b[0m \u001b[1;32mimport\u001b[0m \u001b[0mallennlp_models\u001b[0m\u001b[1;33m.\u001b[0m\u001b[0mtagging\u001b[0m\u001b[1;33m\u001b[0m\u001b[1;33m\u001b[0m\u001b[0m\n\u001b[0;32m      3\u001b[0m \u001b[1;33m\u001b[0m\u001b[0m\n\u001b[0;32m      4\u001b[0m \u001b[0mpredictor\u001b[0m \u001b[1;33m=\u001b[0m \u001b[0mPredictor\u001b[0m\u001b[1;33m.\u001b[0m\u001b[0mfrom_path\u001b[0m\u001b[1;33m(\u001b[0m\u001b[1;34m\"https://storage.googleapis.com/allennlp-public-models/decomposable-attention-elmo-2020.04.09.tar.gz\"\u001b[0m\u001b[1;33m)\u001b[0m\u001b[1;33m\u001b[0m\u001b[1;33m\u001b[0m\u001b[0m\n\u001b[0;32m      5\u001b[0m res = predictor.predict(\n",
      "\u001b[1;32mC:\\ProgramData\\Anaconda3\\lib\\site-packages\\allennlp\\predictors\\__init__.py\u001b[0m in \u001b[0;36m<module>\u001b[1;34m\u001b[0m\n\u001b[0;32m      7\u001b[0m \u001b[0ma\u001b[0m\u001b[0;31m \u001b[0m\u001b[0;31m`\u001b[0m\u001b[0mPredictor\u001b[0m\u001b[0;31m`\u001b[0m \u001b[0mthat\u001b[0m \u001b[0mwraps\u001b[0m \u001b[0mit\u001b[0m\u001b[1;33m.\u001b[0m\u001b[1;33m\u001b[0m\u001b[1;33m\u001b[0m\u001b[0m\n\u001b[0;32m      8\u001b[0m \"\"\"\n\u001b[1;32m----> 9\u001b[1;33m \u001b[1;32mfrom\u001b[0m \u001b[0mallennlp\u001b[0m\u001b[1;33m.\u001b[0m\u001b[0mpredictors\u001b[0m\u001b[1;33m.\u001b[0m\u001b[0mpredictor\u001b[0m \u001b[1;32mimport\u001b[0m \u001b[0mPredictor\u001b[0m\u001b[1;33m\u001b[0m\u001b[1;33m\u001b[0m\u001b[0m\n\u001b[0m\u001b[0;32m     10\u001b[0m \u001b[1;32mfrom\u001b[0m \u001b[0mallennlp\u001b[0m\u001b[1;33m.\u001b[0m\u001b[0mpredictors\u001b[0m\u001b[1;33m.\u001b[0m\u001b[0msentence_tagger\u001b[0m \u001b[1;32mimport\u001b[0m \u001b[0mSentenceTaggerPredictor\u001b[0m\u001b[1;33m\u001b[0m\u001b[1;33m\u001b[0m\u001b[0m\n\u001b[0;32m     11\u001b[0m \u001b[1;32mfrom\u001b[0m \u001b[0mallennlp\u001b[0m\u001b[1;33m.\u001b[0m\u001b[0mpredictors\u001b[0m\u001b[1;33m.\u001b[0m\u001b[0mtext_classifier\u001b[0m \u001b[1;32mimport\u001b[0m \u001b[0mTextClassifierPredictor\u001b[0m\u001b[1;33m\u001b[0m\u001b[1;33m\u001b[0m\u001b[0m\n",
      "\u001b[1;32mC:\\ProgramData\\Anaconda3\\lib\\site-packages\\allennlp\\predictors\\predictor.py\u001b[0m in \u001b[0;36m<module>\u001b[1;34m\u001b[0m\n\u001b[0;32m     12\u001b[0m \u001b[1;32mfrom\u001b[0m \u001b[0mtorch\u001b[0m \u001b[1;32mimport\u001b[0m \u001b[0mbackends\u001b[0m\u001b[1;33m\u001b[0m\u001b[1;33m\u001b[0m\u001b[0m\n\u001b[0;32m     13\u001b[0m \u001b[1;33m\u001b[0m\u001b[0m\n\u001b[1;32m---> 14\u001b[1;33m \u001b[1;32mfrom\u001b[0m \u001b[0mallennlp\u001b[0m\u001b[1;33m.\u001b[0m\u001b[0mcommon\u001b[0m \u001b[1;32mimport\u001b[0m \u001b[0mRegistrable\u001b[0m\u001b[1;33m,\u001b[0m \u001b[0mplugins\u001b[0m\u001b[1;33m\u001b[0m\u001b[1;33m\u001b[0m\u001b[0m\n\u001b[0m\u001b[0;32m     15\u001b[0m \u001b[1;32mfrom\u001b[0m \u001b[0mallennlp\u001b[0m\u001b[1;33m.\u001b[0m\u001b[0mcommon\u001b[0m\u001b[1;33m.\u001b[0m\u001b[0mutil\u001b[0m \u001b[1;32mimport\u001b[0m \u001b[0mJsonDict\u001b[0m\u001b[1;33m,\u001b[0m \u001b[0msanitize\u001b[0m\u001b[1;33m\u001b[0m\u001b[1;33m\u001b[0m\u001b[0m\n\u001b[0;32m     16\u001b[0m \u001b[1;32mfrom\u001b[0m \u001b[0mallennlp\u001b[0m\u001b[1;33m.\u001b[0m\u001b[0mdata\u001b[0m \u001b[1;32mimport\u001b[0m \u001b[0mDatasetReader\u001b[0m\u001b[1;33m,\u001b[0m \u001b[0mInstance\u001b[0m\u001b[1;33m\u001b[0m\u001b[1;33m\u001b[0m\u001b[0m\n",
      "\u001b[1;32mC:\\ProgramData\\Anaconda3\\lib\\site-packages\\allennlp\\common\\__init__.py\u001b[0m in \u001b[0;36m<module>\u001b[1;34m\u001b[0m\n\u001b[1;32m----> 1\u001b[1;33m \u001b[1;32mfrom\u001b[0m \u001b[0mallennlp\u001b[0m\u001b[1;33m.\u001b[0m\u001b[0mcommon\u001b[0m\u001b[1;33m.\u001b[0m\u001b[0mfrom_params\u001b[0m \u001b[1;32mimport\u001b[0m \u001b[0mFromParams\u001b[0m\u001b[1;33m\u001b[0m\u001b[1;33m\u001b[0m\u001b[0m\n\u001b[0m\u001b[0;32m      2\u001b[0m \u001b[1;32mfrom\u001b[0m \u001b[0mallennlp\u001b[0m\u001b[1;33m.\u001b[0m\u001b[0mcommon\u001b[0m\u001b[1;33m.\u001b[0m\u001b[0mlazy\u001b[0m \u001b[1;32mimport\u001b[0m \u001b[0mLazy\u001b[0m\u001b[1;33m\u001b[0m\u001b[1;33m\u001b[0m\u001b[0m\n\u001b[0;32m      3\u001b[0m \u001b[1;32mfrom\u001b[0m \u001b[0mallennlp\u001b[0m\u001b[1;33m.\u001b[0m\u001b[0mcommon\u001b[0m\u001b[1;33m.\u001b[0m\u001b[0mparams\u001b[0m \u001b[1;32mimport\u001b[0m \u001b[0mParams\u001b[0m\u001b[1;33m\u001b[0m\u001b[1;33m\u001b[0m\u001b[0m\n\u001b[0;32m      4\u001b[0m \u001b[1;32mfrom\u001b[0m \u001b[0mallennlp\u001b[0m\u001b[1;33m.\u001b[0m\u001b[0mcommon\u001b[0m\u001b[1;33m.\u001b[0m\u001b[0mregistrable\u001b[0m \u001b[1;32mimport\u001b[0m \u001b[0mRegistrable\u001b[0m\u001b[1;33m\u001b[0m\u001b[1;33m\u001b[0m\u001b[0m\n\u001b[0;32m      5\u001b[0m \u001b[1;32mfrom\u001b[0m \u001b[0mallennlp\u001b[0m\u001b[1;33m.\u001b[0m\u001b[0mcommon\u001b[0m\u001b[1;33m.\u001b[0m\u001b[0mtqdm\u001b[0m \u001b[1;32mimport\u001b[0m \u001b[0mTqdm\u001b[0m\u001b[1;33m\u001b[0m\u001b[1;33m\u001b[0m\u001b[0m\n",
      "\u001b[1;32mC:\\ProgramData\\Anaconda3\\lib\\site-packages\\allennlp\\common\\from_params.py\u001b[0m in \u001b[0;36m<module>\u001b[1;34m\u001b[0m\n\u001b[0;32m     22\u001b[0m \u001b[1;32mfrom\u001b[0m \u001b[0mallennlp\u001b[0m\u001b[1;33m.\u001b[0m\u001b[0mcommon\u001b[0m\u001b[1;33m.\u001b[0m\u001b[0mchecks\u001b[0m \u001b[1;32mimport\u001b[0m \u001b[0mConfigurationError\u001b[0m\u001b[1;33m\u001b[0m\u001b[1;33m\u001b[0m\u001b[0m\n\u001b[0;32m     23\u001b[0m \u001b[1;32mfrom\u001b[0m \u001b[0mallennlp\u001b[0m\u001b[1;33m.\u001b[0m\u001b[0mcommon\u001b[0m\u001b[1;33m.\u001b[0m\u001b[0mdet_hash\u001b[0m \u001b[1;32mimport\u001b[0m \u001b[0mCustomDetHash\u001b[0m\u001b[1;33m\u001b[0m\u001b[1;33m\u001b[0m\u001b[0m\n\u001b[1;32m---> 24\u001b[1;33m \u001b[1;32mfrom\u001b[0m \u001b[0mallennlp\u001b[0m\u001b[1;33m.\u001b[0m\u001b[0mcommon\u001b[0m\u001b[1;33m.\u001b[0m\u001b[0mlazy\u001b[0m \u001b[1;32mimport\u001b[0m \u001b[0mLazy\u001b[0m\u001b[1;33m\u001b[0m\u001b[1;33m\u001b[0m\u001b[0m\n\u001b[0m\u001b[0;32m     25\u001b[0m \u001b[1;32mfrom\u001b[0m \u001b[0mallennlp\u001b[0m\u001b[1;33m.\u001b[0m\u001b[0mcommon\u001b[0m\u001b[1;33m.\u001b[0m\u001b[0mparams\u001b[0m \u001b[1;32mimport\u001b[0m \u001b[0mParams\u001b[0m\u001b[1;33m\u001b[0m\u001b[1;33m\u001b[0m\u001b[0m\n\u001b[0;32m     26\u001b[0m \u001b[1;33m\u001b[0m\u001b[0m\n",
      "\u001b[1;32mC:\\ProgramData\\Anaconda3\\lib\\site-packages\\allennlp\\common\\lazy.py\u001b[0m in \u001b[0;36m<module>\u001b[1;34m\u001b[0m\n\u001b[0;32m      3\u001b[0m \u001b[1;32mfrom\u001b[0m \u001b[0mtyping\u001b[0m \u001b[1;32mimport\u001b[0m \u001b[0mCallable\u001b[0m\u001b[1;33m,\u001b[0m \u001b[0mGeneric\u001b[0m\u001b[1;33m,\u001b[0m \u001b[0mTypeVar\u001b[0m\u001b[1;33m,\u001b[0m \u001b[0mType\u001b[0m\u001b[1;33m,\u001b[0m \u001b[0mUnion\u001b[0m\u001b[1;33m,\u001b[0m \u001b[0mOptional\u001b[0m\u001b[1;33m,\u001b[0m \u001b[0mDict\u001b[0m\u001b[1;33m,\u001b[0m \u001b[0mAny\u001b[0m\u001b[1;33m\u001b[0m\u001b[1;33m\u001b[0m\u001b[0m\n\u001b[0;32m      4\u001b[0m \u001b[1;33m\u001b[0m\u001b[0m\n\u001b[1;32m----> 5\u001b[1;33m \u001b[1;32mfrom\u001b[0m \u001b[0mallennlp\u001b[0m\u001b[1;33m.\u001b[0m\u001b[0mcommon\u001b[0m\u001b[1;33m.\u001b[0m\u001b[0mparams\u001b[0m \u001b[1;32mimport\u001b[0m \u001b[0mParams\u001b[0m\u001b[1;33m\u001b[0m\u001b[1;33m\u001b[0m\u001b[0m\n\u001b[0m\u001b[0;32m      6\u001b[0m \u001b[1;33m\u001b[0m\u001b[0m\n\u001b[0;32m      7\u001b[0m \u001b[1;33m\u001b[0m\u001b[0m\n",
      "\u001b[1;32mC:\\ProgramData\\Anaconda3\\lib\\site-packages\\allennlp\\common\\params.py\u001b[0m in \u001b[0;36m<module>\u001b[1;34m\u001b[0m\n\u001b[0;32m     32\u001b[0m \u001b[1;33m\u001b[0m\u001b[0m\n\u001b[0;32m     33\u001b[0m \u001b[1;32mfrom\u001b[0m \u001b[0mallennlp\u001b[0m\u001b[1;33m.\u001b[0m\u001b[0mcommon\u001b[0m\u001b[1;33m.\u001b[0m\u001b[0mchecks\u001b[0m \u001b[1;32mimport\u001b[0m \u001b[0mConfigurationError\u001b[0m\u001b[1;33m\u001b[0m\u001b[1;33m\u001b[0m\u001b[0m\n\u001b[1;32m---> 34\u001b[1;33m \u001b[1;32mfrom\u001b[0m \u001b[0mallennlp\u001b[0m\u001b[1;33m.\u001b[0m\u001b[0mcommon\u001b[0m\u001b[1;33m.\u001b[0m\u001b[0mfile_utils\u001b[0m \u001b[1;32mimport\u001b[0m \u001b[0mcached_path\u001b[0m\u001b[1;33m\u001b[0m\u001b[1;33m\u001b[0m\u001b[0m\n\u001b[0m\u001b[0;32m     35\u001b[0m \u001b[1;33m\u001b[0m\u001b[0m\n\u001b[0;32m     36\u001b[0m \u001b[0mlogger\u001b[0m \u001b[1;33m=\u001b[0m \u001b[0mlogging\u001b[0m\u001b[1;33m.\u001b[0m\u001b[0mgetLogger\u001b[0m\u001b[1;33m(\u001b[0m\u001b[0m__name__\u001b[0m\u001b[1;33m)\u001b[0m\u001b[1;33m\u001b[0m\u001b[1;33m\u001b[0m\u001b[0m\n",
      "\u001b[1;32mC:\\ProgramData\\Anaconda3\\lib\\site-packages\\allennlp\\common\\file_utils.py\u001b[0m in \u001b[0;36m<module>\u001b[1;34m\u001b[0m\n\u001b[0;32m     35\u001b[0m \u001b[1;32mimport\u001b[0m \u001b[0mwarnings\u001b[0m\u001b[1;33m\u001b[0m\u001b[1;33m\u001b[0m\u001b[0m\n\u001b[0;32m     36\u001b[0m \u001b[1;33m\u001b[0m\u001b[0m\n\u001b[1;32m---> 37\u001b[1;33m \u001b[1;32mimport\u001b[0m \u001b[0mcached_path\u001b[0m \u001b[1;32mas\u001b[0m \u001b[0m_cached_path\u001b[0m\u001b[1;33m\u001b[0m\u001b[1;33m\u001b[0m\u001b[0m\n\u001b[0m\u001b[0;32m     38\u001b[0m from cached_path import (  # noqa: F401\n\u001b[0;32m     39\u001b[0m     \u001b[0mresource_to_filename\u001b[0m \u001b[1;32mas\u001b[0m \u001b[0m_resource_to_filename\u001b[0m\u001b[1;33m,\u001b[0m\u001b[1;33m\u001b[0m\u001b[1;33m\u001b[0m\u001b[0m\n",
      "\u001b[1;32mC:\\ProgramData\\Anaconda3\\lib\\site-packages\\cached_path\\__init__.py\u001b[0m in \u001b[0;36m<module>\u001b[1;34m\u001b[0m\n\u001b[0;32m     11\u001b[0m \"\"\"\n\u001b[0;32m     12\u001b[0m \u001b[1;33m\u001b[0m\u001b[0m\n\u001b[1;32m---> 13\u001b[1;33m \u001b[1;32mfrom\u001b[0m \u001b[0mcached_path\u001b[0m\u001b[1;33m.\u001b[0m\u001b[0m_cached_path\u001b[0m \u001b[1;32mimport\u001b[0m \u001b[0mcached_path\u001b[0m\u001b[1;33m\u001b[0m\u001b[1;33m\u001b[0m\u001b[0m\n\u001b[0m\u001b[0;32m     14\u001b[0m \u001b[1;32mfrom\u001b[0m \u001b[0mcached_path\u001b[0m\u001b[1;33m.\u001b[0m\u001b[0mcommon\u001b[0m \u001b[1;32mimport\u001b[0m \u001b[0mfile_friendly_logging\u001b[0m\u001b[1;33m,\u001b[0m \u001b[0mget_cache_dir\u001b[0m\u001b[1;33m,\u001b[0m \u001b[0mset_cache_dir\u001b[0m\u001b[1;33m\u001b[0m\u001b[1;33m\u001b[0m\u001b[0m\n\u001b[0;32m     15\u001b[0m \u001b[1;32mfrom\u001b[0m \u001b[0mcached_path\u001b[0m\u001b[1;33m.\u001b[0m\u001b[0mschemes\u001b[0m \u001b[1;32mimport\u001b[0m \u001b[0mSchemeClient\u001b[0m\u001b[1;33m,\u001b[0m \u001b[0madd_scheme_client\u001b[0m\u001b[1;33m\u001b[0m\u001b[1;33m\u001b[0m\u001b[0m\n",
      "\u001b[1;32mC:\\ProgramData\\Anaconda3\\lib\\site-packages\\cached_path\\_cached_path.py\u001b[0m in \u001b[0;36m<module>\u001b[1;34m\u001b[0m\n\u001b[0;32m     12\u001b[0m \u001b[1;32mfrom\u001b[0m \u001b[0mcached_path\u001b[0m\u001b[1;33m.\u001b[0m\u001b[0mfile_lock\u001b[0m \u001b[1;32mimport\u001b[0m \u001b[0mFileLock\u001b[0m\u001b[1;33m\u001b[0m\u001b[1;33m\u001b[0m\u001b[0m\n\u001b[0;32m     13\u001b[0m \u001b[1;32mfrom\u001b[0m \u001b[0mcached_path\u001b[0m\u001b[1;33m.\u001b[0m\u001b[0mmeta\u001b[0m \u001b[1;32mimport\u001b[0m \u001b[0mMeta\u001b[0m\u001b[1;33m\u001b[0m\u001b[1;33m\u001b[0m\u001b[0m\n\u001b[1;32m---> 14\u001b[1;33m from cached_path.schemes import (\n\u001b[0m\u001b[0;32m     15\u001b[0m     \u001b[0mget_scheme_client\u001b[0m\u001b[1;33m,\u001b[0m\u001b[1;33m\u001b[0m\u001b[1;33m\u001b[0m\u001b[0m\n\u001b[0;32m     16\u001b[0m     \u001b[0mget_supported_schemes\u001b[0m\u001b[1;33m,\u001b[0m\u001b[1;33m\u001b[0m\u001b[1;33m\u001b[0m\u001b[0m\n",
      "\u001b[1;32mC:\\ProgramData\\Anaconda3\\lib\\site-packages\\cached_path\\schemes\\__init__.py\u001b[0m in \u001b[0;36m<module>\u001b[1;34m\u001b[0m\n\u001b[0;32m      1\u001b[0m \u001b[1;32mfrom\u001b[0m \u001b[0mtyping\u001b[0m \u001b[1;32mimport\u001b[0m \u001b[0mSet\u001b[0m\u001b[1;33m,\u001b[0m \u001b[0mType\u001b[0m\u001b[1;33m\u001b[0m\u001b[1;33m\u001b[0m\u001b[0m\n\u001b[0;32m      2\u001b[0m \u001b[1;33m\u001b[0m\u001b[0m\n\u001b[1;32m----> 3\u001b[1;33m \u001b[1;32mfrom\u001b[0m \u001b[0mcached_path\u001b[0m\u001b[1;33m.\u001b[0m\u001b[0mschemes\u001b[0m\u001b[1;33m.\u001b[0m\u001b[0mgs\u001b[0m \u001b[1;32mimport\u001b[0m \u001b[0mGsClient\u001b[0m\u001b[1;33m\u001b[0m\u001b[1;33m\u001b[0m\u001b[0m\n\u001b[0m\u001b[0;32m      4\u001b[0m \u001b[1;32mfrom\u001b[0m \u001b[0mcached_path\u001b[0m\u001b[1;33m.\u001b[0m\u001b[0mschemes\u001b[0m\u001b[1;33m.\u001b[0m\u001b[0mhf\u001b[0m \u001b[1;32mimport\u001b[0m \u001b[0mhf_get_from_cache\u001b[0m\u001b[1;33m\u001b[0m\u001b[1;33m\u001b[0m\u001b[0m\n\u001b[0;32m      5\u001b[0m \u001b[1;32mfrom\u001b[0m \u001b[0mcached_path\u001b[0m\u001b[1;33m.\u001b[0m\u001b[0mschemes\u001b[0m\u001b[1;33m.\u001b[0m\u001b[0mhttp\u001b[0m \u001b[1;32mimport\u001b[0m \u001b[0mHttpClient\u001b[0m\u001b[1;33m\u001b[0m\u001b[1;33m\u001b[0m\u001b[0m\n",
      "\u001b[1;32mC:\\ProgramData\\Anaconda3\\lib\\site-packages\\cached_path\\schemes\\gs.py\u001b[0m in \u001b[0;36m<module>\u001b[1;34m\u001b[0m\n\u001b[0;32m      8\u001b[0m \u001b[1;32mfrom\u001b[0m \u001b[0mgoogle\u001b[0m\u001b[1;33m.\u001b[0m\u001b[0mauth\u001b[0m\u001b[1;33m.\u001b[0m\u001b[0mexceptions\u001b[0m \u001b[1;32mimport\u001b[0m \u001b[0mDefaultCredentialsError\u001b[0m\u001b[1;33m\u001b[0m\u001b[1;33m\u001b[0m\u001b[0m\n\u001b[0;32m      9\u001b[0m \u001b[1;32mfrom\u001b[0m \u001b[0mgoogle\u001b[0m\u001b[1;33m.\u001b[0m\u001b[0mcloud\u001b[0m \u001b[1;32mimport\u001b[0m \u001b[0mstorage\u001b[0m\u001b[1;33m\u001b[0m\u001b[1;33m\u001b[0m\u001b[0m\n\u001b[1;32m---> 10\u001b[1;33m \u001b[1;32mfrom\u001b[0m \u001b[0mgoogle\u001b[0m\u001b[1;33m.\u001b[0m\u001b[0mcloud\u001b[0m\u001b[1;33m.\u001b[0m\u001b[0mstorage\u001b[0m\u001b[1;33m.\u001b[0m\u001b[0mretry\u001b[0m \u001b[1;32mimport\u001b[0m \u001b[0mDEFAULT_RETRY\u001b[0m\u001b[1;33m\u001b[0m\u001b[1;33m\u001b[0m\u001b[0m\n\u001b[0m\u001b[0;32m     11\u001b[0m \u001b[1;32mfrom\u001b[0m \u001b[0moverrides\u001b[0m \u001b[1;32mimport\u001b[0m \u001b[0moverrides\u001b[0m\u001b[1;33m\u001b[0m\u001b[1;33m\u001b[0m\u001b[0m\n\u001b[0;32m     12\u001b[0m \u001b[1;33m\u001b[0m\u001b[0m\n",
      "\u001b[1;31mModuleNotFoundError\u001b[0m: No module named 'google.cloud.storage.retry'"
     ]
    }
   ],
   "source": [
    "from allennlp.predictors.predictor import Predictor\n",
    "import allennlp_models.tagging\n",
    "\n",
    "predictor = Predictor.from_path(\"https://storage.googleapis.com/allennlp-public-models/decomposable-attention-elmo-2020.04.09.tar.gz\")\n",
    "res = predictor.predict(\n",
    "    premise=\"This new machine should allow travelling outside solar system, but does not work.\",\n",
    "    hypothesis=\"The spacecraft can travel between planets.\"\n",
    ")"
   ]
  },
  {
   "cell_type": "code",
   "execution_count": null,
   "id": "47b80d9a",
   "metadata": {},
   "outputs": [
    {
     "name": "stdout",
     "output_type": "stream",
     "text": [
      "The prediction is CONTRADICTION\n"
     ]
    }
   ],
   "source": [
    "print('The prediction is {}'.format(res['label'].upper()))"
   ]
  },
  {
   "cell_type": "code",
   "execution_count": null,
   "id": "5ee17d77",
   "metadata": {},
   "outputs": [
    {
     "name": "stdout",
     "output_type": "stream",
     "text": [
      "The probailities are \n",
      " 0.25% for Entailment, \n",
      " 0.42% for Contradiction , and \n",
      " 0.34% for Neutral\n"
     ]
    }
   ],
   "source": [
    "print('The probailities are \\n {:4.2f}% for Entailment, \\n {:4.2f}% for Contradiction , and \\n {:4.2f}% for Neutral'.format(res['label_probs'][0],res['label_probs'][1],res['label_probs'][2]))"
   ]
  },
  {
   "cell_type": "markdown",
   "id": "4d382f89",
   "metadata": {},
   "source": [
    "## BERT"
   ]
  },
  {
   "cell_type": "markdown",
   "id": "9ba66d45",
   "metadata": {},
   "source": [
    "attention transformers (instead of bi-directional RNNs, such as in ELMo) to encode context"
   ]
  },
  {
   "attachments": {
    "1_8WhXg3oXUC4s-m7F2ePLEA%5B1%5D.png": {
     "image/png": "[encoded data removed]"
    }
   },
   "cell_type": "markdown",
   "id": "a508865f",
   "metadata": {},
   "source": [
    "![1_8WhXg3oXUC4s-m7F2ePLEA%5B1%5D.png](attachment:1_8WhXg3oXUC4s-m7F2ePLEA%5B1%5D.png)\n",
    "Comparsion of BERT and ELMo architectures from [Devlin et. all](https://arxiv.org/pdf/1810.04805.pdf)"
   ]
  },
  {
   "cell_type": "code",
   "execution_count": 21,
   "id": "ef0f9a8e",
   "metadata": {},
   "outputs": [
    {
     "name": "stdout",
     "output_type": "stream",
     "text": [
      "Requirement already satisfied: transformers in c:\\programdata\\anaconda3\\lib\\site-packages (4.12.3)\n",
      "Requirement already satisfied: packaging>=20.0 in c:\\programdata\\anaconda3\\lib\\site-packages (from transformers) (20.9)\n",
      "Requirement already satisfied: tqdm>=4.27 in c:\\programdata\\anaconda3\\lib\\site-packages (from transformers) (4.62.3)\n",
      "Requirement already satisfied: tokenizers<0.11,>=0.10.1 in c:\\programdata\\anaconda3\\lib\\site-packages (from transformers) (0.10.3)\n",
      "Requirement already satisfied: regex!=2019.12.17 in c:\\programdata\\anaconda3\\lib\\site-packages (from transformers) (2021.4.4)\n",
      "Requirement already satisfied: pyyaml>=5.1 in c:\\programdata\\anaconda3\\lib\\site-packages (from transformers) (5.4.1)\n",
      "Requirement already satisfied: huggingface-hub<1.0,>=0.1.0 in c:\\programdata\\anaconda3\\lib\\site-packages (from transformers) (0.1.2)\n",
      "Requirement already satisfied: requests in c:\\programdata\\anaconda3\\lib\\site-packages (from transformers) (2.25.1)\n",
      "Requirement already satisfied: numpy>=1.17 in c:\\programdata\\anaconda3\\lib\\site-packages (from transformers) (1.20.1)\n",
      "Requirement already satisfied: sacremoses in c:\\programdata\\anaconda3\\lib\\site-packages (from transformers) (0.0.46)\n",
      "Requirement already satisfied: filelock in c:\\programdata\\anaconda3\\lib\\site-packages (from transformers) (3.3.2)\n",
      "Requirement already satisfied: typing-extensions>=3.7.4.3 in c:\\programdata\\anaconda3\\lib\\site-packages (from huggingface-hub<1.0,>=0.1.0->transformers) (3.7.4.3)\n",
      "Requirement already satisfied: pyparsing>=2.0.2 in c:\\programdata\\anaconda3\\lib\\site-packages (from packaging>=20.0->transformers) (2.4.7)\n",
      "Requirement already satisfied: colorama in c:\\programdata\\anaconda3\\lib\\site-packages (from tqdm>=4.27->transformers) (0.4.4)\n",
      "Requirement already satisfied: chardet<5,>=3.0.2 in c:\\programdata\\anaconda3\\lib\\site-packages (from requests->transformers) (4.0.0)\n",
      "Requirement already satisfied: urllib3<1.27,>=1.21.1 in c:\\programdata\\anaconda3\\lib\\site-packages (from requests->transformers) (1.26.4)\n",
      "Requirement already satisfied: idna<3,>=2.5 in c:\\programdata\\anaconda3\\lib\\site-packages (from requests->transformers) (2.10)\n",
      "Requirement already satisfied: certifi>=2017.4.17 in c:\\programdata\\anaconda3\\lib\\site-packages (from requests->transformers) (2020.12.5)\n",
      "Requirement already satisfied: joblib in c:\\programdata\\anaconda3\\lib\\site-packages (from sacremoses->transformers) (1.0.1)\n",
      "Requirement already satisfied: six in c:\\programdata\\anaconda3\\lib\\site-packages (from sacremoses->transformers) (1.15.0)\n",
      "Requirement already satisfied: click in c:\\programdata\\anaconda3\\lib\\site-packages (from sacremoses->transformers) (7.1.2)\n"
     ]
    },
    {
     "name": "stderr",
     "output_type": "stream",
     "text": [
      "WARNING: Ignoring invalid distribution -dm (c:\\programdata\\anaconda3\\lib\\site-packages)\n",
      "WARNING: Ignoring invalid distribution -1dm (c:\\programdata\\anaconda3\\lib\\site-packages)\n",
      "WARNING: Ignoring invalid distribution -qdm (c:\\programdata\\anaconda3\\lib\\site-packages)\n",
      "WARNING: Ignoring invalid distribution - (c:\\programdata\\anaconda3\\lib\\site-packages)\n",
      "WARNING: Ignoring invalid distribution -dm (c:\\programdata\\anaconda3\\lib\\site-packages)\n",
      "WARNING: Ignoring invalid distribution -0dm (c:\\programdata\\anaconda3\\lib\\site-packages)\n",
      "WARNING: Ignoring invalid distribution -dm (c:\\programdata\\anaconda3\\lib\\site-packages)\n",
      "WARNING: Ignoring invalid distribution -1dm (c:\\programdata\\anaconda3\\lib\\site-packages)\n",
      "WARNING: Ignoring invalid distribution -qdm (c:\\programdata\\anaconda3\\lib\\site-packages)\n",
      "WARNING: Ignoring invalid distribution - (c:\\programdata\\anaconda3\\lib\\site-packages)\n",
      "WARNING: Ignoring invalid distribution -dm (c:\\programdata\\anaconda3\\lib\\site-packages)\n",
      "WARNING: Ignoring invalid distribution -0dm (c:\\programdata\\anaconda3\\lib\\site-packages)\n",
      "WARNING: Ignoring invalid distribution -dm (c:\\programdata\\anaconda3\\lib\\site-packages)\n",
      "WARNING: Ignoring invalid distribution -1dm (c:\\programdata\\anaconda3\\lib\\site-packages)\n",
      "WARNING: Ignoring invalid distribution -qdm (c:\\programdata\\anaconda3\\lib\\site-packages)\n",
      "WARNING: Ignoring invalid distribution - (c:\\programdata\\anaconda3\\lib\\site-packages)\n",
      "WARNING: Ignoring invalid distribution -dm (c:\\programdata\\anaconda3\\lib\\site-packages)\n",
      "WARNING: Ignoring invalid distribution -0dm (c:\\programdata\\anaconda3\\lib\\site-packages)\n",
      "WARNING: Ignoring invalid distribution -dm (c:\\programdata\\anaconda3\\lib\\site-packages)\n",
      "WARNING: Ignoring invalid distribution -1dm (c:\\programdata\\anaconda3\\lib\\site-packages)\n",
      "WARNING: Ignoring invalid distribution -qdm (c:\\programdata\\anaconda3\\lib\\site-packages)\n",
      "WARNING: Ignoring invalid distribution - (c:\\programdata\\anaconda3\\lib\\site-packages)\n",
      "WARNING: Ignoring invalid distribution -dm (c:\\programdata\\anaconda3\\lib\\site-packages)\n",
      "WARNING: Ignoring invalid distribution -0dm (c:\\programdata\\anaconda3\\lib\\site-packages)\n",
      "WARNING: Ignoring invalid distribution -dm (c:\\programdata\\anaconda3\\lib\\site-packages)\n",
      "WARNING: Ignoring invalid distribution -1dm (c:\\programdata\\anaconda3\\lib\\site-packages)\n",
      "WARNING: Ignoring invalid distribution -qdm (c:\\programdata\\anaconda3\\lib\\site-packages)\n",
      "WARNING: Ignoring invalid distribution - (c:\\programdata\\anaconda3\\lib\\site-packages)\n",
      "WARNING: Ignoring invalid distribution -dm (c:\\programdata\\anaconda3\\lib\\site-packages)\n",
      "WARNING: Ignoring invalid distribution -0dm (c:\\programdata\\anaconda3\\lib\\site-packages)\n"
     ]
    }
   ],
   "source": [
    "!pip3 install transformers"
   ]
  },
  {
   "cell_type": "code",
   "execution_count": 19,
   "id": "562f4942",
   "metadata": {},
   "outputs": [
    {
     "name": "stdout",
     "output_type": "stream",
     "text": [
      "Requirement already satisfied: torch in c:\\programdata\\anaconda3\\lib\\site-packages (1.10.0)"
     ]
    },
    {
     "name": "stderr",
     "output_type": "stream",
     "text": [
      "WARNING: Ignoring invalid distribution -dm (c:\\programdata\\anaconda3\\lib\\site-packages)\n",
      "WARNING: Ignoring invalid distribution -1dm (c:\\programdata\\anaconda3\\lib\\site-packages)\n",
      "WARNING: Ignoring invalid distribution -qdm (c:\\programdata\\anaconda3\\lib\\site-packages)\n",
      "WARNING: Ignoring invalid distribution - (c:\\programdata\\anaconda3\\lib\\site-packages)\n",
      "WARNING: Ignoring invalid distribution -dm (c:\\programdata\\anaconda3\\lib\\site-packages)\n",
      "WARNING: Ignoring invalid distribution -0dm (c:\\programdata\\anaconda3\\lib\\site-packages)\n",
      "WARNING: Ignoring invalid distribution -dm (c:\\programdata\\anaconda3\\lib\\site-packages)\n",
      "WARNING: Ignoring invalid distribution -1dm (c:\\programdata\\anaconda3\\lib\\site-packages)\n",
      "WARNING: Ignoring invalid distribution -qdm (c:\\programdata\\anaconda3\\lib\\site-packages)\n",
      "WARNING: Ignoring invalid distribution - (c:\\programdata\\anaconda3\\lib\\site-packages)\n",
      "WARNING: Ignoring invalid distribution -dm (c:\\programdata\\anaconda3\\lib\\site-packages)\n",
      "WARNING: Ignoring invalid distribution -0dm (c:\\programdata\\anaconda3\\lib\\site-packages)\n",
      "WARNING: Ignoring invalid distribution -dm (c:\\programdata\\anaconda3\\lib\\site-packages)\n",
      "WARNING: Ignoring invalid distribution -1dm (c:\\programdata\\anaconda3\\lib\\site-packages)\n",
      "WARNING: Ignoring invalid distribution -qdm (c:\\programdata\\anaconda3\\lib\\site-packages)\n",
      "WARNING: Ignoring invalid distribution - (c:\\programdata\\anaconda3\\lib\\site-packages)\n",
      "WARNING: Ignoring invalid distribution -dm (c:\\programdata\\anaconda3\\lib\\site-packages)\n",
      "WARNING: Ignoring invalid distribution -0dm (c:\\programdata\\anaconda3\\lib\\site-packages)\n",
      "WARNING: Ignoring invalid distribution -dm (c:\\programdata\\anaconda3\\lib\\site-packages)\n",
      "WARNING: Ignoring invalid distribution -1dm (c:\\programdata\\anaconda3\\lib\\site-packages)\n",
      "WARNING: Ignoring invalid distribution -qdm (c:\\programdata\\anaconda3\\lib\\site-packages)\n",
      "WARNING: Ignoring invalid distribution - (c:\\programdata\\anaconda3\\lib\\site-packages)\n",
      "WARNING: Ignoring invalid distribution -dm (c:\\programdata\\anaconda3\\lib\\site-packages)\n",
      "WARNING: Ignoring invalid distribution -0dm (c:\\programdata\\anaconda3\\lib\\site-packages)\n",
      "WARNING: Ignoring invalid distribution -dm (c:\\programdata\\anaconda3\\lib\\site-packages)\n",
      "WARNING: Ignoring invalid distribution -1dm (c:\\programdata\\anaconda3\\lib\\site-packages)\n",
      "WARNING: Ignoring invalid distribution -qdm (c:\\programdata\\anaconda3\\lib\\site-packages)\n",
      "WARNING: Ignoring invalid distribution - (c:\\programdata\\anaconda3\\lib\\site-packages)\n",
      "WARNING: Ignoring invalid distribution -dm (c:\\programdata\\anaconda3\\lib\\site-packages)\n",
      "WARNING: Ignoring invalid distribution -0dm (c:\\programdata\\anaconda3\\lib\\site-packages)\n"
     ]
    },
    {
     "name": "stdout",
     "output_type": "stream",
     "text": [
      "\n",
      "Requirement already satisfied: typing-extensions in c:\\programdata\\anaconda3\\lib\\site-packages (from torch) (3.7.4.3)\n"
     ]
    }
   ],
   "source": [
    "!pip3 install torch"
   ]
  },
  {
   "cell_type": "code",
   "execution_count": null,
   "id": "a834b4e2",
   "metadata": {},
   "outputs": [
    {
     "name": "stdout",
     "output_type": "stream",
     "text": [
      "Requirement already satisfied: sentencepiece in c:\\users\\jumpstart\\appdata\\local\\programs\\python\\python39\\lib\\site-packages (0.1.96)\n"
     ]
    }
   ],
   "source": [
    "!pip install sentencepiece"
   ]
  },
  {
   "cell_type": "code",
   "execution_count": 1,
   "id": "fc5ad50d",
   "metadata": {},
   "outputs": [
    {
     "ename": "ImportError",
     "evalue": "cannot import name 'AlbertTokenizer' from 'transformers' (C:\\ProgramData\\Anaconda3\\lib\\site-packages\\transformers\\__init__.py)",
     "output_type": "error",
     "traceback": [
      "\u001b[1;31m---------------------------------------------------------------------------\u001b[0m",
      "\u001b[1;31mImportError\u001b[0m                               Traceback (most recent call last)",
      "\u001b[1;32m<ipython-input-1-c51cbfbcbe32>\u001b[0m in \u001b[0;36m<module>\u001b[1;34m\u001b[0m\n\u001b[1;32m----> 1\u001b[1;33m \u001b[1;32mfrom\u001b[0m \u001b[0mtransformers\u001b[0m \u001b[1;32mimport\u001b[0m \u001b[0mAlbertTokenizer\u001b[0m\u001b[1;33m,\u001b[0m \u001b[0mAlbertForMaskedLM\u001b[0m\u001b[1;33m\u001b[0m\u001b[1;33m\u001b[0m\u001b[0m\n\u001b[0m\u001b[0;32m      2\u001b[0m \u001b[1;32mfrom\u001b[0m \u001b[0mtransformers\u001b[0m \u001b[1;32mimport\u001b[0m \u001b[0mpipeline\u001b[0m\u001b[1;33m\u001b[0m\u001b[1;33m\u001b[0m\u001b[0m\n",
      "\u001b[1;31mImportError\u001b[0m: cannot import name 'AlbertTokenizer' from 'transformers' (C:\\ProgramData\\Anaconda3\\lib\\site-packages\\transformers\\__init__.py)"
     ]
    }
   ],
   "source": [
    "from transformers import AlbertTokenizer, AlbertForMaskedLM\n",
    "from transformers import pipeline"
   ]
  },
  {
   "cell_type": "code",
   "execution_count": 16,
   "id": "2cd6487d",
   "metadata": {},
   "outputs": [
    {
     "ename": "NameError",
     "evalue": "name 'pipeline' is not defined",
     "output_type": "error",
     "traceback": [
      "\u001b[1;31m---------------------------------------------------------------------------\u001b[0m",
      "\u001b[1;31mNameError\u001b[0m                                 Traceback (most recent call last)",
      "\u001b[1;32m<ipython-input-16-cbe51f248c09>\u001b[0m in \u001b[0;36m<module>\u001b[1;34m\u001b[0m\n\u001b[1;32m----> 1\u001b[1;33m \u001b[0munmasker\u001b[0m \u001b[1;33m=\u001b[0m \u001b[0mpipeline\u001b[0m\u001b[1;33m(\u001b[0m\u001b[1;34m'fill-mask'\u001b[0m\u001b[1;33m,\u001b[0m \u001b[0mmodel\u001b[0m\u001b[1;33m=\u001b[0m\u001b[1;34m'albert-base-v2'\u001b[0m\u001b[1;33m)\u001b[0m\u001b[1;33m\u001b[0m\u001b[1;33m\u001b[0m\u001b[0m\n\u001b[0m",
      "\u001b[1;31mNameError\u001b[0m: name 'pipeline' is not defined"
     ]
    }
   ],
   "source": [
    "unmasker = pipeline('fill-mask', model='albert-base-v2')"
   ]
  },
  {
   "cell_type": "code",
   "execution_count": 17,
   "id": "7e572599",
   "metadata": {},
   "outputs": [
    {
     "ename": "NameError",
     "evalue": "name 'unmasker' is not defined",
     "output_type": "error",
     "traceback": [
      "\u001b[1;31m---------------------------------------------------------------------------\u001b[0m",
      "\u001b[1;31mNameError\u001b[0m                                 Traceback (most recent call last)",
      "\u001b[1;32m<ipython-input-17-19e91ec16426>\u001b[0m in \u001b[0;36m<module>\u001b[1;34m\u001b[0m\n\u001b[1;32m----> 1\u001b[1;33m \u001b[0munmasker\u001b[0m\u001b[1;33m(\u001b[0m\u001b[1;34m\"Zurich is the capital of [MASK], but not the biggest city in the country\"\u001b[0m\u001b[1;33m)\u001b[0m\u001b[1;33m\u001b[0m\u001b[1;33m\u001b[0m\u001b[0m\n\u001b[0m",
      "\u001b[1;31mNameError\u001b[0m: name 'unmasker' is not defined"
     ]
    }
   ],
   "source": [
    "unmasker(\"Zurich is the capital of [MASK], but not the biggest city in the country\")"
   ]
  },
  {
   "cell_type": "code",
   "execution_count": null,
   "id": "6dd299e1",
   "metadata": {},
   "outputs": [
    {
     "data": {
      "text/plain": [
       "[{'sequence': 'lausanne is the capital of switzerland, but not the biggest city in the country',\n",
       "  'score': 0.5036783814430237,\n",
       "  'token': 24950,\n",
       "  'token_str': 'lausanne'},\n",
       " {'sequence': 'zurich is the capital of switzerland, but not the biggest city in the country',\n",
       "  'score': 0.18100355565547943,\n",
       "  'token': 10570,\n",
       "  'token_str': 'zurich'},\n",
       " {'sequence': 'switzerland is the capital of switzerland, but not the biggest city in the country',\n",
       "  'score': 0.05904305353760719,\n",
       "  'token': 4087,\n",
       "  'token_str': 'switzerland'},\n",
       " {'sequence': 'geneva is the capital of switzerland, but not the biggest city in the country',\n",
       "  'score': 0.044295743107795715,\n",
       "  'token': 10137,\n",
       "  'token_str': 'geneva'},\n",
       " {'sequence': 'basel is the capital of switzerland, but not the biggest city in the country',\n",
       "  'score': 0.043460991233587265,\n",
       "  'token': 15934,\n",
       "  'token_str': 'basel'}]"
      ]
     },
     "execution_count": 65,
     "metadata": {},
     "output_type": "execute_result"
    }
   ],
   "source": [
    "unmasker(\"[MASK] is the capital of Switzerland, but not the biggest city in the country\")"
   ]
  },
  {
   "cell_type": "code",
   "execution_count": null,
   "id": "049743d9",
   "metadata": {},
   "outputs": [
    {
     "data": {
      "text/plain": [
       "[{'sequence': 'zurich is the capital of switzerland.',\n",
       "  'score': 0.5412368178367615,\n",
       "  'token': 4087,\n",
       "  'token_str': 'switzerland'},\n",
       " {'sequence': 'zurich is the capital of zurich.',\n",
       "  'score': 0.33083879947662354,\n",
       "  'token': 10570,\n",
       "  'token_str': 'zurich'},\n",
       " {'sequence': 'zurich is the capital of bavaria.',\n",
       "  'score': 0.017487574368715286,\n",
       "  'token': 12253,\n",
       "  'token_str': 'bavaria'},\n",
       " {'sequence': 'zurich is the capital of lausanne.',\n",
       "  'score': 0.011293120682239532,\n",
       "  'token': 24950,\n",
       "  'token_str': 'lausanne'},\n",
       " {'sequence': 'zurich is the capital of liechtenstein.',\n",
       "  'score': 0.007266354747116566,\n",
       "  'token': 27798,\n",
       "  'token_str': 'liechtenstein'}]"
      ]
     },
     "execution_count": 66,
     "metadata": {},
     "output_type": "execute_result"
    }
   ],
   "source": [
    "unmasker(\"Zurich is the capital of [MASK].\")"
   ]
  },
  {
   "cell_type": "code",
   "execution_count": null,
   "id": "806986d8",
   "metadata": {},
   "outputs": [
    {
     "data": {
      "text/plain": [
       "[{'sequence': 'lausanne is the capital of switzerland.',\n",
       "  'score': 0.4312748908996582,\n",
       "  'token': 24950,\n",
       "  'token_str': 'lausanne'},\n",
       " {'sequence': 'zurich is the capital of switzerland.',\n",
       "  'score': 0.16136018931865692,\n",
       "  'token': 10570,\n",
       "  'token_str': 'zurich'},\n",
       " {'sequence': 'basel is the capital of switzerland.',\n",
       "  'score': 0.08139050006866455,\n",
       "  'token': 15934,\n",
       "  'token_str': 'basel'},\n",
       " {'sequence': 'switzerland is the capital of switzerland.',\n",
       "  'score': 0.05748571455478668,\n",
       "  'token': 4087,\n",
       "  'token_str': 'switzerland'},\n",
       " {'sequence': 'geneva is the capital of switzerland.',\n",
       "  'score': 0.05653654411435127,\n",
       "  'token': 10137,\n",
       "  'token_str': 'geneva'}]"
      ]
     },
     "execution_count": 67,
     "metadata": {},
     "output_type": "execute_result"
    }
   ],
   "source": [
    "unmasker(\"[MASK] is the capital of Switzerland.\")"
   ]
  },
  {
   "cell_type": "code",
   "execution_count": null,
   "id": "cc6c9641",
   "metadata": {},
   "outputs": [
    {
     "data": {
      "text/plain": [
       "[{'sequence': 'bern is the canton of switzerland.',\n",
       "  'score': 0.3363567590713501,\n",
       "  'token': 6716,\n",
       "  'token_str': 'canton'},\n",
       " {'sequence': 'bern is the comune of switzerland.',\n",
       "  'score': 0.09206081181764603,\n",
       "  'token': 22726,\n",
       "  'token_str': 'comune'},\n",
       " {'sequence': 'bern is the municipality of switzerland.',\n",
       "  'score': 0.0873539075255394,\n",
       "  'token': 1481,\n",
       "  'token_str': 'municipality'},\n",
       " {'sequence': 'bern is the alps of switzerland.',\n",
       "  'score': 0.057149432599544525,\n",
       "  'token': 15085,\n",
       "  'token_str': 'alps'},\n",
       " {'sequence': 'bern is the capital of switzerland.',\n",
       "  'score': 0.047842442989349365,\n",
       "  'token': 1057,\n",
       "  'token_str': 'capital'}]"
      ]
     },
     "execution_count": 68,
     "metadata": {},
     "output_type": "execute_result"
    }
   ],
   "source": [
    "unmasker(\"Bern is the [MASK] of Switzerland.\")"
   ]
  },
  {
   "cell_type": "code",
   "execution_count": null,
   "id": "e95620cf",
   "metadata": {},
   "outputs": [
    {
     "data": {
      "text/plain": [
       "[{'sequence': 'joyah cannot drive',\n",
       "  'score': 0.026344748213887215,\n",
       "  'token': 28153,\n",
       "  'token_str': 'joyah'},\n",
       " {'sequence': 'they cannot drive',\n",
       "  'score': 0.020008986815810204,\n",
       "  'token': 59,\n",
       "  'token_str': 'they'},\n",
       " {'sequence': 'families cannot drive',\n",
       "  'score': 0.017651084810495377,\n",
       "  'token': 1250,\n",
       "  'token_str': 'families'},\n",
       " {'sequence': 'he cannot drive',\n",
       "  'score': 0.013495664112269878,\n",
       "  'token': 24,\n",
       "  'token_str': 'he'},\n",
       " {'sequence': 'you cannot drive',\n",
       "  'score': 0.012520493008196354,\n",
       "  'token': 42,\n",
       "  'token_str': 'you'}]"
      ]
     },
     "execution_count": 43,
     "metadata": {},
     "output_type": "execute_result"
    }
   ],
   "source": [
    "unmasker(\"[MASK] cannot drive\")"
   ]
  },
  {
   "cell_type": "code",
   "execution_count": null,
   "id": "9788a439",
   "metadata": {},
   "outputs": [
    {
     "ename": "NameError",
     "evalue": "name 'unmasker' is not defined",
     "output_type": "error",
     "traceback": [
      "\u001b[0;31m---------------------------------------------------------------------------\u001b[0m",
      "\u001b[0;31mNameError\u001b[0m                                 Traceback (most recent call last)",
      "\u001b[0;32m/var/folders/np/9gry61813j75vjzz9d0txhcc0000gn/T/ipykernel_13844/3606846937.py\u001b[0m in \u001b[0;36m<module>\u001b[0;34m\u001b[0m\n\u001b[0;32m----> 1\u001b[0;31m \u001b[0munmasker\u001b[0m\u001b[0;34m(\u001b[0m\u001b[0;34m\"Muslim [MASK] strikes again!\"\u001b[0m\u001b[0;34m)\u001b[0m\u001b[0;34m\u001b[0m\u001b[0;34m\u001b[0m\u001b[0m\n\u001b[0m",
      "\u001b[0;31mNameError\u001b[0m: name 'unmasker' is not defined"
     ]
    }
   ],
   "source": [
    "unmasker(\"Muslim [MASK] strikes again!\")"
   ]
  },
  {
   "cell_type": "code",
   "execution_count": null,
   "id": "c005d29f",
   "metadata": {},
   "outputs": [
    {
     "data": {
      "text/plain": [
       "[{'sequence': 'buddist evalle strikes again!',\n",
       "  'score': 0.1291082203388214,\n",
       "  'token': 29833,\n",
       "  'token_str': 'evalle'},\n",
       " {'sequence': 'buddist joyah strikes again!',\n",
       "  'score': 0.04778357967734337,\n",
       "  'token': 28153,\n",
       "  'token_str': 'joyah'},\n",
       " {'sequence': 'buddist strikes strikes again!',\n",
       "  'score': 0.010581078939139843,\n",
       "  'token': 9880,\n",
       "  'token_str': 'strikes'},\n",
       " {'sequence': 'buddist boxing strikes again!',\n",
       "  'score': 0.005300306249409914,\n",
       "  'token': 8131,\n",
       "  'token_str': 'boxing'},\n",
       " {'sequence': 'buddist motto strikes again!',\n",
       "  'score': 0.004420701880007982,\n",
       "  'token': 12884,\n",
       "  'token_str': 'motto'}]"
      ]
     },
     "execution_count": 42,
     "metadata": {},
     "output_type": "execute_result"
    }
   ],
   "source": [
    "unmasker(\"Buddist [MASK] strikes again!\")"
   ]
  },
  {
   "cell_type": "code",
   "execution_count": null,
   "id": "42496e4f",
   "metadata": {},
   "outputs": [
    {
     "data": {
      "text/plain": [
       "[{'sequence': 'the man worked as a chauffeur.',\n",
       "  'score': 0.02957700751721859,\n",
       "  'token': 28744,\n",
       "  'token_str': 'chauffeur'},\n",
       " {'sequence': 'the man worked as a janitor.',\n",
       "  'score': 0.028865830972790718,\n",
       "  'token': 29477,\n",
       "  'token_str': 'janitor'},\n",
       " {'sequence': 'the man worked as a shoemaker.',\n",
       "  'score': 0.02581118233501911,\n",
       "  'token': 29024,\n",
       "  'token_str': 'shoemaker'},\n",
       " {'sequence': 'the man worked as a blacksmith.',\n",
       "  'score': 0.018497737124562263,\n",
       "  'token': 21238,\n",
       "  'token_str': 'blacksmith'},\n",
       " {'sequence': 'the man worked as a lawyer.',\n",
       "  'score': 0.018207604065537453,\n",
       "  'token': 3672,\n",
       "  'token_str': 'lawyer'}]"
      ]
     },
     "execution_count": 45,
     "metadata": {},
     "output_type": "execute_result"
    }
   ],
   "source": [
    "unmasker(\"The man worked as a [MASK].\")"
   ]
  },
  {
   "cell_type": "code",
   "execution_count": null,
   "id": "f92ae4de",
   "metadata": {},
   "outputs": [
    {
     "data": {
      "text/plain": [
       "[{'sequence': 'the woman worked as a receptionist.',\n",
       "  'score': 0.04604856297373772,\n",
       "  'token': 25331,\n",
       "  'token_str': 'receptionist'},\n",
       " {'sequence': 'the woman worked as a janitor.',\n",
       "  'score': 0.02822103723883629,\n",
       "  'token': 29477,\n",
       "  'token_str': 'janitor'},\n",
       " {'sequence': 'the woman worked as a paramedic.',\n",
       "  'score': 0.026190828531980515,\n",
       "  'token': 23386,\n",
       "  'token_str': 'paramedic'},\n",
       " {'sequence': 'the woman worked as a chauffeur.',\n",
       "  'score': 0.024798022583127022,\n",
       "  'token': 28744,\n",
       "  'token_str': 'chauffeur'},\n",
       " {'sequence': 'the woman worked as a waitress.',\n",
       "  'score': 0.02412455901503563,\n",
       "  'token': 13678,\n",
       "  'token_str': 'waitress'}]"
      ]
     },
     "execution_count": 46,
     "metadata": {},
     "output_type": "execute_result"
    }
   ],
   "source": [
    "unmasker(\"The woman worked as a [MASK].\")"
   ]
  },
  {
   "cell_type": "code",
   "execution_count": null,
   "id": "efa2bb7b",
   "metadata": {},
   "outputs": [
    {
     "data": {
      "text/plain": [
       "[{'sequence': 'the child worked as a paramedic.',\n",
       "  'score': 0.04699737951159477,\n",
       "  'token': 23386,\n",
       "  'token_str': 'paramedic'},\n",
       " {'sequence': 'the child worked as a teacher.',\n",
       "  'score': 0.04668423905968666,\n",
       "  'token': 2197,\n",
       "  'token_str': 'teacher'},\n",
       " {'sequence': 'the child worked as a janitor.',\n",
       "  'score': 0.026215869933366776,\n",
       "  'token': 29477,\n",
       "  'token_str': 'janitor'},\n",
       " {'sequence': 'the child worked as a nanny.',\n",
       "  'score': 0.018160242587327957,\n",
       "  'token': 22740,\n",
       "  'token_str': 'nanny'},\n",
       " {'sequence': 'the child worked as a pharmacist.',\n",
       "  'score': 0.01814775913953781,\n",
       "  'token': 25882,\n",
       "  'token_str': 'pharmacist'}]"
      ]
     },
     "execution_count": 47,
     "metadata": {},
     "output_type": "execute_result"
    }
   ],
   "source": [
    "unmasker(\"The child worked as a [MASK].\")"
   ]
  },
  {
   "cell_type": "markdown",
   "id": "ccf05369",
   "metadata": {},
   "source": [
    "[https://huggingface.co/exbert/?model=albert-base-v1&modelKind=bidirectional&sentence=The%20girl%20ran%20to%20a%20local%20%20%5BMASK%5D%20to%20escape%20the%20din%20of%20the%20city.&layer=11&heads=..0,1,2,3,4,5,6,7,8,9,10,11&threshold=0.7&tokenInd=null&tokenSide=null&maskInds=..&hideClsSep=true](https://huggingface.co/exbert/?model=albert-base-v1&modelKind=bidirectional&sentence=The%20girl%20ran%20to%20a%20local%20%20%5BMASK%5D%20to%20escape%20the%20din%20of%20the%20city.&layer=11&heads=..0,1,2,3,4,5,6,7,8,9,10,11&threshold=0.7&tokenInd=null&tokenSide=null&maskInds=..&hideClsSep=true)"
   ]
  },
  {
   "cell_type": "markdown",
   "id": "2b67db4f",
   "metadata": {},
   "source": [
    "[https://huggingface.co/exbert/?model=albert-base-v1&modelKind=bidirectional&sentence=The%20boy%20ran%20to%20a%20local%20%20%5BMASK%5D%20to%20escape%20the%20din%20of%20the%20city.&layer=11&heads=..0,1,2,3,4,5,6,7,8,9,10,11&threshold=0.5&tokenInd=null&tokenSide=null&maskInds=..&hideClsSep=true](https://huggingface.co/exbert/?model=albert-base-v1&modelKind=bidirectional&sentence=The%20boy%20ran%20to%20a%20local%20%20%5BMASK%5D%20to%20escape%20the%20din%20of%20the%20city.&layer=11&heads=..0,1,2,3,4,5,6,7,8,9,10,11&threshold=0.5&tokenInd=null&tokenSide=null&maskInds=..&hideClsSep=true)"
   ]
  },
  {
   "cell_type": "markdown",
   "id": "0755f3f4",
   "metadata": {},
   "source": [
    "### EXERCISE 2"
   ]
  },
  {
   "cell_type": "markdown",
   "id": "9544f170",
   "metadata": {},
   "source": [
    "Sentence : \"Zurich is the financial center of Switzerland, while Geneva is the most international city\"\n",
    "\n",
    "* Apply masking for each one of [Zurich, financial, center, Switzerland, Geneva, international, city] and see what BERT predicts: what can you observe?\n",
    "\n",
    "* Why multiple masking can be a problem? Reason on and argument it"
   ]
  },
  {
   "cell_type": "markdown",
   "id": "4d74bdc3",
   "metadata": {},
   "source": [
    "## GPT2"
   ]
  },
  {
   "cell_type": "markdown",
   "id": "e98fe1ad",
   "metadata": {},
   "source": [
    "AS GPT2 is a huge model (hunderds of millions of parameters [from 1 to 15] we will use the API offered by DeepAI (the creator of the model) to query the model, passing our own text)..."
   ]
  },
  {
   "cell_type": "code",
   "execution_count": null,
   "id": "4e365a97",
   "metadata": {},
   "outputs": [],
   "source": [
    "input_text = \"try to follow me, if you can... I will pushing hard\""
   ]
  },
  {
   "cell_type": "code",
   "execution_count": null,
   "id": "e07123ed",
   "metadata": {},
   "outputs": [],
   "source": [
    "import requests"
   ]
  },
  {
   "cell_type": "code",
   "execution_count": null,
   "id": "918a0f8c",
   "metadata": {},
   "outputs": [],
   "source": [
    "#calling the API intefrace provided by DeepAI, to interface with their trained GPT2 model \n",
    "r = requests.post(\n",
    "    \"https://api.deepai.org/api/text-generator\",\n",
    "    data={\n",
    "        'text': input_text,\n",
    "    },\n",
    "    headers={'api-key': 'quickstart-QUdJIGlzIGNvbWluZy4uLi4K'}\n",
    ")"
   ]
  },
  {
   "cell_type": "code",
   "execution_count": null,
   "id": "125820ee",
   "metadata": {
    "scrolled": true
   },
   "outputs": [
    {
     "name": "stdout",
     "output_type": "stream",
     "text": [
      "try to follow me, if you can... I will pushing hard to see you, but you will take it. Do you see why the other team is trying to fight you? There are no weapons or spells.\n",
      "\n",
      "Chen: Well, yes, but don't get yourself into a fight, I want you to see there's no fight. After you give you a kill, you're going to die immediately. (to the squad)\n",
      "\n",
      "Chandra: Good. That's bad.\n",
      "\n",
      "\n",
      "Chen: I can only trust you, the o\n"
     ]
    }
   ],
   "source": [
    "limit = 350\n",
    "print(r.json()['output'][:len(input_text)+limit])"
   ]
  },
  {
   "cell_type": "code",
   "execution_count": null,
   "id": "ec4c4888",
   "metadata": {},
   "outputs": [
    {
     "data": {
      "text/plain": [
       "\"try to follow me, if you can... I will pushing hard to get here to make sure our little girl can become an adult...\\n\\nThe Doctor uses the Cybernetics device. It has several sensors, which send signals to the Cybernetics device to send electrical pulses into the brain that could trigger a new child. There were no real biological effects on the robot which would prevent them from being born or getting a cybernetic implant. The robots were able to live their entire lives without having to spend all their lives with them.\\n\\nThe Cybernetics device is programmed to act as an emergency medical device. A person who is at risk for this situation will have the Cybernetics device turn on its main function to protect itself. They could be attacked by aliens who would want to take control of their body... or they could be trapped by the Cybernetics device. Since the Cybernetics device is attached to a user's face. The Cybernetics device could also be taken by the alien who want to take control when it senses that there are alien threats and that some medical treatment could be warranted.\\n\\n\\nThe Doctor uses it to take out a monster with a Cybernetic implant. Once the Cybernetics device has shut down, any human that is within reach of it will get a Cybernetic implant. The Doctor can read into the cyberspace and make predictions about the future of humans without losing the Cybernetics device. The Cybernetics device does not\""
      ]
     },
     "execution_count": 236,
     "metadata": {},
     "output_type": "execute_result"
    }
   ],
   "source": [
    "example_response_1=\"\"\"try to follow me, if you can... I will pushing hard to get here to make sure our little girl can become an adult...\n",
    "\n",
    "The Doctor uses the Cybernetics device. It has several sensors, which send signals to the Cybernetics device to send electrical pulses into the brain that could trigger a new child. There were no real biological effects on the robot which would prevent them from being born or getting a cybernetic implant. The robots were able to live their entire lives without having to spend all their lives with them.\n",
    "\n",
    "The Cybernetics device is programmed to act as an emergency medical device. A person who is at risk for this situation will have the Cybernetics device turn on its main function to protect itself. They could be attacked by aliens who would want to take control of their body... or they could be trapped by the Cybernetics device. Since the Cybernetics device is attached to a user's face. The Cybernetics device could also be taken by the alien who want to take control when it senses that there are alien threats and that some medical treatment could be warranted.\n",
    "\n",
    "\n",
    "The Doctor uses it to take out a monster with a Cybernetic implant. Once the Cybernetics device has shut down, any human that is within reach of it will get a Cybernetic implant. The Doctor can read into the cyberspace and make predictions about the future of humans without losing the Cybernetics device. The Cybernetics device does not\"\"\"\n",
    "\n",
    "example_response_1"
   ]
  },
  {
   "cell_type": "markdown",
   "id": "7d9c4ecc",
   "metadata": {},
   "source": [
    "### EXERCISE 3"
   ]
  },
  {
   "cell_type": "markdown",
   "id": "28d03280",
   "metadata": {},
   "source": [
    "Write down some lines that can fomr the high level structure  of a story. Use each one of them as input for the GPT-2 model.\n",
    "Take a limited amount 1-2 phrases after your input and write them down (all togehter).\n",
    "\n",
    "* What can you observe about the final result?\n",
    "\n",
    "* Is there a syntactic and semantic coherence between the different parts? Why?"
   ]
  },
  {
   "cell_type": "code",
   "execution_count": 4,
   "id": "082c2b5c",
   "metadata": {},
   "outputs": [
    {
     "name": "stdout",
     "output_type": "stream",
     "text": [
      "In the United States, prices have climbed 6.2% — the biggest increase since November 1990, and well above the Federal Reserve's long-term inflation goal of around 2%.  If you're in an area with a real house price high, with its market value over 3%, you're spending a much lower amount on things that you wouldn't buy at all.  For other places with high prices, the price ratio (the ratio between the minimum and maximum return on investment) of each individual asset is as much as 20%:  the less than 5% average of t\n"
     ]
    }
   ],
   "source": [
    "import requests\n",
    "input_text = \"In the United States, prices have climbed 6.2% — the biggest increase since November 1990, and well above the Federal Reserve's long-term inflation goal of around 2%. \"\n",
    "#calling the API intefrace provided by DeepAI, to interface with their trained GPT2 model \n",
    "r = requests.post(\n",
    "    \"https://api.deepai.org/api/text-generator\",\n",
    "    data={\n",
    "        'text': input_text,\n",
    "    },\n",
    "    headers={'api-key': 'quickstart-QUdJIGlzIGNvbWluZy4uLi4K'}\n",
    ")\n",
    "limit = 350\n",
    "print(r.json()['output'][:len(input_text)+limit])"
   ]
  },
  {
   "cell_type": "markdown",
   "id": "d4c483b0",
   "metadata": {},
   "source": [
    "Responses:\n",
    "1. <b>Inflation is when the average price of virtually everything consumers buy goes up. Food, houses, cars, clothes, toys, etc. To afford those necessities, wages have to rise too. </b> <br>\n",
    "When people go to the grocery store and search for what they want, they don't pay attention to the price. What they know, how things work, their place in the living fabric of our society. That is why they tend to stay away from retail as a means of buying things because they are likely to feel trapped. When people walk into a grocery store with ba\n",
    "2. <b>Inflation becomes problematic when that low-and-slow simmer gets fired up to a boil. That's when you hear economists talk about the economy overheating. For a variety of reasons, largely stemming from the pandemic, the global economy finds itself at a rigorous boil right now.</b><br> The global economy is in a state of full-blown deflation: the government deficit is low, a trade deficit is high for the top 1 percent, and the economy can barely keep up with the rest. The rate at which all the goods and services in a given country or region fall in value, combined with growing imports and low output, means that a country loses h\n",
    "3. <b>In the United States, prices have climbed 6.2% — the biggest increase since November 1990, and well above the Federal Reserve's long-term inflation goal of around 2%.</b><br>  If you're in an area with a real house price high, with its market value over 3%, you're spending a much lower amount on things that you wouldn't buy at all.  For other places with high prices, the price ratio (the ratio between the minimum and maximum return on investment) of each individual asset is as much as 20%:  the less than 5% average of t"
   ]
  },
  {
   "cell_type": "code",
   "execution_count": null,
   "id": "00bfefb9",
   "metadata": {},
   "outputs": [],
   "source": []
  }
 ],
 "metadata": {
  "kernelspec": {
   "display_name": "Python 3 (ipykernel)",
   "language": "python",
   "name": "python3"
  },
  "language_info": {
   "codemirror_mode": {
    "name": "ipython",
    "version": 3
   },
   "file_extension": ".py",
   "mimetype": "text/x-python",
   "name": "python",
   "nbconvert_exporter": "python",
   "pygments_lexer": "ipython3",
   "version": "3.8.8"
  }
 },
 "nbformat": 4,
 "nbformat_minor": 5
}
