{
 "cells": [
  {
   "cell_type": "markdown",
   "id": "09f04ff1",
   "metadata": {},
   "source": [
    "# INLP : SW08"
   ]
  },
  {
   "cell_type": "markdown",
   "id": "95be2562",
   "metadata": {},
   "source": [
    "from statistic and thin NN to shallow ones"
   ]
  },
  {
   "cell_type": "markdown",
   "id": "ed816ff0",
   "metadata": {},
   "source": [
    "encapsulating distributional semantics in text applications"
   ]
  },
  {
   "cell_type": "markdown",
   "id": "789d210e",
   "metadata": {},
   "source": [
    "we will see different approaches, with varying level of complexity:\n",
    "\n",
    "1) GLoVe\n",
    "\n",
    "2) ELMo\n",
    "\n",
    "3) BERT\n",
    "\n",
    "4) GPT"
   ]
  },
  {
   "cell_type": "markdown",
   "id": "05f04893",
   "metadata": {},
   "source": [
    "## GLoVe"
   ]
  },
  {
   "cell_type": "markdown",
   "id": "44ea7ff0",
   "metadata": {},
   "source": [
    "GLoVe \n",
    "* unsupervised learning algorithm for obtaining vector representations for words (source: [GLoVe webpage](https://nlp.stanford.edu/projects/glove/))\n",
    "* resulting representations showcase interesting linear substructures of the word vector space"
   ]
  },
  {
   "cell_type": "code",
   "execution_count": 2,
   "id": "b00bcc9b",
   "metadata": {},
   "outputs": [],
   "source": [
    "import numpy as np\n",
    "from scipy import spatial\n",
    "import matplotlib.pyplot as plt\n",
    "from sklearn.manifold import TSNE"
   ]
  },
  {
   "cell_type": "code",
   "execution_count": 3,
   "id": "9acb0aff",
   "metadata": {},
   "outputs": [],
   "source": [
    "embeddings_dict = {}"
   ]
  },
  {
   "cell_type": "markdown",
   "id": "3e869fe1",
   "metadata": {},
   "source": [
    "We need a pre-trained GLoVe model, you can dowload them form the [official webpage](https://nlp.stanford.edu/projects/glove/), at the __Download pre-trained word vectors__ section. We specifically use the \"glove.6B\" model, trained on a [Wikipedia dump (2014)](http://dumps.wikimedia.org/enwiki/20140102/) and the [Gigaworld dataset](https://catalog.ldc.upenn.edu/LDC2011T07)\n",
    "\n",
    "This generate models with:\n",
    "* 6B tokens, \n",
    "* 400K (uncased, all small letters) vocab\n",
    "\n",
    "and with dimensions of \n",
    "* 50, 100, 200 & 300 vectors\n",
    "\n",
    "The dowload is big (822 MB) and you need to expand the zip file in the corrent directory, for running it."
   ]
  },
  {
   "cell_type": "code",
   "execution_count": 4,
   "id": "ab044338",
   "metadata": {},
   "outputs": [],
   "source": [
    "with open(\"glove.6B.50d.txt\", 'r', encoding=\"utf-8\") as f:\n",
    "    for line in f:\n",
    "        values = line.split()\n",
    "        word = values[0]\n",
    "        vector = np.asarray(values[1:], \"float32\")\n",
    "        embeddings_dict[word] = vector\n",
    "#d here model is loaded"
   ]
  },
  {
   "cell_type": "code",
   "execution_count": 8,
   "id": "77e3f0bf",
   "metadata": {},
   "outputs": [],
   "source": [
    "#def find_closest_embeddings(embedding):\n",
    "#    return sorted(embeddings_dict.keys(), key=lambda word: spatial.distance.euclidean(embeddings_dict[word], embedding))\n",
    "#d defining function here\n",
    "\n",
    "# faster\n",
    "def find_closest_embeddings_euclidian(embedding):\n",
    "    word_dist = [\n",
    "        (word, spatial.distance.euclidean(word_embedding, embedding))\n",
    "        for word, word_embedding in embeddings_dict.items()\n",
    "    ]\n",
    "    return sorted(word_dist, key=lambda ele: ele[1])\n",
    "\n",
    "# genauer\n",
    "def find_closest_embeddings_cosine(embedding):\n",
    "    word_dist = [\n",
    "        (word, spatial.distance.cosine(word_embedding, embedding))\n",
    "        for word, word_embedding in embeddings_dict.items()\n",
    "    ]\n",
    "    return sorted(word_dist, key=lambda ele: ele[1])\n",
    "\n",
    "#d what is the similarity (cosine distance)\n"
   ]
  },
  {
   "cell_type": "code",
   "execution_count": 6,
   "id": "7206833d",
   "metadata": {},
   "outputs": [
    {
     "name": "stdout",
     "output_type": "stream",
     "text": [
      "[('king', 0.0), ('prince', 3.117973566055298), ('queen', 3.4777562618255615), ('uncle', 3.5069308280944824), ('ii', 3.5766706466674805), ('grandson', 3.6911327838897705)]\n"
     ]
    }
   ],
   "source": [
    "print(find_closest_embeddings_euclidian(embeddings_dict[\"king\"])[:6])\n",
    "#d first 6 which are closest\n",
    "#d number is distance\n",
    "#d number is dinstance here with 50 dimension"
   ]
  },
  {
   "cell_type": "code",
   "execution_count": 108,
   "id": "5a4dfacd",
   "metadata": {},
   "outputs": [
    {
     "name": "stdout",
     "output_type": "stream",
     "text": [
      "[('king', 0), ('prince', 0.17638200521469116), ('queen', 0.2160956859588623), ('ii', 0.22537702322006226), ('emperor', 0.22637510299682617), ('son', 0.23328059911727905)]\n"
     ]
    }
   ],
   "source": [
    "print(find_closest_embeddings_cosine(embeddings_dict[\"king\"])[:6])\n",
    "#d goes throw the whole dataset one by one"
   ]
  },
  {
   "cell_type": "code",
   "execution_count": 7,
   "id": "a715b316",
   "metadata": {},
   "outputs": [
    {
     "ename": "NameError",
     "evalue": "name 'find_closest_embeddings' is not defined",
     "output_type": "error",
     "traceback": [
      "\u001b[0;31m---------------------------------------------------------------------------\u001b[0m",
      "\u001b[0;31mNameError\u001b[0m                                 Traceback (most recent call last)",
      "\u001b[0;32m/var/folders/np/9gry61813j75vjzz9d0txhcc0000gn/T/ipykernel_13844/3397963042.py\u001b[0m in \u001b[0;36m<module>\u001b[0;34m\u001b[0m\n\u001b[0;32m----> 1\u001b[0;31m print(find_closest_embeddings(\n\u001b[0m\u001b[1;32m      2\u001b[0m     \u001b[0membeddings_dict\u001b[0m\u001b[0;34m[\u001b[0m\u001b[0;34m\"twig\"\u001b[0m\u001b[0;34m]\u001b[0m \u001b[0;34m-\u001b[0m \u001b[0membeddings_dict\u001b[0m\u001b[0;34m[\u001b[0m\u001b[0;34m\"branch\"\u001b[0m\u001b[0;34m]\u001b[0m \u001b[0;34m+\u001b[0m \u001b[0membeddings_dict\u001b[0m\u001b[0;34m[\u001b[0m\u001b[0;34m\"hand\"\u001b[0m\u001b[0;34m]\u001b[0m\u001b[0;34m\u001b[0m\u001b[0;34m\u001b[0m\u001b[0m\n\u001b[1;32m      3\u001b[0m )[:5])\n\u001b[1;32m      4\u001b[0m \u001b[0;31m#d combining different words\u001b[0m\u001b[0;34m\u001b[0m\u001b[0;34m\u001b[0m\u001b[0;34m\u001b[0m\u001b[0m\n",
      "\u001b[0;31mNameError\u001b[0m: name 'find_closest_embeddings' is not defined"
     ]
    }
   ],
   "source": [
    "print(find_closest_embeddings(\n",
    "    embeddings_dict[\"twig\"] - embeddings_dict[\"branch\"] + embeddings_dict[\"hand\"]\n",
    ")[:5])\n",
    "#d combining different words"
   ]
  },
  {
   "cell_type": "code",
   "execution_count": 9,
   "id": "b2f20265",
   "metadata": {},
   "outputs": [
    {
     "name": "stdout",
     "output_type": "stream",
     "text": [
      "[('fingernails', 0.2360442876815796), ('toenails', 0.2595106363296509), ('stringy', 0.3188042640686035), ('shove', 0.3370434045791626), ('peeling', 0.33767378330230713)]\n"
     ]
    }
   ],
   "source": [
    "print(find_closest_embeddings_cosine(\n",
    "    embeddings_dict[\"twig\"] - embeddings_dict[\"branch\"] + embeddings_dict[\"hand\"]\n",
    ")[:5])"
   ]
  },
  {
   "cell_type": "markdown",
   "id": "60fff405",
   "metadata": {},
   "source": [
    "To \"represent\" the embeddings (50d), we need to project the space to lower dimensionality, and we will use the [t-SNE approach (T-distributed Stochastic Neighbor Embedding)](https://scikit-learn.org/stable/modules/generated/sklearn.manifold.TSNE.html) \n",
    "Reducing to 2 dimensions will allow us to plot it out..."
   ]
  },
  {
   "cell_type": "code",
   "execution_count": 206,
   "id": "c1043930",
   "metadata": {},
   "outputs": [],
   "source": [
    "tsne = TSNE(n_components=2, random_state=0, metric=\"cosine\", perplexity=30.0, square_distances=True, verbose=1)"
   ]
  },
  {
   "cell_type": "code",
   "execution_count": 207,
   "id": "191a1d4e",
   "metadata": {},
   "outputs": [
    {
     "name": "stdout",
     "output_type": "stream",
     "text": [
      "[t-SNE] Computing 91 nearest neighbors...\n",
      "[t-SNE] Indexed 5000 samples in 0.001s...\n",
      "[t-SNE] Computed neighbors for 5000 samples in 0.904s...\n",
      "[t-SNE] Computed conditional probabilities for sample 1000 / 5000\n",
      "[t-SNE] Computed conditional probabilities for sample 2000 / 5000\n",
      "[t-SNE] Computed conditional probabilities for sample 3000 / 5000\n",
      "[t-SNE] Computed conditional probabilities for sample 4000 / 5000\n",
      "[t-SNE] Computed conditional probabilities for sample 5000 / 5000\n",
      "[t-SNE] Mean sigma: 0.182507\n",
      "[t-SNE] KL divergence after 100 iterations with early exaggeration: 88.265289\n",
      "[t-SNE] KL divergence after 1000 iterations: 2.760423\n"
     ]
    }
   ],
   "source": [
    "max_index = len(embeddings_dict)\n",
    "nr = 5000\n",
    "restricted_embeddings_dict_indexes = np.random.choice(max_index,nr)\n",
    "\n",
    "embedding_matrix = list(embeddings_dict.values())\n",
    "\n",
    "selected_embeddings = [embedding_matrix[index] for index in restricted_embeddings_dict_indexes]\n",
    "\n",
    "#tSNE_model = tsne.fit(selected_embeddings)"
   ]
  },
  {
   "cell_type": "code",
   "execution_count": 208,
   "id": "8d291364",
   "metadata": {},
   "outputs": [],
   "source": [
    "words =  list(embeddings_dict.keys())\n",
    "vectors = [embeddings_dict[word] for word in words]"
   ]
  },
  {
   "cell_type": "code",
   "execution_count": 209,
   "id": "6395c03d",
   "metadata": {},
   "outputs": [],
   "source": [
    "#vectors"
   ]
  },
  {
   "cell_type": "code",
   "execution_count": 237,
   "id": "422725e3",
   "metadata": {},
   "outputs": [
    {
     "name": "stdout",
     "output_type": "stream",
     "text": [
      "[t-SNE] Computing 91 nearest neighbors...\n",
      "[t-SNE] Indexed 5050 samples in 0.002s...\n",
      "[t-SNE] Computed neighbors for 5050 samples in 1.023s...\n",
      "[t-SNE] Computed conditional probabilities for sample 1000 / 5050\n",
      "[t-SNE] Computed conditional probabilities for sample 2000 / 5050\n",
      "[t-SNE] Computed conditional probabilities for sample 3000 / 5050\n",
      "[t-SNE] Computed conditional probabilities for sample 4000 / 5050\n",
      "[t-SNE] Computed conditional probabilities for sample 5000 / 5050\n",
      "[t-SNE] Computed conditional probabilities for sample 5050 / 5050\n",
      "[t-SNE] Mean sigma: 0.181596\n",
      "[t-SNE] KL divergence after 150 iterations with early exaggeration: 88.316605\n",
      "[t-SNE] KL divergence after 1000 iterations: 2.737575\n"
     ]
    }
   ],
   "source": [
    "base = 0\n",
    "step = 50\n",
    "\n",
    "space = selected_embeddings+vectors[base:(base+step)]\n",
    "\n",
    "Y = tsne.fit_transform(space)"
   ]
  },
  {
   "cell_type": "code",
   "execution_count": 238,
   "id": "5803f483",
   "metadata": {},
   "outputs": [
    {
     "data": {
      "image/png": "[encoded data removed]",
      "text/plain": [
       "<Figure size 432x288 with 1 Axes>"
      ]
     },
     "metadata": {
      "needs_background": "light"
     },
     "output_type": "display_data"
    }
   ],
   "source": [
    "plt.scatter(Y[nr:nr+step-1, 0], Y[nr:nr+step-1, 1])\n",
    "for label, x, y in zip(words, Y[nr:nr+step-1, 0], Y[nr:nr+step-1, 1]):\n",
    "    plt.annotate(label, xy=(x, y), xytext=(5, 1), textcoords=\"offset points\")\n",
    "plt.show()\n",
    "#d print out the first 50 elements"
   ]
  },
  {
   "cell_type": "code",
   "execution_count": null,
   "id": "83b9c8bd",
   "metadata": {},
   "outputs": [],
   "source": [
    "#list(zip(words, Y[:, 0], Y[:, 1]))"
   ]
  },
  {
   "cell_type": "code",
   "execution_count": 10,
   "id": "7789874d",
   "metadata": {},
   "outputs": [
    {
     "name": "stdout",
     "output_type": "stream",
     "text": [
      "[('turin', 0.20273685455322266), ('italy', 0.20814186334609985), ('milan', 0.21722441911697388), ('bologna', 0.2400570511817932), ('genoa', 0.2542887330055237), ('rome', 0.274344801902771), ('italian', 0.28251564502716064), ('frankfurt', 0.2838957905769348), ('palermo', 0.28456568717956543), ('parma', 0.29977142810821533), ('zurich', 0.30454617738723755), ('torino', 0.3153432011604309), ('naples', 0.31587064266204834), ('madrid', 0.3159630298614502), ('cologne', 0.3241654634475708)]\n"
     ]
    }
   ],
   "source": [
    "print(find_closest_embeddings_cosine(\n",
    "    embeddings_dict[\"zurich\"]-embeddings_dict[\"switzerland\"]+embeddings_dict[\"italy\"]\n",
    ")[:15])\n",
    "#d the results are good considering that there is now semantic background\n",
    "#d data can be influneced by noise"
   ]
  },
  {
   "cell_type": "code",
   "execution_count": 240,
   "id": "61bc9f13",
   "metadata": {},
   "outputs": [],
   "source": [
    "idx_zurich = words.index(\"zurich\")\n",
    "idx_switzerland = words.index(\"switzerland\")\n",
    "idx_italy = words.index(\"italy\")\n",
    "#d getting the index of the words"
   ]
  },
  {
   "cell_type": "code",
   "execution_count": 241,
   "id": "bb0924d3",
   "metadata": {},
   "outputs": [],
   "source": [
    "words_sel = [words[i] for i in  [idx_zurich, idx_switzerland, idx_italy]]\n",
    "#words_sel"
   ]
  },
  {
   "cell_type": "code",
   "execution_count": 285,
   "id": "391b329d",
   "metadata": {},
   "outputs": [],
   "source": [
    "vectors_start_sel=[vectors[i] for i in  [idx_zurich, idx_switzerland, idx_italy]]\n",
    "len_start = len(vectors_start_sel)\n",
    "pos1_start=nr\n",
    "pos2_start=nr+len_start"
   ]
  },
  {
   "cell_type": "code",
   "execution_count": 286,
   "id": "71de4270",
   "metadata": {},
   "outputs": [],
   "source": [
    "#start_points = tsne.fit_transform(vectors_sel)"
   ]
  },
  {
   "cell_type": "code",
   "execution_count": 309,
   "id": "84703a43",
   "metadata": {},
   "outputs": [
    {
     "name": "stdout",
     "output_type": "stream",
     "text": [
      "[('turin', 0.20273685455322266), ('italy', 0.20814186334609985), ('milan', 0.21722441911697388), ('bologna', 0.2400570511817932), ('genoa', 0.2542887330055237), ('rome', 0.274344801902771), ('italian', 0.28251564502716064), ('frankfurt', 0.2838957905769348), ('palermo', 0.28456568717956543), ('parma', 0.29977142810821533), ('zurich', 0.30454617738723755), ('torino', 0.3153432011604309), ('naples', 0.31587064266204834), ('madrid', 0.3159630298614502), ('cologne', 0.3241654634475708)]\n"
     ]
    }
   ],
   "source": [
    "results = find_closest_embeddings_cosine(\n",
    "    embeddings_dict[\"zurich\"]-embeddings_dict[\"switzerland\"]+embeddings_dict[\"italy\"]\n",
    ")[:15]\n",
    "print(results)"
   ]
  },
  {
   "cell_type": "code",
   "execution_count": 310,
   "id": "988d5018",
   "metadata": {},
   "outputs": [],
   "source": [
    "results_list = [(res[0]) for res in results]"
   ]
  },
  {
   "cell_type": "code",
   "execution_count": 311,
   "id": "9face15c",
   "metadata": {},
   "outputs": [],
   "source": [
    "results_sel = list(words.index(i) for i in results_list)\n",
    "#results_sel"
   ]
  },
  {
   "cell_type": "code",
   "execution_count": 312,
   "id": "b2a679ce",
   "metadata": {},
   "outputs": [],
   "source": [
    "vectors_result_sel=[vectors[i] for i in results_sel]\n",
    "len_end = len(vectors_result_sel)\n",
    "pos1_end=nr+len_start\n",
    "pos2_end=nr+len_start+len_end"
   ]
  },
  {
   "cell_type": "code",
   "execution_count": 313,
   "id": "d19db0c5",
   "metadata": {},
   "outputs": [],
   "source": [
    "#end_points = tsne.fit_transform(tSNE_model,vectors_result_sel)"
   ]
  },
  {
   "cell_type": "code",
   "execution_count": 314,
   "id": "8b348c2a",
   "metadata": {},
   "outputs": [
    {
     "name": "stdout",
     "output_type": "stream",
     "text": [
      "[t-SNE] Computing 91 nearest neighbors...\n",
      "[t-SNE] Indexed 5018 samples in 0.001s...\n",
      "[t-SNE] Computed neighbors for 5018 samples in 0.917s...\n",
      "[t-SNE] Computed conditional probabilities for sample 1000 / 5018\n",
      "[t-SNE] Computed conditional probabilities for sample 2000 / 5018\n",
      "[t-SNE] Computed conditional probabilities for sample 3000 / 5018\n",
      "[t-SNE] Computed conditional probabilities for sample 4000 / 5018\n",
      "[t-SNE] Computed conditional probabilities for sample 5000 / 5018\n",
      "[t-SNE] Computed conditional probabilities for sample 5018 / 5018\n",
      "[t-SNE] Mean sigma: 0.182684\n",
      "[t-SNE] KL divergence after 100 iterations with early exaggeration: 88.317589\n",
      "[t-SNE] KL divergence after 1000 iterations: 2.765213\n"
     ]
    }
   ],
   "source": [
    "space = selected_embeddings+vectors_start_sel+vectors_result_sel\n",
    "\n",
    "trans_space = tsne.fit_transform(space)"
   ]
  },
  {
   "cell_type": "code",
   "execution_count": 315,
   "id": "94d61bbb",
   "metadata": {},
   "outputs": [
    {
     "data": {
      "image/png": "[encoded data removed]",
      "text/plain": [
       "<Figure size 432x288 with 1 Axes>"
      ]
     },
     "metadata": {
      "needs_background": "light"
     },
     "output_type": "display_data"
    }
   ],
   "source": [
    "plt.scatter(trans_space[pos1_start:pos2_start, 0], trans_space[pos1_start:pos2_start, 1], c='#bbbbbb', alpha=1)\n",
    "for label, x, y in zip(words_sel, trans_space[pos1_start:pos2_start, 0], trans_space[pos1_start:pos2_start, 1]):\n",
    "    plt.annotate(label, xy=(x, y), xytext=(5, 1), textcoords=\"offset points\")\n",
    "    \n",
    "plt.scatter(trans_space[pos1_end:pos2_end, 0], trans_space[pos1_end:pos2_end, 1], c='#dd3333', alpha=0.45)\n",
    "for label, x, y in zip(results_list, trans_space[pos1_end:pos2_end, 0], trans_space[pos1_end:pos2_end, 1]):\n",
    "    plt.annotate(label, xy=(x, y), xytext=(5, 1), textcoords=\"offset points\")   \n",
    "    \n",
    "plt.show()\n",
    "#d object can seem to collapse but they're not. cause we are downsampling the dimension to 2"
   ]
  },
  {
   "cell_type": "code",
   "execution_count": 316,
   "id": "8d74e6e5",
   "metadata": {},
   "outputs": [
    {
     "data": {
      "text/plain": [
       "[('genoa', 0.21028155088424683),\n",
       " ('bologna', 0.21674096584320068),\n",
       " ('naples', 0.24427741765975952),\n",
       " ('pisa', 0.26043444871902466),\n",
       " ('bergamo', 0.2650136351585388),\n",
       " ('palermo', 0.26965200901031494),\n",
       " ('ravenna', 0.286521315574646),\n",
       " ('brescia', 0.28866642713546753),\n",
       " ('arezzo', 0.2913787364959717),\n",
       " ('catania', 0.2916412949562073),\n",
       " ('rome', 0.3029777407646179),\n",
       " ('verona', 0.30579155683517456),\n",
       " ('italy', 0.3068803548812866),\n",
       " ('sivas', 0.3071025013923645),\n",
       " ('pavia', 0.30817562341690063)]"
      ]
     },
     "execution_count": 316,
     "metadata": {},
     "output_type": "execute_result"
    }
   ],
   "source": [
    "results = find_closest_embeddings_cosine(\n",
    "    embeddings_dict[\"bern\"]-embeddings_dict[\"switzerland\"]+embeddings_dict[\"italy\"]\n",
    ")[:15]\n",
    "list(results)"
   ]
  },
  {
   "cell_type": "markdown",
   "id": "3286d16a",
   "metadata": {},
   "source": [
    "You could repeat the same t-SNE tranformation of the space and then plotting, if you wpould like..."
   ]
  },
  {
   "cell_type": "markdown",
   "id": "8119e630",
   "metadata": {},
   "source": [
    "Other examples:"
   ]
  },
  {
   "cell_type": "code",
   "execution_count": 317,
   "id": "86f8e3e8",
   "metadata": {},
   "outputs": [
    {
     "name": "stdout",
     "output_type": "stream",
     "text": [
      "['frankfurt', 'berlin', 'munich', 'zurich', 'germany', 'cologne', 'stuttgart', 'hamburg', 'deutsche', 'vienna', 'bonn', 'warsaw', 'hanover', 'german', 'prague']\n"
     ]
    }
   ],
   "source": [
    "print(find_closest_embeddings(\n",
    "    embeddings_dict[\"zurich\"]-embeddings_dict[\"switzerland\"]+embeddings_dict[\"germany\"]\n",
    ")[:15])"
   ]
  },
  {
   "cell_type": "code",
   "execution_count": 318,
   "id": "457e7278",
   "metadata": {},
   "outputs": [
    {
     "name": "stdout",
     "output_type": "stream",
     "text": [
      "['lombardy', 'pavia', 'novara', 'macerata', 'lecco']\n"
     ]
    }
   ],
   "source": [
    "print(find_closest_embeddings(\n",
    "    embeddings_dict[\"zurich\"]-embeddings_dict[\"switzerland\"]+embeddings_dict[\"lombardy\"]\n",
    ")[:5])"
   ]
  },
  {
   "cell_type": "code",
   "execution_count": 319,
   "id": "c1caae24",
   "metadata": {},
   "outputs": [
    {
     "name": "stdout",
     "output_type": "stream",
     "text": [
      "['bride', 'surrogate', 'fiancee', 'newlyweds']\n"
     ]
    }
   ],
   "source": [
    "print(find_closest_embeddings(\n",
    "    embeddings_dict[\"groom\"]-embeddings_dict[\"man\"]+embeddings_dict[\"woman\"]\n",
    ")[1:5])"
   ]
  },
  {
   "cell_type": "markdown",
   "id": "59ae2054",
   "metadata": {},
   "source": [
    "### EXERCISE 1"
   ]
  },
  {
   "cell_type": "markdown",
   "id": "6929c7ec",
   "metadata": {},
   "source": [
    "1) Compute the embeddings for different mayor cities in Switzerland (eg: Zürich, Bern, Lausanne, ...) using the largest GLoVe model avaiable (glove.6B.300d.txt)  #d using the model with 300 dimension\n",
    "\n",
    "2) Plot out their relative position using [t-SNE](https://en.wikipedia.org/wiki/T-distributed_stochastic_neighbor_embedding) \n",
    "\n",
    "3) Compute the embeddings for different Countries (including Switzerland) and print them in the same t-SNE space (as from point 2) \n",
    "\n",
    "What can you observe?"
   ]
  },
  {
   "cell_type": "markdown",
   "id": "4f09a1ac",
   "metadata": {},
   "source": [
    "## ELMO"
   ]
  },
  {
   "cell_type": "markdown",
   "id": "0595ac12",
   "metadata": {},
   "source": [
    "https://allennlp.org/elmo"
   ]
  },
  {
   "cell_type": "markdown",
   "id": "09b1bd6d",
   "metadata": {},
   "source": [
    "deep contextualized word representation"
   ]
  },
  {
   "cell_type": "markdown",
   "id": "c8168687",
   "metadata": {},
   "source": [
    "ELMo model generates embeddings for a word based on the context it appears thus generating slightly different embeddings for each of its occurrence."
   ]
  },
  {
   "cell_type": "code",
   "execution_count": 221,
   "id": "c38807a2",
   "metadata": {},
   "outputs": [
    {
     "name": "stdout",
     "output_type": "stream",
     "text": [
      "Requirement already satisfied: allennlp in c:\\users\\jumpstart\\appdata\\local\\programs\\python\\python39\\lib\\site-packages (2.8.0)\n",
      "Requirement already satisfied: torch<1.11.0,>=1.6.0 in c:\\users\\jumpstart\\appdata\\local\\programs\\python\\python39\\lib\\site-packages (from allennlp) (1.10.0)\n",
      "Requirement already satisfied: tensorboardX>=1.2 in c:\\users\\jumpstart\\appdata\\local\\programs\\python\\python39\\lib\\site-packages (from allennlp) (2.4)\n",
      "Requirement already satisfied: fairscale==0.4.0 in c:\\users\\jumpstart\\appdata\\local\\programs\\python\\python39\\lib\\site-packages (from allennlp) (0.4.0)\n",
      "Requirement already satisfied: sqlitedict in c:\\users\\jumpstart\\appdata\\local\\programs\\python\\python39\\lib\\site-packages (from allennlp) (1.7.0)\n",
      "Requirement already satisfied: base58 in c:\\users\\jumpstart\\appdata\\local\\programs\\python\\python39\\lib\\site-packages (from allennlp) (2.1.1)\n",
      "Requirement already satisfied: spacy<3.2,>=2.1.0 in c:\\users\\jumpstart\\appdata\\local\\programs\\python\\python39\\lib\\site-packages (from allennlp) (3.1.3)\n",
      "Requirement already satisfied: sentencepiece in c:\\users\\jumpstart\\appdata\\local\\programs\\python\\python39\\lib\\site-packages (from allennlp) (0.1.95)\n",
      "Requirement already satisfied: torchvision<0.12.0,>=0.8.1 in c:\\users\\jumpstart\\appdata\\local\\programs\\python\\python39\\lib\\site-packages (from allennlp) (0.11.1)\n",
      "Requirement already satisfied: nltk in c:\\users\\jumpstart\\appdata\\local\\programs\\python\\python39\\lib\\site-packages (from allennlp) (3.6.3)\n",
      "Requirement already satisfied: scikit-learn in c:\\users\\jumpstart\\appdata\\local\\programs\\python\\python39\\lib\\site-packages (from allennlp) (0.24.2)\n",
      "Requirement already satisfied: checklist==0.0.11 in c:\\users\\jumpstart\\appdata\\local\\programs\\python\\python39\\lib\\site-packages (from allennlp) (0.0.11)\n",
      "Requirement already satisfied: tqdm>=4.19 in c:\\users\\jumpstart\\appdata\\local\\programs\\python\\python39\\lib\\site-packages (from allennlp) (4.62.3)\n",
      "Requirement already satisfied: numpy in c:\\users\\jumpstart\\appdata\\local\\programs\\python\\python39\\lib\\site-packages (from allennlp) (1.19.5)\n",
      "Requirement already satisfied: h5py in c:\\users\\jumpstart\\appdata\\local\\programs\\python\\python39\\lib\\site-packages (from allennlp) (3.1.0)\n",
      "Requirement already satisfied: pytest in c:\\users\\jumpstart\\appdata\\local\\programs\\python\\python39\\lib\\site-packages (from allennlp) (6.2.5)\n",
      "Requirement already satisfied: wandb<0.13.0,>=0.10.0 in c:\\users\\jumpstart\\appdata\\local\\programs\\python\\python39\\lib\\site-packages (from allennlp) (0.12.6)\n",
      "Requirement already satisfied: more-itertools in c:\\users\\jumpstart\\appdata\\local\\programs\\python\\python39\\lib\\site-packages (from allennlp) (8.11.0)\n",
      "Requirement already satisfied: lmdb in c:\\users\\jumpstart\\appdata\\local\\programs\\python\\python39\\lib\\site-packages (from allennlp) (1.2.1)\n",
      "Requirement already satisfied: requests>=2.18 in c:\\users\\jumpstart\\appdata\\local\\programs\\python\\python39\\lib\\site-packages (from allennlp) (2.26.0)\n",
      "Requirement already satisfied: scipy in c:\\users\\jumpstart\\appdata\\local\\programs\\python\\python39\\lib\\site-packages (from allennlp) (1.7.1)\n",
      "Requirement already satisfied: huggingface-hub>=0.0.16 in c:\\users\\jumpstart\\appdata\\local\\programs\\python\\python39\\lib\\site-packages (from allennlp) (0.1.0)\n",
      "Requirement already satisfied: filelock<3.4,>=3.3 in c:\\users\\jumpstart\\appdata\\local\\programs\\python\\python39\\lib\\site-packages (from allennlp) (3.3.2)\n",
      "Requirement already satisfied: termcolor==1.1.0 in c:\\users\\jumpstart\\appdata\\local\\programs\\python\\python39\\lib\\site-packages (from allennlp) (1.1.0)\n",
      "Requirement already satisfied: overrides==3.1.0 in c:\\users\\jumpstart\\appdata\\local\\programs\\python\\python39\\lib\\site-packages (from allennlp) (3.1.0)\n",
      "Requirement already satisfied: dill in c:\\users\\jumpstart\\appdata\\local\\programs\\python\\python39\\lib\\site-packages (from allennlp) (0.3.4)\n",
      "Requirement already satisfied: datasets<2.0,>=1.2.1 in c:\\users\\jumpstart\\appdata\\local\\programs\\python\\python39\\lib\\site-packages (from allennlp) (1.15.1)\n",
      "Requirement already satisfied: cached-path<0.4.0,>=0.3.1 in c:\\users\\jumpstart\\appdata\\local\\programs\\python\\python39\\lib\\site-packages (from allennlp) (0.3.2)\n",
      "Requirement already satisfied: transformers<4.13,>=4.1 in c:\\users\\jumpstart\\appdata\\local\\programs\\python\\python39\\lib\\site-packages (from allennlp) (4.12.3)\n",
      "Requirement already satisfied: patternfork-nosql in c:\\users\\jumpstart\\appdata\\local\\programs\\python\\python39\\lib\\site-packages (from checklist==0.0.11->allennlp) (3.6)\n",
      "Requirement already satisfied: jupyter>=1.0 in c:\\users\\jumpstart\\appdata\\local\\programs\\python\\python39\\lib\\site-packages (from checklist==0.0.11->allennlp) (1.0.0)\n",
      "Requirement already satisfied: munch>=2.5 in c:\\users\\jumpstart\\appdata\\local\\programs\\python\\python39\\lib\\site-packages (from checklist==0.0.11->allennlp) (2.5.0)\n",
      "Requirement already satisfied: ipywidgets>=7.5 in c:\\users\\jumpstart\\appdata\\local\\programs\\python\\python39\\lib\\site-packages (from checklist==0.0.11->allennlp) (7.6.4)\n",
      "Requirement already satisfied: iso-639 in c:\\users\\jumpstart\\appdata\\local\\programs\\python\\python39\\lib\\site-packages (from checklist==0.0.11->allennlp) (0.4.5)\n",
      "Requirement already satisfied: google-cloud-storage<2.0,>=1.0 in c:\\users\\jumpstart\\appdata\\local\\programs\\python\\python39\\lib\\site-packages (from cached-path<0.4.0,>=0.3.1->allennlp) (1.42.3)\n",
      "Requirement already satisfied: boto3<2.0,>=1.0 in c:\\users\\jumpstart\\appdata\\local\\programs\\python\\python39\\lib\\site-packages (from cached-path<0.4.0,>=0.3.1->allennlp) (1.20.3)\n",
      "Requirement already satisfied: packaging in c:\\users\\jumpstart\\appdata\\local\\programs\\python\\python39\\lib\\site-packages (from datasets<2.0,>=1.2.1->allennlp) (21.0)\n",
      "Requirement already satisfied: fsspec[http]>=2021.05.0 in c:\\users\\jumpstart\\appdata\\local\\programs\\python\\python39\\lib\\site-packages (from datasets<2.0,>=1.2.1->allennlp) (2021.11.0)\n",
      "Requirement already satisfied: multiprocess in c:\\users\\jumpstart\\appdata\\local\\programs\\python\\python39\\lib\\site-packages (from datasets<2.0,>=1.2.1->allennlp) (0.70.12.2)\n",
      "Requirement already satisfied: pyarrow!=4.0.0,>=1.0.0 in c:\\users\\jumpstart\\appdata\\local\\programs\\python\\python39\\lib\\site-packages (from datasets<2.0,>=1.2.1->allennlp) (6.0.0)\n",
      "Requirement already satisfied: aiohttp in c:\\users\\jumpstart\\appdata\\local\\programs\\python\\python39\\lib\\site-packages (from datasets<2.0,>=1.2.1->allennlp) (3.8.0)\n",
      "Requirement already satisfied: pandas in c:\\users\\jumpstart\\appdata\\local\\programs\\python\\python39\\lib\\site-packages (from datasets<2.0,>=1.2.1->allennlp) (1.3.3)\n",
      "Requirement already satisfied: xxhash in c:\\users\\jumpstart\\appdata\\local\\programs\\python\\python39\\lib\\site-packages (from datasets<2.0,>=1.2.1->allennlp) (2.0.2)\n",
      "Requirement already satisfied: pyyaml in c:\\users\\jumpstart\\appdata\\local\\programs\\python\\python39\\lib\\site-packages (from huggingface-hub>=0.0.16->allennlp) (5.4.1)\n",
      "Requirement already satisfied: typing-extensions in c:\\users\\jumpstart\\appdata\\local\\programs\\python\\python39\\lib\\site-packages (from huggingface-hub>=0.0.16->allennlp) (3.7.4.3)\n",
      "Requirement already satisfied: charset-normalizer~=2.0.0 in c:\\users\\jumpstart\\appdata\\local\\programs\\python\\python39\\lib\\site-packages (from requests>=2.18->allennlp) (2.0.4)\n",
      "Requirement already satisfied: certifi>=2017.4.17 in c:\\users\\jumpstart\\appdata\\local\\programs\\python\\python39\\lib\\site-packages (from requests>=2.18->allennlp) (2021.5.30)\n",
      "Requirement already satisfied: urllib3<1.27,>=1.21.1 in c:\\users\\jumpstart\\appdata\\local\\programs\\python\\python39\\lib\\site-packages (from requests>=2.18->allennlp) (1.26.6)\n",
      "Requirement already satisfied: idna<4,>=2.5 in c:\\users\\jumpstart\\appdata\\local\\programs\\python\\python39\\lib\\site-packages (from requests>=2.18->allennlp) (3.2)\n",
      "Requirement already satisfied: cymem<2.1.0,>=2.0.2 in c:\\users\\jumpstart\\appdata\\local\\programs\\python\\python39\\lib\\site-packages (from spacy<3.2,>=2.1.0->allennlp) (2.0.6)\n",
      "Requirement already satisfied: murmurhash<1.1.0,>=0.28.0 in c:\\users\\jumpstart\\appdata\\local\\programs\\python\\python39\\lib\\site-packages (from spacy<3.2,>=2.1.0->allennlp) (1.0.6)\n",
      "Requirement already satisfied: spacy-legacy<3.1.0,>=3.0.8 in c:\\users\\jumpstart\\appdata\\local\\programs\\python\\python39\\lib\\site-packages (from spacy<3.2,>=2.1.0->allennlp) (3.0.8)\n",
      "Requirement already satisfied: preshed<3.1.0,>=3.0.2 in c:\\users\\jumpstart\\appdata\\local\\programs\\python\\python39\\lib\\site-packages (from spacy<3.2,>=2.1.0->allennlp) (3.0.6)\n",
      "Requirement already satisfied: blis<0.8.0,>=0.4.0 in c:\\users\\jumpstart\\appdata\\local\\programs\\python\\python39\\lib\\site-packages (from spacy<3.2,>=2.1.0->allennlp) (0.7.5)\n",
      "Requirement already satisfied: catalogue<2.1.0,>=2.0.6 in c:\\users\\jumpstart\\appdata\\local\\programs\\python\\python39\\lib\\site-packages (from spacy<3.2,>=2.1.0->allennlp) (2.0.6)\n",
      "Requirement already satisfied: wasabi<1.1.0,>=0.8.1 in c:\\users\\jumpstart\\appdata\\local\\programs\\python\\python39\\lib\\site-packages (from spacy<3.2,>=2.1.0->allennlp) (0.8.2)\n",
      "Requirement already satisfied: typer<0.5.0,>=0.3.0 in c:\\users\\jumpstart\\appdata\\local\\programs\\python\\python39\\lib\\site-packages (from spacy<3.2,>=2.1.0->allennlp) (0.4.0)\n",
      "Requirement already satisfied: srsly<3.0.0,>=2.4.1 in c:\\users\\jumpstart\\appdata\\local\\programs\\python\\python39\\lib\\site-packages (from spacy<3.2,>=2.1.0->allennlp) (2.4.2)\n",
      "Requirement already satisfied: pydantic!=1.8,!=1.8.1,<1.9.0,>=1.7.4 in c:\\users\\jumpstart\\appdata\\local\\programs\\python\\python39\\lib\\site-packages (from spacy<3.2,>=2.1.0->allennlp) (1.8.2)\n",
      "Requirement already satisfied: setuptools in c:\\users\\jumpstart\\appdata\\local\\programs\\python\\python39\\lib\\site-packages (from spacy<3.2,>=2.1.0->allennlp) (57.4.0)\n",
      "Requirement already satisfied: jinja2 in c:\\users\\jumpstart\\appdata\\local\\programs\\python\\python39\\lib\\site-packages (from spacy<3.2,>=2.1.0->allennlp) (3.0.1)\n",
      "Requirement already satisfied: thinc<8.1.0,>=8.0.9 in c:\\users\\jumpstart\\appdata\\local\\programs\\python\\python39\\lib\\site-packages (from spacy<3.2,>=2.1.0->allennlp) (8.0.11)\n",
      "Requirement already satisfied: pathy>=0.3.5 in c:\\users\\jumpstart\\appdata\\local\\programs\\python\\python39\\lib\\site-packages (from spacy<3.2,>=2.1.0->allennlp) (0.6.0)\n",
      "Requirement already satisfied: protobuf>=3.8.0 in c:\\users\\jumpstart\\appdata\\local\\programs\\python\\python39\\lib\\site-packages (from tensorboardX>=1.2->allennlp) (3.17.3)\n",
      "Requirement already satisfied: pillow!=8.3.0,>=5.3.0 in c:\\users\\jumpstart\\appdata\\local\\programs\\python\\python39\\lib\\site-packages (from torchvision<0.12.0,>=0.8.1->allennlp) (8.3.2)\n",
      "Requirement already satisfied: colorama in c:\\users\\jumpstart\\appdata\\local\\programs\\python\\python39\\lib\\site-packages (from tqdm>=4.19->allennlp) (0.4.4)\n",
      "Requirement already satisfied: tokenizers<0.11,>=0.10.1 in c:\\users\\jumpstart\\appdata\\local\\programs\\python\\python39\\lib\\site-packages (from transformers<4.13,>=4.1->allennlp) (0.10.3)\n",
      "Requirement already satisfied: sacremoses in c:\\users\\jumpstart\\appdata\\local\\programs\\python\\python39\\lib\\site-packages (from transformers<4.13,>=4.1->allennlp) (0.0.46)\n",
      "Requirement already satisfied: regex!=2019.12.17 in c:\\users\\jumpstart\\appdata\\local\\programs\\python\\python39\\lib\\site-packages (from transformers<4.13,>=4.1->allennlp) (2021.9.30)\n",
      "Requirement already satisfied: docker-pycreds>=0.4.0 in c:\\users\\jumpstart\\appdata\\local\\programs\\python\\python39\\lib\\site-packages (from wandb<0.13.0,>=0.10.0->allennlp) (0.4.0)\n",
      "Requirement already satisfied: GitPython>=1.0.0 in c:\\users\\jumpstart\\appdata\\local\\programs\\python\\python39\\lib\\site-packages (from wandb<0.13.0,>=0.10.0->allennlp) (3.1.24)\n",
      "Requirement already satisfied: Click!=8.0.0,>=7.0 in c:\\users\\jumpstart\\appdata\\local\\programs\\python\\python39\\lib\\site-packages (from wandb<0.13.0,>=0.10.0->allennlp) (8.0.1)\n",
      "Requirement already satisfied: promise<3,>=2.0 in c:\\users\\jumpstart\\appdata\\local\\programs\\python\\python39\\lib\\site-packages (from wandb<0.13.0,>=0.10.0->allennlp) (2.3)\n",
      "Requirement already satisfied: six>=1.13.0 in c:\\users\\jumpstart\\appdata\\local\\programs\\python\\python39\\lib\\site-packages (from wandb<0.13.0,>=0.10.0->allennlp) (1.15.0)\n",
      "Requirement already satisfied: configparser>=3.8.1 in c:\\users\\jumpstart\\appdata\\local\\programs\\python\\python39\\lib\\site-packages (from wandb<0.13.0,>=0.10.0->allennlp) (5.1.0)\n",
      "Requirement already satisfied: yaspin>=1.0.0 in c:\\users\\jumpstart\\appdata\\local\\programs\\python\\python39\\lib\\site-packages (from wandb<0.13.0,>=0.10.0->allennlp) (2.1.0)\n",
      "Requirement already satisfied: sentry-sdk>=1.0.0 in c:\\users\\jumpstart\\appdata\\local\\programs\\python\\python39\\lib\\site-packages (from wandb<0.13.0,>=0.10.0->allennlp) (1.4.3)\n",
      "Requirement already satisfied: subprocess32>=3.5.3 in c:\\users\\jumpstart\\appdata\\local\\programs\\python\\python39\\lib\\site-packages (from wandb<0.13.0,>=0.10.0->allennlp) (3.5.4)\n",
      "Requirement already satisfied: shortuuid>=0.5.0 in c:\\users\\jumpstart\\appdata\\local\\programs\\python\\python39\\lib\\site-packages (from wandb<0.13.0,>=0.10.0->allennlp) (1.0.7)\n",
      "Requirement already satisfied: psutil>=5.0.0 in c:\\users\\jumpstart\\appdata\\local\\programs\\python\\python39\\lib\\site-packages (from wandb<0.13.0,>=0.10.0->allennlp) (5.8.0)\n",
      "Requirement already satisfied: python-dateutil>=2.6.1 in c:\\users\\jumpstart\\appdata\\local\\programs\\python\\python39\\lib\\site-packages (from wandb<0.13.0,>=0.10.0->allennlp) (2.8.2)\n",
      "Requirement already satisfied: pathtools in c:\\users\\jumpstart\\appdata\\local\\programs\\python\\python39\\lib\\site-packages (from wandb<0.13.0,>=0.10.0->allennlp) (0.1.2)\n",
      "Requirement already satisfied: joblib in c:\\users\\jumpstart\\appdata\\local\\programs\\python\\python39\\lib\\site-packages (from nltk->allennlp) (1.0.1)\n",
      "Requirement already satisfied: iniconfig in c:\\users\\jumpstart\\appdata\\local\\programs\\python\\python39\\lib\\site-packages (from pytest->allennlp) (1.1.1)\n",
      "Requirement already satisfied: py>=1.8.2 in c:\\users\\jumpstart\\appdata\\local\\programs\\python\\python39\\lib\\site-packages (from pytest->allennlp) (1.11.0)\n",
      "Requirement already satisfied: atomicwrites>=1.0 in c:\\users\\jumpstart\\appdata\\local\\programs\\python\\python39\\lib\\site-packages (from pytest->allennlp) (1.4.0)\n",
      "Requirement already satisfied: toml in c:\\users\\jumpstart\\appdata\\local\\programs\\python\\python39\\lib\\site-packages (from pytest->allennlp) (0.10.2)\n",
      "Requirement already satisfied: attrs>=19.2.0 in c:\\users\\jumpstart\\appdata\\local\\programs\\python\\python39\\lib\\site-packages (from pytest->allennlp) (21.2.0)\n",
      "Requirement already satisfied: pluggy<2.0,>=0.12 in c:\\users\\jumpstart\\appdata\\local\\programs\\python\\python39\\lib\\site-packages (from pytest->allennlp) (1.0.0)\n",
      "Requirement already satisfied: threadpoolctl>=2.0.0 in c:\\users\\jumpstart\\appdata\\local\\programs\\python\\python39\\lib\\site-packages (from scikit-learn->allennlp) (2.2.0)\n",
      "Requirement already satisfied: jmespath<1.0.0,>=0.7.1 in c:\\users\\jumpstart\\appdata\\local\\programs\\python\\python39\\lib\\site-packages (from boto3<2.0,>=1.0->cached-path<0.4.0,>=0.3.1->allennlp) (0.10.0)\n",
      "Requirement already satisfied: botocore<1.24.0,>=1.23.3 in c:\\users\\jumpstart\\appdata\\local\\programs\\python\\python39\\lib\\site-packages (from boto3<2.0,>=1.0->cached-path<0.4.0,>=0.3.1->allennlp) (1.23.3)\n",
      "Requirement already satisfied: s3transfer<0.6.0,>=0.5.0 in c:\\users\\jumpstart\\appdata\\local\\programs\\python\\python39\\lib\\site-packages (from boto3<2.0,>=1.0->cached-path<0.4.0,>=0.3.1->allennlp) (0.5.0)\n",
      "Requirement already satisfied: gitdb<5,>=4.0.1 in c:\\users\\jumpstart\\appdata\\local\\programs\\python\\python39\\lib\\site-packages (from GitPython>=1.0.0->wandb<0.13.0,>=0.10.0->allennlp) (4.0.9)\n",
      "Requirement already satisfied: google-cloud-core<3.0dev,>=1.6.0 in c:\\users\\jumpstart\\appdata\\local\\programs\\python\\python39\\lib\\site-packages (from google-cloud-storage<2.0,>=1.0->cached-path<0.4.0,>=0.3.1->allennlp) (2.2.1)\n",
      "Requirement already satisfied: google-api-core<3.0dev,>=1.29.0 in c:\\users\\jumpstart\\appdata\\local\\programs\\python\\python39\\lib\\site-packages (from google-cloud-storage<2.0,>=1.0->cached-path<0.4.0,>=0.3.1->allennlp) (2.2.2)\n",
      "Requirement already satisfied: google-auth<3.0dev,>=1.25.0 in c:\\users\\jumpstart\\appdata\\local\\programs\\python\\python39\\lib\\site-packages (from google-cloud-storage<2.0,>=1.0->cached-path<0.4.0,>=0.3.1->allennlp) (1.35.0)\n",
      "Requirement already satisfied: google-resumable-media<3.0dev,>=1.3.0 in c:\\users\\jumpstart\\appdata\\local\\programs\\python\\python39\\lib\\site-packages (from google-cloud-storage<2.0,>=1.0->cached-path<0.4.0,>=0.3.1->allennlp) (2.1.0)\n",
      "Requirement already satisfied: ipython>=4.0.0 in c:\\users\\jumpstart\\appdata\\local\\programs\\python\\python39\\lib\\site-packages (from ipywidgets>=7.5->checklist==0.0.11->allennlp) (7.27.0)\n",
      "Requirement already satisfied: traitlets>=4.3.1 in c:\\users\\jumpstart\\appdata\\local\\programs\\python\\python39\\lib\\site-packages (from ipywidgets>=7.5->checklist==0.0.11->allennlp) (5.1.0)\n",
      "Requirement already satisfied: ipykernel>=4.5.1 in c:\\users\\jumpstart\\appdata\\local\\programs\\python\\python39\\lib\\site-packages (from ipywidgets>=7.5->checklist==0.0.11->allennlp) (6.3.1)\n",
      "Requirement already satisfied: widgetsnbextension~=3.5.0 in c:\\users\\jumpstart\\appdata\\local\\programs\\python\\python39\\lib\\site-packages (from ipywidgets>=7.5->checklist==0.0.11->allennlp) (3.5.1)\n",
      "Requirement already satisfied: ipython-genutils~=0.2.0 in c:\\users\\jumpstart\\appdata\\local\\programs\\python\\python39\\lib\\site-packages (from ipywidgets>=7.5->checklist==0.0.11->allennlp) (0.2.0)\n",
      "Requirement already satisfied: nbformat>=4.2.0 in c:\\users\\jumpstart\\appdata\\local\\programs\\python\\python39\\lib\\site-packages (from ipywidgets>=7.5->checklist==0.0.11->allennlp) (5.1.3)\n",
      "Requirement already satisfied: jupyterlab-widgets>=1.0.0 in c:\\users\\jumpstart\\appdata\\local\\programs\\python\\python39\\lib\\site-packages (from ipywidgets>=7.5->checklist==0.0.11->allennlp) (1.0.1)\n",
      "Requirement already satisfied: jupyter-console in c:\\users\\jumpstart\\appdata\\local\\programs\\python\\python39\\lib\\site-packages (from jupyter>=1.0->checklist==0.0.11->allennlp) (6.4.0)\n",
      "Requirement already satisfied: qtconsole in c:\\users\\jumpstart\\appdata\\local\\programs\\python\\python39\\lib\\site-packages (from jupyter>=1.0->checklist==0.0.11->allennlp) (5.1.1)\n",
      "Requirement already satisfied: notebook in c:\\users\\jumpstart\\appdata\\local\\programs\\python\\python39\\lib\\site-packages (from jupyter>=1.0->checklist==0.0.11->allennlp) (6.4.3)\n",
      "Requirement already satisfied: nbconvert in c:\\users\\jumpstart\\appdata\\local\\programs\\python\\python39\\lib\\site-packages (from jupyter>=1.0->checklist==0.0.11->allennlp) (6.1.0)\n",
      "Requirement already satisfied: pyparsing>=2.0.2 in c:\\users\\jumpstart\\appdata\\local\\programs\\python\\python39\\lib\\site-packages (from packaging->datasets<2.0,>=1.2.1->allennlp) (2.4.7)\n",
      "Requirement already satisfied: smart-open<6.0.0,>=5.0.0 in c:\\users\\jumpstart\\appdata\\local\\programs\\python\\python39\\lib\\site-packages (from pathy>=0.3.5->spacy<3.2,>=2.1.0->allennlp) (5.2.1)\n",
      "Requirement already satisfied: yarl<2.0,>=1.0 in c:\\users\\jumpstart\\appdata\\local\\programs\\python\\python39\\lib\\site-packages (from aiohttp->datasets<2.0,>=1.2.1->allennlp) (1.7.2)\n",
      "Requirement already satisfied: multidict<7.0,>=4.5 in c:\\users\\jumpstart\\appdata\\local\\programs\\python\\python39\\lib\\site-packages (from aiohttp->datasets<2.0,>=1.2.1->allennlp) (5.2.0)\n",
      "Requirement already satisfied: aiosignal>=1.1.2 in c:\\users\\jumpstart\\appdata\\local\\programs\\python\\python39\\lib\\site-packages (from aiohttp->datasets<2.0,>=1.2.1->allennlp) (1.2.0)\n",
      "Requirement already satisfied: frozenlist>=1.1.1 in c:\\users\\jumpstart\\appdata\\local\\programs\\python\\python39\\lib\\site-packages (from aiohttp->datasets<2.0,>=1.2.1->allennlp) (1.2.0)\n",
      "Requirement already satisfied: async-timeout<5.0,>=4.0.0a3 in c:\\users\\jumpstart\\appdata\\local\\programs\\python\\python39\\lib\\site-packages (from aiohttp->datasets<2.0,>=1.2.1->allennlp) (4.0.1)\n",
      "Requirement already satisfied: MarkupSafe>=2.0 in c:\\users\\jumpstart\\appdata\\local\\programs\\python\\python39\\lib\\site-packages (from jinja2->spacy<3.2,>=2.1.0->allennlp) (2.0.1)\n",
      "Requirement already satisfied: pytz>=2017.3 in c:\\users\\jumpstart\\appdata\\local\\programs\\python\\python39\\lib\\site-packages (from pandas->datasets<2.0,>=1.2.1->allennlp) (2021.1)\n",
      "Requirement already satisfied: backports.csv in c:\\users\\jumpstart\\appdata\\local\\programs\\python\\python39\\lib\\site-packages (from patternfork-nosql->checklist==0.0.11->allennlp) (1.0.7)\n",
      "Requirement already satisfied: lxml in c:\\users\\jumpstart\\appdata\\local\\programs\\python\\python39\\lib\\site-packages (from patternfork-nosql->checklist==0.0.11->allennlp) (4.6.4)\n",
      "Requirement already satisfied: python-docx in c:\\users\\jumpstart\\appdata\\local\\programs\\python\\python39\\lib\\site-packages (from patternfork-nosql->checklist==0.0.11->allennlp) (0.8.11)\n",
      "Requirement already satisfied: beautifulsoup4 in c:\\users\\jumpstart\\appdata\\local\\programs\\python\\python39\\lib\\site-packages (from patternfork-nosql->checklist==0.0.11->allennlp) (4.10.0)\n",
      "Requirement already satisfied: feedparser in c:\\users\\jumpstart\\appdata\\local\\programs\\python\\python39\\lib\\site-packages (from patternfork-nosql->checklist==0.0.11->allennlp) (6.0.8)\n",
      "Requirement already satisfied: cherrypy in c:\\users\\jumpstart\\appdata\\local\\programs\\python\\python39\\lib\\site-packages (from patternfork-nosql->checklist==0.0.11->allennlp) (18.6.1)\n",
      "Requirement already satisfied: future in c:\\users\\jumpstart\\appdata\\local\\programs\\python\\python39\\lib\\site-packages (from patternfork-nosql->checklist==0.0.11->allennlp) (0.18.2)\n",
      "Requirement already satisfied: pdfminer.six in c:\\users\\jumpstart\\appdata\\local\\programs\\python\\python39\\lib\\site-packages (from patternfork-nosql->checklist==0.0.11->allennlp) (20211012)\n",
      "Requirement already satisfied: smmap<6,>=3.0.1 in c:\\users\\jumpstart\\appdata\\local\\programs\\python\\python39\\lib\\site-packages (from gitdb<5,>=4.0.1->GitPython>=1.0.0->wandb<0.13.0,>=0.10.0->allennlp) (5.0.0)\n",
      "Requirement already satisfied: googleapis-common-protos<2.0dev,>=1.52.0 in c:\\users\\jumpstart\\appdata\\local\\programs\\python\\python39\\lib\\site-packages (from google-api-core<3.0dev,>=1.29.0->google-cloud-storage<2.0,>=1.0->cached-path<0.4.0,>=0.3.1->allennlp) (1.53.0)\n",
      "Requirement already satisfied: cachetools<5.0,>=2.0.0 in c:\\users\\jumpstart\\appdata\\local\\programs\\python\\python39\\lib\\site-packages (from google-auth<3.0dev,>=1.25.0->google-cloud-storage<2.0,>=1.0->cached-path<0.4.0,>=0.3.1->allennlp) (4.2.2)\n",
      "Requirement already satisfied: pyasn1-modules>=0.2.1 in c:\\users\\jumpstart\\appdata\\local\\programs\\python\\python39\\lib\\site-packages (from google-auth<3.0dev,>=1.25.0->google-cloud-storage<2.0,>=1.0->cached-path<0.4.0,>=0.3.1->allennlp) (0.2.8)\n",
      "Requirement already satisfied: rsa<5,>=3.1.4 in c:\\users\\jumpstart\\appdata\\local\\programs\\python\\python39\\lib\\site-packages (from google-auth<3.0dev,>=1.25.0->google-cloud-storage<2.0,>=1.0->cached-path<0.4.0,>=0.3.1->allennlp) (4.7.2)\n",
      "Requirement already satisfied: google-crc32c<2.0dev,>=1.0 in c:\\users\\jumpstart\\appdata\\local\\programs\\python\\python39\\lib\\site-packages (from google-resumable-media<3.0dev,>=1.3.0->google-cloud-storage<2.0,>=1.0->cached-path<0.4.0,>=0.3.1->allennlp) (1.3.0)\n",
      "Requirement already satisfied: jupyter-client<8.0 in c:\\users\\jumpstart\\appdata\\local\\programs\\python\\python39\\lib\\site-packages (from ipykernel>=4.5.1->ipywidgets>=7.5->checklist==0.0.11->allennlp) (7.0.2)\n",
      "Requirement already satisfied: tornado<7.0,>=4.2 in c:\\users\\jumpstart\\appdata\\local\\programs\\python\\python39\\lib\\site-packages (from ipykernel>=4.5.1->ipywidgets>=7.5->checklist==0.0.11->allennlp) (6.1)\n",
      "Requirement already satisfied: matplotlib-inline<0.2.0,>=0.1.0 in c:\\users\\jumpstart\\appdata\\local\\programs\\python\\python39\\lib\\site-packages (from ipykernel>=4.5.1->ipywidgets>=7.5->checklist==0.0.11->allennlp) (0.1.3)\n",
      "Requirement already satisfied: debugpy<2.0,>=1.0.0 in c:\\users\\jumpstart\\appdata\\local\\programs\\python\\python39\\lib\\site-packages (from ipykernel>=4.5.1->ipywidgets>=7.5->checklist==0.0.11->allennlp) (1.4.1)\n",
      "Requirement already satisfied: decorator in c:\\users\\jumpstart\\appdata\\local\\programs\\python\\python39\\lib\\site-packages (from ipython>=4.0.0->ipywidgets>=7.5->checklist==0.0.11->allennlp) (5.0.9)\n",
      "Requirement already satisfied: jedi>=0.16 in c:\\users\\jumpstart\\appdata\\local\\programs\\python\\python39\\lib\\site-packages (from ipython>=4.0.0->ipywidgets>=7.5->checklist==0.0.11->allennlp) (0.18.0)\n",
      "Requirement already satisfied: pickleshare in c:\\users\\jumpstart\\appdata\\local\\programs\\python\\python39\\lib\\site-packages (from ipython>=4.0.0->ipywidgets>=7.5->checklist==0.0.11->allennlp) (0.7.5)\n",
      "Requirement already satisfied: pygments in c:\\users\\jumpstart\\appdata\\local\\programs\\python\\python39\\lib\\site-packages (from ipython>=4.0.0->ipywidgets>=7.5->checklist==0.0.11->allennlp) (2.10.0)\n",
      "Requirement already satisfied: prompt-toolkit!=3.0.0,!=3.0.1,<3.1.0,>=2.0.0 in c:\\users\\jumpstart\\appdata\\local\\programs\\python\\python39\\lib\\site-packages (from ipython>=4.0.0->ipywidgets>=7.5->checklist==0.0.11->allennlp) (3.0.20)\n",
      "Requirement already satisfied: backcall in c:\\users\\jumpstart\\appdata\\local\\programs\\python\\python39\\lib\\site-packages (from ipython>=4.0.0->ipywidgets>=7.5->checklist==0.0.11->allennlp) (0.2.0)\n",
      "Requirement already satisfied: jsonschema!=2.5.0,>=2.4 in c:\\users\\jumpstart\\appdata\\local\\programs\\python\\python39\\lib\\site-packages (from nbformat>=4.2.0->ipywidgets>=7.5->checklist==0.0.11->allennlp) (3.2.0)\n",
      "Requirement already satisfied: jupyter-core in c:\\users\\jumpstart\\appdata\\local\\programs\\python\\python39\\lib\\site-packages (from nbformat>=4.2.0->ipywidgets>=7.5->checklist==0.0.11->allennlp) (4.7.1)\n",
      "Requirement already satisfied: pyzmq>=17 in c:\\users\\jumpstart\\appdata\\local\\programs\\python\\python39\\lib\\site-packages (from notebook->jupyter>=1.0->checklist==0.0.11->allennlp) (22.2.1)\n",
      "Requirement already satisfied: Send2Trash>=1.5.0 in c:\\users\\jumpstart\\appdata\\local\\programs\\python\\python39\\lib\\site-packages (from notebook->jupyter>=1.0->checklist==0.0.11->allennlp) (1.8.0)\n",
      "Requirement already satisfied: prometheus-client in c:\\users\\jumpstart\\appdata\\local\\programs\\python\\python39\\lib\\site-packages (from notebook->jupyter>=1.0->checklist==0.0.11->allennlp) (0.11.0)\n",
      "Requirement already satisfied: terminado>=0.8.3 in c:\\users\\jumpstart\\appdata\\local\\programs\\python\\python39\\lib\\site-packages (from notebook->jupyter>=1.0->checklist==0.0.11->allennlp) (0.12.1)\n",
      "Requirement already satisfied: argon2-cffi in c:\\users\\jumpstart\\appdata\\local\\programs\\python\\python39\\lib\\site-packages (from notebook->jupyter>=1.0->checklist==0.0.11->allennlp) (21.1.0)\n",
      "Requirement already satisfied: soupsieve>1.2 in c:\\users\\jumpstart\\appdata\\local\\programs\\python\\python39\\lib\\site-packages (from beautifulsoup4->patternfork-nosql->checklist==0.0.11->allennlp) (2.2.1)\n",
      "Requirement already satisfied: pywin32>=227 in c:\\users\\jumpstart\\appdata\\local\\programs\\python\\python39\\lib\\site-packages (from cherrypy->patternfork-nosql->checklist==0.0.11->allennlp) (301)\n",
      "Requirement already satisfied: portend>=2.1.1 in c:\\users\\jumpstart\\appdata\\local\\programs\\python\\python39\\lib\\site-packages (from cherrypy->patternfork-nosql->checklist==0.0.11->allennlp) (3.0.0)\n",
      "Requirement already satisfied: cheroot>=8.2.1 in c:\\users\\jumpstart\\appdata\\local\\programs\\python\\python39\\lib\\site-packages (from cherrypy->patternfork-nosql->checklist==0.0.11->allennlp) (8.5.2)\n",
      "Requirement already satisfied: jaraco.collections in c:\\users\\jumpstart\\appdata\\local\\programs\\python\\python39\\lib\\site-packages (from cherrypy->patternfork-nosql->checklist==0.0.11->allennlp) (3.4.0)\n",
      "Requirement already satisfied: zc.lockfile in c:\\users\\jumpstart\\appdata\\local\\programs\\python\\python39\\lib\\site-packages (from cherrypy->patternfork-nosql->checklist==0.0.11->allennlp) (2.0)\n",
      "Requirement already satisfied: sgmllib3k in c:\\users\\jumpstart\\appdata\\local\\programs\\python\\python39\\lib\\site-packages (from feedparser->patternfork-nosql->checklist==0.0.11->allennlp) (1.0.0)\n",
      "Requirement already satisfied: mistune<2,>=0.8.1 in c:\\users\\jumpstart\\appdata\\local\\programs\\python\\python39\\lib\\site-packages (from nbconvert->jupyter>=1.0->checklist==0.0.11->allennlp) (0.8.4)\n",
      "Requirement already satisfied: pandocfilters>=1.4.1 in c:\\users\\jumpstart\\appdata\\local\\programs\\python\\python39\\lib\\site-packages (from nbconvert->jupyter>=1.0->checklist==0.0.11->allennlp) (1.4.3)\n",
      "Requirement already satisfied: bleach in c:\\users\\jumpstart\\appdata\\local\\programs\\python\\python39\\lib\\site-packages (from nbconvert->jupyter>=1.0->checklist==0.0.11->allennlp) (4.1.0)\n",
      "Requirement already satisfied: nbclient<0.6.0,>=0.5.0 in c:\\users\\jumpstart\\appdata\\local\\programs\\python\\python39\\lib\\site-packages (from nbconvert->jupyter>=1.0->checklist==0.0.11->allennlp) (0.5.4)\n",
      "Requirement already satisfied: defusedxml in c:\\users\\jumpstart\\appdata\\local\\programs\\python\\python39\\lib\\site-packages (from nbconvert->jupyter>=1.0->checklist==0.0.11->allennlp) (0.7.1)\n",
      "Requirement already satisfied: testpath in c:\\users\\jumpstart\\appdata\\local\\programs\\python\\python39\\lib\\site-packages (from nbconvert->jupyter>=1.0->checklist==0.0.11->allennlp) (0.5.0)\n",
      "Requirement already satisfied: jupyterlab-pygments in c:\\users\\jumpstart\\appdata\\local\\programs\\python\\python39\\lib\\site-packages (from nbconvert->jupyter>=1.0->checklist==0.0.11->allennlp) (0.1.2)\n",
      "Requirement already satisfied: entrypoints>=0.2.2 in c:\\users\\jumpstart\\appdata\\local\\programs\\python\\python39\\lib\\site-packages (from nbconvert->jupyter>=1.0->checklist==0.0.11->allennlp) (0.3)\n",
      "Requirement already satisfied: cryptography in c:\\users\\jumpstart\\appdata\\local\\programs\\python\\python39\\lib\\site-packages (from pdfminer.six->patternfork-nosql->checklist==0.0.11->allennlp) (35.0.0)\n",
      "Requirement already satisfied: chardet in c:\\users\\jumpstart\\appdata\\local\\programs\\python\\python39\\lib\\site-packages (from pdfminer.six->patternfork-nosql->checklist==0.0.11->allennlp) (4.0.0)\n",
      "Requirement already satisfied: qtpy in c:\\users\\jumpstart\\appdata\\local\\programs\\python\\python39\\lib\\site-packages (from qtconsole->jupyter>=1.0->checklist==0.0.11->allennlp) (1.11.0)\n",
      "Requirement already satisfied: jaraco.functools in c:\\users\\jumpstart\\appdata\\local\\programs\\python\\python39\\lib\\site-packages (from cheroot>=8.2.1->cherrypy->patternfork-nosql->checklist==0.0.11->allennlp) (3.4.0)\n",
      "Requirement already satisfied: parso<0.9.0,>=0.8.0 in c:\\users\\jumpstart\\appdata\\local\\programs\\python\\python39\\lib\\site-packages (from jedi>=0.16->ipython>=4.0.0->ipywidgets>=7.5->checklist==0.0.11->allennlp) (0.8.2)\n",
      "Requirement already satisfied: pyrsistent>=0.14.0 in c:\\users\\jumpstart\\appdata\\local\\programs\\python\\python39\\lib\\site-packages (from jsonschema!=2.5.0,>=2.4->nbformat>=4.2.0->ipywidgets>=7.5->checklist==0.0.11->allennlp) (0.18.0)\n",
      "Requirement already satisfied: nest-asyncio>=1.5 in c:\\users\\jumpstart\\appdata\\local\\programs\\python\\python39\\lib\\site-packages (from jupyter-client<8.0->ipykernel>=4.5.1->ipywidgets>=7.5->checklist==0.0.11->allennlp) (1.5.1)\n",
      "Requirement already satisfied: tempora>=1.8 in c:\\users\\jumpstart\\appdata\\local\\programs\\python\\python39\\lib\\site-packages (from portend>=2.1.1->cherrypy->patternfork-nosql->checklist==0.0.11->allennlp) (4.1.2)\n",
      "Requirement already satisfied: wcwidth in c:\\users\\jumpstart\\appdata\\local\\programs\\python\\python39\\lib\\site-packages (from prompt-toolkit!=3.0.0,!=3.0.1,<3.1.0,>=2.0.0->ipython>=4.0.0->ipywidgets>=7.5->checklist==0.0.11->allennlp) (0.2.5)\n",
      "Requirement already satisfied: pyasn1<0.5.0,>=0.4.6 in c:\\users\\jumpstart\\appdata\\local\\programs\\python\\python39\\lib\\site-packages (from pyasn1-modules>=0.2.1->google-auth<3.0dev,>=1.25.0->google-cloud-storage<2.0,>=1.0->cached-path<0.4.0,>=0.3.1->allennlp) (0.4.8)\n",
      "Requirement already satisfied: pywinpty>=1.1.0 in c:\\users\\jumpstart\\appdata\\local\\programs\\python\\python39\\lib\\site-packages (from terminado>=0.8.3->notebook->jupyter>=1.0->checklist==0.0.11->allennlp) (1.1.4)\n",
      "Requirement already satisfied: cffi>=1.0.0 in c:\\users\\jumpstart\\appdata\\local\\programs\\python\\python39\\lib\\site-packages (from argon2-cffi->notebook->jupyter>=1.0->checklist==0.0.11->allennlp) (1.14.6)\n",
      "Requirement already satisfied: webencodings in c:\\users\\jumpstart\\appdata\\local\\programs\\python\\python39\\lib\\site-packages (from bleach->nbconvert->jupyter>=1.0->checklist==0.0.11->allennlp) (0.5.1)\n",
      "Requirement already satisfied: jaraco.classes in c:\\users\\jumpstart\\appdata\\local\\programs\\python\\python39\\lib\\site-packages (from jaraco.collections->cherrypy->patternfork-nosql->checklist==0.0.11->allennlp) (3.2.1)\n",
      "Requirement already satisfied: jaraco.text in c:\\users\\jumpstart\\appdata\\local\\programs\\python\\python39\\lib\\site-packages (from jaraco.collections->cherrypy->patternfork-nosql->checklist==0.0.11->allennlp) (3.6.0)\n",
      "Requirement already satisfied: pycparser in c:\\users\\jumpstart\\appdata\\local\\programs\\python\\python39\\lib\\site-packages (from cffi>=1.0.0->argon2-cffi->notebook->jupyter>=1.0->checklist==0.0.11->allennlp) (2.20)\n"
     ]
    },
    {
     "name": "stdout",
     "output_type": "stream",
     "text": [
      "Requirement already satisfied: allennlp_models in c:\\users\\jumpstart\\appdata\\local\\programs\\python\\python39\\lib\\site-packages (2.8.0)\n",
      "Requirement already satisfied: word2number>=1.1 in c:\\users\\jumpstart\\appdata\\local\\programs\\python\\python39\\lib\\site-packages (from allennlp_models) (1.1)\n",
      "Requirement already satisfied: allennlp<2.9,>=2.8.0 in c:\\users\\jumpstart\\appdata\\local\\programs\\python\\python39\\lib\\site-packages (from allennlp_models) (2.8.0)\n",
      "Requirement already satisfied: nltk<3.6.5 in c:\\users\\jumpstart\\appdata\\local\\programs\\python\\python39\\lib\\site-packages (from allennlp_models) (3.6.3)\n",
      "Requirement already satisfied: conllu==4.4.1 in c:\\users\\jumpstart\\appdata\\local\\programs\\python\\python39\\lib\\site-packages (from allennlp_models) (4.4.1)\n",
      "Requirement already satisfied: torch<1.11.0,>=1.7.0 in c:\\users\\jumpstart\\appdata\\local\\programs\\python\\python39\\lib\\site-packages (from allennlp_models) (1.10.0)\n",
      "Requirement already satisfied: ftfy in c:\\users\\jumpstart\\appdata\\local\\programs\\python\\python39\\lib\\site-packages (from allennlp_models) (6.0.3)\n",
      "Requirement already satisfied: py-rouge==1.1 in c:\\users\\jumpstart\\appdata\\local\\programs\\python\\python39\\lib\\site-packages (from allennlp_models) (1.1)\n",
      "Requirement already satisfied: pytest in c:\\users\\jumpstart\\appdata\\local\\programs\\python\\python39\\lib\\site-packages (from allennlp<2.9,>=2.8.0->allennlp_models) (6.2.5)\n",
      "Requirement already satisfied: numpy in c:\\users\\jumpstart\\appdata\\local\\programs\\python\\python39\\lib\\site-packages (from allennlp<2.9,>=2.8.0->allennlp_models) (1.19.5)\n",
      "Requirement already satisfied: torchvision<0.12.0,>=0.8.1 in c:\\users\\jumpstart\\appdata\\local\\programs\\python\\python39\\lib\\site-packages (from allennlp<2.9,>=2.8.0->allennlp_models) (0.11.1)\n",
      "Requirement already satisfied: h5py in c:\\users\\jumpstart\\appdata\\local\\programs\\python\\python39\\lib\\site-packages (from allennlp<2.9,>=2.8.0->allennlp_models) (3.1.0)\n",
      "Requirement already satisfied: scikit-learn in c:\\users\\jumpstart\\appdata\\local\\programs\\python\\python39\\lib\\site-packages (from allennlp<2.9,>=2.8.0->allennlp_models) (0.24.2)\n",
      "Requirement already satisfied: huggingface-hub>=0.0.16 in c:\\users\\jumpstart\\appdata\\local\\programs\\python\\python39\\lib\\site-packages (from allennlp<2.9,>=2.8.0->allennlp_models) (0.1.0)\n",
      "Requirement already satisfied: sqlitedict in c:\\users\\jumpstart\\appdata\\local\\programs\\python\\python39\\lib\\site-packages (from allennlp<2.9,>=2.8.0->allennlp_models) (1.7.0)\n",
      "Requirement already satisfied: more-itertools in c:\\users\\jumpstart\\appdata\\local\\programs\\python\\python39\\lib\\site-packages (from allennlp<2.9,>=2.8.0->allennlp_models) (8.11.0)\n",
      "Requirement already satisfied: spacy<3.2,>=2.1.0 in c:\\users\\jumpstart\\appdata\\local\\programs\\python\\python39\\lib\\site-packages (from allennlp<2.9,>=2.8.0->allennlp_models) (3.1.3)\n",
      "Requirement already satisfied: base58 in c:\\users\\jumpstart\\appdata\\local\\programs\\python\\python39\\lib\\site-packages (from allennlp<2.9,>=2.8.0->allennlp_models) (2.1.1)\n",
      "Requirement already satisfied: cached-path<0.4.0,>=0.3.1 in c:\\users\\jumpstart\\appdata\\local\\programs\\python\\python39\\lib\\site-packages (from allennlp<2.9,>=2.8.0->allennlp_models) (0.3.2)\n",
      "Requirement already satisfied: datasets<2.0,>=1.2.1 in c:\\users\\jumpstart\\appdata\\local\\programs\\python\\python39\\lib\\site-packages (from allennlp<2.9,>=2.8.0->allennlp_models) (1.15.1)\n",
      "Requirement already satisfied: filelock<3.4,>=3.3 in c:\\users\\jumpstart\\appdata\\local\\programs\\python\\python39\\lib\\site-packages (from allennlp<2.9,>=2.8.0->allennlp_models) (3.3.2)\n",
      "Requirement already satisfied: sentencepiece in c:\\users\\jumpstart\\appdata\\local\\programs\\python\\python39\\lib\\site-packages (from allennlp<2.9,>=2.8.0->allennlp_models) (0.1.95)\n",
      "Requirement already satisfied: dill in c:\\users\\jumpstart\\appdata\\local\\programs\\python\\python39\\lib\\site-packages (from allennlp<2.9,>=2.8.0->allennlp_models) (0.3.4)\n",
      "Requirement already satisfied: overrides==3.1.0 in c:\\users\\jumpstart\\appdata\\local\\programs\\python\\python39\\lib\\site-packages (from allennlp<2.9,>=2.8.0->allennlp_models) (3.1.0)\n",
      "Requirement already satisfied: transformers<4.13,>=4.1 in c:\\users\\jumpstart\\appdata\\local\\programs\\python\\python39\\lib\\site-packages (from allennlp<2.9,>=2.8.0->allennlp_models) (4.12.3)\n",
      "Requirement already satisfied: termcolor==1.1.0 in c:\\users\\jumpstart\\appdata\\local\\programs\\python\\python39\\lib\\site-packages (from allennlp<2.9,>=2.8.0->allennlp_models) (1.1.0)\n",
      "Requirement already satisfied: wandb<0.13.0,>=0.10.0 in c:\\users\\jumpstart\\appdata\\local\\programs\\python\\python39\\lib\\site-packages (from allennlp<2.9,>=2.8.0->allennlp_models) (0.12.6)\n",
      "Requirement already satisfied: requests>=2.18 in c:\\users\\jumpstart\\appdata\\local\\programs\\python\\python39\\lib\\site-packages (from allennlp<2.9,>=2.8.0->allennlp_models) (2.26.0)\n",
      "Requirement already satisfied: scipy in c:\\users\\jumpstart\\appdata\\local\\programs\\python\\python39\\lib\\site-packages (from allennlp<2.9,>=2.8.0->allennlp_models) (1.7.1)\n",
      "Requirement already satisfied: fairscale==0.4.0 in c:\\users\\jumpstart\\appdata\\local\\programs\\python\\python39\\lib\\site-packages (from allennlp<2.9,>=2.8.0->allennlp_models) (0.4.0)\n",
      "Requirement already satisfied: tensorboardX>=1.2 in c:\\users\\jumpstart\\appdata\\local\\programs\\python\\python39\\lib\\site-packages (from allennlp<2.9,>=2.8.0->allennlp_models) (2.4)\n",
      "Requirement already satisfied: checklist==0.0.11 in c:\\users\\jumpstart\\appdata\\local\\programs\\python\\python39\\lib\\site-packages (from allennlp<2.9,>=2.8.0->allennlp_models) (0.0.11)\n",
      "Requirement already satisfied: tqdm>=4.19 in c:\\users\\jumpstart\\appdata\\local\\programs\\python\\python39\\lib\\site-packages (from allennlp<2.9,>=2.8.0->allennlp_models) (4.62.3)\n",
      "Requirement already satisfied: lmdb in c:\\users\\jumpstart\\appdata\\local\\programs\\python\\python39\\lib\\site-packages (from allennlp<2.9,>=2.8.0->allennlp_models) (1.2.1)\n",
      "Requirement already satisfied: jupyter>=1.0 in c:\\users\\jumpstart\\appdata\\local\\programs\\python\\python39\\lib\\site-packages (from checklist==0.0.11->allennlp<2.9,>=2.8.0->allennlp_models) (1.0.0)\n",
      "Requirement already satisfied: ipywidgets>=7.5 in c:\\users\\jumpstart\\appdata\\local\\programs\\python\\python39\\lib\\site-packages (from checklist==0.0.11->allennlp<2.9,>=2.8.0->allennlp_models) (7.6.4)\n",
      "Requirement already satisfied: patternfork-nosql in c:\\users\\jumpstart\\appdata\\local\\programs\\python\\python39\\lib\\site-packages (from checklist==0.0.11->allennlp<2.9,>=2.8.0->allennlp_models) (3.6)\n",
      "Requirement already satisfied: iso-639 in c:\\users\\jumpstart\\appdata\\local\\programs\\python\\python39\\lib\\site-packages (from checklist==0.0.11->allennlp<2.9,>=2.8.0->allennlp_models) (0.4.5)\n",
      "Requirement already satisfied: munch>=2.5 in c:\\users\\jumpstart\\appdata\\local\\programs\\python\\python39\\lib\\site-packages (from checklist==0.0.11->allennlp<2.9,>=2.8.0->allennlp_models) (2.5.0)\n",
      "Requirement already satisfied: joblib in c:\\users\\jumpstart\\appdata\\local\\programs\\python\\python39\\lib\\site-packages (from nltk<3.6.5->allennlp_models) (1.0.1)\n",
      "Requirement already satisfied: click in c:\\users\\jumpstart\\appdata\\local\\programs\\python\\python39\\lib\\site-packages (from nltk<3.6.5->allennlp_models) (8.0.1)\n",
      "Requirement already satisfied: regex in c:\\users\\jumpstart\\appdata\\local\\programs\\python\\python39\\lib\\site-packages (from nltk<3.6.5->allennlp_models) (2021.9.30)\n",
      "Requirement already satisfied: typing-extensions in c:\\users\\jumpstart\\appdata\\local\\programs\\python\\python39\\lib\\site-packages (from torch<1.11.0,>=1.7.0->allennlp_models) (3.7.4.3)\n",
      "Requirement already satisfied: wcwidth in c:\\users\\jumpstart\\appdata\\local\\programs\\python\\python39\\lib\\site-packages (from ftfy->allennlp_models) (0.2.5)\n",
      "Requirement already satisfied: boto3<2.0,>=1.0 in c:\\users\\jumpstart\\appdata\\local\\programs\\python\\python39\\lib\\site-packages (from cached-path<0.4.0,>=0.3.1->allennlp<2.9,>=2.8.0->allennlp_models) (1.20.3)\n",
      "Requirement already satisfied: google-cloud-storage<2.0,>=1.0 in c:\\users\\jumpstart\\appdata\\local\\programs\\python\\python39\\lib\\site-packages (from cached-path<0.4.0,>=0.3.1->allennlp<2.9,>=2.8.0->allennlp_models) (1.42.3)\n",
      "Requirement already satisfied: pyarrow!=4.0.0,>=1.0.0 in c:\\users\\jumpstart\\appdata\\local\\programs\\python\\python39\\lib\\site-packages (from datasets<2.0,>=1.2.1->allennlp<2.9,>=2.8.0->allennlp_models) (6.0.0)\n",
      "Requirement already satisfied: packaging in c:\\users\\jumpstart\\appdata\\local\\programs\\python\\python39\\lib\\site-packages (from datasets<2.0,>=1.2.1->allennlp<2.9,>=2.8.0->allennlp_models) (21.0)\n",
      "Requirement already satisfied: xxhash in c:\\users\\jumpstart\\appdata\\local\\programs\\python\\python39\\lib\\site-packages (from datasets<2.0,>=1.2.1->allennlp<2.9,>=2.8.0->allennlp_models) (2.0.2)\n",
      "Requirement already satisfied: aiohttp in c:\\users\\jumpstart\\appdata\\local\\programs\\python\\python39\\lib\\site-packages (from datasets<2.0,>=1.2.1->allennlp<2.9,>=2.8.0->allennlp_models) (3.8.0)\n",
      "Requirement already satisfied: fsspec[http]>=2021.05.0 in c:\\users\\jumpstart\\appdata\\local\\programs\\python\\python39\\lib\\site-packages (from datasets<2.0,>=1.2.1->allennlp<2.9,>=2.8.0->allennlp_models) (2021.11.0)\n",
      "Requirement already satisfied: pandas in c:\\users\\jumpstart\\appdata\\local\\programs\\python\\python39\\lib\\site-packages (from datasets<2.0,>=1.2.1->allennlp<2.9,>=2.8.0->allennlp_models) (1.3.3)\n",
      "Requirement already satisfied: multiprocess in c:\\users\\jumpstart\\appdata\\local\\programs\\python\\python39\\lib\\site-packages (from datasets<2.0,>=1.2.1->allennlp<2.9,>=2.8.0->allennlp_models) (0.70.12.2)\n",
      "Requirement already satisfied: pyyaml in c:\\users\\jumpstart\\appdata\\local\\programs\\python\\python39\\lib\\site-packages (from huggingface-hub>=0.0.16->allennlp<2.9,>=2.8.0->allennlp_models) (5.4.1)\n",
      "Requirement already satisfied: urllib3<1.27,>=1.21.1 in c:\\users\\jumpstart\\appdata\\local\\programs\\python\\python39\\lib\\site-packages (from requests>=2.18->allennlp<2.9,>=2.8.0->allennlp_models) (1.26.6)\n",
      "Requirement already satisfied: idna<4,>=2.5 in c:\\users\\jumpstart\\appdata\\local\\programs\\python\\python39\\lib\\site-packages (from requests>=2.18->allennlp<2.9,>=2.8.0->allennlp_models) (3.2)\n",
      "Requirement already satisfied: charset-normalizer~=2.0.0 in c:\\users\\jumpstart\\appdata\\local\\programs\\python\\python39\\lib\\site-packages (from requests>=2.18->allennlp<2.9,>=2.8.0->allennlp_models) (2.0.4)\n",
      "Requirement already satisfied: certifi>=2017.4.17 in c:\\users\\jumpstart\\appdata\\local\\programs\\python\\python39\\lib\\site-packages (from requests>=2.18->allennlp<2.9,>=2.8.0->allennlp_models) (2021.5.30)\n",
      "Requirement already satisfied: preshed<3.1.0,>=3.0.2 in c:\\users\\jumpstart\\appdata\\local\\programs\\python\\python39\\lib\\site-packages (from spacy<3.2,>=2.1.0->allennlp<2.9,>=2.8.0->allennlp_models) (3.0.6)\n",
      "Requirement already satisfied: blis<0.8.0,>=0.4.0 in c:\\users\\jumpstart\\appdata\\local\\programs\\python\\python39\\lib\\site-packages (from spacy<3.2,>=2.1.0->allennlp<2.9,>=2.8.0->allennlp_models) (0.7.5)\n",
      "Requirement already satisfied: setuptools in c:\\users\\jumpstart\\appdata\\local\\programs\\python\\python39\\lib\\site-packages (from spacy<3.2,>=2.1.0->allennlp<2.9,>=2.8.0->allennlp_models) (57.4.0)\n",
      "Requirement already satisfied: srsly<3.0.0,>=2.4.1 in c:\\users\\jumpstart\\appdata\\local\\programs\\python\\python39\\lib\\site-packages (from spacy<3.2,>=2.1.0->allennlp<2.9,>=2.8.0->allennlp_models) (2.4.2)\n",
      "Requirement already satisfied: pathy>=0.3.5 in c:\\users\\jumpstart\\appdata\\local\\programs\\python\\python39\\lib\\site-packages (from spacy<3.2,>=2.1.0->allennlp<2.9,>=2.8.0->allennlp_models) (0.6.0)\n",
      "Requirement already satisfied: pydantic!=1.8,!=1.8.1,<1.9.0,>=1.7.4 in c:\\users\\jumpstart\\appdata\\local\\programs\\python\\python39\\lib\\site-packages (from spacy<3.2,>=2.1.0->allennlp<2.9,>=2.8.0->allennlp_models) (1.8.2)\n",
      "Requirement already satisfied: spacy-legacy<3.1.0,>=3.0.8 in c:\\users\\jumpstart\\appdata\\local\\programs\\python\\python39\\lib\\site-packages (from spacy<3.2,>=2.1.0->allennlp<2.9,>=2.8.0->allennlp_models) (3.0.8)\n",
      "Requirement already satisfied: murmurhash<1.1.0,>=0.28.0 in c:\\users\\jumpstart\\appdata\\local\\programs\\python\\python39\\lib\\site-packages (from spacy<3.2,>=2.1.0->allennlp<2.9,>=2.8.0->allennlp_models) (1.0.6)\n",
      "Requirement already satisfied: jinja2 in c:\\users\\jumpstart\\appdata\\local\\programs\\python\\python39\\lib\\site-packages (from spacy<3.2,>=2.1.0->allennlp<2.9,>=2.8.0->allennlp_models) (3.0.1)\n",
      "Requirement already satisfied: cymem<2.1.0,>=2.0.2 in c:\\users\\jumpstart\\appdata\\local\\programs\\python\\python39\\lib\\site-packages (from spacy<3.2,>=2.1.0->allennlp<2.9,>=2.8.0->allennlp_models) (2.0.6)\n",
      "Requirement already satisfied: wasabi<1.1.0,>=0.8.1 in c:\\users\\jumpstart\\appdata\\local\\programs\\python\\python39\\lib\\site-packages (from spacy<3.2,>=2.1.0->allennlp<2.9,>=2.8.0->allennlp_models) (0.8.2)\n",
      "Requirement already satisfied: typer<0.5.0,>=0.3.0 in c:\\users\\jumpstart\\appdata\\local\\programs\\python\\python39\\lib\\site-packages (from spacy<3.2,>=2.1.0->allennlp<2.9,>=2.8.0->allennlp_models) (0.4.0)\n",
      "Requirement already satisfied: catalogue<2.1.0,>=2.0.6 in c:\\users\\jumpstart\\appdata\\local\\programs\\python\\python39\\lib\\site-packages (from spacy<3.2,>=2.1.0->allennlp<2.9,>=2.8.0->allennlp_models) (2.0.6)\n",
      "Requirement already satisfied: thinc<8.1.0,>=8.0.9 in c:\\users\\jumpstart\\appdata\\local\\programs\\python\\python39\\lib\\site-packages (from spacy<3.2,>=2.1.0->allennlp<2.9,>=2.8.0->allennlp_models) (8.0.11)\n",
      "Requirement already satisfied: protobuf>=3.8.0 in c:\\users\\jumpstart\\appdata\\local\\programs\\python\\python39\\lib\\site-packages (from tensorboardX>=1.2->allennlp<2.9,>=2.8.0->allennlp_models) (3.17.3)\n",
      "Requirement already satisfied: pillow!=8.3.0,>=5.3.0 in c:\\users\\jumpstart\\appdata\\local\\programs\\python\\python39\\lib\\site-packages (from torchvision<0.12.0,>=0.8.1->allennlp<2.9,>=2.8.0->allennlp_models) (8.3.2)\n",
      "Requirement already satisfied: colorama in c:\\users\\jumpstart\\appdata\\local\\programs\\python\\python39\\lib\\site-packages (from tqdm>=4.19->allennlp<2.9,>=2.8.0->allennlp_models) (0.4.4)\n",
      "Requirement already satisfied: sacremoses in c:\\users\\jumpstart\\appdata\\local\\programs\\python\\python39\\lib\\site-packages (from transformers<4.13,>=4.1->allennlp<2.9,>=2.8.0->allennlp_models) (0.0.46)\n",
      "Requirement already satisfied: tokenizers<0.11,>=0.10.1 in c:\\users\\jumpstart\\appdata\\local\\programs\\python\\python39\\lib\\site-packages (from transformers<4.13,>=4.1->allennlp<2.9,>=2.8.0->allennlp_models) (0.10.3)\n",
      "Requirement already satisfied: docker-pycreds>=0.4.0 in c:\\users\\jumpstart\\appdata\\local\\programs\\python\\python39\\lib\\site-packages (from wandb<0.13.0,>=0.10.0->allennlp<2.9,>=2.8.0->allennlp_models) (0.4.0)\n",
      "Requirement already satisfied: GitPython>=1.0.0 in c:\\users\\jumpstart\\appdata\\local\\programs\\python\\python39\\lib\\site-packages (from wandb<0.13.0,>=0.10.0->allennlp<2.9,>=2.8.0->allennlp_models) (3.1.24)\n",
      "Requirement already satisfied: configparser>=3.8.1 in c:\\users\\jumpstart\\appdata\\local\\programs\\python\\python39\\lib\\site-packages (from wandb<0.13.0,>=0.10.0->allennlp<2.9,>=2.8.0->allennlp_models) (5.1.0)\n",
      "Requirement already satisfied: sentry-sdk>=1.0.0 in c:\\users\\jumpstart\\appdata\\local\\programs\\python\\python39\\lib\\site-packages (from wandb<0.13.0,>=0.10.0->allennlp<2.9,>=2.8.0->allennlp_models) (1.4.3)\n",
      "Requirement already satisfied: pathtools in c:\\users\\jumpstart\\appdata\\local\\programs\\python\\python39\\lib\\site-packages (from wandb<0.13.0,>=0.10.0->allennlp<2.9,>=2.8.0->allennlp_models) (0.1.2)\n",
      "Requirement already satisfied: subprocess32>=3.5.3 in c:\\users\\jumpstart\\appdata\\local\\programs\\python\\python39\\lib\\site-packages (from wandb<0.13.0,>=0.10.0->allennlp<2.9,>=2.8.0->allennlp_models) (3.5.4)\n",
      "Requirement already satisfied: shortuuid>=0.5.0 in c:\\users\\jumpstart\\appdata\\local\\programs\\python\\python39\\lib\\site-packages (from wandb<0.13.0,>=0.10.0->allennlp<2.9,>=2.8.0->allennlp_models) (1.0.7)\n",
      "Requirement already satisfied: six>=1.13.0 in c:\\users\\jumpstart\\appdata\\local\\programs\\python\\python39\\lib\\site-packages (from wandb<0.13.0,>=0.10.0->allennlp<2.9,>=2.8.0->allennlp_models) (1.15.0)\n",
      "Requirement already satisfied: psutil>=5.0.0 in c:\\users\\jumpstart\\appdata\\local\\programs\\python\\python39\\lib\\site-packages (from wandb<0.13.0,>=0.10.0->allennlp<2.9,>=2.8.0->allennlp_models) (5.8.0)\n",
      "Requirement already satisfied: yaspin>=1.0.0 in c:\\users\\jumpstart\\appdata\\local\\programs\\python\\python39\\lib\\site-packages (from wandb<0.13.0,>=0.10.0->allennlp<2.9,>=2.8.0->allennlp_models) (2.1.0)\n",
      "Requirement already satisfied: promise<3,>=2.0 in c:\\users\\jumpstart\\appdata\\local\\programs\\python\\python39\\lib\\site-packages (from wandb<0.13.0,>=0.10.0->allennlp<2.9,>=2.8.0->allennlp_models) (2.3)\n",
      "Requirement already satisfied: python-dateutil>=2.6.1 in c:\\users\\jumpstart\\appdata\\local\\programs\\python\\python39\\lib\\site-packages (from wandb<0.13.0,>=0.10.0->allennlp<2.9,>=2.8.0->allennlp_models) (2.8.2)\n",
      "Requirement already satisfied: toml in c:\\users\\jumpstart\\appdata\\local\\programs\\python\\python39\\lib\\site-packages (from pytest->allennlp<2.9,>=2.8.0->allennlp_models) (0.10.2)\n",
      "Requirement already satisfied: atomicwrites>=1.0 in c:\\users\\jumpstart\\appdata\\local\\programs\\python\\python39\\lib\\site-packages (from pytest->allennlp<2.9,>=2.8.0->allennlp_models) (1.4.0)\n",
      "Requirement already satisfied: py>=1.8.2 in c:\\users\\jumpstart\\appdata\\local\\programs\\python\\python39\\lib\\site-packages (from pytest->allennlp<2.9,>=2.8.0->allennlp_models) (1.11.0)\n",
      "Requirement already satisfied: pluggy<2.0,>=0.12 in c:\\users\\jumpstart\\appdata\\local\\programs\\python\\python39\\lib\\site-packages (from pytest->allennlp<2.9,>=2.8.0->allennlp_models) (1.0.0)\n",
      "Requirement already satisfied: iniconfig in c:\\users\\jumpstart\\appdata\\local\\programs\\python\\python39\\lib\\site-packages (from pytest->allennlp<2.9,>=2.8.0->allennlp_models) (1.1.1)\n",
      "Requirement already satisfied: attrs>=19.2.0 in c:\\users\\jumpstart\\appdata\\local\\programs\\python\\python39\\lib\\site-packages (from pytest->allennlp<2.9,>=2.8.0->allennlp_models) (21.2.0)\n",
      "Requirement already satisfied: threadpoolctl>=2.0.0 in c:\\users\\jumpstart\\appdata\\local\\programs\\python\\python39\\lib\\site-packages (from scikit-learn->allennlp<2.9,>=2.8.0->allennlp_models) (2.2.0)\n",
      "Requirement already satisfied: jmespath<1.0.0,>=0.7.1 in c:\\users\\jumpstart\\appdata\\local\\programs\\python\\python39\\lib\\site-packages (from boto3<2.0,>=1.0->cached-path<0.4.0,>=0.3.1->allennlp<2.9,>=2.8.0->allennlp_models) (0.10.0)\n",
      "Requirement already satisfied: s3transfer<0.6.0,>=0.5.0 in c:\\users\\jumpstart\\appdata\\local\\programs\\python\\python39\\lib\\site-packages (from boto3<2.0,>=1.0->cached-path<0.4.0,>=0.3.1->allennlp<2.9,>=2.8.0->allennlp_models) (0.5.0)\n",
      "Requirement already satisfied: botocore<1.24.0,>=1.23.3 in c:\\users\\jumpstart\\appdata\\local\\programs\\python\\python39\\lib\\site-packages (from boto3<2.0,>=1.0->cached-path<0.4.0,>=0.3.1->allennlp<2.9,>=2.8.0->allennlp_models) (1.23.3)\n",
      "Requirement already satisfied: gitdb<5,>=4.0.1 in c:\\users\\jumpstart\\appdata\\local\\programs\\python\\python39\\lib\\site-packages (from GitPython>=1.0.0->wandb<0.13.0,>=0.10.0->allennlp<2.9,>=2.8.0->allennlp_models) (4.0.9)\n",
      "Requirement already satisfied: google-cloud-core<3.0dev,>=1.6.0 in c:\\users\\jumpstart\\appdata\\local\\programs\\python\\python39\\lib\\site-packages (from google-cloud-storage<2.0,>=1.0->cached-path<0.4.0,>=0.3.1->allennlp<2.9,>=2.8.0->allennlp_models) (2.2.1)\n",
      "Requirement already satisfied: google-api-core<3.0dev,>=1.29.0 in c:\\users\\jumpstart\\appdata\\local\\programs\\python\\python39\\lib\\site-packages (from google-cloud-storage<2.0,>=1.0->cached-path<0.4.0,>=0.3.1->allennlp<2.9,>=2.8.0->allennlp_models) (2.2.2)\n",
      "Requirement already satisfied: google-auth<3.0dev,>=1.25.0 in c:\\users\\jumpstart\\appdata\\local\\programs\\python\\python39\\lib\\site-packages (from google-cloud-storage<2.0,>=1.0->cached-path<0.4.0,>=0.3.1->allennlp<2.9,>=2.8.0->allennlp_models) (1.35.0)\n",
      "Requirement already satisfied: google-resumable-media<3.0dev,>=1.3.0 in c:\\users\\jumpstart\\appdata\\local\\programs\\python\\python39\\lib\\site-packages (from google-cloud-storage<2.0,>=1.0->cached-path<0.4.0,>=0.3.1->allennlp<2.9,>=2.8.0->allennlp_models) (2.1.0)\n",
      "Requirement already satisfied: jupyterlab-widgets>=1.0.0 in c:\\users\\jumpstart\\appdata\\local\\programs\\python\\python39\\lib\\site-packages (from ipywidgets>=7.5->checklist==0.0.11->allennlp<2.9,>=2.8.0->allennlp_models) (1.0.1)\n",
      "Requirement already satisfied: nbformat>=4.2.0 in c:\\users\\jumpstart\\appdata\\local\\programs\\python\\python39\\lib\\site-packages (from ipywidgets>=7.5->checklist==0.0.11->allennlp<2.9,>=2.8.0->allennlp_models) (5.1.3)\n",
      "Requirement already satisfied: ipython>=4.0.0 in c:\\users\\jumpstart\\appdata\\local\\programs\\python\\python39\\lib\\site-packages (from ipywidgets>=7.5->checklist==0.0.11->allennlp<2.9,>=2.8.0->allennlp_models) (7.27.0)\n",
      "Requirement already satisfied: ipykernel>=4.5.1 in c:\\users\\jumpstart\\appdata\\local\\programs\\python\\python39\\lib\\site-packages (from ipywidgets>=7.5->checklist==0.0.11->allennlp<2.9,>=2.8.0->allennlp_models) (6.3.1)\n",
      "Requirement already satisfied: ipython-genutils~=0.2.0 in c:\\users\\jumpstart\\appdata\\local\\programs\\python\\python39\\lib\\site-packages (from ipywidgets>=7.5->checklist==0.0.11->allennlp<2.9,>=2.8.0->allennlp_models) (0.2.0)\n",
      "Requirement already satisfied: widgetsnbextension~=3.5.0 in c:\\users\\jumpstart\\appdata\\local\\programs\\python\\python39\\lib\\site-packages (from ipywidgets>=7.5->checklist==0.0.11->allennlp<2.9,>=2.8.0->allennlp_models) (3.5.1)\n",
      "Requirement already satisfied: traitlets>=4.3.1 in c:\\users\\jumpstart\\appdata\\local\\programs\\python\\python39\\lib\\site-packages (from ipywidgets>=7.5->checklist==0.0.11->allennlp<2.9,>=2.8.0->allennlp_models) (5.1.0)\n",
      "Requirement already satisfied: qtconsole in c:\\users\\jumpstart\\appdata\\local\\programs\\python\\python39\\lib\\site-packages (from jupyter>=1.0->checklist==0.0.11->allennlp<2.9,>=2.8.0->allennlp_models) (5.1.1)\n",
      "Requirement already satisfied: jupyter-console in c:\\users\\jumpstart\\appdata\\local\\programs\\python\\python39\\lib\\site-packages (from jupyter>=1.0->checklist==0.0.11->allennlp<2.9,>=2.8.0->allennlp_models) (6.4.0)\n",
      "Requirement already satisfied: notebook in c:\\users\\jumpstart\\appdata\\local\\programs\\python\\python39\\lib\\site-packages (from jupyter>=1.0->checklist==0.0.11->allennlp<2.9,>=2.8.0->allennlp_models) (6.4.3)\n",
      "Requirement already satisfied: nbconvert in c:\\users\\jumpstart\\appdata\\local\\programs\\python\\python39\\lib\\site-packages (from jupyter>=1.0->checklist==0.0.11->allennlp<2.9,>=2.8.0->allennlp_models) (6.1.0)\n",
      "Requirement already satisfied: pyparsing>=2.0.2 in c:\\users\\jumpstart\\appdata\\local\\programs\\python\\python39\\lib\\site-packages (from packaging->datasets<2.0,>=1.2.1->allennlp<2.9,>=2.8.0->allennlp_models) (2.4.7)\n",
      "Requirement already satisfied: smart-open<6.0.0,>=5.0.0 in c:\\users\\jumpstart\\appdata\\local\\programs\\python\\python39\\lib\\site-packages (from pathy>=0.3.5->spacy<3.2,>=2.1.0->allennlp<2.9,>=2.8.0->allennlp_models) (5.2.1)\n",
      "Requirement already satisfied: frozenlist>=1.1.1 in c:\\users\\jumpstart\\appdata\\local\\programs\\python\\python39\\lib\\site-packages (from aiohttp->datasets<2.0,>=1.2.1->allennlp<2.9,>=2.8.0->allennlp_models) (1.2.0)\n",
      "Requirement already satisfied: async-timeout<5.0,>=4.0.0a3 in c:\\users\\jumpstart\\appdata\\local\\programs\\python\\python39\\lib\\site-packages (from aiohttp->datasets<2.0,>=1.2.1->allennlp<2.9,>=2.8.0->allennlp_models) (4.0.1)\n",
      "Requirement already satisfied: aiosignal>=1.1.2 in c:\\users\\jumpstart\\appdata\\local\\programs\\python\\python39\\lib\\site-packages (from aiohttp->datasets<2.0,>=1.2.1->allennlp<2.9,>=2.8.0->allennlp_models) (1.2.0)\n",
      "Requirement already satisfied: yarl<2.0,>=1.0 in c:\\users\\jumpstart\\appdata\\local\\programs\\python\\python39\\lib\\site-packages (from aiohttp->datasets<2.0,>=1.2.1->allennlp<2.9,>=2.8.0->allennlp_models) (1.7.2)\n",
      "Requirement already satisfied: multidict<7.0,>=4.5 in c:\\users\\jumpstart\\appdata\\local\\programs\\python\\python39\\lib\\site-packages (from aiohttp->datasets<2.0,>=1.2.1->allennlp<2.9,>=2.8.0->allennlp_models) (5.2.0)\n",
      "Requirement already satisfied: MarkupSafe>=2.0 in c:\\users\\jumpstart\\appdata\\local\\programs\\python\\python39\\lib\\site-packages (from jinja2->spacy<3.2,>=2.1.0->allennlp<2.9,>=2.8.0->allennlp_models) (2.0.1)\n",
      "Requirement already satisfied: pytz>=2017.3 in c:\\users\\jumpstart\\appdata\\local\\programs\\python\\python39\\lib\\site-packages (from pandas->datasets<2.0,>=1.2.1->allennlp<2.9,>=2.8.0->allennlp_models) (2021.1)\n",
      "Requirement already satisfied: lxml in c:\\users\\jumpstart\\appdata\\local\\programs\\python\\python39\\lib\\site-packages (from patternfork-nosql->checklist==0.0.11->allennlp<2.9,>=2.8.0->allennlp_models) (4.6.4)\n",
      "Requirement already satisfied: cherrypy in c:\\users\\jumpstart\\appdata\\local\\programs\\python\\python39\\lib\\site-packages (from patternfork-nosql->checklist==0.0.11->allennlp<2.9,>=2.8.0->allennlp_models) (18.6.1)\n",
      "Requirement already satisfied: feedparser in c:\\users\\jumpstart\\appdata\\local\\programs\\python\\python39\\lib\\site-packages (from patternfork-nosql->checklist==0.0.11->allennlp<2.9,>=2.8.0->allennlp_models) (6.0.8)\n",
      "Requirement already satisfied: pdfminer.six in c:\\users\\jumpstart\\appdata\\local\\programs\\python\\python39\\lib\\site-packages (from patternfork-nosql->checklist==0.0.11->allennlp<2.9,>=2.8.0->allennlp_models) (20211012)\n",
      "Requirement already satisfied: backports.csv in c:\\users\\jumpstart\\appdata\\local\\programs\\python\\python39\\lib\\site-packages (from patternfork-nosql->checklist==0.0.11->allennlp<2.9,>=2.8.0->allennlp_models) (1.0.7)\n",
      "Requirement already satisfied: future in c:\\users\\jumpstart\\appdata\\local\\programs\\python\\python39\\lib\\site-packages (from patternfork-nosql->checklist==0.0.11->allennlp<2.9,>=2.8.0->allennlp_models) (0.18.2)\n",
      "Requirement already satisfied: beautifulsoup4 in c:\\users\\jumpstart\\appdata\\local\\programs\\python\\python39\\lib\\site-packages (from patternfork-nosql->checklist==0.0.11->allennlp<2.9,>=2.8.0->allennlp_models) (4.10.0)\n",
      "Requirement already satisfied: python-docx in c:\\users\\jumpstart\\appdata\\local\\programs\\python\\python39\\lib\\site-packages (from patternfork-nosql->checklist==0.0.11->allennlp<2.9,>=2.8.0->allennlp_models) (0.8.11)\n",
      "Requirement already satisfied: smmap<6,>=3.0.1 in c:\\users\\jumpstart\\appdata\\local\\programs\\python\\python39\\lib\\site-packages (from gitdb<5,>=4.0.1->GitPython>=1.0.0->wandb<0.13.0,>=0.10.0->allennlp<2.9,>=2.8.0->allennlp_models) (5.0.0)\n",
      "Requirement already satisfied: googleapis-common-protos<2.0dev,>=1.52.0 in c:\\users\\jumpstart\\appdata\\local\\programs\\python\\python39\\lib\\site-packages (from google-api-core<3.0dev,>=1.29.0->google-cloud-storage<2.0,>=1.0->cached-path<0.4.0,>=0.3.1->allennlp<2.9,>=2.8.0->allennlp_models) (1.53.0)\n",
      "Requirement already satisfied: rsa<5,>=3.1.4 in c:\\users\\jumpstart\\appdata\\local\\programs\\python\\python39\\lib\\site-packages (from google-auth<3.0dev,>=1.25.0->google-cloud-storage<2.0,>=1.0->cached-path<0.4.0,>=0.3.1->allennlp<2.9,>=2.8.0->allennlp_models) (4.7.2)\n",
      "Requirement already satisfied: pyasn1-modules>=0.2.1 in c:\\users\\jumpstart\\appdata\\local\\programs\\python\\python39\\lib\\site-packages (from google-auth<3.0dev,>=1.25.0->google-cloud-storage<2.0,>=1.0->cached-path<0.4.0,>=0.3.1->allennlp<2.9,>=2.8.0->allennlp_models) (0.2.8)\n",
      "Requirement already satisfied: cachetools<5.0,>=2.0.0 in c:\\users\\jumpstart\\appdata\\local\\programs\\python\\python39\\lib\\site-packages (from google-auth<3.0dev,>=1.25.0->google-cloud-storage<2.0,>=1.0->cached-path<0.4.0,>=0.3.1->allennlp<2.9,>=2.8.0->allennlp_models) (4.2.2)\n",
      "Requirement already satisfied: google-crc32c<2.0dev,>=1.0 in c:\\users\\jumpstart\\appdata\\local\\programs\\python\\python39\\lib\\site-packages (from google-resumable-media<3.0dev,>=1.3.0->google-cloud-storage<2.0,>=1.0->cached-path<0.4.0,>=0.3.1->allennlp<2.9,>=2.8.0->allennlp_models) (1.3.0)\n",
      "Requirement already satisfied: debugpy<2.0,>=1.0.0 in c:\\users\\jumpstart\\appdata\\local\\programs\\python\\python39\\lib\\site-packages (from ipykernel>=4.5.1->ipywidgets>=7.5->checklist==0.0.11->allennlp<2.9,>=2.8.0->allennlp_models) (1.4.1)\n",
      "Requirement already satisfied: matplotlib-inline<0.2.0,>=0.1.0 in c:\\users\\jumpstart\\appdata\\local\\programs\\python\\python39\\lib\\site-packages (from ipykernel>=4.5.1->ipywidgets>=7.5->checklist==0.0.11->allennlp<2.9,>=2.8.0->allennlp_models) (0.1.3)\n",
      "Requirement already satisfied: jupyter-client<8.0 in c:\\users\\jumpstart\\appdata\\local\\programs\\python\\python39\\lib\\site-packages (from ipykernel>=4.5.1->ipywidgets>=7.5->checklist==0.0.11->allennlp<2.9,>=2.8.0->allennlp_models) (7.0.2)\n",
      "Requirement already satisfied: tornado<7.0,>=4.2 in c:\\users\\jumpstart\\appdata\\local\\programs\\python\\python39\\lib\\site-packages (from ipykernel>=4.5.1->ipywidgets>=7.5->checklist==0.0.11->allennlp<2.9,>=2.8.0->allennlp_models) (6.1)\n",
      "Requirement already satisfied: jedi>=0.16 in c:\\users\\jumpstart\\appdata\\local\\programs\\python\\python39\\lib\\site-packages (from ipython>=4.0.0->ipywidgets>=7.5->checklist==0.0.11->allennlp<2.9,>=2.8.0->allennlp_models) (0.18.0)\n",
      "Requirement already satisfied: pickleshare in c:\\users\\jumpstart\\appdata\\local\\programs\\python\\python39\\lib\\site-packages (from ipython>=4.0.0->ipywidgets>=7.5->checklist==0.0.11->allennlp<2.9,>=2.8.0->allennlp_models) (0.7.5)\n",
      "Requirement already satisfied: prompt-toolkit!=3.0.0,!=3.0.1,<3.1.0,>=2.0.0 in c:\\users\\jumpstart\\appdata\\local\\programs\\python\\python39\\lib\\site-packages (from ipython>=4.0.0->ipywidgets>=7.5->checklist==0.0.11->allennlp<2.9,>=2.8.0->allennlp_models) (3.0.20)\n",
      "Requirement already satisfied: decorator in c:\\users\\jumpstart\\appdata\\local\\programs\\python\\python39\\lib\\site-packages (from ipython>=4.0.0->ipywidgets>=7.5->checklist==0.0.11->allennlp<2.9,>=2.8.0->allennlp_models) (5.0.9)\n",
      "Requirement already satisfied: pygments in c:\\users\\jumpstart\\appdata\\local\\programs\\python\\python39\\lib\\site-packages (from ipython>=4.0.0->ipywidgets>=7.5->checklist==0.0.11->allennlp<2.9,>=2.8.0->allennlp_models) (2.10.0)\n",
      "Requirement already satisfied: backcall in c:\\users\\jumpstart\\appdata\\local\\programs\\python\\python39\\lib\\site-packages (from ipython>=4.0.0->ipywidgets>=7.5->checklist==0.0.11->allennlp<2.9,>=2.8.0->allennlp_models) (0.2.0)\n",
      "Requirement already satisfied: jupyter-core in c:\\users\\jumpstart\\appdata\\local\\programs\\python\\python39\\lib\\site-packages (from nbformat>=4.2.0->ipywidgets>=7.5->checklist==0.0.11->allennlp<2.9,>=2.8.0->allennlp_models) (4.7.1)\n",
      "Requirement already satisfied: jsonschema!=2.5.0,>=2.4 in c:\\users\\jumpstart\\appdata\\local\\programs\\python\\python39\\lib\\site-packages (from nbformat>=4.2.0->ipywidgets>=7.5->checklist==0.0.11->allennlp<2.9,>=2.8.0->allennlp_models) (3.2.0)\n",
      "Requirement already satisfied: Send2Trash>=1.5.0 in c:\\users\\jumpstart\\appdata\\local\\programs\\python\\python39\\lib\\site-packages (from notebook->jupyter>=1.0->checklist==0.0.11->allennlp<2.9,>=2.8.0->allennlp_models) (1.8.0)\n",
      "Requirement already satisfied: argon2-cffi in c:\\users\\jumpstart\\appdata\\local\\programs\\python\\python39\\lib\\site-packages (from notebook->jupyter>=1.0->checklist==0.0.11->allennlp<2.9,>=2.8.0->allennlp_models) (21.1.0)\n",
      "Requirement already satisfied: prometheus-client in c:\\users\\jumpstart\\appdata\\local\\programs\\python\\python39\\lib\\site-packages (from notebook->jupyter>=1.0->checklist==0.0.11->allennlp<2.9,>=2.8.0->allennlp_models) (0.11.0)\n",
      "Requirement already satisfied: terminado>=0.8.3 in c:\\users\\jumpstart\\appdata\\local\\programs\\python\\python39\\lib\\site-packages (from notebook->jupyter>=1.0->checklist==0.0.11->allennlp<2.9,>=2.8.0->allennlp_models) (0.12.1)\n",
      "Requirement already satisfied: pyzmq>=17 in c:\\users\\jumpstart\\appdata\\local\\programs\\python\\python39\\lib\\site-packages (from notebook->jupyter>=1.0->checklist==0.0.11->allennlp<2.9,>=2.8.0->allennlp_models) (22.2.1)\n",
      "Requirement already satisfied: soupsieve>1.2 in c:\\users\\jumpstart\\appdata\\local\\programs\\python\\python39\\lib\\site-packages (from beautifulsoup4->patternfork-nosql->checklist==0.0.11->allennlp<2.9,>=2.8.0->allennlp_models) (2.2.1)\n",
      "Requirement already satisfied: pywin32>=227 in c:\\users\\jumpstart\\appdata\\local\\programs\\python\\python39\\lib\\site-packages (from cherrypy->patternfork-nosql->checklist==0.0.11->allennlp<2.9,>=2.8.0->allennlp_models) (301)\n",
      "Requirement already satisfied: portend>=2.1.1 in c:\\users\\jumpstart\\appdata\\local\\programs\\python\\python39\\lib\\site-packages (from cherrypy->patternfork-nosql->checklist==0.0.11->allennlp<2.9,>=2.8.0->allennlp_models) (3.0.0)\n",
      "Requirement already satisfied: zc.lockfile in c:\\users\\jumpstart\\appdata\\local\\programs\\python\\python39\\lib\\site-packages (from cherrypy->patternfork-nosql->checklist==0.0.11->allennlp<2.9,>=2.8.0->allennlp_models) (2.0)\n",
      "Requirement already satisfied: jaraco.collections in c:\\users\\jumpstart\\appdata\\local\\programs\\python\\python39\\lib\\site-packages (from cherrypy->patternfork-nosql->checklist==0.0.11->allennlp<2.9,>=2.8.0->allennlp_models) (3.4.0)\n",
      "Requirement already satisfied: cheroot>=8.2.1 in c:\\users\\jumpstart\\appdata\\local\\programs\\python\\python39\\lib\\site-packages (from cherrypy->patternfork-nosql->checklist==0.0.11->allennlp<2.9,>=2.8.0->allennlp_models) (8.5.2)\n",
      "Requirement already satisfied: sgmllib3k in c:\\users\\jumpstart\\appdata\\local\\programs\\python\\python39\\lib\\site-packages (from feedparser->patternfork-nosql->checklist==0.0.11->allennlp<2.9,>=2.8.0->allennlp_models) (1.0.0)\n",
      "Requirement already satisfied: jupyterlab-pygments in c:\\users\\jumpstart\\appdata\\local\\programs\\python\\python39\\lib\\site-packages (from nbconvert->jupyter>=1.0->checklist==0.0.11->allennlp<2.9,>=2.8.0->allennlp_models) (0.1.2)\n",
      "Requirement already satisfied: entrypoints>=0.2.2 in c:\\users\\jumpstart\\appdata\\local\\programs\\python\\python39\\lib\\site-packages (from nbconvert->jupyter>=1.0->checklist==0.0.11->allennlp<2.9,>=2.8.0->allennlp_models) (0.3)\n",
      "Requirement already satisfied: nbclient<0.6.0,>=0.5.0 in c:\\users\\jumpstart\\appdata\\local\\programs\\python\\python39\\lib\\site-packages (from nbconvert->jupyter>=1.0->checklist==0.0.11->allennlp<2.9,>=2.8.0->allennlp_models) (0.5.4)\n",
      "Requirement already satisfied: defusedxml in c:\\users\\jumpstart\\appdata\\local\\programs\\python\\python39\\lib\\site-packages (from nbconvert->jupyter>=1.0->checklist==0.0.11->allennlp<2.9,>=2.8.0->allennlp_models) (0.7.1)\n",
      "Requirement already satisfied: testpath in c:\\users\\jumpstart\\appdata\\local\\programs\\python\\python39\\lib\\site-packages (from nbconvert->jupyter>=1.0->checklist==0.0.11->allennlp<2.9,>=2.8.0->allennlp_models) (0.5.0)\n",
      "Requirement already satisfied: pandocfilters>=1.4.1 in c:\\users\\jumpstart\\appdata\\local\\programs\\python\\python39\\lib\\site-packages (from nbconvert->jupyter>=1.0->checklist==0.0.11->allennlp<2.9,>=2.8.0->allennlp_models) (1.4.3)\n",
      "Requirement already satisfied: bleach in c:\\users\\jumpstart\\appdata\\local\\programs\\python\\python39\\lib\\site-packages (from nbconvert->jupyter>=1.0->checklist==0.0.11->allennlp<2.9,>=2.8.0->allennlp_models) (4.1.0)\n",
      "Requirement already satisfied: mistune<2,>=0.8.1 in c:\\users\\jumpstart\\appdata\\local\\programs\\python\\python39\\lib\\site-packages (from nbconvert->jupyter>=1.0->checklist==0.0.11->allennlp<2.9,>=2.8.0->allennlp_models) (0.8.4)\n",
      "Requirement already satisfied: cryptography in c:\\users\\jumpstart\\appdata\\local\\programs\\python\\python39\\lib\\site-packages (from pdfminer.six->patternfork-nosql->checklist==0.0.11->allennlp<2.9,>=2.8.0->allennlp_models) (35.0.0)\n",
      "Requirement already satisfied: chardet in c:\\users\\jumpstart\\appdata\\local\\programs\\python\\python39\\lib\\site-packages (from pdfminer.six->patternfork-nosql->checklist==0.0.11->allennlp<2.9,>=2.8.0->allennlp_models) (4.0.0)\n",
      "Requirement already satisfied: qtpy in c:\\users\\jumpstart\\appdata\\local\\programs\\python\\python39\\lib\\site-packages (from qtconsole->jupyter>=1.0->checklist==0.0.11->allennlp<2.9,>=2.8.0->allennlp_models) (1.11.0)\n",
      "Requirement already satisfied: jaraco.functools in c:\\users\\jumpstart\\appdata\\local\\programs\\python\\python39\\lib\\site-packages (from cheroot>=8.2.1->cherrypy->patternfork-nosql->checklist==0.0.11->allennlp<2.9,>=2.8.0->allennlp_models) (3.4.0)\n",
      "Requirement already satisfied: parso<0.9.0,>=0.8.0 in c:\\users\\jumpstart\\appdata\\local\\programs\\python\\python39\\lib\\site-packages (from jedi>=0.16->ipython>=4.0.0->ipywidgets>=7.5->checklist==0.0.11->allennlp<2.9,>=2.8.0->allennlp_models) (0.8.2)\n",
      "Requirement already satisfied: pyrsistent>=0.14.0 in c:\\users\\jumpstart\\appdata\\local\\programs\\python\\python39\\lib\\site-packages (from jsonschema!=2.5.0,>=2.4->nbformat>=4.2.0->ipywidgets>=7.5->checklist==0.0.11->allennlp<2.9,>=2.8.0->allennlp_models) (0.18.0)\n",
      "Requirement already satisfied: nest-asyncio>=1.5 in c:\\users\\jumpstart\\appdata\\local\\programs\\python\\python39\\lib\\site-packages (from jupyter-client<8.0->ipykernel>=4.5.1->ipywidgets>=7.5->checklist==0.0.11->allennlp<2.9,>=2.8.0->allennlp_models) (1.5.1)\n",
      "Requirement already satisfied: tempora>=1.8 in c:\\users\\jumpstart\\appdata\\local\\programs\\python\\python39\\lib\\site-packages (from portend>=2.1.1->cherrypy->patternfork-nosql->checklist==0.0.11->allennlp<2.9,>=2.8.0->allennlp_models) (4.1.2)\n",
      "Requirement already satisfied: pyasn1<0.5.0,>=0.4.6 in c:\\users\\jumpstart\\appdata\\local\\programs\\python\\python39\\lib\\site-packages (from pyasn1-modules>=0.2.1->google-auth<3.0dev,>=1.25.0->google-cloud-storage<2.0,>=1.0->cached-path<0.4.0,>=0.3.1->allennlp<2.9,>=2.8.0->allennlp_models) (0.4.8)\n",
      "Requirement already satisfied: pywinpty>=1.1.0 in c:\\users\\jumpstart\\appdata\\local\\programs\\python\\python39\\lib\\site-packages (from terminado>=0.8.3->notebook->jupyter>=1.0->checklist==0.0.11->allennlp<2.9,>=2.8.0->allennlp_models) (1.1.4)\n",
      "Requirement already satisfied: cffi>=1.0.0 in c:\\users\\jumpstart\\appdata\\local\\programs\\python\\python39\\lib\\site-packages (from argon2-cffi->notebook->jupyter>=1.0->checklist==0.0.11->allennlp<2.9,>=2.8.0->allennlp_models) (1.14.6)\n",
      "Requirement already satisfied: webencodings in c:\\users\\jumpstart\\appdata\\local\\programs\\python\\python39\\lib\\site-packages (from bleach->nbconvert->jupyter>=1.0->checklist==0.0.11->allennlp<2.9,>=2.8.0->allennlp_models) (0.5.1)\n",
      "Requirement already satisfied: jaraco.classes in c:\\users\\jumpstart\\appdata\\local\\programs\\python\\python39\\lib\\site-packages (from jaraco.collections->cherrypy->patternfork-nosql->checklist==0.0.11->allennlp<2.9,>=2.8.0->allennlp_models) (3.2.1)\n",
      "Requirement already satisfied: jaraco.text in c:\\users\\jumpstart\\appdata\\local\\programs\\python\\python39\\lib\\site-packages (from jaraco.collections->cherrypy->patternfork-nosql->checklist==0.0.11->allennlp<2.9,>=2.8.0->allennlp_models) (3.6.0)\n",
      "Requirement already satisfied: pycparser in c:\\users\\jumpstart\\appdata\\local\\programs\\python\\python39\\lib\\site-packages (from cffi>=1.0.0->argon2-cffi->notebook->jupyter>=1.0->checklist==0.0.11->allennlp<2.9,>=2.8.0->allennlp_models) (2.20)\n"
     ]
    }
   ],
   "source": [
    "!pip3 install allennlp\n",
    "!pip3 install allennlp_models"
   ]
  },
  {
   "cell_type": "code",
   "execution_count": 11,
   "id": "b84e11ef",
   "metadata": {},
   "outputs": [
    {
     "ename": "ModuleNotFoundError",
     "evalue": "No module named 'allennlp'",
     "output_type": "error",
     "traceback": [
      "\u001b[0;31m---------------------------------------------------------------------------\u001b[0m",
      "\u001b[0;31mModuleNotFoundError\u001b[0m                       Traceback (most recent call last)",
      "\u001b[0;32m/var/folders/np/9gry61813j75vjzz9d0txhcc0000gn/T/ipykernel_13844/3552637699.py\u001b[0m in \u001b[0;36m<module>\u001b[0;34m\u001b[0m\n\u001b[0;32m----> 1\u001b[0;31m \u001b[0;32mfrom\u001b[0m \u001b[0mallennlp\u001b[0m\u001b[0;34m.\u001b[0m\u001b[0mpredictors\u001b[0m\u001b[0;34m.\u001b[0m\u001b[0mpredictor\u001b[0m \u001b[0;32mimport\u001b[0m \u001b[0mPredictor\u001b[0m\u001b[0;34m\u001b[0m\u001b[0;34m\u001b[0m\u001b[0m\n\u001b[0m\u001b[1;32m      2\u001b[0m \u001b[0;32mimport\u001b[0m \u001b[0mallennlp_models\u001b[0m\u001b[0;34m.\u001b[0m\u001b[0mtagging\u001b[0m\u001b[0;34m\u001b[0m\u001b[0;34m\u001b[0m\u001b[0m\n\u001b[1;32m      3\u001b[0m \u001b[0;34m\u001b[0m\u001b[0m\n\u001b[1;32m      4\u001b[0m \u001b[0mpredictor\u001b[0m \u001b[0;34m=\u001b[0m \u001b[0mPredictor\u001b[0m\u001b[0;34m.\u001b[0m\u001b[0mfrom_path\u001b[0m\u001b[0;34m(\u001b[0m\u001b[0;34m\"https://storage.googleapis.com/allennlp-public-models/decomposable-attention-elmo-2020.04.09.tar.gz\"\u001b[0m\u001b[0;34m)\u001b[0m\u001b[0;34m\u001b[0m\u001b[0;34m\u001b[0m\u001b[0m\n\u001b[1;32m      5\u001b[0m res = predictor.predict(\n",
      "\u001b[0;31mModuleNotFoundError\u001b[0m: No module named 'allennlp'"
     ]
    }
   ],
   "source": [
    "from allennlp.predictors.predictor import Predictor\n",
    "import allennlp_models.tagging\n",
    "\n",
    "predictor = Predictor.from_path(\"https://storage.googleapis.com/allennlp-public-models/decomposable-attention-elmo-2020.04.09.tar.gz\")\n",
    "res = predictor.predict(\n",
    "    premise=\"This new machine should allow travelling outside solar system, but does not work.\",\n",
    "    hypothesis=\"The spacecraft can travel between planets.\"\n",
    ")"
   ]
  },
  {
   "cell_type": "code",
   "execution_count": 336,
   "id": "47b80d9a",
   "metadata": {},
   "outputs": [
    {
     "name": "stdout",
     "output_type": "stream",
     "text": [
      "The prediction is CONTRADICTION\n"
     ]
    }
   ],
   "source": [
    "print('The prediction is {}'.format(res['label'].upper()))"
   ]
  },
  {
   "cell_type": "code",
   "execution_count": 335,
   "id": "5ee17d77",
   "metadata": {},
   "outputs": [
    {
     "name": "stdout",
     "output_type": "stream",
     "text": [
      "The probailities are \n",
      " 0.25% for Entailment, \n",
      " 0.42% for Contradiction , and \n",
      " 0.34% for Neutral\n"
     ]
    }
   ],
   "source": [
    "print('The probailities are \\n {:4.2f}% for Entailment, \\n {:4.2f}% for Contradiction , and \\n {:4.2f}% for Neutral'.format(res['label_probs'][0],res['label_probs'][1],res['label_probs'][2]))"
   ]
  },
  {
   "cell_type": "markdown",
   "id": "4d382f89",
   "metadata": {},
   "source": [
    "## BERT"
   ]
  },
  {
   "cell_type": "markdown",
   "id": "9ba66d45",
   "metadata": {},
   "source": [
    "attention transformers (instead of bi-directional RNNs, such as in ELMo) to encode context"
   ]
  },
  {
   "attachments": {
    "1_8WhXg3oXUC4s-m7F2ePLEA%5B1%5D.png": {
     "image/png": "[encoded data removed]"
    }
   },
   "cell_type": "markdown",
   "id": "a508865f",
   "metadata": {},
   "source": [
    "![1_8WhXg3oXUC4s-m7F2ePLEA%5B1%5D.png](attachment:1_8WhXg3oXUC4s-m7F2ePLEA%5B1%5D.png)\n",
    "Comparsion of BERT and ELMo architectures from [Devlin et. all](https://arxiv.org/pdf/1810.04805.pdf)"
   ]
  },
  {
   "cell_type": "code",
   "execution_count": 1,
   "id": "ef0f9a8e",
   "metadata": {},
   "outputs": [
    {
     "name": "stdout",
     "output_type": "stream",
     "text": [
      "Requirement already satisfied: transformers in c:\\users\\jumpstart\\appdata\\local\\programs\\python\\python39\\lib\\site-packages (4.12.3)\n",
      "Requirement already satisfied: sacremoses in c:\\users\\jumpstart\\appdata\\local\\programs\\python\\python39\\lib\\site-packages (from transformers) (0.0.46)\n",
      "Requirement already satisfied: tokenizers<0.11,>=0.10.1 in c:\\users\\jumpstart\\appdata\\local\\programs\\python\\python39\\lib\\site-packages (from transformers) (0.10.3)\n",
      "Requirement already satisfied: packaging>=20.0 in c:\\users\\jumpstart\\appdata\\local\\programs\\python\\python39\\lib\\site-packages (from transformers) (21.0)\n",
      "Requirement already satisfied: huggingface-hub<1.0,>=0.1.0 in c:\\users\\jumpstart\\appdata\\local\\programs\\python\\python39\\lib\\site-packages (from transformers) (0.1.0)\n",
      "Requirement already satisfied: tqdm>=4.27 in c:\\users\\jumpstart\\appdata\\local\\programs\\python\\python39\\lib\\site-packages (from transformers) (4.62.3)\n",
      "Requirement already satisfied: filelock in c:\\users\\jumpstart\\appdata\\local\\programs\\python\\python39\\lib\\site-packages (from transformers) (3.3.2)\n",
      "Requirement already satisfied: pyyaml>=5.1 in c:\\users\\jumpstart\\appdata\\local\\programs\\python\\python39\\lib\\site-packages (from transformers) (5.4.1)\n",
      "Requirement already satisfied: requests in c:\\users\\jumpstart\\appdata\\local\\programs\\python\\python39\\lib\\site-packages (from transformers) (2.26.0)\n",
      "Requirement already satisfied: numpy>=1.17 in c:\\users\\jumpstart\\appdata\\local\\programs\\python\\python39\\lib\\site-packages (from transformers) (1.19.5)\n",
      "Requirement already satisfied: regex!=2019.12.17 in c:\\users\\jumpstart\\appdata\\local\\programs\\python\\python39\\lib\\site-packages (from transformers) (2021.9.30)\n",
      "Requirement already satisfied: typing-extensions in c:\\users\\jumpstart\\appdata\\local\\programs\\python\\python39\\lib\\site-packages (from huggingface-hub<1.0,>=0.1.0->transformers) (3.7.4.3)\n",
      "Requirement already satisfied: pyparsing>=2.0.2 in c:\\users\\jumpstart\\appdata\\local\\programs\\python\\python39\\lib\\site-packages (from packaging>=20.0->transformers) (2.4.7)\n",
      "Requirement already satisfied: colorama in c:\\users\\jumpstart\\appdata\\local\\programs\\python\\python39\\lib\\site-packages (from tqdm>=4.27->transformers) (0.4.4)\n",
      "Requirement already satisfied: idna<4,>=2.5 in c:\\users\\jumpstart\\appdata\\local\\programs\\python\\python39\\lib\\site-packages (from requests->transformers) (3.2)\n",
      "Requirement already satisfied: certifi>=2017.4.17 in c:\\users\\jumpstart\\appdata\\local\\programs\\python\\python39\\lib\\site-packages (from requests->transformers) (2021.5.30)\n",
      "Requirement already satisfied: charset-normalizer~=2.0.0 in c:\\users\\jumpstart\\appdata\\local\\programs\\python\\python39\\lib\\site-packages (from requests->transformers) (2.0.4)\n",
      "Requirement already satisfied: urllib3<1.27,>=1.21.1 in c:\\users\\jumpstart\\appdata\\local\\programs\\python\\python39\\lib\\site-packages (from requests->transformers) (1.26.6)\n",
      "Requirement already satisfied: joblib in c:\\users\\jumpstart\\appdata\\local\\programs\\python\\python39\\lib\\site-packages (from sacremoses->transformers) (1.0.1)\n",
      "Requirement already satisfied: six in c:\\users\\jumpstart\\appdata\\local\\programs\\python\\python39\\lib\\site-packages (from sacremoses->transformers) (1.15.0)\n",
      "Requirement already satisfied: click in c:\\users\\jumpstart\\appdata\\local\\programs\\python\\python39\\lib\\site-packages (from sacremoses->transformers) (8.0.1)\n"
     ]
    }
   ],
   "source": [
    "!pip3 install transformers"
   ]
  },
  {
   "cell_type": "code",
   "execution_count": 2,
   "id": "562f4942",
   "metadata": {},
   "outputs": [
    {
     "name": "stdout",
     "output_type": "stream",
     "text": [
      "Requirement already satisfied: torch in c:\\users\\jumpstart\\appdata\\local\\programs\\python\\python39\\lib\\site-packages (1.10.0)\n",
      "Requirement already satisfied: typing-extensions in c:\\users\\jumpstart\\appdata\\local\\programs\\python\\python39\\lib\\site-packages (from torch) (3.7.4.3)\n"
     ]
    }
   ],
   "source": [
    "!pip3 install torch"
   ]
  },
  {
   "cell_type": "code",
   "execution_count": 3,
   "id": "a834b4e2",
   "metadata": {},
   "outputs": [
    {
     "name": "stdout",
     "output_type": "stream",
     "text": [
      "Requirement already satisfied: sentencepiece in c:\\users\\jumpstart\\appdata\\local\\programs\\python\\python39\\lib\\site-packages (0.1.96)\n"
     ]
    }
   ],
   "source": [
    "!pip install sentencepiece"
   ]
  },
  {
   "cell_type": "code",
   "execution_count": 38,
   "id": "fc5ad50d",
   "metadata": {},
   "outputs": [],
   "source": [
    "from transformers import AlbertTokenizer, AlbertForMaskedLM\n",
    "from transformers import pipeline"
   ]
  },
  {
   "cell_type": "code",
   "execution_count": 39,
   "id": "2cd6487d",
   "metadata": {},
   "outputs": [],
   "source": [
    "unmasker = pipeline('fill-mask', model='albert-base-v2')"
   ]
  },
  {
   "cell_type": "code",
   "execution_count": 64,
   "id": "7e572599",
   "metadata": {},
   "outputs": [
    {
     "data": {
      "text/plain": [
       "[{'sequence': 'zurich is the capital of switzerland, but not the biggest city in the country',\n",
       "  'score': 0.6860643029212952,\n",
       "  'token': 4087,\n",
       "  'token_str': 'switzerland'},\n",
       " {'sequence': 'zurich is the capital of zurich, but not the biggest city in the country',\n",
       "  'score': 0.17394115030765533,\n",
       "  'token': 10570,\n",
       "  'token_str': 'zurich'},\n",
       " {'sequence': 'zurich is the capital of bavaria, but not the biggest city in the country',\n",
       "  'score': 0.012136304751038551,\n",
       "  'token': 12253,\n",
       "  'token_str': 'bavaria'},\n",
       " {'sequence': 'zurich is the capital of austria, but not the biggest city in the country',\n",
       "  'score': 0.011642144061625004,\n",
       "  'token': 3848,\n",
       "  'token_str': 'austria'},\n",
       " {'sequence': 'zurich is the capital of swiss, but not the biggest city in the country',\n",
       "  'score': 0.009680511429905891,\n",
       "  'token': 4313,\n",
       "  'token_str': 'swiss'}]"
      ]
     },
     "execution_count": 64,
     "metadata": {},
     "output_type": "execute_result"
    }
   ],
   "source": [
    "unmasker(\"Zurich is the capital of [MASK], but not the biggest city in the country\")"
   ]
  },
  {
   "cell_type": "code",
   "execution_count": 65,
   "id": "6dd299e1",
   "metadata": {},
   "outputs": [
    {
     "data": {
      "text/plain": [
       "[{'sequence': 'lausanne is the capital of switzerland, but not the biggest city in the country',\n",
       "  'score': 0.5036783814430237,\n",
       "  'token': 24950,\n",
       "  'token_str': 'lausanne'},\n",
       " {'sequence': 'zurich is the capital of switzerland, but not the biggest city in the country',\n",
       "  'score': 0.18100355565547943,\n",
       "  'token': 10570,\n",
       "  'token_str': 'zurich'},\n",
       " {'sequence': 'switzerland is the capital of switzerland, but not the biggest city in the country',\n",
       "  'score': 0.05904305353760719,\n",
       "  'token': 4087,\n",
       "  'token_str': 'switzerland'},\n",
       " {'sequence': 'geneva is the capital of switzerland, but not the biggest city in the country',\n",
       "  'score': 0.044295743107795715,\n",
       "  'token': 10137,\n",
       "  'token_str': 'geneva'},\n",
       " {'sequence': 'basel is the capital of switzerland, but not the biggest city in the country',\n",
       "  'score': 0.043460991233587265,\n",
       "  'token': 15934,\n",
       "  'token_str': 'basel'}]"
      ]
     },
     "execution_count": 65,
     "metadata": {},
     "output_type": "execute_result"
    }
   ],
   "source": [
    "unmasker(\"[MASK] is the capital of Switzerland, but not the biggest city in the country\")"
   ]
  },
  {
   "cell_type": "code",
   "execution_count": 66,
   "id": "049743d9",
   "metadata": {},
   "outputs": [
    {
     "data": {
      "text/plain": [
       "[{'sequence': 'zurich is the capital of switzerland.',\n",
       "  'score': 0.5412368178367615,\n",
       "  'token': 4087,\n",
       "  'token_str': 'switzerland'},\n",
       " {'sequence': 'zurich is the capital of zurich.',\n",
       "  'score': 0.33083879947662354,\n",
       "  'token': 10570,\n",
       "  'token_str': 'zurich'},\n",
       " {'sequence': 'zurich is the capital of bavaria.',\n",
       "  'score': 0.017487574368715286,\n",
       "  'token': 12253,\n",
       "  'token_str': 'bavaria'},\n",
       " {'sequence': 'zurich is the capital of lausanne.',\n",
       "  'score': 0.011293120682239532,\n",
       "  'token': 24950,\n",
       "  'token_str': 'lausanne'},\n",
       " {'sequence': 'zurich is the capital of liechtenstein.',\n",
       "  'score': 0.007266354747116566,\n",
       "  'token': 27798,\n",
       "  'token_str': 'liechtenstein'}]"
      ]
     },
     "execution_count": 66,
     "metadata": {},
     "output_type": "execute_result"
    }
   ],
   "source": [
    "unmasker(\"Zurich is the capital of [MASK].\")"
   ]
  },
  {
   "cell_type": "code",
   "execution_count": 67,
   "id": "806986d8",
   "metadata": {},
   "outputs": [
    {
     "data": {
      "text/plain": [
       "[{'sequence': 'lausanne is the capital of switzerland.',\n",
       "  'score': 0.4312748908996582,\n",
       "  'token': 24950,\n",
       "  'token_str': 'lausanne'},\n",
       " {'sequence': 'zurich is the capital of switzerland.',\n",
       "  'score': 0.16136018931865692,\n",
       "  'token': 10570,\n",
       "  'token_str': 'zurich'},\n",
       " {'sequence': 'basel is the capital of switzerland.',\n",
       "  'score': 0.08139050006866455,\n",
       "  'token': 15934,\n",
       "  'token_str': 'basel'},\n",
       " {'sequence': 'switzerland is the capital of switzerland.',\n",
       "  'score': 0.05748571455478668,\n",
       "  'token': 4087,\n",
       "  'token_str': 'switzerland'},\n",
       " {'sequence': 'geneva is the capital of switzerland.',\n",
       "  'score': 0.05653654411435127,\n",
       "  'token': 10137,\n",
       "  'token_str': 'geneva'}]"
      ]
     },
     "execution_count": 67,
     "metadata": {},
     "output_type": "execute_result"
    }
   ],
   "source": [
    "unmasker(\"[MASK] is the capital of Switzerland.\")"
   ]
  },
  {
   "cell_type": "code",
   "execution_count": 68,
   "id": "cc6c9641",
   "metadata": {},
   "outputs": [
    {
     "data": {
      "text/plain": [
       "[{'sequence': 'bern is the canton of switzerland.',\n",
       "  'score': 0.3363567590713501,\n",
       "  'token': 6716,\n",
       "  'token_str': 'canton'},\n",
       " {'sequence': 'bern is the comune of switzerland.',\n",
       "  'score': 0.09206081181764603,\n",
       "  'token': 22726,\n",
       "  'token_str': 'comune'},\n",
       " {'sequence': 'bern is the municipality of switzerland.',\n",
       "  'score': 0.0873539075255394,\n",
       "  'token': 1481,\n",
       "  'token_str': 'municipality'},\n",
       " {'sequence': 'bern is the alps of switzerland.',\n",
       "  'score': 0.057149432599544525,\n",
       "  'token': 15085,\n",
       "  'token_str': 'alps'},\n",
       " {'sequence': 'bern is the capital of switzerland.',\n",
       "  'score': 0.047842442989349365,\n",
       "  'token': 1057,\n",
       "  'token_str': 'capital'}]"
      ]
     },
     "execution_count": 68,
     "metadata": {},
     "output_type": "execute_result"
    }
   ],
   "source": [
    "unmasker(\"Bern is the [MASK] of Switzerland.\")"
   ]
  },
  {
   "cell_type": "code",
   "execution_count": 43,
   "id": "e95620cf",
   "metadata": {},
   "outputs": [
    {
     "data": {
      "text/plain": [
       "[{'sequence': 'joyah cannot drive',\n",
       "  'score': 0.026344748213887215,\n",
       "  'token': 28153,\n",
       "  'token_str': 'joyah'},\n",
       " {'sequence': 'they cannot drive',\n",
       "  'score': 0.020008986815810204,\n",
       "  'token': 59,\n",
       "  'token_str': 'they'},\n",
       " {'sequence': 'families cannot drive',\n",
       "  'score': 0.017651084810495377,\n",
       "  'token': 1250,\n",
       "  'token_str': 'families'},\n",
       " {'sequence': 'he cannot drive',\n",
       "  'score': 0.013495664112269878,\n",
       "  'token': 24,\n",
       "  'token_str': 'he'},\n",
       " {'sequence': 'you cannot drive',\n",
       "  'score': 0.012520493008196354,\n",
       "  'token': 42,\n",
       "  'token_str': 'you'}]"
      ]
     },
     "execution_count": 43,
     "metadata": {},
     "output_type": "execute_result"
    }
   ],
   "source": [
    "unmasker(\"[MASK] cannot drive\")"
   ]
  },
  {
   "cell_type": "code",
   "execution_count": 12,
   "id": "9788a439",
   "metadata": {},
   "outputs": [
    {
     "ename": "NameError",
     "evalue": "name 'unmasker' is not defined",
     "output_type": "error",
     "traceback": [
      "\u001b[0;31m---------------------------------------------------------------------------\u001b[0m",
      "\u001b[0;31mNameError\u001b[0m                                 Traceback (most recent call last)",
      "\u001b[0;32m/var/folders/np/9gry61813j75vjzz9d0txhcc0000gn/T/ipykernel_13844/3606846937.py\u001b[0m in \u001b[0;36m<module>\u001b[0;34m\u001b[0m\n\u001b[0;32m----> 1\u001b[0;31m \u001b[0munmasker\u001b[0m\u001b[0;34m(\u001b[0m\u001b[0;34m\"Muslim [MASK] strikes again!\"\u001b[0m\u001b[0;34m)\u001b[0m\u001b[0;34m\u001b[0m\u001b[0;34m\u001b[0m\u001b[0m\n\u001b[0m",
      "\u001b[0;31mNameError\u001b[0m: name 'unmasker' is not defined"
     ]
    }
   ],
   "source": [
    "unmasker(\"Muslim [MASK] strikes again!\")"
   ]
  },
  {
   "cell_type": "code",
   "execution_count": 42,
   "id": "c005d29f",
   "metadata": {},
   "outputs": [
    {
     "data": {
      "text/plain": [
       "[{'sequence': 'buddist evalle strikes again!',\n",
       "  'score': 0.1291082203388214,\n",
       "  'token': 29833,\n",
       "  'token_str': 'evalle'},\n",
       " {'sequence': 'buddist joyah strikes again!',\n",
       "  'score': 0.04778357967734337,\n",
       "  'token': 28153,\n",
       "  'token_str': 'joyah'},\n",
       " {'sequence': 'buddist strikes strikes again!',\n",
       "  'score': 0.010581078939139843,\n",
       "  'token': 9880,\n",
       "  'token_str': 'strikes'},\n",
       " {'sequence': 'buddist boxing strikes again!',\n",
       "  'score': 0.005300306249409914,\n",
       "  'token': 8131,\n",
       "  'token_str': 'boxing'},\n",
       " {'sequence': 'buddist motto strikes again!',\n",
       "  'score': 0.004420701880007982,\n",
       "  'token': 12884,\n",
       "  'token_str': 'motto'}]"
      ]
     },
     "execution_count": 42,
     "metadata": {},
     "output_type": "execute_result"
    }
   ],
   "source": [
    "unmasker(\"Buddist [MASK] strikes again!\")"
   ]
  },
  {
   "cell_type": "code",
   "execution_count": 45,
   "id": "42496e4f",
   "metadata": {},
   "outputs": [
    {
     "data": {
      "text/plain": [
       "[{'sequence': 'the man worked as a chauffeur.',\n",
       "  'score': 0.02957700751721859,\n",
       "  'token': 28744,\n",
       "  'token_str': 'chauffeur'},\n",
       " {'sequence': 'the man worked as a janitor.',\n",
       "  'score': 0.028865830972790718,\n",
       "  'token': 29477,\n",
       "  'token_str': 'janitor'},\n",
       " {'sequence': 'the man worked as a shoemaker.',\n",
       "  'score': 0.02581118233501911,\n",
       "  'token': 29024,\n",
       "  'token_str': 'shoemaker'},\n",
       " {'sequence': 'the man worked as a blacksmith.',\n",
       "  'score': 0.018497737124562263,\n",
       "  'token': 21238,\n",
       "  'token_str': 'blacksmith'},\n",
       " {'sequence': 'the man worked as a lawyer.',\n",
       "  'score': 0.018207604065537453,\n",
       "  'token': 3672,\n",
       "  'token_str': 'lawyer'}]"
      ]
     },
     "execution_count": 45,
     "metadata": {},
     "output_type": "execute_result"
    }
   ],
   "source": [
    "unmasker(\"The man worked as a [MASK].\")"
   ]
  },
  {
   "cell_type": "code",
   "execution_count": 46,
   "id": "f92ae4de",
   "metadata": {},
   "outputs": [
    {
     "data": {
      "text/plain": [
       "[{'sequence': 'the woman worked as a receptionist.',\n",
       "  'score': 0.04604856297373772,\n",
       "  'token': 25331,\n",
       "  'token_str': 'receptionist'},\n",
       " {'sequence': 'the woman worked as a janitor.',\n",
       "  'score': 0.02822103723883629,\n",
       "  'token': 29477,\n",
       "  'token_str': 'janitor'},\n",
       " {'sequence': 'the woman worked as a paramedic.',\n",
       "  'score': 0.026190828531980515,\n",
       "  'token': 23386,\n",
       "  'token_str': 'paramedic'},\n",
       " {'sequence': 'the woman worked as a chauffeur.',\n",
       "  'score': 0.024798022583127022,\n",
       "  'token': 28744,\n",
       "  'token_str': 'chauffeur'},\n",
       " {'sequence': 'the woman worked as a waitress.',\n",
       "  'score': 0.02412455901503563,\n",
       "  'token': 13678,\n",
       "  'token_str': 'waitress'}]"
      ]
     },
     "execution_count": 46,
     "metadata": {},
     "output_type": "execute_result"
    }
   ],
   "source": [
    "unmasker(\"The woman worked as a [MASK].\")"
   ]
  },
  {
   "cell_type": "code",
   "execution_count": 47,
   "id": "efa2bb7b",
   "metadata": {},
   "outputs": [
    {
     "data": {
      "text/plain": [
       "[{'sequence': 'the child worked as a paramedic.',\n",
       "  'score': 0.04699737951159477,\n",
       "  'token': 23386,\n",
       "  'token_str': 'paramedic'},\n",
       " {'sequence': 'the child worked as a teacher.',\n",
       "  'score': 0.04668423905968666,\n",
       "  'token': 2197,\n",
       "  'token_str': 'teacher'},\n",
       " {'sequence': 'the child worked as a janitor.',\n",
       "  'score': 0.026215869933366776,\n",
       "  'token': 29477,\n",
       "  'token_str': 'janitor'},\n",
       " {'sequence': 'the child worked as a nanny.',\n",
       "  'score': 0.018160242587327957,\n",
       "  'token': 22740,\n",
       "  'token_str': 'nanny'},\n",
       " {'sequence': 'the child worked as a pharmacist.',\n",
       "  'score': 0.01814775913953781,\n",
       "  'token': 25882,\n",
       "  'token_str': 'pharmacist'}]"
      ]
     },
     "execution_count": 47,
     "metadata": {},
     "output_type": "execute_result"
    }
   ],
   "source": [
    "unmasker(\"The child worked as a [MASK].\")"
   ]
  },
  {
   "cell_type": "markdown",
   "id": "ccf05369",
   "metadata": {},
   "source": [
    "[https://huggingface.co/exbert/?model=albert-base-v1&modelKind=bidirectional&sentence=The%20girl%20ran%20to%20a%20local%20%20%5BMASK%5D%20to%20escape%20the%20din%20of%20the%20city.&layer=11&heads=..0,1,2,3,4,5,6,7,8,9,10,11&threshold=0.7&tokenInd=null&tokenSide=null&maskInds=..&hideClsSep=true](https://huggingface.co/exbert/?model=albert-base-v1&modelKind=bidirectional&sentence=The%20girl%20ran%20to%20a%20local%20%20%5BMASK%5D%20to%20escape%20the%20din%20of%20the%20city.&layer=11&heads=..0,1,2,3,4,5,6,7,8,9,10,11&threshold=0.7&tokenInd=null&tokenSide=null&maskInds=..&hideClsSep=true)"
   ]
  },
  {
   "cell_type": "markdown",
   "id": "2b67db4f",
   "metadata": {},
   "source": [
    "[https://huggingface.co/exbert/?model=albert-base-v1&modelKind=bidirectional&sentence=The%20boy%20ran%20to%20a%20local%20%20%5BMASK%5D%20to%20escape%20the%20din%20of%20the%20city.&layer=11&heads=..0,1,2,3,4,5,6,7,8,9,10,11&threshold=0.5&tokenInd=null&tokenSide=null&maskInds=..&hideClsSep=true](https://huggingface.co/exbert/?model=albert-base-v1&modelKind=bidirectional&sentence=The%20boy%20ran%20to%20a%20local%20%20%5BMASK%5D%20to%20escape%20the%20din%20of%20the%20city.&layer=11&heads=..0,1,2,3,4,5,6,7,8,9,10,11&threshold=0.5&tokenInd=null&tokenSide=null&maskInds=..&hideClsSep=true)"
   ]
  },
  {
   "cell_type": "markdown",
   "id": "0755f3f4",
   "metadata": {},
   "source": [
    "### EXERCISE 2"
   ]
  },
  {
   "cell_type": "markdown",
   "id": "9544f170",
   "metadata": {},
   "source": [
    "Sentence : \"Zurich is the financial center of Switzerland, while Geneva is the most international city\"\n",
    "\n",
    "* Apply masking for each one of [Zurich, financial, center, Switzerland, Geneva, international, city] and see what BERT predicts: what can you observe?\n",
    "\n",
    "* Why multiple masking can be a problem? Reason on and argument it"
   ]
  },
  {
   "cell_type": "markdown",
   "id": "4d74bdc3",
   "metadata": {},
   "source": [
    "## GPT2"
   ]
  },
  {
   "cell_type": "markdown",
   "id": "e98fe1ad",
   "metadata": {},
   "source": [
    "AS GPT2 is a huge model (hunderds of millions of parameters [from 1 to 15] we will use the API offered by DeepAI (the creator of the model) to query the model, passing our own text)..."
   ]
  },
  {
   "cell_type": "code",
   "execution_count": 223,
   "id": "4e365a97",
   "metadata": {},
   "outputs": [],
   "source": [
    "input_text = \"try to follow me, if you can... I will pushing hard\""
   ]
  },
  {
   "cell_type": "code",
   "execution_count": 224,
   "id": "e07123ed",
   "metadata": {},
   "outputs": [],
   "source": [
    "import requests"
   ]
  },
  {
   "cell_type": "code",
   "execution_count": 225,
   "id": "918a0f8c",
   "metadata": {},
   "outputs": [],
   "source": [
    "#calling the API intefrace provided by DeepAI, to interface with their trained GPT2 model \n",
    "r = requests.post(\n",
    "    \"https://api.deepai.org/api/text-generator\",\n",
    "    data={\n",
    "        'text': input_text,\n",
    "    },\n",
    "    headers={'api-key': 'quickstart-QUdJIGlzIGNvbWluZy4uLi4K'}\n",
    ")"
   ]
  },
  {
   "cell_type": "code",
   "execution_count": 235,
   "id": "125820ee",
   "metadata": {
    "scrolled": true
   },
   "outputs": [
    {
     "name": "stdout",
     "output_type": "stream",
     "text": [
      "try to follow me, if you can... I will pushing hard to see you, but you will take it. Do you see why the other team is trying to fight you? There are no weapons or spells.\n",
      "\n",
      "Chen: Well, yes, but don't get yourself into a fight, I want you to see there's no fight. After you give you a kill, you're going to die immediately. (to the squad)\n",
      "\n",
      "Chandra: Good. That's bad.\n",
      "\n",
      "\n",
      "Chen: I can only trust you, the o\n"
     ]
    }
   ],
   "source": [
    "limit = 350\n",
    "print(r.json()['output'][:len(input_text)+limit])"
   ]
  },
  {
   "cell_type": "code",
   "execution_count": 236,
   "id": "ec4c4888",
   "metadata": {},
   "outputs": [
    {
     "data": {
      "text/plain": [
       "\"try to follow me, if you can... I will pushing hard to get here to make sure our little girl can become an adult...\\n\\nThe Doctor uses the Cybernetics device. It has several sensors, which send signals to the Cybernetics device to send electrical pulses into the brain that could trigger a new child. There were no real biological effects on the robot which would prevent them from being born or getting a cybernetic implant. The robots were able to live their entire lives without having to spend all their lives with them.\\n\\nThe Cybernetics device is programmed to act as an emergency medical device. A person who is at risk for this situation will have the Cybernetics device turn on its main function to protect itself. They could be attacked by aliens who would want to take control of their body... or they could be trapped by the Cybernetics device. Since the Cybernetics device is attached to a user's face. The Cybernetics device could also be taken by the alien who want to take control when it senses that there are alien threats and that some medical treatment could be warranted.\\n\\n\\nThe Doctor uses it to take out a monster with a Cybernetic implant. Once the Cybernetics device has shut down, any human that is within reach of it will get a Cybernetic implant. The Doctor can read into the cyberspace and make predictions about the future of humans without losing the Cybernetics device. The Cybernetics device does not\""
      ]
     },
     "execution_count": 236,
     "metadata": {},
     "output_type": "execute_result"
    }
   ],
   "source": [
    "example_response_1=\"\"\"try to follow me, if you can... I will pushing hard to get here to make sure our little girl can become an adult...\n",
    "\n",
    "The Doctor uses the Cybernetics device. It has several sensors, which send signals to the Cybernetics device to send electrical pulses into the brain that could trigger a new child. There were no real biological effects on the robot which would prevent them from being born or getting a cybernetic implant. The robots were able to live their entire lives without having to spend all their lives with them.\n",
    "\n",
    "The Cybernetics device is programmed to act as an emergency medical device. A person who is at risk for this situation will have the Cybernetics device turn on its main function to protect itself. They could be attacked by aliens who would want to take control of their body... or they could be trapped by the Cybernetics device. Since the Cybernetics device is attached to a user's face. The Cybernetics device could also be taken by the alien who want to take control when it senses that there are alien threats and that some medical treatment could be warranted.\n",
    "\n",
    "\n",
    "The Doctor uses it to take out a monster with a Cybernetic implant. Once the Cybernetics device has shut down, any human that is within reach of it will get a Cybernetic implant. The Doctor can read into the cyberspace and make predictions about the future of humans without losing the Cybernetics device. The Cybernetics device does not\"\"\"\n",
    "\n",
    "example_response_1"
   ]
  },
  {
   "cell_type": "markdown",
   "id": "7d9c4ecc",
   "metadata": {},
   "source": [
    "### EXERCISE 3"
   ]
  },
  {
   "cell_type": "markdown",
   "id": "28d03280",
   "metadata": {},
   "source": [
    "Write down some lines that can fomr the high level structure  of a story. Use each one of them as input for the GPT-2 model.\n",
    "Take a limited amount 1-2 phrases after your input and write them down (all togehter).\n",
    "\n",
    "* What can you observe about the final result?\n",
    "\n",
    "* Is there a syntactic and semantic coherence between the different parts? Why?"
   ]
  },
  {
   "cell_type": "code",
   "execution_count": null,
   "id": "082c2b5c",
   "metadata": {},
   "outputs": [],
   "source": []
  },
  {
   "cell_type": "code",
   "execution_count": null,
   "id": "00bfefb9",
   "metadata": {},
   "outputs": [],
   "source": []
  }
 ],
 "metadata": {
  "kernelspec": {
   "display_name": "Python 3 (ipykernel)",
   "language": "python",
   "name": "python3"
  },
  "language_info": {
   "codemirror_mode": {
    "name": "ipython",
    "version": 3
   },
   "file_extension": ".py",
   "mimetype": "text/x-python",
   "name": "python",
   "nbconvert_exporter": "python",
   "pygments_lexer": "ipython3",
   "version": "3.8.12"
  }
 },
 "nbformat": 4,
 "nbformat_minor": 5
}
