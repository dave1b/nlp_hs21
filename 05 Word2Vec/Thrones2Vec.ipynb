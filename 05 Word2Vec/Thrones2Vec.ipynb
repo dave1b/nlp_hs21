{
 "cells": [
  {
   "cell_type": "markdown",
   "metadata": {},
   "source": [
    "# Thrones2Vec"
   ]
  },
  {
   "cell_type": "markdown",
   "metadata": {},
   "source": [
    "Using only the raw text of [A Song of Ice and Fire](https://en.wikipedia.org/wiki/A_Song_of_Ice_and_Fire), we'll derive and explore the semantic properties of its words."
   ]
  },
  {
   "cell_type": "markdown",
   "metadata": {},
   "source": [
    "## Imports"
   ]
  },
  {
   "cell_type": "code",
   "execution_count": 1,
   "metadata": {
    "collapsed": true
   },
   "outputs": [],
   "source": [
    "from __future__ import absolute_import, division, print_function"
   ]
  },
  {
   "cell_type": "code",
   "execution_count": 2,
   "metadata": {
    "collapsed": false
   },
   "outputs": [],
   "source": [
    "import codecs\n",
    "import glob\n",
    "import logging\n",
    "import multiprocessing\n",
    "import os\n",
    "import pprint\n",
    "import re"
   ]
  },
  {
   "cell_type": "code",
   "execution_count": 3,
   "metadata": {
    "collapsed": true
   },
   "outputs": [],
   "source": [
    "import nltk\n",
    "import gensim.models.word2vec as w2v\n",
    "import sklearn.manifold\n",
    "import numpy as np\n",
    "import matplotlib.pyplot as plt\n",
    "import pandas as pd\n",
    "import seaborn as sns"
   ]
  },
  {
   "cell_type": "code",
   "execution_count": 4,
   "metadata": {
    "collapsed": false
   },
   "outputs": [
    {
     "name": "stdout",
     "output_type": "stream",
     "text": [
      "Populating the interactive namespace from numpy and matplotlib\n"
     ]
    }
   ],
   "source": [
    "%pylab inline"
   ]
  },
  {
   "cell_type": "markdown",
   "metadata": {},
   "source": [
    "**Set up logging**"
   ]
  },
  {
   "cell_type": "code",
   "execution_count": 5,
   "metadata": {
    "collapsed": false
   },
   "outputs": [],
   "source": [
    "logging.basicConfig(format='%(asctime)s : %(levelname)s : %(message)s', level=logging.INFO)"
   ]
  },
  {
   "cell_type": "markdown",
   "metadata": {
    "collapsed": true
   },
   "source": [
    "**Download NLTK tokenizer models (only the first time)**"
   ]
  },
  {
   "cell_type": "code",
   "execution_count": 6,
   "metadata": {
    "collapsed": false
   },
   "outputs": [
    {
     "name": "stderr",
     "output_type": "stream",
     "text": [
      "[nltk_data] Downloading package punkt to\n",
      "[nltk_data]     /Users/davebrunner/nltk_data...\n",
      "[nltk_data]   Package punkt is already up-to-date!\n",
      "[nltk_data] Downloading package stopwords to\n",
      "[nltk_data]     /Users/davebrunner/nltk_data...\n",
      "[nltk_data]   Unzipping corpora/stopwords.zip.\n"
     ]
    },
    {
     "data": {
      "text/plain": [
       "True"
      ]
     },
     "execution_count": 6,
     "metadata": {},
     "output_type": "execute_result"
    }
   ],
   "source": [
    "nltk.download(\"punkt\")\n",
    "nltk.download(\"stopwords\")"
   ]
  },
  {
   "cell_type": "markdown",
   "metadata": {},
   "source": [
    "## Prepare Corpus"
   ]
  },
  {
   "cell_type": "markdown",
   "metadata": {},
   "source": [
    "**Load books from files**"
   ]
  },
  {
   "cell_type": "code",
   "execution_count": 7,
   "metadata": {
    "collapsed": false
   },
   "outputs": [],
   "source": [
    "book_filenames = sorted(glob.glob(\"./data/*.txt\"))"
   ]
  },
  {
   "cell_type": "code",
   "execution_count": 8,
   "metadata": {
    "collapsed": false
   },
   "outputs": [
    {
     "name": "stdout",
     "output_type": "stream",
     "text": [
      "Found books:\n"
     ]
    },
    {
     "data": {
      "text/plain": [
       "['./data/got1.txt',\n",
       " './data/got2.txt',\n",
       " './data/got3.txt',\n",
       " './data/got4.txt',\n",
       " './data/got5.txt']"
      ]
     },
     "execution_count": 8,
     "metadata": {},
     "output_type": "execute_result"
    }
   ],
   "source": [
    "print(\"Found books:\")\n",
    "book_filenames"
   ]
  },
  {
   "cell_type": "markdown",
   "metadata": {},
   "source": [
    "**Combine the books into one string**"
   ]
  },
  {
   "cell_type": "code",
   "execution_count": 9,
   "metadata": {
    "collapsed": false
   },
   "outputs": [
    {
     "name": "stdout",
     "output_type": "stream",
     "text": [
      "Reading './data/got1.txt'...\n",
      "Corpus is now 1770659 characters long\n",
      "\n",
      "Reading './data/got2.txt'...\n",
      "Corpus is now 4071041 characters long\n",
      "\n",
      "Reading './data/got3.txt'...\n",
      "Corpus is now 6391405 characters long\n",
      "\n",
      "Reading './data/got4.txt'...\n",
      "Corpus is now 8107945 characters long\n",
      "\n",
      "Reading './data/got5.txt'...\n",
      "Corpus is now 9719485 characters long\n",
      "\n"
     ]
    }
   ],
   "source": [
    "corpus_raw = u\"\"\n",
    "for book_filename in book_filenames:\n",
    "    print(\"Reading '{0}'...\".format(book_filename))\n",
    "    with codecs.open(book_filename, \"r\", \"utf-8\") as book_file:\n",
    "        corpus_raw += book_file.read()\n",
    "    print(\"Corpus is now {0} characters long\".format(len(corpus_raw)))\n",
    "    print()"
   ]
  },
  {
   "cell_type": "markdown",
   "metadata": {},
   "source": [
    "**Split the corpus into sentences**"
   ]
  },
  {
   "cell_type": "code",
   "execution_count": 10,
   "metadata": {
    "collapsed": false
   },
   "outputs": [],
   "source": [
    "tokenizer = nltk.data.load('tokenizers/punkt/english.pickle')"
   ]
  },
  {
   "cell_type": "code",
   "execution_count": 11,
   "metadata": {
    "collapsed": false
   },
   "outputs": [],
   "source": [
    "raw_sentences = tokenizer.tokenize(corpus_raw)"
   ]
  },
  {
   "cell_type": "code",
   "execution_count": 12,
   "metadata": {
    "collapsed": false
   },
   "outputs": [],
   "source": [
    "#convert into a list of words\n",
    "#rtemove unnnecessary,, split into words, no hyphens\n",
    "#list of words\n",
    "def sentence_to_wordlist(raw):\n",
    "    clean = re.sub(\"[^a-zA-Z]\",\" \", raw)\n",
    "    words = clean.split()\n",
    "    return words"
   ]
  },
  {
   "cell_type": "code",
   "execution_count": 13,
   "metadata": {
    "collapsed": true
   },
   "outputs": [],
   "source": [
    "#sentence where each word is tokenized\n",
    "sentences = []\n",
    "for raw_sentence in raw_sentences:\n",
    "    if len(raw_sentence) > 0:\n",
    "        sentences.append(sentence_to_wordlist(raw_sentence))"
   ]
  },
  {
   "cell_type": "code",
   "execution_count": 14,
   "metadata": {
    "collapsed": false
   },
   "outputs": [
    {
     "name": "stdout",
     "output_type": "stream",
     "text": [
      "Heraldic crest by Virginia Norey.\n",
      "['Heraldic', 'crest', 'by', 'Virginia', 'Norey']\n"
     ]
    }
   ],
   "source": [
    "print(raw_sentences[5])\n",
    "print(sentence_to_wordlist(raw_sentences[5]))"
   ]
  },
  {
   "cell_type": "code",
   "execution_count": 15,
   "metadata": {
    "collapsed": false
   },
   "outputs": [
    {
     "name": "stdout",
     "output_type": "stream",
     "text": [
      "The book corpus contains 1,818,103 tokens\n"
     ]
    }
   ],
   "source": [
    "token_count = sum([len(sentence) for sentence in sentences])\n",
    "print(\"The book corpus contains {0:,} tokens\".format(token_count))"
   ]
  },
  {
   "cell_type": "code",
   "execution_count": null,
   "metadata": {},
   "outputs": [],
   "source": []
  },
  {
   "cell_type": "markdown",
   "metadata": {},
   "source": [
    "## Train Word2Vec"
   ]
  },
  {
   "cell_type": "code",
   "execution_count": 16,
   "metadata": {
    "collapsed": true
   },
   "outputs": [],
   "source": [
    "#ONCE we have vectors\n",
    "#step 3 - build model\n",
    "#3 main tasks that vectors help with\n",
    "#DISTANCE, SIMILARITY, RANKING\n",
    "\n",
    "# Dimensionality of the resulting word vectors.\n",
    "#more dimensions, more computationally expensive to train\n",
    "#but also more accurate\n",
    "#more dimensions = more generalized\n",
    "num_features = 300\n",
    "# Minimum word count threshold.\n",
    "min_word_count = 3\n",
    "\n",
    "# Number of threads to run in parallel.\n",
    "#more workers, faster we train\n",
    "num_workers = multiprocessing.cpu_count()\n",
    "\n",
    "# Context window length.\n",
    "context_size = 7\n",
    "\n",
    "# Downsample setting for frequent words.\n",
    "#0 - 1e-5 is good for this\n",
    "downsampling = 1e-3\n",
    "\n",
    "# Seed for the RNG, to make the results reproducible.\n",
    "#random number generator\n",
    "#deterministic, good for debugging\n",
    "seed = 1\n",
    "\n",
    "# Number of iterations theneural network is trained\n",
    "epochs = 5"
   ]
  },
  {
   "cell_type": "code",
   "execution_count": 17,
   "metadata": {
    "collapsed": true
   },
   "outputs": [
    {
     "name": "stderr",
     "output_type": "stream",
     "text": [
      "2021-12-29 11:47:43,913 : INFO : Word2Vec lifecycle event {'params': 'Word2Vec(vocab=0, vector_size=300, alpha=0.025)', 'datetime': '2021-12-29T11:47:43.913634', 'gensim': '4.0.1', 'python': '3.8.12 (default, Oct 12 2021, 06:23:56) \\n[Clang 10.0.0 ]', 'platform': 'macOS-10.16-x86_64-i386-64bit', 'event': 'created'}\n"
     ]
    }
   ],
   "source": [
    "thrones2vec = w2v.Word2Vec(\n",
    "    sg=1,\n",
    "    seed=seed,\n",
    "    workers=num_workers,\n",
    "    vector_size=num_features,\n",
    "    min_count=min_word_count,\n",
    "    window=context_size,\n",
    "    sample=downsampling,\n",
    "    epochs= epochs\n",
    ")"
   ]
  },
  {
   "cell_type": "code",
   "execution_count": 18,
   "metadata": {
    "collapsed": false
   },
   "outputs": [
    {
     "name": "stderr",
     "output_type": "stream",
     "text": [
      "2021-12-29 11:47:43,952 : INFO : collecting all words and their counts\n",
      "2021-12-29 11:47:43,955 : INFO : PROGRESS: at sentence #0, processed 0 words, keeping 0 word types\n",
      "2021-12-29 11:47:44,000 : INFO : PROGRESS: at sentence #10000, processed 140984 words, keeping 10280 word types\n",
      "2021-12-29 11:47:44,050 : INFO : PROGRESS: at sentence #20000, processed 279730 words, keeping 13558 word types\n",
      "2021-12-29 11:47:44,109 : INFO : PROGRESS: at sentence #30000, processed 420336 words, keeping 16598 word types\n",
      "2021-12-29 11:47:44,160 : INFO : PROGRESS: at sentence #40000, processed 556581 words, keeping 18324 word types\n",
      "2021-12-29 11:47:44,216 : INFO : PROGRESS: at sentence #50000, processed 686247 words, keeping 19714 word types\n",
      "2021-12-29 11:47:44,282 : INFO : PROGRESS: at sentence #60000, processed 828497 words, keeping 21672 word types\n",
      "2021-12-29 11:47:44,344 : INFO : PROGRESS: at sentence #70000, processed 973830 words, keeping 23093 word types\n",
      "2021-12-29 11:47:44,429 : INFO : PROGRESS: at sentence #80000, processed 1114967 words, keeping 24252 word types\n",
      "2021-12-29 11:47:44,507 : INFO : PROGRESS: at sentence #90000, processed 1260481 words, keeping 26007 word types\n",
      "2021-12-29 11:47:44,581 : INFO : PROGRESS: at sentence #100000, processed 1393203 words, keeping 26884 word types\n",
      "2021-12-29 11:47:44,651 : INFO : PROGRESS: at sentence #110000, processed 1532150 words, keeping 27809 word types\n",
      "2021-12-29 11:47:44,709 : INFO : PROGRESS: at sentence #120000, processed 1680961 words, keeping 28486 word types\n",
      "2021-12-29 11:47:44,742 : INFO : collected 29026 word types from a corpus of 1818103 raw words and 128868 sentences\n",
      "2021-12-29 11:47:44,743 : INFO : Creating a fresh vocabulary\n",
      "2021-12-29 11:47:44,828 : INFO : Word2Vec lifecycle event {'msg': 'effective_min_count=3 retains 17277 unique words (59.52249707159099%% of original 29026, drops 11749)', 'datetime': '2021-12-29T11:47:44.828053', 'gensim': '4.0.1', 'python': '3.8.12 (default, Oct 12 2021, 06:23:56) \\n[Clang 10.0.0 ]', 'platform': 'macOS-10.16-x86_64-i386-64bit', 'event': 'prepare_vocab'}\n",
      "2021-12-29 11:47:44,828 : INFO : Word2Vec lifecycle event {'msg': 'effective_min_count=3 leaves 1802699 word corpus (99.15274327142082%% of original 1818103, drops 15404)', 'datetime': '2021-12-29T11:47:44.828948', 'gensim': '4.0.1', 'python': '3.8.12 (default, Oct 12 2021, 06:23:56) \\n[Clang 10.0.0 ]', 'platform': 'macOS-10.16-x86_64-i386-64bit', 'event': 'prepare_vocab'}\n",
      "2021-12-29 11:47:44,936 : INFO : deleting the raw counts dictionary of 29026 items\n",
      "2021-12-29 11:47:44,937 : INFO : sample=0.001 downsamples 50 most-common words\n",
      "2021-12-29 11:47:44,938 : INFO : Word2Vec lifecycle event {'msg': 'downsampling leaves estimated 1404424.1738617136 word corpus (77.9%% of prior 1802699)', 'datetime': '2021-12-29T11:47:44.938429', 'gensim': '4.0.1', 'python': '3.8.12 (default, Oct 12 2021, 06:23:56) \\n[Clang 10.0.0 ]', 'platform': 'macOS-10.16-x86_64-i386-64bit', 'event': 'prepare_vocab'}\n",
      "2021-12-29 11:47:45,110 : INFO : estimated required memory for 17277 words and 300 dimensions: 50103300 bytes\n",
      "2021-12-29 11:47:45,110 : INFO : resetting layer weights\n",
      "2021-12-29 11:47:45,139 : INFO : Word2Vec lifecycle event {'update': False, 'trim_rule': 'None', 'datetime': '2021-12-29T11:47:45.139193', 'gensim': '4.0.1', 'python': '3.8.12 (default, Oct 12 2021, 06:23:56) \\n[Clang 10.0.0 ]', 'platform': 'macOS-10.16-x86_64-i386-64bit', 'event': 'build_vocab'}\n"
     ]
    }
   ],
   "source": [
    "thrones2vec.build_vocab(sentences)"
   ]
  },
  {
   "cell_type": "code",
   "execution_count": 19,
   "metadata": {
    "collapsed": false,
    "scrolled": true
   },
   "outputs": [
    {
     "name": "stdout",
     "output_type": "stream",
     "text": [
      "Word2Vec vocabulary length: 17277\n"
     ]
    }
   ],
   "source": [
    "print(\"Word2Vec vocabulary length:\", len(thrones2vec.wv))"
   ]
  },
  {
   "cell_type": "markdown",
   "metadata": {},
   "source": [
    "**Start training, this might take a minute or two...**"
   ]
  },
  {
   "cell_type": "code",
   "execution_count": 28,
   "metadata": {
    "collapsed": false
   },
   "outputs": [
    {
     "name": "stderr",
     "output_type": "stream",
     "text": [
      "2021-12-29 11:50:38,104 : WARNING : Effective 'alpha' higher than previous training cycles\n",
      "2021-12-29 11:50:38,106 : INFO : Word2Vec lifecycle event {'msg': 'training model with 8 workers on 17277 vocabulary and 300 features, using sg=1 hs=0 sample=0.001 negative=5 window=7', 'datetime': '2021-12-29T11:50:38.106689', 'gensim': '4.0.1', 'python': '3.8.12 (default, Oct 12 2021, 06:23:56) \\n[Clang 10.0.0 ]', 'platform': 'macOS-10.16-x86_64-i386-64bit', 'event': 'train'}\n",
      "2021-12-29 11:50:39,132 : INFO : EPOCH 1 - PROGRESS: at 2021.53% words, 267460 words/s, in_qsize 16, out_qsize 0\n",
      "2021-12-29 11:50:40,145 : INFO : EPOCH 1 - PROGRESS: at 4680.60% words, 309237 words/s, in_qsize 15, out_qsize 0\n",
      "2021-12-29 11:50:41,187 : INFO : EPOCH 1 - PROGRESS: at 7454.91% words, 325155 words/s, in_qsize 15, out_qsize 0\n",
      "2021-12-29 11:50:42,167 : INFO : worker thread finished; awaiting finish of 7 more threads\n",
      "2021-12-29 11:50:42,174 : INFO : worker thread finished; awaiting finish of 6 more threads\n",
      "2021-12-29 11:50:42,228 : INFO : EPOCH 1 - PROGRESS: at 10234.11% words, 332914 words/s, in_qsize 5, out_qsize 1\n",
      "2021-12-29 11:50:42,229 : INFO : worker thread finished; awaiting finish of 5 more threads\n",
      "2021-12-29 11:50:42,240 : INFO : worker thread finished; awaiting finish of 4 more threads\n",
      "2021-12-29 11:50:42,256 : INFO : worker thread finished; awaiting finish of 3 more threads\n",
      "2021-12-29 11:50:42,262 : INFO : worker thread finished; awaiting finish of 2 more threads\n",
      "2021-12-29 11:50:42,283 : INFO : worker thread finished; awaiting finish of 1 more threads\n",
      "2021-12-29 11:50:42,290 : INFO : worker thread finished; awaiting finish of 0 more threads\n",
      "2021-12-29 11:50:42,291 : INFO : EPOCH - 1 : training on 1818103 raw words (1404891 effective words) took 4.2s, 337115 effective words/s\n",
      "2021-12-29 11:50:42,291 : WARNING : EPOCH - 1 : supplied raw word count (1818103) did not equal expected count (17277)\n",
      "2021-12-29 11:50:43,315 : INFO : EPOCH 2 - PROGRESS: at 2079.33% words, 274817 words/s, in_qsize 16, out_qsize 1\n",
      "2021-12-29 11:50:44,316 : INFO : EPOCH 2 - PROGRESS: at 4854.10% words, 322409 words/s, in_qsize 16, out_qsize 0\n",
      "2021-12-29 11:50:45,319 : INFO : EPOCH 2 - PROGRESS: at 7628.38% words, 338122 words/s, in_qsize 15, out_qsize 0\n",
      "2021-12-29 11:50:46,298 : INFO : worker thread finished; awaiting finish of 7 more threads\n",
      "2021-12-29 11:50:46,305 : INFO : worker thread finished; awaiting finish of 6 more threads\n",
      "2021-12-29 11:50:46,306 : INFO : worker thread finished; awaiting finish of 5 more threads\n",
      "2021-12-29 11:50:46,313 : INFO : worker thread finished; awaiting finish of 4 more threads\n",
      "2021-12-29 11:50:46,316 : INFO : worker thread finished; awaiting finish of 3 more threads\n",
      "2021-12-29 11:50:46,358 : INFO : EPOCH 2 - PROGRESS: at 10407.58% words, 342700 words/s, in_qsize 2, out_qsize 1\n",
      "2021-12-29 11:50:46,360 : INFO : worker thread finished; awaiting finish of 2 more threads\n",
      "2021-12-29 11:50:46,381 : INFO : worker thread finished; awaiting finish of 1 more threads\n",
      "2021-12-29 11:50:46,383 : INFO : worker thread finished; awaiting finish of 0 more threads\n",
      "2021-12-29 11:50:46,385 : INFO : EPOCH - 2 : training on 1818103 raw words (1404397 effective words) took 4.1s, 344243 effective words/s\n",
      "2021-12-29 11:50:46,387 : WARNING : EPOCH - 2 : supplied raw word count (1818103) did not equal expected count (17277)\n",
      "2021-12-29 11:50:47,413 : INFO : EPOCH 3 - PROGRESS: at 2368.49% words, 312559 words/s, in_qsize 15, out_qsize 0\n",
      "2021-12-29 11:50:48,414 : INFO : EPOCH 3 - PROGRESS: at 5143.36% words, 341449 words/s, in_qsize 16, out_qsize 0\n",
      "2021-12-29 11:50:49,414 : INFO : EPOCH 3 - PROGRESS: at 7917.68% words, 351115 words/s, in_qsize 15, out_qsize 0\n",
      "2021-12-29 11:50:50,237 : INFO : worker thread finished; awaiting finish of 7 more threads\n",
      "2021-12-29 11:50:50,244 : INFO : worker thread finished; awaiting finish of 6 more threads\n",
      "2021-12-29 11:50:50,247 : INFO : worker thread finished; awaiting finish of 5 more threads\n",
      "2021-12-29 11:50:50,252 : INFO : worker thread finished; awaiting finish of 4 more threads\n",
      "2021-12-29 11:50:50,274 : INFO : worker thread finished; awaiting finish of 3 more threads\n",
      "2021-12-29 11:50:50,290 : INFO : worker thread finished; awaiting finish of 2 more threads\n",
      "2021-12-29 11:50:50,340 : INFO : worker thread finished; awaiting finish of 1 more threads\n",
      "2021-12-29 11:50:50,349 : INFO : worker thread finished; awaiting finish of 0 more threads\n",
      "2021-12-29 11:50:50,350 : INFO : EPOCH - 3 : training on 1818103 raw words (1405228 effective words) took 3.9s, 355772 effective words/s\n",
      "2021-12-29 11:50:50,351 : WARNING : EPOCH - 3 : supplied raw word count (1818103) did not equal expected count (17277)\n",
      "2021-12-29 11:50:51,392 : INFO : EPOCH 4 - PROGRESS: at 2426.31% words, 315477 words/s, in_qsize 15, out_qsize 1\n",
      "2021-12-29 11:50:52,402 : INFO : EPOCH 4 - PROGRESS: at 5316.80% words, 348777 words/s, in_qsize 15, out_qsize 0\n",
      "2021-12-29 11:50:53,407 : INFO : EPOCH 4 - PROGRESS: at 8148.90% words, 357975 words/s, in_qsize 15, out_qsize 0\n",
      "2021-12-29 11:50:54,168 : INFO : worker thread finished; awaiting finish of 7 more threads\n",
      "2021-12-29 11:50:54,178 : INFO : worker thread finished; awaiting finish of 6 more threads\n",
      "2021-12-29 11:50:54,179 : INFO : worker thread finished; awaiting finish of 5 more threads\n",
      "2021-12-29 11:50:54,218 : INFO : worker thread finished; awaiting finish of 4 more threads\n",
      "2021-12-29 11:50:54,232 : INFO : worker thread finished; awaiting finish of 3 more threads\n",
      "2021-12-29 11:50:54,237 : INFO : worker thread finished; awaiting finish of 2 more threads\n",
      "2021-12-29 11:50:54,239 : INFO : worker thread finished; awaiting finish of 1 more threads\n",
      "2021-12-29 11:50:54,267 : INFO : worker thread finished; awaiting finish of 0 more threads\n",
      "2021-12-29 11:50:54,268 : INFO : EPOCH - 4 : training on 1818103 raw words (1404422 effective words) took 3.9s, 359841 effective words/s\n",
      "2021-12-29 11:50:54,270 : WARNING : EPOCH - 4 : supplied raw word count (1818103) did not equal expected count (17277)\n",
      "2021-12-29 11:50:55,308 : INFO : EPOCH 5 - PROGRESS: at 2368.49% words, 310273 words/s, in_qsize 15, out_qsize 0\n",
      "2021-12-29 11:50:56,340 : INFO : EPOCH 5 - PROGRESS: at 5201.20% words, 338676 words/s, in_qsize 15, out_qsize 0\n",
      "2021-12-29 11:50:57,347 : INFO : EPOCH 5 - PROGRESS: at 7975.55% words, 348264 words/s, in_qsize 15, out_qsize 0\n",
      "2021-12-29 11:50:58,127 : INFO : worker thread finished; awaiting finish of 7 more threads\n",
      "2021-12-29 11:50:58,130 : INFO : worker thread finished; awaiting finish of 6 more threads\n",
      "2021-12-29 11:50:58,144 : INFO : worker thread finished; awaiting finish of 5 more threads\n",
      "2021-12-29 11:50:58,162 : INFO : worker thread finished; awaiting finish of 4 more threads\n",
      "2021-12-29 11:50:58,174 : INFO : worker thread finished; awaiting finish of 3 more threads\n",
      "2021-12-29 11:50:58,184 : INFO : worker thread finished; awaiting finish of 2 more threads\n",
      "2021-12-29 11:50:58,194 : INFO : worker thread finished; awaiting finish of 1 more threads\n",
      "2021-12-29 11:50:58,233 : INFO : worker thread finished; awaiting finish of 0 more threads\n",
      "2021-12-29 11:50:58,235 : INFO : EPOCH - 5 : training on 1818103 raw words (1404290 effective words) took 3.9s, 355843 effective words/s\n",
      "2021-12-29 11:50:58,236 : WARNING : EPOCH - 5 : supplied raw word count (1818103) did not equal expected count (17277)\n",
      "2021-12-29 11:50:59,268 : INFO : EPOCH 6 - PROGRESS: at 2368.49% words, 311333 words/s, in_qsize 15, out_qsize 0\n",
      "2021-12-29 11:51:00,279 : INFO : EPOCH 6 - PROGRESS: at 5259.01% words, 346610 words/s, in_qsize 15, out_qsize 0\n",
      "2021-12-29 11:51:01,288 : INFO : EPOCH 6 - PROGRESS: at 8033.21% words, 353498 words/s, in_qsize 15, out_qsize 0\n",
      "2021-12-29 11:51:02,335 : INFO : EPOCH 6 - PROGRESS: at 10113.17% words, 330515 words/s, in_qsize 8, out_qsize 0\n",
      "2021-12-29 11:51:02,343 : INFO : worker thread finished; awaiting finish of 7 more threads\n",
      "2021-12-29 11:51:02,363 : INFO : worker thread finished; awaiting finish of 6 more threads\n",
      "2021-12-29 11:51:02,371 : INFO : worker thread finished; awaiting finish of 5 more threads\n",
      "2021-12-29 11:51:02,372 : INFO : worker thread finished; awaiting finish of 4 more threads\n",
      "2021-12-29 11:51:02,375 : INFO : worker thread finished; awaiting finish of 3 more threads\n",
      "2021-12-29 11:51:02,423 : INFO : worker thread finished; awaiting finish of 2 more threads\n",
      "2021-12-29 11:51:02,442 : INFO : worker thread finished; awaiting finish of 1 more threads\n",
      "2021-12-29 11:51:02,462 : INFO : worker thread finished; awaiting finish of 0 more threads\n",
      "2021-12-29 11:51:02,463 : INFO : EPOCH - 6 : training on 1818103 raw words (1404013 effective words) took 4.2s, 333493 effective words/s\n",
      "2021-12-29 11:51:02,464 : WARNING : EPOCH - 6 : supplied raw word count (1818103) did not equal expected count (17277)\n",
      "2021-12-29 11:51:03,543 : INFO : EPOCH 7 - PROGRESS: at 2484.18% words, 326532 words/s, in_qsize 15, out_qsize 0\n",
      "2021-12-29 11:51:04,596 : INFO : EPOCH 7 - PROGRESS: at 5316.80% words, 343425 words/s, in_qsize 16, out_qsize 0\n",
      "2021-12-29 11:51:05,598 : INFO : EPOCH 7 - PROGRESS: at 7917.68% words, 344526 words/s, in_qsize 15, out_qsize 0\n",
      "2021-12-29 11:51:06,511 : INFO : worker thread finished; awaiting finish of 7 more threads\n",
      "2021-12-29 11:51:06,532 : INFO : worker thread finished; awaiting finish of 6 more threads\n",
      "2021-12-29 11:51:06,541 : INFO : worker thread finished; awaiting finish of 5 more threads\n",
      "2021-12-29 11:51:06,546 : INFO : worker thread finished; awaiting finish of 4 more threads\n",
      "2021-12-29 11:51:06,555 : INFO : worker thread finished; awaiting finish of 3 more threads\n",
      "2021-12-29 11:51:06,573 : INFO : worker thread finished; awaiting finish of 2 more threads\n",
      "2021-12-29 11:51:06,608 : INFO : EPOCH 7 - PROGRESS: at 10465.42% words, 342282 words/s, in_qsize 1, out_qsize 1\n",
      "2021-12-29 11:51:06,611 : INFO : worker thread finished; awaiting finish of 1 more threads\n",
      "2021-12-29 11:51:06,655 : INFO : worker thread finished; awaiting finish of 0 more threads\n",
      "2021-12-29 11:51:06,655 : INFO : EPOCH - 7 : training on 1818103 raw words (1404448 effective words) took 4.1s, 340202 effective words/s\n",
      "2021-12-29 11:51:06,656 : WARNING : EPOCH - 7 : supplied raw word count (1818103) did not equal expected count (17277)\n",
      "2021-12-29 11:51:07,842 : INFO : EPOCH 8 - PROGRESS: at 1905.91% words, 218499 words/s, in_qsize 15, out_qsize 0\n",
      "2021-12-29 11:51:08,904 : INFO : EPOCH 8 - PROGRESS: at 4218.59% words, 253284 words/s, in_qsize 15, out_qsize 0\n",
      "2021-12-29 11:51:09,912 : INFO : EPOCH 8 - PROGRESS: at 6588.63% words, 272468 words/s, in_qsize 16, out_qsize 1\n",
      "2021-12-29 11:51:10,914 : INFO : EPOCH 8 - PROGRESS: at 8495.73% words, 267947 words/s, in_qsize 15, out_qsize 0\n",
      "2021-12-29 11:51:11,830 : INFO : worker thread finished; awaiting finish of 7 more threads\n",
      "2021-12-29 11:51:11,843 : INFO : worker thread finished; awaiting finish of 6 more threads\n",
      "2021-12-29 11:51:11,881 : INFO : worker thread finished; awaiting finish of 5 more threads\n",
      "2021-12-29 11:51:11,901 : INFO : worker thread finished; awaiting finish of 4 more threads\n",
      "2021-12-29 11:51:11,917 : INFO : EPOCH 8 - PROGRESS: at 10349.79% words, 263644 words/s, in_qsize 3, out_qsize 1\n",
      "2021-12-29 11:51:11,919 : INFO : worker thread finished; awaiting finish of 3 more threads\n",
      "2021-12-29 11:51:11,930 : INFO : worker thread finished; awaiting finish of 2 more threads\n",
      "2021-12-29 11:51:11,939 : INFO : worker thread finished; awaiting finish of 1 more threads\n",
      "2021-12-29 11:51:11,988 : INFO : worker thread finished; awaiting finish of 0 more threads\n",
      "2021-12-29 11:51:12,002 : INFO : EPOCH - 8 : training on 1818103 raw words (1403685 effective words) took 5.3s, 263774 effective words/s\n",
      "2021-12-29 11:51:12,012 : WARNING : EPOCH - 8 : supplied raw word count (1818103) did not equal expected count (17277)\n",
      "2021-12-29 11:51:13,057 : INFO : EPOCH 9 - PROGRESS: at 1445.67% words, 192102 words/s, in_qsize 15, out_qsize 0\n",
      "2021-12-29 11:51:14,084 : INFO : EPOCH 9 - PROGRESS: at 3351.45% words, 220613 words/s, in_qsize 16, out_qsize 0\n",
      "2021-12-29 11:51:15,102 : INFO : EPOCH 9 - PROGRESS: at 5374.63% words, 235626 words/s, in_qsize 14, out_qsize 1\n",
      "2021-12-29 11:51:16,149 : INFO : EPOCH 9 - PROGRESS: at 7397.04% words, 241384 words/s, in_qsize 16, out_qsize 0\n",
      "2021-12-29 11:51:17,152 : INFO : EPOCH 9 - PROGRESS: at 9303.46% words, 243806 words/s, in_qsize 15, out_qsize 0\n",
      "2021-12-29 11:51:17,505 : INFO : worker thread finished; awaiting finish of 7 more threads\n",
      "2021-12-29 11:51:17,520 : INFO : worker thread finished; awaiting finish of 6 more threads\n",
      "2021-12-29 11:51:17,551 : INFO : worker thread finished; awaiting finish of 5 more threads\n",
      "2021-12-29 11:51:17,553 : INFO : worker thread finished; awaiting finish of 4 more threads\n",
      "2021-12-29 11:51:17,557 : INFO : worker thread finished; awaiting finish of 3 more threads\n",
      "2021-12-29 11:51:17,585 : INFO : worker thread finished; awaiting finish of 2 more threads\n",
      "2021-12-29 11:51:17,602 : INFO : worker thread finished; awaiting finish of 1 more threads\n",
      "2021-12-29 11:51:17,635 : INFO : worker thread finished; awaiting finish of 0 more threads\n",
      "2021-12-29 11:51:17,637 : INFO : EPOCH - 9 : training on 1818103 raw words (1404952 effective words) took 5.6s, 251628 effective words/s\n",
      "2021-12-29 11:51:17,640 : WARNING : EPOCH - 9 : supplied raw word count (1818103) did not equal expected count (17277)\n",
      "2021-12-29 11:51:18,783 : INFO : EPOCH 10 - PROGRESS: at 1905.91% words, 227497 words/s, in_qsize 15, out_qsize 0\n",
      "2021-12-29 11:51:19,809 : INFO : EPOCH 10 - PROGRESS: at 3755.87% words, 234261 words/s, in_qsize 15, out_qsize 0\n",
      "2021-12-29 11:51:20,874 : INFO : EPOCH 10 - PROGRESS: at 6530.77% words, 272188 words/s, in_qsize 15, out_qsize 0\n",
      "2021-12-29 11:51:21,879 : INFO : EPOCH 10 - PROGRESS: at 9245.64% words, 292998 words/s, in_qsize 15, out_qsize 0\n",
      "2021-12-29 11:51:22,374 : INFO : worker thread finished; awaiting finish of 7 more threads\n",
      "2021-12-29 11:51:22,383 : INFO : worker thread finished; awaiting finish of 6 more threads\n",
      "2021-12-29 11:51:22,415 : INFO : worker thread finished; awaiting finish of 5 more threads\n",
      "2021-12-29 11:51:22,422 : INFO : worker thread finished; awaiting finish of 4 more threads\n",
      "2021-12-29 11:51:22,427 : INFO : worker thread finished; awaiting finish of 3 more threads\n",
      "2021-12-29 11:51:22,457 : INFO : worker thread finished; awaiting finish of 2 more threads\n",
      "2021-12-29 11:51:22,472 : INFO : worker thread finished; awaiting finish of 1 more threads\n",
      "2021-12-29 11:51:22,502 : INFO : worker thread finished; awaiting finish of 0 more threads\n",
      "2021-12-29 11:51:22,503 : INFO : EPOCH - 10 : training on 1818103 raw words (1404139 effective words) took 4.8s, 290249 effective words/s\n",
      "2021-12-29 11:51:22,504 : WARNING : EPOCH - 10 : supplied raw word count (1818103) did not equal expected count (17277)\n",
      "2021-12-29 11:51:23,538 : INFO : EPOCH 11 - PROGRESS: at 2195.00% words, 288435 words/s, in_qsize 14, out_qsize 1\n",
      "2021-12-29 11:51:24,542 : INFO : EPOCH 11 - PROGRESS: at 3987.24% words, 263792 words/s, in_qsize 15, out_qsize 0\n",
      "2021-12-29 11:51:25,553 : INFO : EPOCH 11 - PROGRESS: at 5779.30% words, 254866 words/s, in_qsize 16, out_qsize 0\n",
      "2021-12-29 11:51:26,559 : INFO : EPOCH 11 - PROGRESS: at 8206.77% words, 271639 words/s, in_qsize 15, out_qsize 0\n",
      "2021-12-29 11:51:27,525 : INFO : worker thread finished; awaiting finish of 7 more threads\n",
      "2021-12-29 11:51:27,562 : INFO : EPOCH 11 - PROGRESS: at 10228.87% words, 270928 words/s, in_qsize 5, out_qsize 3\n",
      "2021-12-29 11:51:27,563 : INFO : worker thread finished; awaiting finish of 6 more threads\n",
      "2021-12-29 11:51:27,565 : INFO : worker thread finished; awaiting finish of 5 more threads\n",
      "2021-12-29 11:51:27,599 : INFO : worker thread finished; awaiting finish of 4 more threads\n",
      "2021-12-29 11:51:27,605 : INFO : worker thread finished; awaiting finish of 3 more threads\n",
      "2021-12-29 11:51:27,623 : INFO : worker thread finished; awaiting finish of 2 more threads\n",
      "2021-12-29 11:51:27,687 : INFO : worker thread finished; awaiting finish of 1 more threads\n",
      "2021-12-29 11:51:27,699 : INFO : worker thread finished; awaiting finish of 0 more threads\n",
      "2021-12-29 11:51:27,700 : INFO : EPOCH - 11 : training on 1818103 raw words (1404176 effective words) took 5.2s, 271246 effective words/s\n",
      "2021-12-29 11:51:27,700 : WARNING : EPOCH - 11 : supplied raw word count (1818103) did not equal expected count (17277)\n",
      "2021-12-29 11:51:28,889 : INFO : EPOCH 12 - PROGRESS: at 1905.91% words, 218655 words/s, in_qsize 15, out_qsize 0\n",
      "2021-12-29 11:51:29,899 : INFO : EPOCH 12 - PROGRESS: at 4276.45% words, 263025 words/s, in_qsize 15, out_qsize 0\n",
      "2021-12-29 11:51:30,915 : INFO : EPOCH 12 - PROGRESS: at 6704.35% words, 281200 words/s, in_qsize 14, out_qsize 1\n",
      "2021-12-29 11:51:31,934 : INFO : EPOCH 12 - PROGRESS: at 9187.80% words, 291727 words/s, in_qsize 16, out_qsize 0\n",
      "2021-12-29 11:51:32,330 : INFO : worker thread finished; awaiting finish of 7 more threads\n",
      "2021-12-29 11:51:32,333 : INFO : worker thread finished; awaiting finish of 6 more threads\n",
      "2021-12-29 11:51:32,372 : INFO : worker thread finished; awaiting finish of 5 more threads\n",
      "2021-12-29 11:51:32,385 : INFO : worker thread finished; awaiting finish of 4 more threads\n",
      "2021-12-29 11:51:32,391 : INFO : worker thread finished; awaiting finish of 3 more threads\n",
      "2021-12-29 11:51:32,392 : INFO : worker thread finished; awaiting finish of 2 more threads\n",
      "2021-12-29 11:51:32,426 : INFO : worker thread finished; awaiting finish of 1 more threads\n",
      "2021-12-29 11:51:32,436 : INFO : worker thread finished; awaiting finish of 0 more threads\n",
      "2021-12-29 11:51:32,437 : INFO : EPOCH - 12 : training on 1818103 raw words (1404549 effective words) took 4.7s, 298198 effective words/s\n",
      "2021-12-29 11:51:32,439 : WARNING : EPOCH - 12 : supplied raw word count (1818103) did not equal expected count (17277)\n",
      "2021-12-29 11:51:33,456 : INFO : EPOCH 13 - PROGRESS: at 2137.15% words, 284843 words/s, in_qsize 15, out_qsize 0\n",
      "2021-12-29 11:51:34,459 : INFO : EPOCH 13 - PROGRESS: at 4507.03% words, 300381 words/s, in_qsize 15, out_qsize 0\n",
      "2021-12-29 11:51:35,475 : INFO : EPOCH 13 - PROGRESS: at 6530.77% words, 289196 words/s, in_qsize 15, out_qsize 0\n",
      "2021-12-29 11:51:36,535 : INFO : EPOCH 13 - PROGRESS: at 8611.43% words, 281981 words/s, in_qsize 15, out_qsize 0\n",
      "2021-12-29 11:51:37,235 : INFO : worker thread finished; awaiting finish of 7 more threads\n",
      "2021-12-29 11:51:37,246 : INFO : worker thread finished; awaiting finish of 6 more threads\n",
      "2021-12-29 11:51:37,251 : INFO : worker thread finished; awaiting finish of 5 more threads\n",
      "2021-12-29 11:51:37,289 : INFO : worker thread finished; awaiting finish of 4 more threads\n",
      "2021-12-29 11:51:37,294 : INFO : worker thread finished; awaiting finish of 3 more threads\n",
      "2021-12-29 11:51:37,298 : INFO : worker thread finished; awaiting finish of 2 more threads\n",
      "2021-12-29 11:51:37,357 : INFO : worker thread finished; awaiting finish of 1 more threads\n",
      "2021-12-29 11:51:37,385 : INFO : worker thread finished; awaiting finish of 0 more threads\n",
      "2021-12-29 11:51:37,386 : INFO : EPOCH - 13 : training on 1818103 raw words (1404519 effective words) took 4.9s, 284844 effective words/s\n",
      "2021-12-29 11:51:37,388 : WARNING : EPOCH - 13 : supplied raw word count (1818103) did not equal expected count (17277)\n",
      "2021-12-29 11:51:38,473 : INFO : EPOCH 14 - PROGRESS: at 2368.49% words, 299764 words/s, in_qsize 15, out_qsize 0\n",
      "2021-12-29 11:51:39,479 : INFO : EPOCH 14 - PROGRESS: at 4796.22% words, 311074 words/s, in_qsize 16, out_qsize 0\n",
      "2021-12-29 11:51:40,495 : INFO : EPOCH 14 - PROGRESS: at 7281.39% words, 316335 words/s, in_qsize 15, out_qsize 0\n",
      "2021-12-29 11:51:41,495 : INFO : EPOCH 14 - PROGRESS: at 9650.45% words, 316173 words/s, in_qsize 15, out_qsize 0\n",
      "2021-12-29 11:51:41,714 : INFO : worker thread finished; awaiting finish of 7 more threads\n",
      "2021-12-29 11:51:41,718 : INFO : worker thread finished; awaiting finish of 6 more threads\n",
      "2021-12-29 11:51:41,726 : INFO : worker thread finished; awaiting finish of 5 more threads\n",
      "2021-12-29 11:51:41,733 : INFO : worker thread finished; awaiting finish of 4 more threads\n",
      "2021-12-29 11:51:41,756 : INFO : worker thread finished; awaiting finish of 3 more threads\n",
      "2021-12-29 11:51:41,797 : INFO : worker thread finished; awaiting finish of 2 more threads\n",
      "2021-12-29 11:51:41,809 : INFO : worker thread finished; awaiting finish of 1 more threads\n",
      "2021-12-29 11:51:41,825 : INFO : worker thread finished; awaiting finish of 0 more threads\n",
      "2021-12-29 11:51:41,826 : INFO : EPOCH - 14 : training on 1818103 raw words (1405579 effective words) took 4.4s, 318763 effective words/s\n",
      "2021-12-29 11:51:41,828 : WARNING : EPOCH - 14 : supplied raw word count (1818103) did not equal expected count (17277)\n",
      "2021-12-29 11:51:42,891 : INFO : EPOCH 15 - PROGRESS: at 1905.91% words, 244113 words/s, in_qsize 15, out_qsize 0\n",
      "2021-12-29 11:51:43,907 : INFO : EPOCH 15 - PROGRESS: at 3813.69% words, 247597 words/s, in_qsize 15, out_qsize 0\n",
      "2021-12-29 11:51:44,927 : INFO : EPOCH 15 - PROGRESS: at 6068.25% words, 263435 words/s, in_qsize 15, out_qsize 0\n",
      "2021-12-29 11:51:45,937 : INFO : EPOCH 15 - PROGRESS: at 8495.77% words, 277609 words/s, in_qsize 15, out_qsize 0\n",
      "2021-12-29 11:51:46,633 : INFO : worker thread finished; awaiting finish of 7 more threads\n",
      "2021-12-29 11:51:46,651 : INFO : worker thread finished; awaiting finish of 6 more threads\n",
      "2021-12-29 11:51:46,664 : INFO : worker thread finished; awaiting finish of 5 more threads\n",
      "2021-12-29 11:51:46,705 : INFO : worker thread finished; awaiting finish of 4 more threads\n",
      "2021-12-29 11:51:46,717 : INFO : worker thread finished; awaiting finish of 3 more threads\n",
      "2021-12-29 11:51:46,739 : INFO : worker thread finished; awaiting finish of 2 more threads\n",
      "2021-12-29 11:51:46,760 : INFO : worker thread finished; awaiting finish of 1 more threads\n",
      "2021-12-29 11:51:46,807 : INFO : worker thread finished; awaiting finish of 0 more threads\n",
      "2021-12-29 11:51:46,808 : INFO : EPOCH - 15 : training on 1818103 raw words (1404363 effective words) took 5.0s, 283255 effective words/s\n",
      "2021-12-29 11:51:46,809 : WARNING : EPOCH - 15 : supplied raw word count (1818103) did not equal expected count (17277)\n",
      "2021-12-29 11:51:47,854 : INFO : EPOCH 16 - PROGRESS: at 1963.68% words, 258117 words/s, in_qsize 15, out_qsize 0\n",
      "2021-12-29 11:51:48,873 : INFO : EPOCH 16 - PROGRESS: at 4276.45% words, 281035 words/s, in_qsize 15, out_qsize 0\n",
      "2021-12-29 11:51:49,880 : INFO : EPOCH 16 - PROGRESS: at 6472.91% words, 284667 words/s, in_qsize 15, out_qsize 0\n",
      "2021-12-29 11:51:50,918 : INFO : EPOCH 16 - PROGRESS: at 8380.09% words, 274608 words/s, in_qsize 15, out_qsize 0\n",
      "2021-12-29 11:51:51,694 : INFO : worker thread finished; awaiting finish of 7 more threads\n",
      "2021-12-29 11:51:51,697 : INFO : worker thread finished; awaiting finish of 6 more threads\n",
      "2021-12-29 11:51:51,744 : INFO : worker thread finished; awaiting finish of 5 more threads\n",
      "2021-12-29 11:51:51,755 : INFO : worker thread finished; awaiting finish of 4 more threads\n",
      "2021-12-29 11:51:51,763 : INFO : worker thread finished; awaiting finish of 3 more threads\n",
      "2021-12-29 11:51:51,769 : INFO : worker thread finished; awaiting finish of 2 more threads\n",
      "2021-12-29 11:51:51,807 : INFO : worker thread finished; awaiting finish of 1 more threads\n",
      "2021-12-29 11:51:51,809 : INFO : worker thread finished; awaiting finish of 0 more threads\n",
      "2021-12-29 11:51:51,810 : INFO : EPOCH - 16 : training on 1818103 raw words (1404576 effective words) took 5.0s, 282554 effective words/s\n",
      "2021-12-29 11:51:51,812 : WARNING : EPOCH - 16 : supplied raw word count (1818103) did not equal expected count (17277)\n",
      "2021-12-29 11:51:52,881 : INFO : EPOCH 17 - PROGRESS: at 1156.75% words, 150211 words/s, in_qsize 15, out_qsize 0\n",
      "2021-12-29 11:51:53,922 : INFO : EPOCH 17 - PROGRESS: at 2368.49% words, 152788 words/s, in_qsize 16, out_qsize 0\n",
      "2021-12-29 11:51:55,038 : INFO : EPOCH 17 - PROGRESS: at 3755.87% words, 157561 words/s, in_qsize 15, out_qsize 0\n",
      "2021-12-29 11:51:56,121 : INFO : EPOCH 17 - PROGRESS: at 5143.36% words, 161002 words/s, in_qsize 15, out_qsize 0\n",
      "2021-12-29 11:51:57,288 : INFO : EPOCH 17 - PROGRESS: at 6530.77% words, 160686 words/s, in_qsize 15, out_qsize 0\n",
      "2021-12-29 11:51:58,318 : INFO : EPOCH 17 - PROGRESS: at 8264.55% words, 170780 words/s, in_qsize 16, out_qsize 0\n",
      "2021-12-29 11:51:59,310 : INFO : worker thread finished; awaiting finish of 7 more threads\n",
      "2021-12-29 11:51:59,319 : INFO : EPOCH 17 - PROGRESS: at 10176.25% words, 182003 words/s, in_qsize 6, out_qsize 1\n",
      "2021-12-29 11:51:59,320 : INFO : worker thread finished; awaiting finish of 6 more threads\n",
      "2021-12-29 11:51:59,324 : INFO : worker thread finished; awaiting finish of 5 more threads\n",
      "2021-12-29 11:51:59,387 : INFO : worker thread finished; awaiting finish of 4 more threads\n",
      "2021-12-29 11:51:59,392 : INFO : worker thread finished; awaiting finish of 3 more threads\n",
      "2021-12-29 11:51:59,399 : INFO : worker thread finished; awaiting finish of 2 more threads\n",
      "2021-12-29 11:51:59,423 : INFO : worker thread finished; awaiting finish of 1 more threads\n",
      "2021-12-29 11:51:59,442 : INFO : worker thread finished; awaiting finish of 0 more threads\n",
      "2021-12-29 11:51:59,444 : INFO : EPOCH - 17 : training on 1818103 raw words (1404528 effective words) took 7.6s, 185085 effective words/s\n",
      "2021-12-29 11:51:59,448 : WARNING : EPOCH - 17 : supplied raw word count (1818103) did not equal expected count (17277)\n",
      "2021-12-29 11:52:00,521 : INFO : EPOCH 18 - PROGRESS: at 1905.91% words, 246035 words/s, in_qsize 15, out_qsize 0\n",
      "2021-12-29 11:52:01,527 : INFO : EPOCH 18 - PROGRESS: at 4449.18% words, 291459 words/s, in_qsize 16, out_qsize 2\n",
      "2021-12-29 11:52:02,536 : INFO : EPOCH 18 - PROGRESS: at 7339.22% words, 321627 words/s, in_qsize 15, out_qsize 0\n",
      "2021-12-29 11:52:03,576 : INFO : EPOCH 18 - PROGRESS: at 10113.17% words, 330156 words/s, in_qsize 8, out_qsize 0\n",
      "2021-12-29 11:52:03,611 : INFO : worker thread finished; awaiting finish of 7 more threads\n",
      "2021-12-29 11:52:03,612 : INFO : worker thread finished; awaiting finish of 6 more threads\n",
      "2021-12-29 11:52:03,615 : INFO : worker thread finished; awaiting finish of 5 more threads\n",
      "2021-12-29 11:52:03,621 : INFO : worker thread finished; awaiting finish of 4 more threads\n",
      "2021-12-29 11:52:03,650 : INFO : worker thread finished; awaiting finish of 3 more threads\n",
      "2021-12-29 11:52:03,695 : INFO : worker thread finished; awaiting finish of 2 more threads\n",
      "2021-12-29 11:52:03,707 : INFO : worker thread finished; awaiting finish of 1 more threads\n",
      "2021-12-29 11:52:03,739 : INFO : worker thread finished; awaiting finish of 0 more threads\n",
      "2021-12-29 11:52:03,740 : INFO : EPOCH - 18 : training on 1818103 raw words (1404503 effective words) took 4.3s, 330252 effective words/s\n",
      "2021-12-29 11:52:03,741 : WARNING : EPOCH - 18 : supplied raw word count (1818103) did not equal expected count (17277)\n",
      "2021-12-29 11:52:04,817 : INFO : EPOCH 19 - PROGRESS: at 2368.49% words, 298442 words/s, in_qsize 15, out_qsize 0\n",
      "2021-12-29 11:52:05,825 : INFO : EPOCH 19 - PROGRESS: at 4969.75% words, 321319 words/s, in_qsize 15, out_qsize 0\n",
      "2021-12-29 11:52:06,834 : INFO : EPOCH 19 - PROGRESS: at 7686.23% words, 333944 words/s, in_qsize 15, out_qsize 0\n",
      "2021-12-29 11:52:07,835 : INFO : EPOCH 19 - PROGRESS: at 9881.74% words, 323530 words/s, in_qsize 11, out_qsize 1\n",
      "2021-12-29 11:52:07,985 : INFO : worker thread finished; awaiting finish of 7 more threads\n",
      "2021-12-29 11:52:07,991 : INFO : worker thread finished; awaiting finish of 6 more threads\n",
      "2021-12-29 11:52:07,995 : INFO : worker thread finished; awaiting finish of 5 more threads\n",
      "2021-12-29 11:52:07,999 : INFO : worker thread finished; awaiting finish of 4 more threads\n",
      "2021-12-29 11:52:08,006 : INFO : worker thread finished; awaiting finish of 3 more threads\n",
      "2021-12-29 11:52:08,008 : INFO : worker thread finished; awaiting finish of 2 more threads\n",
      "2021-12-29 11:52:08,048 : INFO : worker thread finished; awaiting finish of 1 more threads\n",
      "2021-12-29 11:52:08,078 : INFO : worker thread finished; awaiting finish of 0 more threads\n",
      "2021-12-29 11:52:08,079 : INFO : EPOCH - 19 : training on 1818103 raw words (1404115 effective words) took 4.3s, 324983 effective words/s\n",
      "2021-12-29 11:52:08,080 : WARNING : EPOCH - 19 : supplied raw word count (1818103) did not equal expected count (17277)\n",
      "2021-12-29 11:52:09,182 : INFO : EPOCH 20 - PROGRESS: at 2831.26% words, 347590 words/s, in_qsize 15, out_qsize 0\n",
      "2021-12-29 11:52:10,204 : INFO : EPOCH 20 - PROGRESS: at 5779.30% words, 365863 words/s, in_qsize 16, out_qsize 0\n",
      "2021-12-29 11:52:11,242 : INFO : EPOCH 20 - PROGRESS: at 8264.55% words, 350537 words/s, in_qsize 16, out_qsize 0\n",
      "2021-12-29 11:52:11,905 : INFO : worker thread finished; awaiting finish of 7 more threads\n",
      "2021-12-29 11:52:11,908 : INFO : worker thread finished; awaiting finish of 6 more threads\n",
      "2021-12-29 11:52:11,917 : INFO : worker thread finished; awaiting finish of 5 more threads\n",
      "2021-12-29 11:52:11,923 : INFO : worker thread finished; awaiting finish of 4 more threads\n",
      "2021-12-29 11:52:11,933 : INFO : worker thread finished; awaiting finish of 3 more threads\n",
      "2021-12-29 11:52:11,935 : INFO : worker thread finished; awaiting finish of 2 more threads\n",
      "2021-12-29 11:52:11,953 : INFO : worker thread finished; awaiting finish of 1 more threads\n",
      "2021-12-29 11:52:11,969 : INFO : worker thread finished; awaiting finish of 0 more threads\n",
      "2021-12-29 11:52:11,970 : INFO : EPOCH - 20 : training on 1818103 raw words (1403933 effective words) took 3.9s, 362177 effective words/s\n",
      "2021-12-29 11:52:11,972 : WARNING : EPOCH - 20 : supplied raw word count (1818103) did not equal expected count (17277)\n",
      "2021-12-29 11:52:13,059 : INFO : EPOCH 21 - PROGRESS: at 2426.36% words, 314976 words/s, in_qsize 15, out_qsize 0\n",
      "2021-12-29 11:52:14,070 : INFO : EPOCH 21 - PROGRESS: at 5432.35% words, 355972 words/s, in_qsize 15, out_qsize 0\n",
      "2021-12-29 11:52:15,077 : INFO : EPOCH 21 - PROGRESS: at 8380.09% words, 367601 words/s, in_qsize 15, out_qsize 0\n",
      "2021-12-29 11:52:15,698 : INFO : worker thread finished; awaiting finish of 7 more threads\n",
      "2021-12-29 11:52:15,708 : INFO : worker thread finished; awaiting finish of 6 more threads\n",
      "2021-12-29 11:52:15,719 : INFO : worker thread finished; awaiting finish of 5 more threads\n",
      "2021-12-29 11:52:15,720 : INFO : worker thread finished; awaiting finish of 4 more threads\n",
      "2021-12-29 11:52:15,739 : INFO : worker thread finished; awaiting finish of 3 more threads\n",
      "2021-12-29 11:52:15,745 : INFO : worker thread finished; awaiting finish of 2 more threads\n",
      "2021-12-29 11:52:15,781 : INFO : worker thread finished; awaiting finish of 1 more threads\n",
      "2021-12-29 11:52:15,808 : INFO : worker thread finished; awaiting finish of 0 more threads\n",
      "2021-12-29 11:52:15,810 : INFO : EPOCH - 21 : training on 1818103 raw words (1404842 effective words) took 3.8s, 371756 effective words/s\n",
      "2021-12-29 11:52:15,811 : WARNING : EPOCH - 21 : supplied raw word count (1818103) did not equal expected count (17277)\n",
      "2021-12-29 11:52:16,838 : INFO : EPOCH 22 - PROGRESS: at 2657.73% words, 350562 words/s, in_qsize 15, out_qsize 0\n",
      "2021-12-29 11:52:17,876 : INFO : EPOCH 22 - PROGRESS: at 5605.78% words, 365319 words/s, in_qsize 15, out_qsize 0\n",
      "2021-12-29 11:52:18,902 : INFO : EPOCH 22 - PROGRESS: at 7744.09% words, 336454 words/s, in_qsize 15, out_qsize 0\n",
      "2021-12-29 11:52:19,871 : INFO : worker thread finished; awaiting finish of 7 more threads\n",
      "2021-12-29 11:52:19,882 : INFO : worker thread finished; awaiting finish of 6 more threads\n",
      "2021-12-29 11:52:19,887 : INFO : worker thread finished; awaiting finish of 5 more threads\n",
      "2021-12-29 11:52:19,897 : INFO : worker thread finished; awaiting finish of 4 more threads\n",
      "2021-12-29 11:52:19,902 : INFO : EPOCH 22 - PROGRESS: at 10349.79% words, 338855 words/s, in_qsize 3, out_qsize 1\n",
      "2021-12-29 11:52:19,903 : INFO : worker thread finished; awaiting finish of 3 more threads\n",
      "2021-12-29 11:52:19,931 : INFO : worker thread finished; awaiting finish of 2 more threads\n",
      "2021-12-29 11:52:19,950 : INFO : worker thread finished; awaiting finish of 1 more threads\n",
      "2021-12-29 11:52:19,993 : INFO : worker thread finished; awaiting finish of 0 more threads\n",
      "2021-12-29 11:52:19,994 : INFO : EPOCH - 22 : training on 1818103 raw words (1404436 effective words) took 4.2s, 336903 effective words/s\n",
      "2021-12-29 11:52:19,995 : WARNING : EPOCH - 22 : supplied raw word count (1818103) did not equal expected count (17277)\n",
      "2021-12-29 11:52:21,054 : INFO : EPOCH 23 - PROGRESS: at 2773.43% words, 366220 words/s, in_qsize 16, out_qsize 0\n",
      "2021-12-29 11:52:22,056 : INFO : EPOCH 23 - PROGRESS: at 5721.42% words, 379738 words/s, in_qsize 15, out_qsize 0\n",
      "2021-12-29 11:52:23,067 : INFO : EPOCH 23 - PROGRESS: at 8611.43% words, 380434 words/s, in_qsize 14, out_qsize 1\n",
      "2021-12-29 11:52:23,640 : INFO : worker thread finished; awaiting finish of 7 more threads\n",
      "2021-12-29 11:52:23,646 : INFO : worker thread finished; awaiting finish of 6 more threads\n",
      "2021-12-29 11:52:23,647 : INFO : worker thread finished; awaiting finish of 5 more threads\n",
      "2021-12-29 11:52:23,660 : INFO : worker thread finished; awaiting finish of 4 more threads\n",
      "2021-12-29 11:52:23,663 : INFO : worker thread finished; awaiting finish of 3 more threads\n",
      "2021-12-29 11:52:23,691 : INFO : worker thread finished; awaiting finish of 2 more threads\n",
      "2021-12-29 11:52:23,715 : INFO : worker thread finished; awaiting finish of 1 more threads\n",
      "2021-12-29 11:52:23,753 : INFO : worker thread finished; awaiting finish of 0 more threads\n",
      "2021-12-29 11:52:23,755 : INFO : EPOCH - 23 : training on 1818103 raw words (1405060 effective words) took 3.7s, 378373 effective words/s\n",
      "2021-12-29 11:52:23,757 : WARNING : EPOCH - 23 : supplied raw word count (1818103) did not equal expected count (17277)\n",
      "2021-12-29 11:52:24,906 : INFO : EPOCH 24 - PROGRESS: at 1905.91% words, 223768 words/s, in_qsize 15, out_qsize 0\n",
      "2021-12-29 11:52:25,954 : INFO : EPOCH 24 - PROGRESS: at 4218.59% words, 258037 words/s, in_qsize 15, out_qsize 0\n",
      "2021-12-29 11:52:26,961 : INFO : EPOCH 24 - PROGRESS: at 7223.57% words, 302450 words/s, in_qsize 15, out_qsize 0\n",
      "2021-12-29 11:52:27,962 : INFO : EPOCH 24 - PROGRESS: at 9187.80% words, 292665 words/s, in_qsize 15, out_qsize 0\n",
      "2021-12-29 11:52:28,572 : INFO : worker thread finished; awaiting finish of 7 more threads\n",
      "2021-12-29 11:52:28,576 : INFO : worker thread finished; awaiting finish of 6 more threads\n",
      "2021-12-29 11:52:28,599 : INFO : worker thread finished; awaiting finish of 5 more threads\n",
      "2021-12-29 11:52:28,610 : INFO : worker thread finished; awaiting finish of 4 more threads\n",
      "2021-12-29 11:52:28,639 : INFO : worker thread finished; awaiting finish of 3 more threads\n",
      "2021-12-29 11:52:28,641 : INFO : worker thread finished; awaiting finish of 2 more threads\n",
      "2021-12-29 11:52:28,658 : INFO : worker thread finished; awaiting finish of 1 more threads\n",
      "2021-12-29 11:52:28,664 : INFO : worker thread finished; awaiting finish of 0 more threads\n",
      "2021-12-29 11:52:28,665 : INFO : EPOCH - 24 : training on 1818103 raw words (1404468 effective words) took 4.9s, 286880 effective words/s\n",
      "2021-12-29 11:52:28,665 : WARNING : EPOCH - 24 : supplied raw word count (1818103) did not equal expected count (17277)\n",
      "2021-12-29 11:52:29,764 : INFO : EPOCH 25 - PROGRESS: at 2368.49% words, 292513 words/s, in_qsize 15, out_qsize 0\n",
      "2021-12-29 11:52:30,778 : INFO : EPOCH 25 - PROGRESS: at 4276.45% words, 272794 words/s, in_qsize 15, out_qsize 0\n",
      "2021-12-29 11:52:31,808 : INFO : EPOCH 25 - PROGRESS: at 7397.04% words, 316209 words/s, in_qsize 15, out_qsize 0\n",
      "2021-12-29 11:52:32,912 : INFO : EPOCH 25 - PROGRESS: at 9650.45% words, 304526 words/s, in_qsize 15, out_qsize 0\n",
      "2021-12-29 11:52:33,140 : INFO : worker thread finished; awaiting finish of 7 more threads\n",
      "2021-12-29 11:52:33,146 : INFO : worker thread finished; awaiting finish of 6 more threads\n",
      "2021-12-29 11:52:33,156 : INFO : worker thread finished; awaiting finish of 5 more threads\n",
      "2021-12-29 11:52:33,160 : INFO : worker thread finished; awaiting finish of 4 more threads\n",
      "2021-12-29 11:52:33,169 : INFO : worker thread finished; awaiting finish of 3 more threads\n",
      "2021-12-29 11:52:33,172 : INFO : worker thread finished; awaiting finish of 2 more threads\n",
      "2021-12-29 11:52:33,187 : INFO : worker thread finished; awaiting finish of 1 more threads\n",
      "2021-12-29 11:52:33,209 : INFO : worker thread finished; awaiting finish of 0 more threads\n",
      "2021-12-29 11:52:33,209 : INFO : EPOCH - 25 : training on 1818103 raw words (1403988 effective words) took 4.5s, 310195 effective words/s\n",
      "2021-12-29 11:52:33,210 : WARNING : EPOCH - 25 : supplied raw word count (1818103) did not equal expected count (17277)\n",
      "2021-12-29 11:52:34,266 : INFO : EPOCH 26 - PROGRESS: at 2889.04% words, 368069 words/s, in_qsize 15, out_qsize 0\n",
      "2021-12-29 11:52:35,278 : INFO : EPOCH 26 - PROGRESS: at 5490.32% words, 356248 words/s, in_qsize 15, out_qsize 0\n",
      "2021-12-29 11:52:36,304 : INFO : EPOCH 26 - PROGRESS: at 7744.09% words, 335418 words/s, in_qsize 16, out_qsize 0\n",
      "2021-12-29 11:52:37,331 : INFO : EPOCH 26 - PROGRESS: at 10055.29% words, 326361 words/s, in_qsize 9, out_qsize 0\n",
      "2021-12-29 11:52:37,366 : INFO : worker thread finished; awaiting finish of 7 more threads\n",
      "2021-12-29 11:52:37,373 : INFO : worker thread finished; awaiting finish of 6 more threads\n",
      "2021-12-29 11:52:37,377 : INFO : worker thread finished; awaiting finish of 5 more threads\n",
      "2021-12-29 11:52:37,402 : INFO : worker thread finished; awaiting finish of 4 more threads\n",
      "2021-12-29 11:52:37,404 : INFO : worker thread finished; awaiting finish of 3 more threads\n",
      "2021-12-29 11:52:37,408 : INFO : worker thread finished; awaiting finish of 2 more threads\n",
      "2021-12-29 11:52:37,416 : INFO : worker thread finished; awaiting finish of 1 more threads\n",
      "2021-12-29 11:52:37,448 : INFO : worker thread finished; awaiting finish of 0 more threads\n",
      "2021-12-29 11:52:37,449 : INFO : EPOCH - 26 : training on 1818103 raw words (1404559 effective words) took 4.2s, 331979 effective words/s\n",
      "2021-12-29 11:52:37,449 : WARNING : EPOCH - 26 : supplied raw word count (1818103) did not equal expected count (17277)\n",
      "2021-12-29 11:52:38,522 : INFO : EPOCH 27 - PROGRESS: at 2368.49% words, 299869 words/s, in_qsize 15, out_qsize 0\n",
      "2021-12-29 11:52:39,531 : INFO : EPOCH 27 - PROGRESS: at 5548.03% words, 359373 words/s, in_qsize 15, out_qsize 0\n",
      "2021-12-29 11:52:40,544 : INFO : EPOCH 27 - PROGRESS: at 8611.43% words, 373904 words/s, in_qsize 16, out_qsize 0\n",
      "2021-12-29 11:52:41,243 : INFO : worker thread finished; awaiting finish of 7 more threads\n",
      "2021-12-29 11:52:41,253 : INFO : worker thread finished; awaiting finish of 6 more threads\n",
      "2021-12-29 11:52:41,256 : INFO : worker thread finished; awaiting finish of 5 more threads\n",
      "2021-12-29 11:52:41,266 : INFO : worker thread finished; awaiting finish of 4 more threads\n",
      "2021-12-29 11:52:41,280 : INFO : worker thread finished; awaiting finish of 3 more threads\n",
      "2021-12-29 11:52:41,286 : INFO : worker thread finished; awaiting finish of 2 more threads\n",
      "2021-12-29 11:52:41,300 : INFO : worker thread finished; awaiting finish of 1 more threads\n",
      "2021-12-29 11:52:41,320 : INFO : worker thread finished; awaiting finish of 0 more threads\n",
      "2021-12-29 11:52:41,320 : INFO : EPOCH - 27 : training on 1818103 raw words (1404279 effective words) took 3.9s, 364503 effective words/s\n",
      "2021-12-29 11:52:41,321 : WARNING : EPOCH - 27 : supplied raw word count (1818103) did not equal expected count (17277)\n",
      "2021-12-29 11:52:42,401 : INFO : EPOCH 28 - PROGRESS: at 2368.49% words, 295376 words/s, in_qsize 16, out_qsize 0\n",
      "2021-12-29 11:52:43,403 : INFO : EPOCH 28 - PROGRESS: at 5490.23% words, 353819 words/s, in_qsize 15, out_qsize 0\n",
      "2021-12-29 11:52:44,412 : INFO : EPOCH 28 - PROGRESS: at 7801.94% words, 338159 words/s, in_qsize 15, out_qsize 0\n",
      "2021-12-29 11:52:45,331 : INFO : worker thread finished; awaiting finish of 7 more threads\n",
      "2021-12-29 11:52:45,332 : INFO : worker thread finished; awaiting finish of 6 more threads\n",
      "2021-12-29 11:52:45,338 : INFO : worker thread finished; awaiting finish of 5 more threads\n",
      "2021-12-29 11:52:45,344 : INFO : worker thread finished; awaiting finish of 4 more threads\n",
      "2021-12-29 11:52:45,349 : INFO : worker thread finished; awaiting finish of 3 more threads\n",
      "2021-12-29 11:52:45,363 : INFO : worker thread finished; awaiting finish of 2 more threads\n",
      "2021-12-29 11:52:45,373 : INFO : worker thread finished; awaiting finish of 1 more threads\n",
      "2021-12-29 11:52:45,391 : INFO : worker thread finished; awaiting finish of 0 more threads\n",
      "2021-12-29 11:52:45,391 : INFO : EPOCH - 28 : training on 1818103 raw words (1404369 effective words) took 4.1s, 345736 effective words/s\n",
      "2021-12-29 11:52:45,392 : WARNING : EPOCH - 28 : supplied raw word count (1818103) did not equal expected count (17277)\n",
      "2021-12-29 11:52:46,501 : INFO : EPOCH 29 - PROGRESS: at 2368.49% words, 288394 words/s, in_qsize 15, out_qsize 0\n",
      "2021-12-29 11:52:47,515 : INFO : EPOCH 29 - PROGRESS: at 5027.63% words, 318381 words/s, in_qsize 15, out_qsize 0\n",
      "2021-12-29 11:52:48,523 : INFO : EPOCH 29 - PROGRESS: at 7339.22% words, 314650 words/s, in_qsize 15, out_qsize 0\n",
      "2021-12-29 11:52:49,535 : INFO : EPOCH 29 - PROGRESS: at 9650.45% words, 312069 words/s, in_qsize 15, out_qsize 0\n",
      "2021-12-29 11:52:49,719 : INFO : worker thread finished; awaiting finish of 7 more threads\n",
      "2021-12-29 11:52:49,754 : INFO : worker thread finished; awaiting finish of 6 more threads\n",
      "2021-12-29 11:52:49,759 : INFO : worker thread finished; awaiting finish of 5 more threads\n",
      "2021-12-29 11:52:49,763 : INFO : worker thread finished; awaiting finish of 4 more threads\n",
      "2021-12-29 11:52:49,770 : INFO : worker thread finished; awaiting finish of 3 more threads\n",
      "2021-12-29 11:52:49,771 : INFO : worker thread finished; awaiting finish of 2 more threads\n",
      "2021-12-29 11:52:49,775 : INFO : worker thread finished; awaiting finish of 1 more threads\n",
      "2021-12-29 11:52:49,790 : INFO : worker thread finished; awaiting finish of 0 more threads\n",
      "2021-12-29 11:52:49,791 : INFO : EPOCH - 29 : training on 1818103 raw words (1404902 effective words) took 4.4s, 320293 effective words/s\n",
      "2021-12-29 11:52:49,792 : WARNING : EPOCH - 29 : supplied raw word count (1818103) did not equal expected count (17277)\n",
      "2021-12-29 11:52:50,826 : INFO : EPOCH 30 - PROGRESS: at 2831.26% words, 372394 words/s, in_qsize 15, out_qsize 0\n",
      "2021-12-29 11:52:51,834 : INFO : EPOCH 30 - PROGRESS: at 5316.80% words, 351339 words/s, in_qsize 15, out_qsize 0\n",
      "2021-12-29 11:52:52,853 : INFO : EPOCH 30 - PROGRESS: at 8322.27% words, 365528 words/s, in_qsize 15, out_qsize 0\n",
      "2021-12-29 11:52:53,471 : INFO : worker thread finished; awaiting finish of 7 more threads\n",
      "2021-12-29 11:52:53,480 : INFO : worker thread finished; awaiting finish of 6 more threads\n",
      "2021-12-29 11:52:53,484 : INFO : worker thread finished; awaiting finish of 5 more threads\n",
      "2021-12-29 11:52:53,486 : INFO : worker thread finished; awaiting finish of 4 more threads\n",
      "2021-12-29 11:52:53,499 : INFO : worker thread finished; awaiting finish of 3 more threads\n",
      "2021-12-29 11:52:53,514 : INFO : worker thread finished; awaiting finish of 2 more threads\n",
      "2021-12-29 11:52:53,522 : INFO : worker thread finished; awaiting finish of 1 more threads\n",
      "2021-12-29 11:52:53,557 : INFO : worker thread finished; awaiting finish of 0 more threads\n",
      "2021-12-29 11:52:53,558 : INFO : EPOCH - 30 : training on 1818103 raw words (1404618 effective words) took 3.7s, 374819 effective words/s\n",
      "2021-12-29 11:52:53,559 : WARNING : EPOCH - 30 : supplied raw word count (1818103) did not equal expected count (17277)\n",
      "2021-12-29 11:52:54,626 : INFO : EPOCH 31 - PROGRESS: at 2889.02% words, 365963 words/s, in_qsize 15, out_qsize 0\n",
      "2021-12-29 11:52:55,639 : INFO : EPOCH 31 - PROGRESS: at 6125.90% words, 396016 words/s, in_qsize 15, out_qsize 0\n",
      "2021-12-29 11:52:56,653 : INFO : EPOCH 31 - PROGRESS: at 9129.92% words, 395858 words/s, in_qsize 16, out_qsize 0\n",
      "2021-12-29 11:52:56,985 : INFO : worker thread finished; awaiting finish of 7 more threads\n",
      "2021-12-29 11:52:56,995 : INFO : worker thread finished; awaiting finish of 6 more threads\n",
      "2021-12-29 11:52:57,000 : INFO : worker thread finished; awaiting finish of 5 more threads\n",
      "2021-12-29 11:52:57,009 : INFO : worker thread finished; awaiting finish of 4 more threads\n",
      "2021-12-29 11:52:57,018 : INFO : worker thread finished; awaiting finish of 3 more threads\n",
      "2021-12-29 11:52:57,020 : INFO : worker thread finished; awaiting finish of 2 more threads\n",
      "2021-12-29 11:52:57,034 : INFO : worker thread finished; awaiting finish of 1 more threads\n",
      "2021-12-29 11:52:57,070 : INFO : worker thread finished; awaiting finish of 0 more threads\n",
      "2021-12-29 11:52:57,070 : INFO : EPOCH - 31 : training on 1818103 raw words (1404487 effective words) took 3.5s, 401457 effective words/s\n",
      "2021-12-29 11:52:57,071 : WARNING : EPOCH - 31 : supplied raw word count (1818103) did not equal expected count (17277)\n",
      "2021-12-29 11:52:58,116 : INFO : EPOCH 32 - PROGRESS: at 2831.26% words, 366325 words/s, in_qsize 15, out_qsize 0\n",
      "2021-12-29 11:52:59,144 : INFO : EPOCH 32 - PROGRESS: at 6068.25% words, 393567 words/s, in_qsize 15, out_qsize 0\n",
      "2021-12-29 11:53:00,148 : INFO : EPOCH 32 - PROGRESS: at 9187.80% words, 400484 words/s, in_qsize 15, out_qsize 0\n",
      "2021-12-29 11:53:00,452 : INFO : worker thread finished; awaiting finish of 7 more threads\n",
      "2021-12-29 11:53:00,462 : INFO : worker thread finished; awaiting finish of 6 more threads\n",
      "2021-12-29 11:53:00,467 : INFO : worker thread finished; awaiting finish of 5 more threads\n",
      "2021-12-29 11:53:00,470 : INFO : worker thread finished; awaiting finish of 4 more threads\n",
      "2021-12-29 11:53:00,475 : INFO : worker thread finished; awaiting finish of 3 more threads\n",
      "2021-12-29 11:53:00,493 : INFO : worker thread finished; awaiting finish of 2 more threads\n",
      "2021-12-29 11:53:00,505 : INFO : worker thread finished; awaiting finish of 1 more threads\n",
      "2021-12-29 11:53:00,541 : INFO : worker thread finished; awaiting finish of 0 more threads\n",
      "2021-12-29 11:53:00,542 : INFO : EPOCH - 32 : training on 1818103 raw words (1404351 effective words) took 3.5s, 406120 effective words/s\n",
      "2021-12-29 11:53:00,542 : WARNING : EPOCH - 32 : supplied raw word count (1818103) did not equal expected count (17277)\n",
      "2021-12-29 11:53:01,565 : INFO : EPOCH 33 - PROGRESS: at 2368.49% words, 312748 words/s, in_qsize 15, out_qsize 0\n",
      "2021-12-29 11:53:02,578 : INFO : EPOCH 33 - PROGRESS: at 4449.18% words, 293729 words/s, in_qsize 15, out_qsize 0\n",
      "2021-12-29 11:53:03,591 : INFO : EPOCH 33 - PROGRESS: at 6704.35% words, 295188 words/s, in_qsize 15, out_qsize 0\n",
      "2021-12-29 11:53:04,601 : INFO : EPOCH 33 - PROGRESS: at 8898.56% words, 293656 words/s, in_qsize 15, out_qsize 0\n",
      "2021-12-29 11:53:04,996 : INFO : worker thread finished; awaiting finish of 7 more threads\n",
      "2021-12-29 11:53:05,013 : INFO : worker thread finished; awaiting finish of 6 more threads\n",
      "2021-12-29 11:53:05,014 : INFO : worker thread finished; awaiting finish of 5 more threads\n",
      "2021-12-29 11:53:05,032 : INFO : worker thread finished; awaiting finish of 4 more threads\n",
      "2021-12-29 11:53:05,043 : INFO : worker thread finished; awaiting finish of 3 more threads\n",
      "2021-12-29 11:53:05,049 : INFO : worker thread finished; awaiting finish of 2 more threads\n",
      "2021-12-29 11:53:05,055 : INFO : worker thread finished; awaiting finish of 1 more threads\n",
      "2021-12-29 11:53:05,076 : INFO : worker thread finished; awaiting finish of 0 more threads\n",
      "2021-12-29 11:53:05,077 : INFO : EPOCH - 33 : training on 1818103 raw words (1403831 effective words) took 4.5s, 310439 effective words/s\n",
      "2021-12-29 11:53:05,077 : WARNING : EPOCH - 33 : supplied raw word count (1818103) did not equal expected count (17277)\n",
      "2021-12-29 11:53:06,108 : INFO : EPOCH 34 - PROGRESS: at 2831.26% words, 375075 words/s, in_qsize 15, out_qsize 0\n",
      "2021-12-29 11:53:07,127 : INFO : EPOCH 34 - PROGRESS: at 5605.89% words, 369630 words/s, in_qsize 15, out_qsize 0\n",
      "2021-12-29 11:53:08,174 : INFO : EPOCH 34 - PROGRESS: at 8726.93% words, 379152 words/s, in_qsize 15, out_qsize 0\n",
      "2021-12-29 11:53:08,646 : INFO : worker thread finished; awaiting finish of 7 more threads\n",
      "2021-12-29 11:53:08,650 : INFO : worker thread finished; awaiting finish of 6 more threads\n",
      "2021-12-29 11:53:08,655 : INFO : worker thread finished; awaiting finish of 5 more threads\n",
      "2021-12-29 11:53:08,660 : INFO : worker thread finished; awaiting finish of 4 more threads\n",
      "2021-12-29 11:53:08,663 : INFO : worker thread finished; awaiting finish of 3 more threads\n",
      "2021-12-29 11:53:08,667 : INFO : worker thread finished; awaiting finish of 2 more threads\n",
      "2021-12-29 11:53:08,697 : INFO : worker thread finished; awaiting finish of 1 more threads\n",
      "2021-12-29 11:53:08,715 : INFO : worker thread finished; awaiting finish of 0 more threads\n",
      "2021-12-29 11:53:08,716 : INFO : EPOCH - 34 : training on 1818103 raw words (1404743 effective words) took 3.6s, 388373 effective words/s\n",
      "2021-12-29 11:53:08,717 : WARNING : EPOCH - 34 : supplied raw word count (1818103) did not equal expected count (17277)\n",
      "2021-12-29 11:53:09,755 : INFO : EPOCH 35 - PROGRESS: at 1561.25% words, 203973 words/s, in_qsize 16, out_qsize 0\n",
      "2021-12-29 11:53:10,807 : INFO : EPOCH 35 - PROGRESS: at 3755.87% words, 242004 words/s, in_qsize 15, out_qsize 0\n",
      "2021-12-29 11:53:11,867 : INFO : EPOCH 35 - PROGRESS: at 5605.89% words, 239045 words/s, in_qsize 15, out_qsize 0\n",
      "2021-12-29 11:53:12,898 : INFO : EPOCH 35 - PROGRESS: at 8726.84% words, 279935 words/s, in_qsize 15, out_qsize 0\n",
      "2021-12-29 11:53:13,362 : INFO : worker thread finished; awaiting finish of 7 more threads\n",
      "2021-12-29 11:53:13,375 : INFO : worker thread finished; awaiting finish of 6 more threads\n",
      "2021-12-29 11:53:13,378 : INFO : worker thread finished; awaiting finish of 5 more threads\n",
      "2021-12-29 11:53:13,393 : INFO : worker thread finished; awaiting finish of 4 more threads\n",
      "2021-12-29 11:53:13,394 : INFO : worker thread finished; awaiting finish of 3 more threads\n",
      "2021-12-29 11:53:13,406 : INFO : worker thread finished; awaiting finish of 2 more threads\n",
      "2021-12-29 11:53:13,426 : INFO : worker thread finished; awaiting finish of 1 more threads\n",
      "2021-12-29 11:53:13,437 : INFO : worker thread finished; awaiting finish of 0 more threads\n",
      "2021-12-29 11:53:13,438 : INFO : EPOCH - 35 : training on 1818103 raw words (1404384 effective words) took 4.7s, 298531 effective words/s\n",
      "2021-12-29 11:53:13,438 : WARNING : EPOCH - 35 : supplied raw word count (1818103) did not equal expected count (17277)\n",
      "2021-12-29 11:53:14,481 : INFO : EPOCH 36 - PROGRESS: at 2831.26% words, 367140 words/s, in_qsize 15, out_qsize 0\n",
      "2021-12-29 11:53:15,482 : INFO : EPOCH 36 - PROGRESS: at 5779.30% words, 380300 words/s, in_qsize 15, out_qsize 0\n",
      "2021-12-29 11:53:16,529 : INFO : EPOCH 36 - PROGRESS: at 8726.84% words, 378840 words/s, in_qsize 15, out_qsize 2\n",
      "2021-12-29 11:53:17,018 : INFO : worker thread finished; awaiting finish of 7 more threads\n",
      "2021-12-29 11:53:17,020 : INFO : worker thread finished; awaiting finish of 6 more threads\n",
      "2021-12-29 11:53:17,023 : INFO : worker thread finished; awaiting finish of 5 more threads\n",
      "2021-12-29 11:53:17,026 : INFO : worker thread finished; awaiting finish of 4 more threads\n",
      "2021-12-29 11:53:17,030 : INFO : worker thread finished; awaiting finish of 3 more threads\n",
      "2021-12-29 11:53:17,049 : INFO : worker thread finished; awaiting finish of 2 more threads\n",
      "2021-12-29 11:53:17,060 : INFO : worker thread finished; awaiting finish of 1 more threads\n",
      "2021-12-29 11:53:17,092 : INFO : worker thread finished; awaiting finish of 0 more threads\n",
      "2021-12-29 11:53:17,093 : INFO : EPOCH - 36 : training on 1818103 raw words (1404953 effective words) took 3.6s, 385707 effective words/s\n",
      "2021-12-29 11:53:17,094 : WARNING : EPOCH - 36 : supplied raw word count (1818103) did not equal expected count (17277)\n",
      "2021-12-29 11:53:18,143 : INFO : EPOCH 37 - PROGRESS: at 2831.26% words, 371441 words/s, in_qsize 16, out_qsize 0\n",
      "2021-12-29 11:53:19,183 : INFO : EPOCH 37 - PROGRESS: at 6068.25% words, 394226 words/s, in_qsize 15, out_qsize 0\n",
      "2021-12-29 11:53:20,210 : INFO : EPOCH 37 - PROGRESS: at 9187.76% words, 397742 words/s, in_qsize 15, out_qsize 0\n",
      "2021-12-29 11:53:20,534 : INFO : worker thread finished; awaiting finish of 7 more threads\n",
      "2021-12-29 11:53:20,546 : INFO : worker thread finished; awaiting finish of 6 more threads\n",
      "2021-12-29 11:53:20,555 : INFO : worker thread finished; awaiting finish of 5 more threads\n",
      "2021-12-29 11:53:20,564 : INFO : worker thread finished; awaiting finish of 4 more threads\n",
      "2021-12-29 11:53:20,565 : INFO : worker thread finished; awaiting finish of 3 more threads\n",
      "2021-12-29 11:53:20,571 : INFO : worker thread finished; awaiting finish of 2 more threads\n",
      "2021-12-29 11:53:20,579 : INFO : worker thread finished; awaiting finish of 1 more threads\n",
      "2021-12-29 11:53:20,612 : INFO : worker thread finished; awaiting finish of 0 more threads\n",
      "2021-12-29 11:53:20,613 : INFO : EPOCH - 37 : training on 1818103 raw words (1403970 effective words) took 3.5s, 402621 effective words/s\n",
      "2021-12-29 11:53:20,613 : WARNING : EPOCH - 37 : supplied raw word count (1818103) did not equal expected count (17277)\n",
      "2021-12-29 11:53:21,665 : INFO : EPOCH 38 - PROGRESS: at 2889.04% words, 373137 words/s, in_qsize 15, out_qsize 0\n",
      "2021-12-29 11:53:22,694 : INFO : EPOCH 38 - PROGRESS: at 6125.90% words, 396988 words/s, in_qsize 15, out_qsize 0\n",
      "2021-12-29 11:53:23,729 : INFO : EPOCH 38 - PROGRESS: at 9361.24% words, 403596 words/s, in_qsize 14, out_qsize 1\n",
      "2021-12-29 11:53:23,967 : INFO : worker thread finished; awaiting finish of 7 more threads\n",
      "2021-12-29 11:53:23,969 : INFO : worker thread finished; awaiting finish of 6 more threads\n",
      "2021-12-29 11:53:23,982 : INFO : worker thread finished; awaiting finish of 5 more threads\n",
      "2021-12-29 11:53:24,001 : INFO : worker thread finished; awaiting finish of 4 more threads\n",
      "2021-12-29 11:53:24,009 : INFO : worker thread finished; awaiting finish of 3 more threads\n",
      "2021-12-29 11:53:24,026 : INFO : worker thread finished; awaiting finish of 2 more threads\n",
      "2021-12-29 11:53:24,047 : INFO : worker thread finished; awaiting finish of 1 more threads\n",
      "2021-12-29 11:53:24,063 : INFO : worker thread finished; awaiting finish of 0 more threads\n",
      "2021-12-29 11:53:24,063 : INFO : EPOCH - 38 : training on 1818103 raw words (1404729 effective words) took 3.4s, 409232 effective words/s\n",
      "2021-12-29 11:53:24,064 : WARNING : EPOCH - 38 : supplied raw word count (1818103) did not equal expected count (17277)\n",
      "2021-12-29 11:53:25,105 : INFO : EPOCH 39 - PROGRESS: at 2889.04% words, 373923 words/s, in_qsize 15, out_qsize 0\n",
      "2021-12-29 11:53:26,154 : INFO : EPOCH 39 - PROGRESS: at 6068.25% words, 389791 words/s, in_qsize 15, out_qsize 0\n",
      "2021-12-29 11:53:27,176 : INFO : EPOCH 39 - PROGRESS: at 9303.46% words, 400433 words/s, in_qsize 15, out_qsize 0\n",
      "2021-12-29 11:53:27,435 : INFO : worker thread finished; awaiting finish of 7 more threads\n",
      "2021-12-29 11:53:27,451 : INFO : worker thread finished; awaiting finish of 6 more threads\n",
      "2021-12-29 11:53:27,476 : INFO : worker thread finished; awaiting finish of 5 more threads\n",
      "2021-12-29 11:53:27,481 : INFO : worker thread finished; awaiting finish of 4 more threads\n",
      "2021-12-29 11:53:27,486 : INFO : worker thread finished; awaiting finish of 3 more threads\n",
      "2021-12-29 11:53:27,499 : INFO : worker thread finished; awaiting finish of 2 more threads\n",
      "2021-12-29 11:53:27,506 : INFO : worker thread finished; awaiting finish of 1 more threads\n",
      "2021-12-29 11:53:27,517 : INFO : worker thread finished; awaiting finish of 0 more threads\n",
      "2021-12-29 11:53:27,517 : INFO : EPOCH - 39 : training on 1818103 raw words (1404752 effective words) took 3.4s, 407878 effective words/s\n",
      "2021-12-29 11:53:27,518 : WARNING : EPOCH - 39 : supplied raw word count (1818103) did not equal expected count (17277)\n",
      "2021-12-29 11:53:28,540 : INFO : EPOCH 40 - PROGRESS: at 2831.26% words, 374305 words/s, in_qsize 15, out_qsize 0\n",
      "2021-12-29 11:53:29,545 : INFO : EPOCH 40 - PROGRESS: at 5779.30% words, 383136 words/s, in_qsize 15, out_qsize 0\n",
      "2021-12-29 11:53:30,558 : INFO : EPOCH 40 - PROGRESS: at 9014.20% words, 397517 words/s, in_qsize 16, out_qsize 0\n",
      "2021-12-29 11:53:30,948 : INFO : worker thread finished; awaiting finish of 7 more threads\n",
      "2021-12-29 11:53:30,950 : INFO : worker thread finished; awaiting finish of 6 more threads\n",
      "2021-12-29 11:53:30,956 : INFO : worker thread finished; awaiting finish of 5 more threads\n",
      "2021-12-29 11:53:30,970 : INFO : worker thread finished; awaiting finish of 4 more threads\n",
      "2021-12-29 11:53:30,974 : INFO : worker thread finished; awaiting finish of 3 more threads\n",
      "2021-12-29 11:53:30,991 : INFO : worker thread finished; awaiting finish of 2 more threads\n",
      "2021-12-29 11:53:31,003 : INFO : worker thread finished; awaiting finish of 1 more threads\n",
      "2021-12-29 11:53:31,013 : INFO : worker thread finished; awaiting finish of 0 more threads\n",
      "2021-12-29 11:53:31,014 : INFO : EPOCH - 40 : training on 1818103 raw words (1404070 effective words) took 3.5s, 403051 effective words/s\n",
      "2021-12-29 11:53:31,014 : WARNING : EPOCH - 40 : supplied raw word count (1818103) did not equal expected count (17277)\n",
      "2021-12-29 11:53:32,030 : INFO : EPOCH 41 - PROGRESS: at 2831.26% words, 377404 words/s, in_qsize 15, out_qsize 0\n",
      "2021-12-29 11:53:33,046 : INFO : EPOCH 41 - PROGRESS: at 5894.84% words, 390230 words/s, in_qsize 15, out_qsize 0\n",
      "2021-12-29 11:53:34,063 : INFO : EPOCH 41 - PROGRESS: at 8782.96% words, 386576 words/s, in_qsize 15, out_qsize 0\n",
      "2021-12-29 11:53:34,485 : INFO : worker thread finished; awaiting finish of 7 more threads\n",
      "2021-12-29 11:53:34,515 : INFO : worker thread finished; awaiting finish of 6 more threads\n",
      "2021-12-29 11:53:34,517 : INFO : worker thread finished; awaiting finish of 5 more threads\n",
      "2021-12-29 11:53:34,522 : INFO : worker thread finished; awaiting finish of 4 more threads\n",
      "2021-12-29 11:53:34,524 : INFO : worker thread finished; awaiting finish of 3 more threads\n",
      "2021-12-29 11:53:34,529 : INFO : worker thread finished; awaiting finish of 2 more threads\n",
      "2021-12-29 11:53:34,546 : INFO : worker thread finished; awaiting finish of 1 more threads\n",
      "2021-12-29 11:53:34,579 : INFO : worker thread finished; awaiting finish of 0 more threads\n",
      "2021-12-29 11:53:34,580 : INFO : EPOCH - 41 : training on 1818103 raw words (1404300 effective words) took 3.6s, 395369 effective words/s\n",
      "2021-12-29 11:53:34,580 : WARNING : EPOCH - 41 : supplied raw word count (1818103) did not equal expected count (17277)\n",
      "2021-12-29 11:53:35,608 : INFO : EPOCH 42 - PROGRESS: at 2889.04% words, 381974 words/s, in_qsize 16, out_qsize 0\n",
      "2021-12-29 11:53:36,632 : INFO : EPOCH 42 - PROGRESS: at 6068.25% words, 398644 words/s, in_qsize 15, out_qsize 0\n",
      "2021-12-29 11:53:37,679 : INFO : EPOCH 42 - PROGRESS: at 9129.92% words, 395843 words/s, in_qsize 15, out_qsize 0\n",
      "2021-12-29 11:53:38,132 : INFO : worker thread finished; awaiting finish of 7 more threads\n",
      "2021-12-29 11:53:38,134 : INFO : worker thread finished; awaiting finish of 6 more threads\n",
      "2021-12-29 11:53:38,142 : INFO : worker thread finished; awaiting finish of 5 more threads\n",
      "2021-12-29 11:53:38,148 : INFO : worker thread finished; awaiting finish of 4 more threads\n",
      "2021-12-29 11:53:38,163 : INFO : worker thread finished; awaiting finish of 3 more threads\n",
      "2021-12-29 11:53:38,167 : INFO : worker thread finished; awaiting finish of 2 more threads\n",
      "2021-12-29 11:53:38,182 : INFO : worker thread finished; awaiting finish of 1 more threads\n",
      "2021-12-29 11:53:38,236 : INFO : worker thread finished; awaiting finish of 0 more threads\n",
      "2021-12-29 11:53:38,236 : INFO : EPOCH - 42 : training on 1818103 raw words (1404431 effective words) took 3.6s, 386023 effective words/s\n",
      "2021-12-29 11:53:38,237 : WARNING : EPOCH - 42 : supplied raw word count (1818103) did not equal expected count (17277)\n",
      "2021-12-29 11:53:39,265 : INFO : EPOCH 43 - PROGRESS: at 2542.00% words, 333843 words/s, in_qsize 15, out_qsize 0\n",
      "2021-12-29 11:53:40,266 : INFO : EPOCH 43 - PROGRESS: at 5605.89% words, 371299 words/s, in_qsize 15, out_qsize 0\n",
      "2021-12-29 11:53:41,293 : INFO : EPOCH 43 - PROGRESS: at 8725.29% words, 383054 words/s, in_qsize 15, out_qsize 0\n",
      "2021-12-29 11:53:41,732 : INFO : worker thread finished; awaiting finish of 7 more threads\n",
      "2021-12-29 11:53:41,741 : INFO : worker thread finished; awaiting finish of 6 more threads\n",
      "2021-12-29 11:53:41,752 : INFO : worker thread finished; awaiting finish of 5 more threads\n",
      "2021-12-29 11:53:41,775 : INFO : worker thread finished; awaiting finish of 4 more threads\n",
      "2021-12-29 11:53:41,780 : INFO : worker thread finished; awaiting finish of 3 more threads\n",
      "2021-12-29 11:53:41,788 : INFO : worker thread finished; awaiting finish of 2 more threads\n",
      "2021-12-29 11:53:41,794 : INFO : worker thread finished; awaiting finish of 1 more threads\n",
      "2021-12-29 11:53:41,809 : INFO : worker thread finished; awaiting finish of 0 more threads\n",
      "2021-12-29 11:53:41,810 : INFO : EPOCH - 43 : training on 1818103 raw words (1405117 effective words) took 3.6s, 394505 effective words/s\n",
      "2021-12-29 11:53:41,811 : WARNING : EPOCH - 43 : supplied raw word count (1818103) did not equal expected count (17277)\n",
      "2021-12-29 11:53:42,866 : INFO : EPOCH 44 - PROGRESS: at 2889.02% words, 369756 words/s, in_qsize 16, out_qsize 1\n",
      "2021-12-29 11:53:43,882 : INFO : EPOCH 44 - PROGRESS: at 6183.75% words, 401506 words/s, in_qsize 15, out_qsize 0\n",
      "2021-12-29 11:53:44,884 : INFO : EPOCH 44 - PROGRESS: at 9361.34% words, 408273 words/s, in_qsize 15, out_qsize 0\n",
      "2021-12-29 11:53:45,160 : INFO : worker thread finished; awaiting finish of 7 more threads\n",
      "2021-12-29 11:53:45,161 : INFO : worker thread finished; awaiting finish of 6 more threads\n",
      "2021-12-29 11:53:45,169 : INFO : worker thread finished; awaiting finish of 5 more threads\n",
      "2021-12-29 11:53:45,172 : INFO : worker thread finished; awaiting finish of 4 more threads\n",
      "2021-12-29 11:53:45,183 : INFO : worker thread finished; awaiting finish of 3 more threads\n",
      "2021-12-29 11:53:45,189 : INFO : worker thread finished; awaiting finish of 2 more threads\n",
      "2021-12-29 11:53:45,208 : INFO : worker thread finished; awaiting finish of 1 more threads\n",
      "2021-12-29 11:53:45,232 : INFO : worker thread finished; awaiting finish of 0 more threads\n",
      "2021-12-29 11:53:45,232 : INFO : EPOCH - 44 : training on 1818103 raw words (1404438 effective words) took 3.4s, 411864 effective words/s\n",
      "2021-12-29 11:53:45,233 : WARNING : EPOCH - 44 : supplied raw word count (1818103) did not equal expected count (17277)\n",
      "2021-12-29 11:53:46,271 : INFO : EPOCH 45 - PROGRESS: at 2831.26% words, 368344 words/s, in_qsize 16, out_qsize 0\n",
      "2021-12-29 11:53:47,302 : INFO : EPOCH 45 - PROGRESS: at 5952.71% words, 386741 words/s, in_qsize 15, out_qsize 1\n",
      "2021-12-29 11:53:48,354 : INFO : EPOCH 45 - PROGRESS: at 9187.80% words, 394795 words/s, in_qsize 15, out_qsize 0\n",
      "2021-12-29 11:53:48,659 : INFO : worker thread finished; awaiting finish of 7 more threads\n",
      "2021-12-29 11:53:48,667 : INFO : worker thread finished; awaiting finish of 6 more threads\n",
      "2021-12-29 11:53:48,670 : INFO : worker thread finished; awaiting finish of 5 more threads\n",
      "2021-12-29 11:53:48,690 : INFO : worker thread finished; awaiting finish of 4 more threads\n",
      "2021-12-29 11:53:48,694 : INFO : worker thread finished; awaiting finish of 3 more threads\n",
      "2021-12-29 11:53:48,700 : INFO : worker thread finished; awaiting finish of 2 more threads\n",
      "2021-12-29 11:53:48,706 : INFO : worker thread finished; awaiting finish of 1 more threads\n",
      "2021-12-29 11:53:48,718 : INFO : worker thread finished; awaiting finish of 0 more threads\n",
      "2021-12-29 11:53:48,719 : INFO : EPOCH - 45 : training on 1818103 raw words (1404556 effective words) took 3.5s, 404353 effective words/s\n",
      "2021-12-29 11:53:48,720 : WARNING : EPOCH - 45 : supplied raw word count (1818103) did not equal expected count (17277)\n",
      "2021-12-29 11:53:49,765 : INFO : EPOCH 46 - PROGRESS: at 2831.26% words, 366738 words/s, in_qsize 15, out_qsize 0\n",
      "2021-12-29 11:53:50,768 : INFO : EPOCH 46 - PROGRESS: at 6010.52% words, 394849 words/s, in_qsize 15, out_qsize 0\n",
      "2021-12-29 11:53:51,772 : INFO : EPOCH 46 - PROGRESS: at 8956.41% words, 393718 words/s, in_qsize 15, out_qsize 0\n",
      "2021-12-29 11:53:52,483 : INFO : worker thread finished; awaiting finish of 7 more threads\n",
      "2021-12-29 11:53:52,485 : INFO : worker thread finished; awaiting finish of 6 more threads\n",
      "2021-12-29 11:53:52,504 : INFO : worker thread finished; awaiting finish of 5 more threads\n",
      "2021-12-29 11:53:52,527 : INFO : worker thread finished; awaiting finish of 4 more threads\n",
      "2021-12-29 11:53:52,538 : INFO : worker thread finished; awaiting finish of 3 more threads\n",
      "2021-12-29 11:53:52,553 : INFO : worker thread finished; awaiting finish of 2 more threads\n",
      "2021-12-29 11:53:52,575 : INFO : worker thread finished; awaiting finish of 1 more threads\n",
      "2021-12-29 11:53:52,605 : INFO : worker thread finished; awaiting finish of 0 more threads\n",
      "2021-12-29 11:53:52,606 : INFO : EPOCH - 46 : training on 1818103 raw words (1404294 effective words) took 3.9s, 362611 effective words/s\n",
      "2021-12-29 11:53:52,607 : WARNING : EPOCH - 46 : supplied raw word count (1818103) did not equal expected count (17277)\n",
      "2021-12-29 11:53:53,705 : INFO : EPOCH 47 - PROGRESS: at 1445.67% words, 177224 words/s, in_qsize 15, out_qsize 0\n",
      "2021-12-29 11:53:54,719 : INFO : EPOCH 47 - PROGRESS: at 3351.45% words, 212893 words/s, in_qsize 15, out_qsize 0\n",
      "2021-12-29 11:53:55,724 : INFO : EPOCH 47 - PROGRESS: at 5201.13% words, 223574 words/s, in_qsize 15, out_qsize 0\n",
      "2021-12-29 11:53:56,822 : INFO : EPOCH 47 - PROGRESS: at 6992.49% words, 222167 words/s, in_qsize 15, out_qsize 1\n",
      "2021-12-29 11:53:57,864 : INFO : EPOCH 47 - PROGRESS: at 8840.71% words, 225009 words/s, in_qsize 15, out_qsize 0\n",
      "2021-12-29 11:53:58,545 : INFO : worker thread finished; awaiting finish of 7 more threads\n",
      "2021-12-29 11:53:58,552 : INFO : worker thread finished; awaiting finish of 6 more threads\n",
      "2021-12-29 11:53:58,575 : INFO : worker thread finished; awaiting finish of 5 more threads\n",
      "2021-12-29 11:53:58,587 : INFO : worker thread finished; awaiting finish of 4 more threads\n",
      "2021-12-29 11:53:58,600 : INFO : worker thread finished; awaiting finish of 3 more threads\n",
      "2021-12-29 11:53:58,605 : INFO : worker thread finished; awaiting finish of 2 more threads\n",
      "2021-12-29 11:53:58,606 : INFO : worker thread finished; awaiting finish of 1 more threads\n",
      "2021-12-29 11:53:58,635 : INFO : worker thread finished; awaiting finish of 0 more threads\n",
      "2021-12-29 11:53:58,637 : INFO : EPOCH - 47 : training on 1818103 raw words (1403883 effective words) took 6.0s, 233242 effective words/s\n",
      "2021-12-29 11:53:58,638 : WARNING : EPOCH - 47 : supplied raw word count (1818103) did not equal expected count (17277)\n",
      "2021-12-29 11:53:59,693 : INFO : EPOCH 48 - PROGRESS: at 1905.91% words, 244785 words/s, in_qsize 15, out_qsize 0\n",
      "2021-12-29 11:54:00,697 : INFO : EPOCH 48 - PROGRESS: at 3871.48% words, 253303 words/s, in_qsize 15, out_qsize 0\n",
      "2021-12-29 11:54:01,712 : INFO : EPOCH 48 - PROGRESS: at 6010.52% words, 262701 words/s, in_qsize 16, out_qsize 0\n",
      "2021-12-29 11:54:02,724 : INFO : EPOCH 48 - PROGRESS: at 7801.94% words, 256173 words/s, in_qsize 16, out_qsize 0\n",
      "2021-12-29 11:54:03,828 : INFO : EPOCH 48 - PROGRESS: at 9361.34% words, 241626 words/s, in_qsize 16, out_qsize 0\n",
      "2021-12-29 11:54:04,214 : INFO : worker thread finished; awaiting finish of 7 more threads\n",
      "2021-12-29 11:54:04,222 : INFO : worker thread finished; awaiting finish of 6 more threads\n",
      "2021-12-29 11:54:04,262 : INFO : worker thread finished; awaiting finish of 5 more threads\n",
      "2021-12-29 11:54:04,322 : INFO : worker thread finished; awaiting finish of 4 more threads\n",
      "2021-12-29 11:54:04,323 : INFO : worker thread finished; awaiting finish of 3 more threads\n",
      "2021-12-29 11:54:04,340 : INFO : worker thread finished; awaiting finish of 2 more threads\n",
      "2021-12-29 11:54:04,345 : INFO : worker thread finished; awaiting finish of 1 more threads\n",
      "2021-12-29 11:54:04,375 : INFO : worker thread finished; awaiting finish of 0 more threads\n",
      "2021-12-29 11:54:04,376 : INFO : EPOCH - 48 : training on 1818103 raw words (1404552 effective words) took 5.7s, 245480 effective words/s\n",
      "2021-12-29 11:54:04,377 : WARNING : EPOCH - 48 : supplied raw word count (1818103) did not equal expected count (17277)\n",
      "2021-12-29 11:54:05,405 : INFO : EPOCH 49 - PROGRESS: at 2426.36% words, 323537 words/s, in_qsize 16, out_qsize 0\n",
      "2021-12-29 11:54:06,470 : INFO : EPOCH 49 - PROGRESS: at 5143.32% words, 332519 words/s, in_qsize 15, out_qsize 0\n",
      "2021-12-29 11:54:07,472 : INFO : EPOCH 49 - PROGRESS: at 7744.09% words, 337152 words/s, in_qsize 15, out_qsize 0\n",
      "2021-12-29 11:54:08,498 : INFO : EPOCH 49 - PROGRESS: at 9592.63% words, 312756 words/s, in_qsize 15, out_qsize 0\n",
      "2021-12-29 11:54:08,851 : INFO : worker thread finished; awaiting finish of 7 more threads\n",
      "2021-12-29 11:54:08,864 : INFO : worker thread finished; awaiting finish of 6 more threads\n",
      "2021-12-29 11:54:08,896 : INFO : worker thread finished; awaiting finish of 5 more threads\n",
      "2021-12-29 11:54:08,915 : INFO : worker thread finished; awaiting finish of 4 more threads\n",
      "2021-12-29 11:54:08,919 : INFO : worker thread finished; awaiting finish of 3 more threads\n",
      "2021-12-29 11:54:08,924 : INFO : worker thread finished; awaiting finish of 2 more threads\n",
      "2021-12-29 11:54:08,947 : INFO : worker thread finished; awaiting finish of 1 more threads\n",
      "2021-12-29 11:54:08,986 : INFO : worker thread finished; awaiting finish of 0 more threads\n",
      "2021-12-29 11:54:09,000 : INFO : EPOCH - 49 : training on 1818103 raw words (1403972 effective words) took 4.6s, 305465 effective words/s\n",
      "2021-12-29 11:54:09,020 : WARNING : EPOCH - 49 : supplied raw word count (1818103) did not equal expected count (17277)\n",
      "2021-12-29 11:54:10,058 : INFO : EPOCH 50 - PROGRESS: at 2368.49% words, 313000 words/s, in_qsize 15, out_qsize 0\n",
      "2021-12-29 11:54:11,081 : INFO : EPOCH 50 - PROGRESS: at 4160.79% words, 273302 words/s, in_qsize 16, out_qsize 0\n",
      "2021-12-29 11:54:12,085 : INFO : EPOCH 50 - PROGRESS: at 6588.63% words, 289927 words/s, in_qsize 15, out_qsize 0\n",
      "2021-12-29 11:54:13,094 : INFO : EPOCH 50 - PROGRESS: at 8898.56% words, 293634 words/s, in_qsize 13, out_qsize 2\n",
      "2021-12-29 11:54:13,649 : INFO : worker thread finished; awaiting finish of 7 more threads\n",
      "2021-12-29 11:54:13,671 : INFO : worker thread finished; awaiting finish of 6 more threads\n",
      "2021-12-29 11:54:13,684 : INFO : worker thread finished; awaiting finish of 5 more threads\n",
      "2021-12-29 11:54:13,739 : INFO : worker thread finished; awaiting finish of 4 more threads\n",
      "2021-12-29 11:54:13,743 : INFO : worker thread finished; awaiting finish of 3 more threads\n",
      "2021-12-29 11:54:13,744 : INFO : worker thread finished; awaiting finish of 2 more threads\n",
      "2021-12-29 11:54:13,766 : INFO : worker thread finished; awaiting finish of 1 more threads\n",
      "2021-12-29 11:54:13,818 : INFO : worker thread finished; awaiting finish of 0 more threads\n",
      "2021-12-29 11:54:13,819 : INFO : EPOCH - 50 : training on 1818103 raw words (1404296 effective words) took 4.8s, 294345 effective words/s\n",
      "2021-12-29 11:54:13,819 : WARNING : EPOCH - 50 : supplied raw word count (1818103) did not equal expected count (17277)\n",
      "2021-12-29 11:54:14,871 : INFO : EPOCH 51 - PROGRESS: at 1905.91% words, 244509 words/s, in_qsize 15, out_qsize 0\n",
      "2021-12-29 11:54:15,880 : INFO : EPOCH 51 - PROGRESS: at 4507.06% words, 294126 words/s, in_qsize 16, out_qsize 2\n",
      "2021-12-29 11:54:16,897 : INFO : EPOCH 51 - PROGRESS: at 6992.42% words, 304928 words/s, in_qsize 15, out_qsize 0\n",
      "2021-12-29 11:54:17,936 : INFO : EPOCH 51 - PROGRESS: at 9650.45% words, 313990 words/s, in_qsize 15, out_qsize 0\n",
      "2021-12-29 11:54:18,152 : INFO : worker thread finished; awaiting finish of 7 more threads\n",
      "2021-12-29 11:54:18,158 : INFO : worker thread finished; awaiting finish of 6 more threads\n",
      "2021-12-29 11:54:18,197 : INFO : worker thread finished; awaiting finish of 5 more threads\n",
      "2021-12-29 11:54:18,206 : INFO : worker thread finished; awaiting finish of 4 more threads\n",
      "2021-12-29 11:54:18,208 : INFO : worker thread finished; awaiting finish of 3 more threads\n",
      "2021-12-29 11:54:18,209 : INFO : worker thread finished; awaiting finish of 2 more threads\n",
      "2021-12-29 11:54:18,241 : INFO : worker thread finished; awaiting finish of 1 more threads\n",
      "2021-12-29 11:54:18,267 : INFO : worker thread finished; awaiting finish of 0 more threads\n",
      "2021-12-29 11:54:18,269 : INFO : EPOCH - 51 : training on 1818103 raw words (1404887 effective words) took 4.4s, 316632 effective words/s\n",
      "2021-12-29 11:54:18,272 : WARNING : EPOCH - 51 : supplied raw word count (1818103) did not equal expected count (17277)\n",
      "2021-12-29 11:54:19,343 : INFO : EPOCH 52 - PROGRESS: at 2368.49% words, 303084 words/s, in_qsize 15, out_qsize 0\n",
      "2021-12-29 11:54:20,349 : INFO : EPOCH 52 - PROGRESS: at 4911.89% words, 320256 words/s, in_qsize 16, out_qsize 1\n",
      "2021-12-29 11:54:21,374 : INFO : EPOCH 52 - PROGRESS: at 7165.86% words, 311439 words/s, in_qsize 16, out_qsize 0\n",
      "2021-12-29 11:54:22,409 : INFO : EPOCH 52 - PROGRESS: at 9476.96% words, 307874 words/s, in_qsize 15, out_qsize 0\n",
      "2021-12-29 11:54:22,754 : INFO : worker thread finished; awaiting finish of 7 more threads\n",
      "2021-12-29 11:54:22,761 : INFO : worker thread finished; awaiting finish of 6 more threads\n",
      "2021-12-29 11:54:22,771 : INFO : worker thread finished; awaiting finish of 5 more threads\n",
      "2021-12-29 11:54:22,792 : INFO : worker thread finished; awaiting finish of 4 more threads\n",
      "2021-12-29 11:54:22,810 : INFO : worker thread finished; awaiting finish of 3 more threads\n",
      "2021-12-29 11:54:22,850 : INFO : worker thread finished; awaiting finish of 2 more threads\n",
      "2021-12-29 11:54:22,881 : INFO : worker thread finished; awaiting finish of 1 more threads\n",
      "2021-12-29 11:54:22,894 : INFO : worker thread finished; awaiting finish of 0 more threads\n",
      "2021-12-29 11:54:22,897 : INFO : EPOCH - 52 : training on 1818103 raw words (1404160 effective words) took 4.6s, 305418 effective words/s\n",
      "2021-12-29 11:54:22,900 : WARNING : EPOCH - 52 : supplied raw word count (1818103) did not equal expected count (17277)\n",
      "2021-12-29 11:54:23,931 : INFO : EPOCH 53 - PROGRESS: at 2368.49% words, 311363 words/s, in_qsize 15, out_qsize 0\n",
      "2021-12-29 11:54:24,937 : INFO : EPOCH 53 - PROGRESS: at 4854.10% words, 320840 words/s, in_qsize 15, out_qsize 0\n",
      "2021-12-29 11:54:25,938 : INFO : EPOCH 53 - PROGRESS: at 7454.91% words, 329477 words/s, in_qsize 15, out_qsize 0\n",
      "2021-12-29 11:54:26,952 : INFO : EPOCH 53 - PROGRESS: at 10055.29% words, 332528 words/s, in_qsize 9, out_qsize 0\n",
      "2021-12-29 11:54:27,022 : INFO : worker thread finished; awaiting finish of 7 more threads\n",
      "2021-12-29 11:54:27,028 : INFO : worker thread finished; awaiting finish of 6 more threads\n",
      "2021-12-29 11:54:27,033 : INFO : worker thread finished; awaiting finish of 5 more threads\n",
      "2021-12-29 11:54:27,043 : INFO : worker thread finished; awaiting finish of 4 more threads\n",
      "2021-12-29 11:54:27,093 : INFO : worker thread finished; awaiting finish of 3 more threads\n",
      "2021-12-29 11:54:27,105 : INFO : worker thread finished; awaiting finish of 2 more threads\n",
      "2021-12-29 11:54:27,133 : INFO : worker thread finished; awaiting finish of 1 more threads\n",
      "2021-12-29 11:54:27,157 : INFO : worker thread finished; awaiting finish of 0 more threads\n",
      "2021-12-29 11:54:27,158 : INFO : EPOCH - 53 : training on 1818103 raw words (1404922 effective words) took 4.2s, 331099 effective words/s\n",
      "2021-12-29 11:54:27,159 : WARNING : EPOCH - 53 : supplied raw word count (1818103) did not equal expected count (17277)\n",
      "2021-12-29 11:54:28,178 : INFO : EPOCH 54 - PROGRESS: at 1905.91% words, 252510 words/s, in_qsize 15, out_qsize 0\n",
      "2021-12-29 11:54:29,248 : INFO : EPOCH 54 - PROGRESS: at 4218.59% words, 271458 words/s, in_qsize 15, out_qsize 0\n",
      "2021-12-29 11:54:30,274 : INFO : EPOCH 54 - PROGRESS: at 6530.77% words, 281550 words/s, in_qsize 14, out_qsize 1\n",
      "2021-12-29 11:54:31,275 : INFO : EPOCH 54 - PROGRESS: at 9014.20% words, 293510 words/s, in_qsize 15, out_qsize 0\n",
      "2021-12-29 11:54:31,754 : INFO : worker thread finished; awaiting finish of 7 more threads\n",
      "2021-12-29 11:54:31,758 : INFO : worker thread finished; awaiting finish of 6 more threads\n",
      "2021-12-29 11:54:31,767 : INFO : worker thread finished; awaiting finish of 5 more threads\n",
      "2021-12-29 11:54:31,780 : INFO : worker thread finished; awaiting finish of 4 more threads\n",
      "2021-12-29 11:54:31,825 : INFO : worker thread finished; awaiting finish of 3 more threads\n",
      "2021-12-29 11:54:31,850 : INFO : worker thread finished; awaiting finish of 2 more threads\n",
      "2021-12-29 11:54:31,876 : INFO : worker thread finished; awaiting finish of 1 more threads\n",
      "2021-12-29 11:54:31,890 : INFO : worker thread finished; awaiting finish of 0 more threads\n",
      "2021-12-29 11:54:31,891 : INFO : EPOCH - 54 : training on 1818103 raw words (1404828 effective words) took 4.7s, 297653 effective words/s\n",
      "2021-12-29 11:54:31,893 : WARNING : EPOCH - 54 : supplied raw word count (1818103) did not equal expected count (17277)\n",
      "2021-12-29 11:54:32,989 : INFO : EPOCH 55 - PROGRESS: at 2368.49% words, 295615 words/s, in_qsize 16, out_qsize 0\n",
      "2021-12-29 11:54:33,999 : INFO : EPOCH 55 - PROGRESS: at 4507.04% words, 289479 words/s, in_qsize 15, out_qsize 0\n",
      "2021-12-29 11:54:35,058 : INFO : EPOCH 55 - PROGRESS: at 6530.78% words, 278262 words/s, in_qsize 15, out_qsize 0\n",
      "2021-12-29 11:54:36,093 : INFO : EPOCH 55 - PROGRESS: at 8840.89% words, 282961 words/s, in_qsize 16, out_qsize 0\n",
      "2021-12-29 11:54:36,609 : INFO : worker thread finished; awaiting finish of 7 more threads\n",
      "2021-12-29 11:54:36,635 : INFO : worker thread finished; awaiting finish of 6 more threads\n",
      "2021-12-29 11:54:36,685 : INFO : worker thread finished; awaiting finish of 5 more threads\n",
      "2021-12-29 11:54:36,691 : INFO : worker thread finished; awaiting finish of 4 more threads\n",
      "2021-12-29 11:54:36,693 : INFO : worker thread finished; awaiting finish of 3 more threads\n",
      "2021-12-29 11:54:36,694 : INFO : worker thread finished; awaiting finish of 2 more threads\n",
      "2021-12-29 11:54:36,717 : INFO : worker thread finished; awaiting finish of 1 more threads\n",
      "2021-12-29 11:54:36,737 : INFO : worker thread finished; awaiting finish of 0 more threads\n",
      "2021-12-29 11:54:36,738 : INFO : EPOCH - 55 : training on 1818103 raw words (1404413 effective words) took 4.8s, 291466 effective words/s\n",
      "2021-12-29 11:54:36,739 : WARNING : EPOCH - 55 : supplied raw word count (1818103) did not equal expected count (17277)\n",
      "2021-12-29 11:54:37,804 : INFO : EPOCH 56 - PROGRESS: at 2079.36% words, 265394 words/s, in_qsize 15, out_qsize 0\n",
      "2021-12-29 11:54:38,902 : INFO : EPOCH 56 - PROGRESS: at 3467.00% words, 215948 words/s, in_qsize 15, out_qsize 0\n",
      "2021-12-29 11:54:39,962 : INFO : EPOCH 56 - PROGRESS: at 4854.10% words, 202267 words/s, in_qsize 15, out_qsize 0\n",
      "2021-12-29 11:54:40,993 : INFO : EPOCH 56 - PROGRESS: at 6299.39% words, 198729 words/s, in_qsize 14, out_qsize 1\n",
      "2021-12-29 11:54:42,013 : INFO : EPOCH 56 - PROGRESS: at 7801.94% words, 198193 words/s, in_qsize 15, out_qsize 0\n",
      "2021-12-29 11:54:43,035 : INFO : EPOCH 56 - PROGRESS: at 9245.62% words, 196532 words/s, in_qsize 16, out_qsize 1\n",
      "2021-12-29 11:54:43,622 : INFO : worker thread finished; awaiting finish of 7 more threads\n",
      "2021-12-29 11:54:43,627 : INFO : worker thread finished; awaiting finish of 6 more threads\n",
      "2021-12-29 11:54:43,629 : INFO : worker thread finished; awaiting finish of 5 more threads\n",
      "2021-12-29 11:54:43,642 : INFO : worker thread finished; awaiting finish of 4 more threads\n",
      "2021-12-29 11:54:43,649 : INFO : worker thread finished; awaiting finish of 3 more threads\n",
      "2021-12-29 11:54:43,713 : INFO : worker thread finished; awaiting finish of 2 more threads\n",
      "2021-12-29 11:54:43,743 : INFO : worker thread finished; awaiting finish of 1 more threads\n",
      "2021-12-29 11:54:43,753 : INFO : worker thread finished; awaiting finish of 0 more threads\n",
      "2021-12-29 11:54:43,754 : INFO : EPOCH - 56 : training on 1818103 raw words (1403858 effective words) took 7.0s, 200633 effective words/s\n",
      "2021-12-29 11:54:43,755 : WARNING : EPOCH - 56 : supplied raw word count (1818103) did not equal expected count (17277)\n",
      "2021-12-29 11:54:44,785 : INFO : EPOCH 57 - PROGRESS: at 1963.76% words, 257981 words/s, in_qsize 15, out_qsize 0\n",
      "2021-12-29 11:54:45,803 : INFO : EPOCH 57 - PROGRESS: at 4276.45% words, 281251 words/s, in_qsize 15, out_qsize 0\n",
      "2021-12-29 11:54:46,830 : INFO : EPOCH 57 - PROGRESS: at 6934.67% words, 302966 words/s, in_qsize 15, out_qsize 0\n",
      "2021-12-29 11:54:47,842 : INFO : EPOCH 57 - PROGRESS: at 9823.86% words, 322032 words/s, in_qsize 13, out_qsize 0\n",
      "2021-12-29 11:54:47,995 : INFO : worker thread finished; awaiting finish of 7 more threads\n",
      "2021-12-29 11:54:48,001 : INFO : worker thread finished; awaiting finish of 6 more threads\n",
      "2021-12-29 11:54:48,002 : INFO : worker thread finished; awaiting finish of 5 more threads\n",
      "2021-12-29 11:54:48,017 : INFO : worker thread finished; awaiting finish of 4 more threads\n",
      "2021-12-29 11:54:48,019 : INFO : worker thread finished; awaiting finish of 3 more threads\n",
      "2021-12-29 11:54:48,034 : INFO : worker thread finished; awaiting finish of 2 more threads\n",
      "2021-12-29 11:54:48,059 : INFO : worker thread finished; awaiting finish of 1 more threads\n",
      "2021-12-29 11:54:48,089 : INFO : worker thread finished; awaiting finish of 0 more threads\n",
      "2021-12-29 11:54:48,089 : INFO : EPOCH - 57 : training on 1818103 raw words (1404299 effective words) took 4.3s, 325139 effective words/s\n",
      "2021-12-29 11:54:48,090 : WARNING : EPOCH - 57 : supplied raw word count (1818103) did not equal expected count (17277)\n",
      "2021-12-29 11:54:49,163 : INFO : EPOCH 58 - PROGRESS: at 2368.49% words, 297834 words/s, in_qsize 16, out_qsize 0\n",
      "2021-12-29 11:54:50,177 : INFO : EPOCH 58 - PROGRESS: at 4334.28% words, 278976 words/s, in_qsize 16, out_qsize 0\n",
      "2021-12-29 11:54:51,180 : INFO : EPOCH 58 - PROGRESS: at 6472.91% words, 281007 words/s, in_qsize 15, out_qsize 0\n",
      "2021-12-29 11:54:52,191 : INFO : EPOCH 58 - PROGRESS: at 8782.96% words, 286806 words/s, in_qsize 15, out_qsize 0\n",
      "2021-12-29 11:54:52,743 : INFO : worker thread finished; awaiting finish of 7 more threads\n",
      "2021-12-29 11:54:52,772 : INFO : worker thread finished; awaiting finish of 6 more threads\n",
      "2021-12-29 11:54:52,776 : INFO : worker thread finished; awaiting finish of 5 more threads\n",
      "2021-12-29 11:54:52,778 : INFO : worker thread finished; awaiting finish of 4 more threads\n",
      "2021-12-29 11:54:52,786 : INFO : worker thread finished; awaiting finish of 3 more threads\n",
      "2021-12-29 11:54:52,811 : INFO : worker thread finished; awaiting finish of 2 more threads\n",
      "2021-12-29 11:54:52,828 : INFO : worker thread finished; awaiting finish of 1 more threads\n",
      "2021-12-29 11:54:52,840 : INFO : worker thread finished; awaiting finish of 0 more threads\n",
      "2021-12-29 11:54:52,841 : INFO : EPOCH - 58 : training on 1818103 raw words (1404134 effective words) took 4.7s, 296249 effective words/s\n",
      "2021-12-29 11:54:52,842 : WARNING : EPOCH - 58 : supplied raw word count (1818103) did not equal expected count (17277)\n",
      "2021-12-29 11:54:53,872 : INFO : EPOCH 59 - PROGRESS: at 2542.06% words, 334607 words/s, in_qsize 15, out_qsize 0\n",
      "2021-12-29 11:54:54,891 : INFO : EPOCH 59 - PROGRESS: at 5779.30% words, 379814 words/s, in_qsize 15, out_qsize 0\n",
      "2021-12-29 11:54:55,897 : INFO : EPOCH 59 - PROGRESS: at 7975.55% words, 350620 words/s, in_qsize 15, out_qsize 0\n",
      "2021-12-29 11:54:56,848 : INFO : worker thread finished; awaiting finish of 7 more threads\n",
      "2021-12-29 11:54:56,852 : INFO : worker thread finished; awaiting finish of 6 more threads\n",
      "2021-12-29 11:54:56,855 : INFO : worker thread finished; awaiting finish of 5 more threads\n",
      "2021-12-29 11:54:56,860 : INFO : worker thread finished; awaiting finish of 4 more threads\n",
      "2021-12-29 11:54:56,873 : INFO : worker thread finished; awaiting finish of 3 more threads\n",
      "2021-12-29 11:54:56,877 : INFO : worker thread finished; awaiting finish of 2 more threads\n",
      "2021-12-29 11:54:56,895 : INFO : worker thread finished; awaiting finish of 1 more threads\n",
      "2021-12-29 11:54:56,927 : INFO : EPOCH 59 - PROGRESS: at 10523.26% words, 345122 words/s, in_qsize 0, out_qsize 1\n",
      "2021-12-29 11:54:56,928 : INFO : worker thread finished; awaiting finish of 0 more threads\n",
      "2021-12-29 11:54:56,928 : INFO : EPOCH - 59 : training on 1818103 raw words (1404856 effective words) took 4.1s, 345018 effective words/s\n",
      "2021-12-29 11:54:56,929 : WARNING : EPOCH - 59 : supplied raw word count (1818103) did not equal expected count (17277)\n",
      "2021-12-29 11:54:58,020 : INFO : EPOCH 60 - PROGRESS: at 1905.91% words, 235017 words/s, in_qsize 15, out_qsize 0\n",
      "2021-12-29 11:54:59,028 : INFO : EPOCH 60 - PROGRESS: at 3987.21% words, 254925 words/s, in_qsize 16, out_qsize 0\n",
      "2021-12-29 11:55:00,044 : INFO : EPOCH 60 - PROGRESS: at 6762.10% words, 291073 words/s, in_qsize 14, out_qsize 1\n",
      "2021-12-29 11:55:01,045 : INFO : EPOCH 60 - PROGRESS: at 8726.84% words, 283903 words/s, in_qsize 15, out_qsize 0\n",
      "2021-12-29 11:55:01,713 : INFO : worker thread finished; awaiting finish of 7 more threads\n",
      "2021-12-29 11:55:01,714 : INFO : worker thread finished; awaiting finish of 6 more threads\n",
      "2021-12-29 11:55:01,731 : INFO : worker thread finished; awaiting finish of 5 more threads\n",
      "2021-12-29 11:55:01,750 : INFO : worker thread finished; awaiting finish of 4 more threads\n",
      "2021-12-29 11:55:01,768 : INFO : worker thread finished; awaiting finish of 3 more threads\n",
      "2021-12-29 11:55:01,770 : INFO : worker thread finished; awaiting finish of 2 more threads\n",
      "2021-12-29 11:55:01,799 : INFO : worker thread finished; awaiting finish of 1 more threads\n",
      "2021-12-29 11:55:01,814 : INFO : worker thread finished; awaiting finish of 0 more threads\n",
      "2021-12-29 11:55:01,815 : INFO : EPOCH - 60 : training on 1818103 raw words (1404054 effective words) took 4.9s, 287964 effective words/s\n",
      "2021-12-29 11:55:01,815 : WARNING : EPOCH - 60 : supplied raw word count (1818103) did not equal expected count (17277)\n",
      "2021-12-29 11:55:02,850 : INFO : EPOCH 61 - PROGRESS: at 2831.26% words, 369589 words/s, in_qsize 15, out_qsize 0\n",
      "2021-12-29 11:55:03,855 : INFO : EPOCH 61 - PROGRESS: at 5952.65% words, 392543 words/s, in_qsize 15, out_qsize 0\n",
      "2021-12-29 11:55:04,922 : INFO : EPOCH 61 - PROGRESS: at 9187.80% words, 396705 words/s, in_qsize 16, out_qsize 0\n",
      "2021-12-29 11:55:05,219 : INFO : worker thread finished; awaiting finish of 7 more threads\n",
      "2021-12-29 11:55:05,220 : INFO : worker thread finished; awaiting finish of 6 more threads\n",
      "2021-12-29 11:55:05,222 : INFO : worker thread finished; awaiting finish of 5 more threads\n",
      "2021-12-29 11:55:05,248 : INFO : worker thread finished; awaiting finish of 4 more threads\n",
      "2021-12-29 11:55:05,262 : INFO : worker thread finished; awaiting finish of 3 more threads\n",
      "2021-12-29 11:55:05,307 : INFO : worker thread finished; awaiting finish of 2 more threads\n",
      "2021-12-29 11:55:05,315 : INFO : worker thread finished; awaiting finish of 1 more threads\n",
      "2021-12-29 11:55:05,348 : INFO : worker thread finished; awaiting finish of 0 more threads\n",
      "2021-12-29 11:55:05,349 : INFO : EPOCH - 61 : training on 1818103 raw words (1404692 effective words) took 3.5s, 398909 effective words/s\n",
      "2021-12-29 11:55:05,350 : WARNING : EPOCH - 61 : supplied raw word count (1818103) did not equal expected count (17277)\n",
      "2021-12-29 11:55:06,392 : INFO : EPOCH 62 - PROGRESS: at 2773.39% words, 361763 words/s, in_qsize 14, out_qsize 1\n",
      "2021-12-29 11:55:07,409 : INFO : EPOCH 62 - PROGRESS: at 5663.64% words, 370850 words/s, in_qsize 16, out_qsize 0\n",
      "2021-12-29 11:55:08,435 : INFO : EPOCH 62 - PROGRESS: at 8495.77% words, 370197 words/s, in_qsize 15, out_qsize 0\n",
      "2021-12-29 11:55:09,022 : INFO : worker thread finished; awaiting finish of 7 more threads\n",
      "2021-12-29 11:55:09,028 : INFO : worker thread finished; awaiting finish of 6 more threads\n",
      "2021-12-29 11:55:09,033 : INFO : worker thread finished; awaiting finish of 5 more threads\n",
      "2021-12-29 11:55:09,039 : INFO : worker thread finished; awaiting finish of 4 more threads\n",
      "2021-12-29 11:55:09,062 : INFO : worker thread finished; awaiting finish of 3 more threads\n",
      "2021-12-29 11:55:09,087 : INFO : worker thread finished; awaiting finish of 2 more threads\n",
      "2021-12-29 11:55:09,098 : INFO : worker thread finished; awaiting finish of 1 more threads\n",
      "2021-12-29 11:55:09,116 : INFO : worker thread finished; awaiting finish of 0 more threads\n",
      "2021-12-29 11:55:09,117 : INFO : EPOCH - 62 : training on 1818103 raw words (1405169 effective words) took 3.8s, 374707 effective words/s\n",
      "2021-12-29 11:55:09,118 : WARNING : EPOCH - 62 : supplied raw word count (1818103) did not equal expected count (17277)\n",
      "2021-12-29 11:55:10,163 : INFO : EPOCH 63 - PROGRESS: at 2599.88% words, 343247 words/s, in_qsize 15, out_qsize 0\n",
      "2021-12-29 11:55:11,183 : INFO : EPOCH 63 - PROGRESS: at 5432.51% words, 357508 words/s, in_qsize 15, out_qsize 0\n",
      "2021-12-29 11:55:12,216 : INFO : EPOCH 63 - PROGRESS: at 8091.08% words, 352923 words/s, in_qsize 15, out_qsize 0\n",
      "2021-12-29 11:55:13,036 : INFO : worker thread finished; awaiting finish of 7 more threads\n",
      "2021-12-29 11:55:13,048 : INFO : worker thread finished; awaiting finish of 6 more threads\n",
      "2021-12-29 11:55:13,049 : INFO : worker thread finished; awaiting finish of 5 more threads\n",
      "2021-12-29 11:55:13,051 : INFO : worker thread finished; awaiting finish of 4 more threads\n",
      "2021-12-29 11:55:13,052 : INFO : worker thread finished; awaiting finish of 3 more threads\n",
      "2021-12-29 11:55:13,077 : INFO : worker thread finished; awaiting finish of 2 more threads\n",
      "2021-12-29 11:55:13,084 : INFO : worker thread finished; awaiting finish of 1 more threads\n",
      "2021-12-29 11:55:13,122 : INFO : worker thread finished; awaiting finish of 0 more threads\n",
      "2021-12-29 11:55:13,122 : INFO : EPOCH - 63 : training on 1818103 raw words (1404573 effective words) took 4.0s, 353765 effective words/s\n",
      "2021-12-29 11:55:13,123 : WARNING : EPOCH - 63 : supplied raw word count (1818103) did not equal expected count (17277)\n",
      "2021-12-29 11:55:14,147 : INFO : EPOCH 64 - PROGRESS: at 2542.06% words, 335528 words/s, in_qsize 15, out_qsize 0\n",
      "2021-12-29 11:55:15,148 : INFO : EPOCH 64 - PROGRESS: at 5432.51% words, 360932 words/s, in_qsize 15, out_qsize 0\n",
      "2021-12-29 11:55:16,163 : INFO : EPOCH 64 - PROGRESS: at 8495.77% words, 375008 words/s, in_qsize 15, out_qsize 0\n",
      "2021-12-29 11:55:16,714 : INFO : worker thread finished; awaiting finish of 7 more threads\n",
      "2021-12-29 11:55:16,717 : INFO : worker thread finished; awaiting finish of 6 more threads\n",
      "2021-12-29 11:55:16,730 : INFO : worker thread finished; awaiting finish of 5 more threads\n",
      "2021-12-29 11:55:16,731 : INFO : worker thread finished; awaiting finish of 4 more threads\n",
      "2021-12-29 11:55:16,752 : INFO : worker thread finished; awaiting finish of 3 more threads\n",
      "2021-12-29 11:55:16,761 : INFO : worker thread finished; awaiting finish of 2 more threads\n",
      "2021-12-29 11:55:16,779 : INFO : worker thread finished; awaiting finish of 1 more threads\n",
      "2021-12-29 11:55:16,795 : INFO : worker thread finished; awaiting finish of 0 more threads\n",
      "2021-12-29 11:55:16,796 : INFO : EPOCH - 64 : training on 1818103 raw words (1404836 effective words) took 3.7s, 383801 effective words/s\n",
      "2021-12-29 11:55:16,796 : WARNING : EPOCH - 64 : supplied raw word count (1818103) did not equal expected count (17277)\n",
      "2021-12-29 11:55:17,814 : INFO : EPOCH 65 - PROGRESS: at 2657.72% words, 352360 words/s, in_qsize 15, out_qsize 0\n",
      "2021-12-29 11:55:18,829 : INFO : EPOCH 65 - PROGRESS: at 5721.42% words, 377933 words/s, in_qsize 15, out_qsize 0\n",
      "2021-12-29 11:55:19,874 : INFO : EPOCH 65 - PROGRESS: at 8725.29% words, 379908 words/s, in_qsize 15, out_qsize 0\n",
      "2021-12-29 11:55:20,338 : INFO : worker thread finished; awaiting finish of 7 more threads\n",
      "2021-12-29 11:55:20,346 : INFO : worker thread finished; awaiting finish of 6 more threads\n",
      "2021-12-29 11:55:20,359 : INFO : worker thread finished; awaiting finish of 5 more threads\n",
      "2021-12-29 11:55:20,365 : INFO : worker thread finished; awaiting finish of 4 more threads\n",
      "2021-12-29 11:55:20,367 : INFO : worker thread finished; awaiting finish of 3 more threads\n",
      "2021-12-29 11:55:20,373 : INFO : worker thread finished; awaiting finish of 2 more threads\n",
      "2021-12-29 11:55:20,414 : INFO : worker thread finished; awaiting finish of 1 more threads\n",
      "2021-12-29 11:55:20,423 : INFO : worker thread finished; awaiting finish of 0 more threads\n",
      "2021-12-29 11:55:20,424 : INFO : EPOCH - 65 : training on 1818103 raw words (1404199 effective words) took 3.6s, 388246 effective words/s\n",
      "2021-12-29 11:55:20,425 : WARNING : EPOCH - 65 : supplied raw word count (1818103) did not equal expected count (17277)\n",
      "2021-12-29 11:55:21,479 : INFO : EPOCH 66 - PROGRESS: at 2831.26% words, 366325 words/s, in_qsize 15, out_qsize 0\n",
      "2021-12-29 11:55:22,509 : INFO : EPOCH 66 - PROGRESS: at 6068.25% words, 393269 words/s, in_qsize 15, out_qsize 0\n",
      "2021-12-29 11:55:23,512 : INFO : EPOCH 66 - PROGRESS: at 9245.64% words, 402849 words/s, in_qsize 15, out_qsize 0\n",
      "2021-12-29 11:55:23,805 : INFO : worker thread finished; awaiting finish of 7 more threads\n",
      "2021-12-29 11:55:23,810 : INFO : worker thread finished; awaiting finish of 6 more threads\n",
      "2021-12-29 11:55:23,834 : INFO : worker thread finished; awaiting finish of 5 more threads\n",
      "2021-12-29 11:55:23,846 : INFO : worker thread finished; awaiting finish of 4 more threads\n",
      "2021-12-29 11:55:23,851 : INFO : worker thread finished; awaiting finish of 3 more threads\n",
      "2021-12-29 11:55:23,855 : INFO : worker thread finished; awaiting finish of 2 more threads\n",
      "2021-12-29 11:55:23,867 : INFO : worker thread finished; awaiting finish of 1 more threads\n",
      "2021-12-29 11:55:23,884 : INFO : worker thread finished; awaiting finish of 0 more threads\n",
      "2021-12-29 11:55:23,885 : INFO : EPOCH - 66 : training on 1818103 raw words (1404407 effective words) took 3.4s, 408395 effective words/s\n",
      "2021-12-29 11:55:23,886 : WARNING : EPOCH - 66 : supplied raw word count (1818103) did not equal expected count (17277)\n",
      "2021-12-29 11:55:24,901 : INFO : EPOCH 67 - PROGRESS: at 2831.26% words, 377480 words/s, in_qsize 15, out_qsize 0\n",
      "2021-12-29 11:55:25,901 : INFO : EPOCH 67 - PROGRESS: at 5779.30% words, 385606 words/s, in_qsize 15, out_qsize 0\n",
      "2021-12-29 11:55:26,908 : INFO : EPOCH 67 - PROGRESS: at 8725.29% words, 387409 words/s, in_qsize 15, out_qsize 0\n",
      "2021-12-29 11:55:27,554 : INFO : worker thread finished; awaiting finish of 7 more threads\n",
      "2021-12-29 11:55:27,556 : INFO : worker thread finished; awaiting finish of 6 more threads\n",
      "2021-12-29 11:55:27,559 : INFO : worker thread finished; awaiting finish of 5 more threads\n",
      "2021-12-29 11:55:27,565 : INFO : worker thread finished; awaiting finish of 4 more threads\n",
      "2021-12-29 11:55:27,569 : INFO : worker thread finished; awaiting finish of 3 more threads\n",
      "2021-12-29 11:55:27,602 : INFO : worker thread finished; awaiting finish of 2 more threads\n",
      "2021-12-29 11:55:27,629 : INFO : worker thread finished; awaiting finish of 1 more threads\n",
      "2021-12-29 11:55:27,637 : INFO : worker thread finished; awaiting finish of 0 more threads\n",
      "2021-12-29 11:55:27,637 : INFO : EPOCH - 67 : training on 1818103 raw words (1404787 effective words) took 3.7s, 375747 effective words/s\n",
      "2021-12-29 11:55:27,638 : WARNING : EPOCH - 67 : supplied raw word count (1818103) did not equal expected count (17277)\n",
      "2021-12-29 11:55:28,721 : INFO : EPOCH 68 - PROGRESS: at 1905.91% words, 238061 words/s, in_qsize 15, out_qsize 0\n",
      "2021-12-29 11:55:29,726 : INFO : EPOCH 68 - PROGRESS: at 4218.59% words, 272073 words/s, in_qsize 16, out_qsize 0\n",
      "2021-12-29 11:55:30,737 : INFO : EPOCH 68 - PROGRESS: at 6646.50% words, 288203 words/s, in_qsize 15, out_qsize 0\n",
      "2021-12-29 11:55:31,744 : INFO : EPOCH 68 - PROGRESS: at 9129.92% words, 298101 words/s, in_qsize 15, out_qsize 0\n",
      "2021-12-29 11:55:32,446 : INFO : worker thread finished; awaiting finish of 7 more threads\n",
      "2021-12-29 11:55:32,462 : INFO : worker thread finished; awaiting finish of 6 more threads\n",
      "2021-12-29 11:55:32,517 : INFO : worker thread finished; awaiting finish of 5 more threads\n",
      "2021-12-29 11:55:32,519 : INFO : worker thread finished; awaiting finish of 4 more threads\n",
      "2021-12-29 11:55:32,527 : INFO : worker thread finished; awaiting finish of 3 more threads\n",
      "2021-12-29 11:55:32,562 : INFO : worker thread finished; awaiting finish of 2 more threads\n",
      "2021-12-29 11:55:32,573 : INFO : worker thread finished; awaiting finish of 1 more threads\n",
      "2021-12-29 11:55:32,577 : INFO : worker thread finished; awaiting finish of 0 more threads\n",
      "2021-12-29 11:55:32,578 : INFO : EPOCH - 68 : training on 1818103 raw words (1404627 effective words) took 4.9s, 285210 effective words/s\n",
      "2021-12-29 11:55:32,579 : WARNING : EPOCH - 68 : supplied raw word count (1818103) did not equal expected count (17277)\n",
      "2021-12-29 11:55:33,602 : INFO : EPOCH 69 - PROGRESS: at 1963.68% words, 259913 words/s, in_qsize 15, out_qsize 0\n",
      "2021-12-29 11:55:34,638 : INFO : EPOCH 69 - PROGRESS: at 4391.38% words, 287014 words/s, in_qsize 15, out_qsize 0\n",
      "2021-12-29 11:55:35,652 : INFO : EPOCH 69 - PROGRESS: at 7339.22% words, 320662 words/s, in_qsize 15, out_qsize 0\n",
      "2021-12-29 11:55:36,671 : INFO : EPOCH 69 - PROGRESS: at 9997.46% words, 327278 words/s, in_qsize 10, out_qsize 0\n",
      "2021-12-29 11:55:36,775 : INFO : worker thread finished; awaiting finish of 7 more threads\n",
      "2021-12-29 11:55:36,779 : INFO : worker thread finished; awaiting finish of 6 more threads\n",
      "2021-12-29 11:55:36,786 : INFO : worker thread finished; awaiting finish of 5 more threads\n",
      "2021-12-29 11:55:36,816 : INFO : worker thread finished; awaiting finish of 4 more threads\n",
      "2021-12-29 11:55:36,821 : INFO : worker thread finished; awaiting finish of 3 more threads\n",
      "2021-12-29 11:55:36,827 : INFO : worker thread finished; awaiting finish of 2 more threads\n",
      "2021-12-29 11:55:36,845 : INFO : worker thread finished; awaiting finish of 1 more threads\n",
      "2021-12-29 11:55:36,878 : INFO : worker thread finished; awaiting finish of 0 more threads\n",
      "2021-12-29 11:55:36,879 : INFO : EPOCH - 69 : training on 1818103 raw words (1403950 effective words) took 4.3s, 327696 effective words/s\n",
      "2021-12-29 11:55:36,879 : WARNING : EPOCH - 69 : supplied raw word count (1818103) did not equal expected count (17277)\n",
      "2021-12-29 11:55:37,933 : INFO : EPOCH 70 - PROGRESS: at 2426.36% words, 310143 words/s, in_qsize 16, out_qsize 0\n",
      "2021-12-29 11:55:38,937 : INFO : EPOCH 70 - PROGRESS: at 5201.20% words, 339296 words/s, in_qsize 15, out_qsize 0\n",
      "2021-12-29 11:55:39,950 : INFO : EPOCH 70 - PROGRESS: at 7628.38% words, 332900 words/s, in_qsize 14, out_qsize 1\n",
      "2021-12-29 11:55:40,922 : INFO : worker thread finished; awaiting finish of 7 more threads\n",
      "2021-12-29 11:55:40,932 : INFO : worker thread finished; awaiting finish of 6 more threads\n",
      "2021-12-29 11:55:40,935 : INFO : worker thread finished; awaiting finish of 5 more threads\n",
      "2021-12-29 11:55:40,965 : INFO : EPOCH 70 - PROGRESS: at 10291.97% words, 337011 words/s, in_qsize 4, out_qsize 1\n",
      "2021-12-29 11:55:40,966 : INFO : worker thread finished; awaiting finish of 4 more threads\n",
      "2021-12-29 11:55:40,969 : INFO : worker thread finished; awaiting finish of 3 more threads\n",
      "2021-12-29 11:55:40,991 : INFO : worker thread finished; awaiting finish of 2 more threads\n",
      "2021-12-29 11:55:41,003 : INFO : worker thread finished; awaiting finish of 1 more threads\n",
      "2021-12-29 11:55:41,052 : INFO : worker thread finished; awaiting finish of 0 more threads\n",
      "2021-12-29 11:55:41,052 : INFO : EPOCH - 70 : training on 1818103 raw words (1404352 effective words) took 4.2s, 337279 effective words/s\n",
      "2021-12-29 11:55:41,053 : WARNING : EPOCH - 70 : supplied raw word count (1818103) did not equal expected count (17277)\n",
      "2021-12-29 11:55:42,084 : INFO : EPOCH 71 - PROGRESS: at 2368.49% words, 308992 words/s, in_qsize 15, out_qsize 0\n",
      "2021-12-29 11:55:43,105 : INFO : EPOCH 71 - PROGRESS: at 4796.22% words, 313677 words/s, in_qsize 15, out_qsize 0\n",
      "2021-12-29 11:55:44,112 : INFO : EPOCH 71 - PROGRESS: at 7108.11% words, 311501 words/s, in_qsize 16, out_qsize 2\n",
      "2021-12-29 11:55:45,133 : INFO : EPOCH 71 - PROGRESS: at 9650.45% words, 316512 words/s, in_qsize 15, out_qsize 0\n",
      "2021-12-29 11:55:45,337 : INFO : worker thread finished; awaiting finish of 7 more threads\n",
      "2021-12-29 11:55:45,346 : INFO : worker thread finished; awaiting finish of 6 more threads\n",
      "2021-12-29 11:55:45,372 : INFO : worker thread finished; awaiting finish of 5 more threads\n",
      "2021-12-29 11:55:45,400 : INFO : worker thread finished; awaiting finish of 4 more threads\n",
      "2021-12-29 11:55:45,412 : INFO : worker thread finished; awaiting finish of 3 more threads\n",
      "2021-12-29 11:55:45,419 : INFO : worker thread finished; awaiting finish of 2 more threads\n",
      "2021-12-29 11:55:45,429 : INFO : worker thread finished; awaiting finish of 1 more threads\n",
      "2021-12-29 11:55:45,448 : INFO : worker thread finished; awaiting finish of 0 more threads\n",
      "2021-12-29 11:55:45,449 : INFO : EPOCH - 71 : training on 1818103 raw words (1404435 effective words) took 4.4s, 320173 effective words/s\n",
      "2021-12-29 11:55:45,449 : WARNING : EPOCH - 71 : supplied raw word count (1818103) did not equal expected count (17277)\n",
      "2021-12-29 11:55:46,469 : INFO : EPOCH 72 - PROGRESS: at 2310.67% words, 306316 words/s, in_qsize 15, out_qsize 0\n",
      "2021-12-29 11:55:47,490 : INFO : EPOCH 72 - PROGRESS: at 4854.10% words, 319905 words/s, in_qsize 15, out_qsize 0\n",
      "2021-12-29 11:55:48,520 : INFO : EPOCH 72 - PROGRESS: at 7397.04% words, 323250 words/s, in_qsize 15, out_qsize 0\n",
      "2021-12-29 11:55:49,525 : INFO : EPOCH 72 - PROGRESS: at 10113.17% words, 332345 words/s, in_qsize 8, out_qsize 0\n",
      "2021-12-29 11:55:49,541 : INFO : worker thread finished; awaiting finish of 7 more threads\n",
      "2021-12-29 11:55:49,549 : INFO : worker thread finished; awaiting finish of 6 more threads\n",
      "2021-12-29 11:55:49,551 : INFO : worker thread finished; awaiting finish of 5 more threads\n",
      "2021-12-29 11:55:49,554 : INFO : worker thread finished; awaiting finish of 4 more threads\n",
      "2021-12-29 11:55:49,559 : INFO : worker thread finished; awaiting finish of 3 more threads\n",
      "2021-12-29 11:55:49,572 : INFO : worker thread finished; awaiting finish of 2 more threads\n",
      "2021-12-29 11:55:49,596 : INFO : worker thread finished; awaiting finish of 1 more threads\n",
      "2021-12-29 11:55:49,617 : INFO : worker thread finished; awaiting finish of 0 more threads\n",
      "2021-12-29 11:55:49,618 : INFO : EPOCH - 72 : training on 1818103 raw words (1404206 effective words) took 4.2s, 338030 effective words/s\n",
      "2021-12-29 11:55:49,618 : WARNING : EPOCH - 72 : supplied raw word count (1818103) did not equal expected count (17277)\n",
      "2021-12-29 11:55:50,629 : INFO : EPOCH 73 - PROGRESS: at 2542.06% words, 339176 words/s, in_qsize 15, out_qsize 0\n",
      "2021-12-29 11:55:51,641 : INFO : EPOCH 73 - PROGRESS: at 5605.89% words, 372122 words/s, in_qsize 15, out_qsize 0\n",
      "2021-12-29 11:55:52,659 : INFO : EPOCH 73 - PROGRESS: at 8380.09% words, 369388 words/s, in_qsize 15, out_qsize 0\n",
      "2021-12-29 11:55:53,296 : INFO : worker thread finished; awaiting finish of 7 more threads\n",
      "2021-12-29 11:55:53,302 : INFO : worker thread finished; awaiting finish of 6 more threads\n",
      "2021-12-29 11:55:53,315 : INFO : worker thread finished; awaiting finish of 5 more threads\n",
      "2021-12-29 11:55:53,326 : INFO : worker thread finished; awaiting finish of 4 more threads\n",
      "2021-12-29 11:55:53,334 : INFO : worker thread finished; awaiting finish of 3 more threads\n",
      "2021-12-29 11:55:53,384 : INFO : worker thread finished; awaiting finish of 2 more threads\n",
      "2021-12-29 11:55:53,386 : INFO : worker thread finished; awaiting finish of 1 more threads\n",
      "2021-12-29 11:55:53,413 : INFO : worker thread finished; awaiting finish of 0 more threads\n",
      "2021-12-29 11:55:53,414 : INFO : EPOCH - 73 : training on 1818103 raw words (1403973 effective words) took 3.8s, 370862 effective words/s\n",
      "2021-12-29 11:55:53,417 : WARNING : EPOCH - 73 : supplied raw word count (1818103) did not equal expected count (17277)\n",
      "2021-12-29 11:55:54,434 : INFO : EPOCH 74 - PROGRESS: at 2194.96% words, 292593 words/s, in_qsize 15, out_qsize 0\n",
      "2021-12-29 11:55:55,440 : INFO : EPOCH 74 - PROGRESS: at 4622.72% words, 307727 words/s, in_qsize 15, out_qsize 0\n",
      "2021-12-29 11:55:56,494 : INFO : EPOCH 74 - PROGRESS: at 7165.86% words, 312973 words/s, in_qsize 15, out_qsize 0\n",
      "2021-12-29 11:55:57,509 : INFO : EPOCH 74 - PROGRESS: at 9650.45% words, 316286 words/s, in_qsize 15, out_qsize 0\n",
      "2021-12-29 11:55:57,728 : INFO : worker thread finished; awaiting finish of 7 more threads\n",
      "2021-12-29 11:55:57,730 : INFO : worker thread finished; awaiting finish of 6 more threads\n",
      "2021-12-29 11:55:57,735 : INFO : worker thread finished; awaiting finish of 5 more threads\n",
      "2021-12-29 11:55:57,756 : INFO : worker thread finished; awaiting finish of 4 more threads\n",
      "2021-12-29 11:55:57,764 : INFO : worker thread finished; awaiting finish of 3 more threads\n",
      "2021-12-29 11:55:57,789 : INFO : worker thread finished; awaiting finish of 2 more threads\n",
      "2021-12-29 11:55:57,819 : INFO : worker thread finished; awaiting finish of 1 more threads\n",
      "2021-12-29 11:55:57,831 : INFO : worker thread finished; awaiting finish of 0 more threads\n",
      "2021-12-29 11:55:57,831 : INFO : EPOCH - 74 : training on 1818103 raw words (1404819 effective words) took 4.4s, 319459 effective words/s\n",
      "2021-12-29 11:55:57,832 : WARNING : EPOCH - 74 : supplied raw word count (1818103) did not equal expected count (17277)\n",
      "2021-12-29 11:55:58,919 : INFO : EPOCH 75 - PROGRESS: at 2368.49% words, 297374 words/s, in_qsize 16, out_qsize 0\n",
      "2021-12-29 11:55:59,984 : INFO : EPOCH 75 - PROGRESS: at 5143.32% words, 322899 words/s, in_qsize 16, out_qsize 0\n",
      "2021-12-29 11:56:01,005 : INFO : EPOCH 75 - PROGRESS: at 7801.94% words, 331105 words/s, in_qsize 15, out_qsize 0\n",
      "2021-12-29 11:56:01,963 : INFO : worker thread finished; awaiting finish of 7 more threads\n",
      "2021-12-29 11:56:01,966 : INFO : worker thread finished; awaiting finish of 6 more threads\n",
      "2021-12-29 11:56:01,976 : INFO : worker thread finished; awaiting finish of 5 more threads\n",
      "2021-12-29 11:56:01,978 : INFO : worker thread finished; awaiting finish of 4 more threads\n",
      "2021-12-29 11:56:01,987 : INFO : worker thread finished; awaiting finish of 3 more threads\n",
      "2021-12-29 11:56:01,992 : INFO : worker thread finished; awaiting finish of 2 more threads\n",
      "2021-12-29 11:56:02,049 : INFO : EPOCH 75 - PROGRESS: at 10465.42% words, 333080 words/s, in_qsize 1, out_qsize 1\n",
      "2021-12-29 11:56:02,050 : INFO : worker thread finished; awaiting finish of 1 more threads\n",
      "2021-12-29 11:56:02,065 : INFO : worker thread finished; awaiting finish of 0 more threads\n",
      "2021-12-29 11:56:02,066 : INFO : EPOCH - 75 : training on 1818103 raw words (1404337 effective words) took 4.2s, 333566 effective words/s\n",
      "2021-12-29 11:56:02,067 : WARNING : EPOCH - 75 : supplied raw word count (1818103) did not equal expected count (17277)\n",
      "2021-12-29 11:56:03,087 : INFO : EPOCH 76 - PROGRESS: at 2021.53% words, 268953 words/s, in_qsize 15, out_qsize 0\n",
      "2021-12-29 11:56:04,094 : INFO : EPOCH 76 - PROGRESS: at 4738.47% words, 314807 words/s, in_qsize 15, out_qsize 0\n",
      "2021-12-29 11:56:05,096 : INFO : EPOCH 76 - PROGRESS: at 7512.75% words, 333275 words/s, in_qsize 15, out_qsize 0\n",
      "2021-12-29 11:56:06,074 : INFO : worker thread finished; awaiting finish of 7 more threads\n",
      "2021-12-29 11:56:06,075 : INFO : worker thread finished; awaiting finish of 6 more threads\n",
      "2021-12-29 11:56:06,080 : INFO : worker thread finished; awaiting finish of 5 more threads\n",
      "2021-12-29 11:56:06,096 : INFO : worker thread finished; awaiting finish of 4 more threads\n",
      "2021-12-29 11:56:06,097 : INFO : EPOCH 76 - PROGRESS: at 10349.79% words, 344234 words/s, in_qsize 3, out_qsize 1\n",
      "2021-12-29 11:56:06,098 : INFO : worker thread finished; awaiting finish of 3 more threads\n",
      "2021-12-29 11:56:06,114 : INFO : worker thread finished; awaiting finish of 2 more threads\n",
      "2021-12-29 11:56:06,139 : INFO : worker thread finished; awaiting finish of 1 more threads\n",
      "2021-12-29 11:56:06,165 : INFO : worker thread finished; awaiting finish of 0 more threads\n",
      "2021-12-29 11:56:06,166 : INFO : EPOCH - 76 : training on 1818103 raw words (1404146 effective words) took 4.1s, 344023 effective words/s\n",
      "2021-12-29 11:56:06,166 : WARNING : EPOCH - 76 : supplied raw word count (1818103) did not equal expected count (17277)\n",
      "2021-12-29 11:56:07,181 : INFO : EPOCH 77 - PROGRESS: at 2426.31% words, 323175 words/s, in_qsize 15, out_qsize 0\n",
      "2021-12-29 11:56:08,217 : INFO : EPOCH 77 - PROGRESS: at 5143.36% words, 337331 words/s, in_qsize 15, out_qsize 0\n",
      "2021-12-29 11:56:09,239 : INFO : EPOCH 77 - PROGRESS: at 7859.81% words, 343244 words/s, in_qsize 15, out_qsize 0\n",
      "2021-12-29 11:56:10,210 : INFO : worker thread finished; awaiting finish of 7 more threads\n",
      "2021-12-29 11:56:10,212 : INFO : worker thread finished; awaiting finish of 6 more threads\n",
      "2021-12-29 11:56:10,254 : INFO : EPOCH 77 - PROGRESS: at 10234.11% words, 335230 words/s, in_qsize 5, out_qsize 1\n",
      "2021-12-29 11:56:10,255 : INFO : worker thread finished; awaiting finish of 5 more threads\n",
      "2021-12-29 11:56:10,310 : INFO : worker thread finished; awaiting finish of 4 more threads\n",
      "2021-12-29 11:56:10,311 : INFO : worker thread finished; awaiting finish of 3 more threads\n",
      "2021-12-29 11:56:10,320 : INFO : worker thread finished; awaiting finish of 2 more threads\n",
      "2021-12-29 11:56:10,322 : INFO : worker thread finished; awaiting finish of 1 more threads\n",
      "2021-12-29 11:56:10,377 : INFO : worker thread finished; awaiting finish of 0 more threads\n",
      "2021-12-29 11:56:10,378 : INFO : EPOCH - 77 : training on 1818103 raw words (1404399 effective words) took 4.2s, 334408 effective words/s\n",
      "2021-12-29 11:56:10,380 : WARNING : EPOCH - 77 : supplied raw word count (1818103) did not equal expected count (17277)\n",
      "2021-12-29 11:56:11,462 : INFO : EPOCH 78 - PROGRESS: at 2368.49% words, 296832 words/s, in_qsize 15, out_qsize 0\n",
      "2021-12-29 11:56:12,466 : INFO : EPOCH 78 - PROGRESS: at 4854.10% words, 313343 words/s, in_qsize 15, out_qsize 0\n",
      "2021-12-29 11:56:13,493 : INFO : EPOCH 78 - PROGRESS: at 7223.57% words, 311859 words/s, in_qsize 16, out_qsize 0\n",
      "2021-12-29 11:56:14,505 : INFO : EPOCH 78 - PROGRESS: at 9997.46% words, 324931 words/s, in_qsize 9, out_qsize 1\n",
      "2021-12-29 11:56:14,574 : INFO : worker thread finished; awaiting finish of 7 more threads\n",
      "2021-12-29 11:56:14,581 : INFO : worker thread finished; awaiting finish of 6 more threads\n",
      "2021-12-29 11:56:14,592 : INFO : worker thread finished; awaiting finish of 5 more threads\n",
      "2021-12-29 11:56:14,598 : INFO : worker thread finished; awaiting finish of 4 more threads\n",
      "2021-12-29 11:56:14,617 : INFO : worker thread finished; awaiting finish of 3 more threads\n",
      "2021-12-29 11:56:14,628 : INFO : worker thread finished; awaiting finish of 2 more threads\n",
      "2021-12-29 11:56:14,655 : INFO : worker thread finished; awaiting finish of 1 more threads\n",
      "2021-12-29 11:56:14,660 : INFO : worker thread finished; awaiting finish of 0 more threads\n",
      "2021-12-29 11:56:14,661 : INFO : EPOCH - 78 : training on 1818103 raw words (1404728 effective words) took 4.3s, 329410 effective words/s\n",
      "2021-12-29 11:56:14,662 : WARNING : EPOCH - 78 : supplied raw word count (1818103) did not equal expected count (17277)\n",
      "2021-12-29 11:56:15,672 : INFO : EPOCH 79 - PROGRESS: at 2599.88% words, 347030 words/s, in_qsize 15, out_qsize 0\n",
      "2021-12-29 11:56:16,685 : INFO : EPOCH 79 - PROGRESS: at 5490.23% words, 364492 words/s, in_qsize 15, out_qsize 0\n",
      "2021-12-29 11:56:17,702 : INFO : EPOCH 79 - PROGRESS: at 8437.93% words, 372059 words/s, in_qsize 15, out_qsize 0\n",
      "2021-12-29 11:56:18,308 : INFO : worker thread finished; awaiting finish of 7 more threads\n",
      "2021-12-29 11:56:18,317 : INFO : worker thread finished; awaiting finish of 6 more threads\n",
      "2021-12-29 11:56:18,319 : INFO : worker thread finished; awaiting finish of 5 more threads\n",
      "2021-12-29 11:56:18,338 : INFO : worker thread finished; awaiting finish of 4 more threads\n",
      "2021-12-29 11:56:18,344 : INFO : worker thread finished; awaiting finish of 3 more threads\n",
      "2021-12-29 11:56:18,346 : INFO : worker thread finished; awaiting finish of 2 more threads\n",
      "2021-12-29 11:56:18,370 : INFO : worker thread finished; awaiting finish of 1 more threads\n",
      "2021-12-29 11:56:18,392 : INFO : worker thread finished; awaiting finish of 0 more threads\n",
      "2021-12-29 11:56:18,394 : INFO : EPOCH - 79 : training on 1818103 raw words (1404770 effective words) took 3.7s, 377429 effective words/s\n",
      "2021-12-29 11:56:18,395 : WARNING : EPOCH - 79 : supplied raw word count (1818103) did not equal expected count (17277)\n",
      "2021-12-29 11:56:19,432 : INFO : EPOCH 80 - PROGRESS: at 2599.88% words, 338840 words/s, in_qsize 15, out_qsize 0\n",
      "2021-12-29 11:56:20,438 : INFO : EPOCH 80 - PROGRESS: at 5548.03% words, 365438 words/s, in_qsize 16, out_qsize 0\n",
      "2021-12-29 11:56:21,443 : INFO : EPOCH 80 - PROGRESS: at 8553.58% words, 376555 words/s, in_qsize 15, out_qsize 0\n",
      "2021-12-29 11:56:22,050 : INFO : worker thread finished; awaiting finish of 7 more threads\n",
      "2021-12-29 11:56:22,052 : INFO : worker thread finished; awaiting finish of 6 more threads\n",
      "2021-12-29 11:56:22,061 : INFO : worker thread finished; awaiting finish of 5 more threads\n",
      "2021-12-29 11:56:22,064 : INFO : worker thread finished; awaiting finish of 4 more threads\n",
      "2021-12-29 11:56:22,067 : INFO : worker thread finished; awaiting finish of 3 more threads\n",
      "2021-12-29 11:56:22,077 : INFO : worker thread finished; awaiting finish of 2 more threads\n",
      "2021-12-29 11:56:22,112 : INFO : worker thread finished; awaiting finish of 1 more threads\n",
      "2021-12-29 11:56:22,132 : INFO : worker thread finished; awaiting finish of 0 more threads\n",
      "2021-12-29 11:56:22,133 : INFO : EPOCH - 80 : training on 1818103 raw words (1404666 effective words) took 3.7s, 377133 effective words/s\n",
      "2021-12-29 11:56:22,134 : WARNING : EPOCH - 80 : supplied raw word count (1818103) did not equal expected count (17277)\n",
      "2021-12-29 11:56:22,134 : INFO : Word2Vec lifecycle event {'msg': 'training on 145448240 raw words (112357418 effective words) took 344.0s, 326605 effective words/s', 'datetime': '2021-12-29T11:56:22.134955', 'gensim': '4.0.1', 'python': '3.8.12 (default, Oct 12 2021, 06:23:56) \\n[Clang 10.0.0 ]', 'platform': 'macOS-10.16-x86_64-i386-64bit', 'event': 'train'}\n"
     ]
    },
    {
     "data": {
      "text/plain": [
       "(112357418, 145448240)"
      ]
     },
     "execution_count": 28,
     "metadata": {},
     "output_type": "execute_result"
    }
   ],
   "source": [
    "thrones2vec.train(sentences,total_words=(len(thrones2vec.wv)), epochs=80)"
   ]
  },
  {
   "cell_type": "markdown",
   "metadata": {},
   "source": [
    "**Save to file, can be useful later**"
   ]
  },
  {
   "cell_type": "code",
   "execution_count": 29,
   "metadata": {
    "collapsed": false
   },
   "outputs": [],
   "source": [
    "if not os.path.exists(\"trained\"):\n",
    "    os.makedirs(\"trained\")"
   ]
  },
  {
   "cell_type": "code",
   "execution_count": 30,
   "metadata": {
    "collapsed": false
   },
   "outputs": [
    {
     "name": "stderr",
     "output_type": "stream",
     "text": [
      "2021-12-29 11:56:22,249 : INFO : Word2Vec lifecycle event {'fname_or_handle': 'trained/thrones2vec.w2v', 'separately': 'None', 'sep_limit': 10485760, 'ignore': frozenset(), 'datetime': '2021-12-29T11:56:22.249409', 'gensim': '4.0.1', 'python': '3.8.12 (default, Oct 12 2021, 06:23:56) \\n[Clang 10.0.0 ]', 'platform': 'macOS-10.16-x86_64-i386-64bit', 'event': 'saving'}\n",
      "2021-12-29 11:56:22,250 : INFO : not storing attribute cum_table\n",
      "2021-12-29 11:56:22,357 : INFO : saved trained/thrones2vec.w2v\n"
     ]
    }
   ],
   "source": [
    "thrones2vec.save(os.path.join(\"trained\", \"thrones2vec.w2v\"))"
   ]
  },
  {
   "cell_type": "markdown",
   "metadata": {},
   "source": [
    "## Explore the trained model."
   ]
  },
  {
   "cell_type": "code",
   "execution_count": 31,
   "metadata": {
    "collapsed": false
   },
   "outputs": [
    {
     "name": "stderr",
     "output_type": "stream",
     "text": [
      "2021-12-29 11:56:22,378 : INFO : loading Word2Vec object from trained/thrones2vec.w2v\n",
      "2021-12-29 11:56:22,407 : INFO : loading wv recursively from trained/thrones2vec.w2v.wv.* with mmap=None\n",
      "2021-12-29 11:56:22,408 : INFO : setting ignored attribute cum_table to None\n",
      "2021-12-29 11:56:22,639 : INFO : Word2Vec lifecycle event {'fname': 'trained/thrones2vec.w2v', 'datetime': '2021-12-29T11:56:22.639422', 'gensim': '4.0.1', 'python': '3.8.12 (default, Oct 12 2021, 06:23:56) \\n[Clang 10.0.0 ]', 'platform': 'macOS-10.16-x86_64-i386-64bit', 'event': 'loaded'}\n"
     ]
    }
   ],
   "source": [
    "thrones2vec = w2v.Word2Vec.load(os.path.join(\"trained\", \"thrones2vec.w2v\"))"
   ]
  },
  {
   "cell_type": "markdown",
   "metadata": {},
   "source": [
    "### Compress the word vectors into 2D space and plot them"
   ]
  },
  {
   "cell_type": "code",
   "execution_count": 32,
   "metadata": {
    "collapsed": false
   },
   "outputs": [],
   "source": [
    "#my video - how to visualize a dataset easily\n",
    "tsne = sklearn.manifold.TSNE(n_components=2, random_state=0)"
   ]
  },
  {
   "cell_type": "code",
   "execution_count": 33,
   "metadata": {
    "collapsed": false
   },
   "outputs": [],
   "source": [
    "all_word_vectors_matrix = thrones2vec.wv.vectors"
   ]
  },
  {
   "cell_type": "markdown",
   "metadata": {},
   "source": [
    "**Train t-SNE, this could take a minute or two...**"
   ]
  },
  {
   "cell_type": "code",
   "execution_count": 34,
   "metadata": {
    "collapsed": false
   },
   "outputs": [
    {
     "name": "stderr",
     "output_type": "stream",
     "text": [
      "/Users/davebrunner/opt/anaconda3/lib/python3.8/site-packages/sklearn/manifold/_t_sne.py:780: FutureWarning: The default initialization in TSNE will change from 'random' to 'pca' in 1.2.\n",
      "  warnings.warn(\n",
      "/Users/davebrunner/opt/anaconda3/lib/python3.8/site-packages/sklearn/manifold/_t_sne.py:790: FutureWarning: The default learning rate in TSNE will change from 200.0 to 'auto' in 1.2.\n",
      "  warnings.warn(\n"
     ]
    }
   ],
   "source": [
    "all_word_vectors_matrix_2d = tsne.fit_transform(all_word_vectors_matrix)"
   ]
  },
  {
   "cell_type": "markdown",
   "metadata": {},
   "source": [
    "**Plot the big picture**"
   ]
  },
  {
   "cell_type": "code",
   "execution_count": 35,
   "metadata": {
    "collapsed": false
   },
   "outputs": [
    {
     "ename": "KeyError",
     "evalue": "\"Key '0.08391094952821732' not present\"",
     "output_type": "error",
     "traceback": [
      "\u001b[0;31m---------------------------------------------------------------------------\u001b[0m",
      "\u001b[0;31mKeyError\u001b[0m                                  Traceback (most recent call last)",
      "\u001b[0;32m/var/folders/np/9gry61813j75vjzz9d0txhcc0000gn/T/ipykernel_15833/2040137795.py\u001b[0m in \u001b[0;36m<module>\u001b[0;34m\u001b[0m\n\u001b[1;32m      3\u001b[0m     [\n\u001b[1;32m      4\u001b[0m         \u001b[0;34m(\u001b[0m\u001b[0mword\u001b[0m\u001b[0;34m,\u001b[0m \u001b[0mcoords\u001b[0m\u001b[0;34m[\u001b[0m\u001b[0;36m0\u001b[0m\u001b[0;34m]\u001b[0m\u001b[0;34m,\u001b[0m \u001b[0mcoords\u001b[0m\u001b[0;34m[\u001b[0m\u001b[0;36m1\u001b[0m\u001b[0;34m]\u001b[0m\u001b[0;34m)\u001b[0m\u001b[0;34m\u001b[0m\u001b[0;34m\u001b[0m\u001b[0m\n\u001b[0;32m----> 5\u001b[0;31m         for word, coords in [\n\u001b[0m\u001b[1;32m      6\u001b[0m             \u001b[0;34m(\u001b[0m\u001b[0mword\u001b[0m\u001b[0;34m,\u001b[0m \u001b[0mall_word_vectors_matrix_2d\u001b[0m\u001b[0;34m[\u001b[0m\u001b[0mthrones2vec\u001b[0m\u001b[0;34m.\u001b[0m\u001b[0mwv\u001b[0m\u001b[0;34m[\u001b[0m\u001b[0mword\u001b[0m\u001b[0;34m]\u001b[0m\u001b[0;34m.\u001b[0m\u001b[0mindex\u001b[0m\u001b[0;34m]\u001b[0m\u001b[0;34m)\u001b[0m\u001b[0;34m\u001b[0m\u001b[0;34m\u001b[0m\u001b[0m\n\u001b[1;32m      7\u001b[0m             \u001b[0;32mfor\u001b[0m \u001b[0mword\u001b[0m \u001b[0;32min\u001b[0m \u001b[0mthrones2vec\u001b[0m\u001b[0;34m.\u001b[0m\u001b[0mwv\u001b[0m\u001b[0;34m\u001b[0m\u001b[0;34m\u001b[0m\u001b[0m\n",
      "\u001b[0;32m/var/folders/np/9gry61813j75vjzz9d0txhcc0000gn/T/ipykernel_15833/2040137795.py\u001b[0m in \u001b[0;36m<listcomp>\u001b[0;34m(.0)\u001b[0m\n\u001b[1;32m      4\u001b[0m         \u001b[0;34m(\u001b[0m\u001b[0mword\u001b[0m\u001b[0;34m,\u001b[0m \u001b[0mcoords\u001b[0m\u001b[0;34m[\u001b[0m\u001b[0;36m0\u001b[0m\u001b[0;34m]\u001b[0m\u001b[0;34m,\u001b[0m \u001b[0mcoords\u001b[0m\u001b[0;34m[\u001b[0m\u001b[0;36m1\u001b[0m\u001b[0;34m]\u001b[0m\u001b[0;34m)\u001b[0m\u001b[0;34m\u001b[0m\u001b[0;34m\u001b[0m\u001b[0m\n\u001b[1;32m      5\u001b[0m         for word, coords in [\n\u001b[0;32m----> 6\u001b[0;31m             \u001b[0;34m(\u001b[0m\u001b[0mword\u001b[0m\u001b[0;34m,\u001b[0m \u001b[0mall_word_vectors_matrix_2d\u001b[0m\u001b[0;34m[\u001b[0m\u001b[0mthrones2vec\u001b[0m\u001b[0;34m.\u001b[0m\u001b[0mwv\u001b[0m\u001b[0;34m[\u001b[0m\u001b[0mword\u001b[0m\u001b[0;34m]\u001b[0m\u001b[0;34m.\u001b[0m\u001b[0mindex\u001b[0m\u001b[0;34m]\u001b[0m\u001b[0;34m)\u001b[0m\u001b[0;34m\u001b[0m\u001b[0;34m\u001b[0m\u001b[0m\n\u001b[0m\u001b[1;32m      7\u001b[0m             \u001b[0;32mfor\u001b[0m \u001b[0mword\u001b[0m \u001b[0;32min\u001b[0m \u001b[0mthrones2vec\u001b[0m\u001b[0;34m.\u001b[0m\u001b[0mwv\u001b[0m\u001b[0;34m\u001b[0m\u001b[0;34m\u001b[0m\u001b[0m\n\u001b[1;32m      8\u001b[0m         ]\n",
      "\u001b[0;32m~/opt/anaconda3/lib/python3.8/site-packages/gensim/models/keyedvectors.py\u001b[0m in \u001b[0;36m__getitem__\u001b[0;34m(self, key_or_keys)\u001b[0m\n\u001b[1;32m    379\u001b[0m             \u001b[0;32mreturn\u001b[0m \u001b[0mself\u001b[0m\u001b[0;34m.\u001b[0m\u001b[0mget_vector\u001b[0m\u001b[0;34m(\u001b[0m\u001b[0mkey_or_keys\u001b[0m\u001b[0;34m)\u001b[0m\u001b[0;34m\u001b[0m\u001b[0;34m\u001b[0m\u001b[0m\n\u001b[1;32m    380\u001b[0m \u001b[0;34m\u001b[0m\u001b[0m\n\u001b[0;32m--> 381\u001b[0;31m         \u001b[0;32mreturn\u001b[0m \u001b[0mvstack\u001b[0m\u001b[0;34m(\u001b[0m\u001b[0;34m[\u001b[0m\u001b[0mself\u001b[0m\u001b[0;34m.\u001b[0m\u001b[0mget_vector\u001b[0m\u001b[0;34m(\u001b[0m\u001b[0mkey\u001b[0m\u001b[0;34m)\u001b[0m \u001b[0;32mfor\u001b[0m \u001b[0mkey\u001b[0m \u001b[0;32min\u001b[0m \u001b[0mkey_or_keys\u001b[0m\u001b[0;34m]\u001b[0m\u001b[0;34m)\u001b[0m\u001b[0;34m\u001b[0m\u001b[0;34m\u001b[0m\u001b[0m\n\u001b[0m\u001b[1;32m    382\u001b[0m \u001b[0;34m\u001b[0m\u001b[0m\n\u001b[1;32m    383\u001b[0m     \u001b[0;32mdef\u001b[0m \u001b[0mget_index\u001b[0m\u001b[0;34m(\u001b[0m\u001b[0mself\u001b[0m\u001b[0;34m,\u001b[0m \u001b[0mkey\u001b[0m\u001b[0;34m,\u001b[0m \u001b[0mdefault\u001b[0m\u001b[0;34m=\u001b[0m\u001b[0;32mNone\u001b[0m\u001b[0;34m)\u001b[0m\u001b[0;34m:\u001b[0m\u001b[0;34m\u001b[0m\u001b[0;34m\u001b[0m\u001b[0m\n",
      "\u001b[0;32m~/opt/anaconda3/lib/python3.8/site-packages/gensim/models/keyedvectors.py\u001b[0m in \u001b[0;36m<listcomp>\u001b[0;34m(.0)\u001b[0m\n\u001b[1;32m    379\u001b[0m             \u001b[0;32mreturn\u001b[0m \u001b[0mself\u001b[0m\u001b[0;34m.\u001b[0m\u001b[0mget_vector\u001b[0m\u001b[0;34m(\u001b[0m\u001b[0mkey_or_keys\u001b[0m\u001b[0;34m)\u001b[0m\u001b[0;34m\u001b[0m\u001b[0;34m\u001b[0m\u001b[0m\n\u001b[1;32m    380\u001b[0m \u001b[0;34m\u001b[0m\u001b[0m\n\u001b[0;32m--> 381\u001b[0;31m         \u001b[0;32mreturn\u001b[0m \u001b[0mvstack\u001b[0m\u001b[0;34m(\u001b[0m\u001b[0;34m[\u001b[0m\u001b[0mself\u001b[0m\u001b[0;34m.\u001b[0m\u001b[0mget_vector\u001b[0m\u001b[0;34m(\u001b[0m\u001b[0mkey\u001b[0m\u001b[0;34m)\u001b[0m \u001b[0;32mfor\u001b[0m \u001b[0mkey\u001b[0m \u001b[0;32min\u001b[0m \u001b[0mkey_or_keys\u001b[0m\u001b[0;34m]\u001b[0m\u001b[0;34m)\u001b[0m\u001b[0;34m\u001b[0m\u001b[0;34m\u001b[0m\u001b[0m\n\u001b[0m\u001b[1;32m    382\u001b[0m \u001b[0;34m\u001b[0m\u001b[0m\n\u001b[1;32m    383\u001b[0m     \u001b[0;32mdef\u001b[0m \u001b[0mget_index\u001b[0m\u001b[0;34m(\u001b[0m\u001b[0mself\u001b[0m\u001b[0;34m,\u001b[0m \u001b[0mkey\u001b[0m\u001b[0;34m,\u001b[0m \u001b[0mdefault\u001b[0m\u001b[0;34m=\u001b[0m\u001b[0;32mNone\u001b[0m\u001b[0;34m)\u001b[0m\u001b[0;34m:\u001b[0m\u001b[0;34m\u001b[0m\u001b[0;34m\u001b[0m\u001b[0m\n",
      "\u001b[0;32m~/opt/anaconda3/lib/python3.8/site-packages/gensim/models/keyedvectors.py\u001b[0m in \u001b[0;36mget_vector\u001b[0;34m(self, key, norm)\u001b[0m\n\u001b[1;32m    420\u001b[0m \u001b[0;34m\u001b[0m\u001b[0m\n\u001b[1;32m    421\u001b[0m         \"\"\"\n\u001b[0;32m--> 422\u001b[0;31m         \u001b[0mindex\u001b[0m \u001b[0;34m=\u001b[0m \u001b[0mself\u001b[0m\u001b[0;34m.\u001b[0m\u001b[0mget_index\u001b[0m\u001b[0;34m(\u001b[0m\u001b[0mkey\u001b[0m\u001b[0;34m)\u001b[0m\u001b[0;34m\u001b[0m\u001b[0;34m\u001b[0m\u001b[0m\n\u001b[0m\u001b[1;32m    423\u001b[0m         \u001b[0;32mif\u001b[0m \u001b[0mnorm\u001b[0m\u001b[0;34m:\u001b[0m\u001b[0;34m\u001b[0m\u001b[0;34m\u001b[0m\u001b[0m\n\u001b[1;32m    424\u001b[0m             \u001b[0mself\u001b[0m\u001b[0;34m.\u001b[0m\u001b[0mfill_norms\u001b[0m\u001b[0;34m(\u001b[0m\u001b[0;34m)\u001b[0m\u001b[0;34m\u001b[0m\u001b[0;34m\u001b[0m\u001b[0m\n",
      "\u001b[0;32m~/opt/anaconda3/lib/python3.8/site-packages/gensim/models/keyedvectors.py\u001b[0m in \u001b[0;36mget_index\u001b[0;34m(self, key, default)\u001b[0m\n\u001b[1;32m    394\u001b[0m             \u001b[0;32mreturn\u001b[0m \u001b[0mdefault\u001b[0m\u001b[0;34m\u001b[0m\u001b[0;34m\u001b[0m\u001b[0m\n\u001b[1;32m    395\u001b[0m         \u001b[0;32melse\u001b[0m\u001b[0;34m:\u001b[0m\u001b[0;34m\u001b[0m\u001b[0;34m\u001b[0m\u001b[0m\n\u001b[0;32m--> 396\u001b[0;31m             \u001b[0;32mraise\u001b[0m \u001b[0mKeyError\u001b[0m\u001b[0;34m(\u001b[0m\u001b[0;34mf\"Key '{key}' not present\"\u001b[0m\u001b[0;34m)\u001b[0m\u001b[0;34m\u001b[0m\u001b[0;34m\u001b[0m\u001b[0m\n\u001b[0m\u001b[1;32m    397\u001b[0m \u001b[0;34m\u001b[0m\u001b[0m\n\u001b[1;32m    398\u001b[0m     \u001b[0;32mdef\u001b[0m \u001b[0mget_vector\u001b[0m\u001b[0;34m(\u001b[0m\u001b[0mself\u001b[0m\u001b[0;34m,\u001b[0m \u001b[0mkey\u001b[0m\u001b[0;34m,\u001b[0m \u001b[0mnorm\u001b[0m\u001b[0;34m=\u001b[0m\u001b[0;32mFalse\u001b[0m\u001b[0;34m)\u001b[0m\u001b[0;34m:\u001b[0m\u001b[0;34m\u001b[0m\u001b[0;34m\u001b[0m\u001b[0m\n",
      "\u001b[0;31mKeyError\u001b[0m: \"Key '0.08391094952821732' not present\""
     ]
    }
   ],
   "source": [
    "#plot point in 2d space\n",
    "points = pd.DataFrame(\n",
    "    [\n",
    "        (word, coords[0], coords[1])\n",
    "        for word, coords in [\n",
    "            (word, all_word_vectors_matrix_2d[thrones2vec.wv[word].index])\n",
    "            for word in thrones2vec.wv\n",
    "        ]\n",
    "    ],\n",
    "    columns=[\"word\", \"x\", \"y\"]\n",
    ")"
   ]
  },
  {
   "cell_type": "code",
   "execution_count": null,
   "metadata": {
    "collapsed": false
   },
   "outputs": [
    {
     "ename": "NameError",
     "evalue": "name 'points' is not defined",
     "output_type": "error",
     "traceback": [
      "\u001b[1;31m---------------------------------------------------------------------------\u001b[0m",
      "\u001b[1;31mNameError\u001b[0m                                 Traceback (most recent call last)",
      "\u001b[1;32m<ipython-input-162-17c1f1e79cf0>\u001b[0m in \u001b[0;36m<module>\u001b[1;34m\u001b[0m\n\u001b[1;32m----> 1\u001b[1;33m \u001b[0mpoints\u001b[0m\u001b[1;33m.\u001b[0m\u001b[0mhead\u001b[0m\u001b[1;33m(\u001b[0m\u001b[1;36m10\u001b[0m\u001b[1;33m)\u001b[0m\u001b[1;33m\u001b[0m\u001b[1;33m\u001b[0m\u001b[0m\n\u001b[0m",
      "\u001b[1;31mNameError\u001b[0m: name 'points' is not defined"
     ]
    }
   ],
   "source": [
    "points.head(10)"
   ]
  },
  {
   "cell_type": "code",
   "execution_count": null,
   "metadata": {
    "collapsed": true
   },
   "outputs": [],
   "source": [
    "sns.set_context(\"poster\")"
   ]
  },
  {
   "cell_type": "code",
   "execution_count": null,
   "metadata": {
    "collapsed": false
   },
   "outputs": [
    {
     "ename": "NameError",
     "evalue": "name 'points' is not defined",
     "output_type": "error",
     "traceback": [
      "\u001b[1;31m---------------------------------------------------------------------------\u001b[0m",
      "\u001b[1;31mNameError\u001b[0m                                 Traceback (most recent call last)",
      "\u001b[1;32m<ipython-input-188-42c36ae8f15c>\u001b[0m in \u001b[0;36m<module>\u001b[1;34m\u001b[0m\n\u001b[1;32m----> 1\u001b[1;33m \u001b[0mpoints\u001b[0m\u001b[1;33m.\u001b[0m\u001b[0mplot\u001b[0m\u001b[1;33m.\u001b[0m\u001b[0mscatter\u001b[0m\u001b[1;33m(\u001b[0m\u001b[1;34m\"x\"\u001b[0m\u001b[1;33m,\u001b[0m \u001b[1;34m\"y\"\u001b[0m\u001b[1;33m,\u001b[0m \u001b[0ms\u001b[0m\u001b[1;33m=\u001b[0m\u001b[1;36m10\u001b[0m\u001b[1;33m,\u001b[0m \u001b[0mfigsize\u001b[0m\u001b[1;33m=\u001b[0m\u001b[1;33m(\u001b[0m\u001b[1;36m20\u001b[0m\u001b[1;33m,\u001b[0m \u001b[1;36m12\u001b[0m\u001b[1;33m)\u001b[0m\u001b[1;33m)\u001b[0m\u001b[1;33m\u001b[0m\u001b[1;33m\u001b[0m\u001b[0m\n\u001b[0m",
      "\u001b[1;31mNameError\u001b[0m: name 'points' is not defined"
     ]
    }
   ],
   "source": [
    "points.plot.scatter(\"x\", \"y\", s=10, figsize=(20, 12))"
   ]
  },
  {
   "cell_type": "markdown",
   "metadata": {
    "collapsed": true
   },
   "source": [
    "**Zoom in to some interesting places**"
   ]
  },
  {
   "cell_type": "code",
   "execution_count": null,
   "metadata": {
    "collapsed": true
   },
   "outputs": [],
   "source": [
    "def plot_region(x_bounds, y_bounds):\n",
    "    slice = points[\n",
    "        (x_bounds[0] <= points.x) &\n",
    "        (points.x <= x_bounds[1]) & \n",
    "        (y_bounds[0] <= points.y) &\n",
    "        (points.y <= y_bounds[1])\n",
    "    ]\n",
    "    \n",
    "    ax = slice.plot.scatter(\"x\", \"y\", s=35, figsize=(10, 8))\n",
    "    for i, point in slice.iterrows():\n",
    "        ax.text(point.x + 0.005, point.y + 0.005, point.word, fontsize=11)"
   ]
  },
  {
   "cell_type": "markdown",
   "metadata": {},
   "source": [
    "**People related to Kingsguard ended up together**"
   ]
  },
  {
   "cell_type": "code",
   "execution_count": null,
   "metadata": {
    "collapsed": false
   },
   "outputs": [
    {
     "ename": "NameError",
     "evalue": "name 'plot_region' is not defined",
     "output_type": "error",
     "traceback": [
      "\u001b[1;31m---------------------------------------------------------------------------\u001b[0m",
      "\u001b[1;31mNameError\u001b[0m                                 Traceback (most recent call last)",
      "\u001b[1;32m<ipython-input-167-3606d96f6cad>\u001b[0m in \u001b[0;36m<module>\u001b[1;34m\u001b[0m\n\u001b[1;32m----> 1\u001b[1;33m \u001b[0mplot_region\u001b[0m\u001b[1;33m(\u001b[0m\u001b[0mx_bounds\u001b[0m\u001b[1;33m=\u001b[0m\u001b[1;33m(\u001b[0m\u001b[1;36m4.0\u001b[0m\u001b[1;33m,\u001b[0m \u001b[1;36m4.2\u001b[0m\u001b[1;33m)\u001b[0m\u001b[1;33m,\u001b[0m \u001b[0my_bounds\u001b[0m\u001b[1;33m=\u001b[0m\u001b[1;33m(\u001b[0m\u001b[1;33m-\u001b[0m\u001b[1;36m0.5\u001b[0m\u001b[1;33m,\u001b[0m \u001b[1;33m-\u001b[0m\u001b[1;36m0.1\u001b[0m\u001b[1;33m)\u001b[0m\u001b[1;33m)\u001b[0m\u001b[1;33m\u001b[0m\u001b[1;33m\u001b[0m\u001b[0m\n\u001b[0m",
      "\u001b[1;31mNameError\u001b[0m: name 'plot_region' is not defined"
     ]
    }
   ],
   "source": [
    "plot_region(x_bounds=(4.0, 4.2), y_bounds=(-0.5, -0.1))"
   ]
  },
  {
   "cell_type": "markdown",
   "metadata": {},
   "source": [
    "**Food products are grouped nicely as well. Aerys (The Mad King) being close to \"roasted\" also looks sadly correct**"
   ]
  },
  {
   "cell_type": "code",
   "execution_count": null,
   "metadata": {
    "collapsed": false
   },
   "outputs": [
    {
     "ename": "NameError",
     "evalue": "name 'plot_region' is not defined",
     "output_type": "error",
     "traceback": [
      "\u001b[1;31m---------------------------------------------------------------------------\u001b[0m",
      "\u001b[1;31mNameError\u001b[0m                                 Traceback (most recent call last)",
      "\u001b[1;32m<ipython-input-495-635bb73d3e2c>\u001b[0m in \u001b[0;36m<module>\u001b[1;34m\u001b[0m\n\u001b[1;32m----> 1\u001b[1;33m \u001b[0mplot_region\u001b[0m\u001b[1;33m(\u001b[0m\u001b[0mx_bounds\u001b[0m\u001b[1;33m=\u001b[0m\u001b[1;33m(\u001b[0m\u001b[1;36m0\u001b[0m\u001b[1;33m,\u001b[0m \u001b[1;36m1\u001b[0m\u001b[1;33m)\u001b[0m\u001b[1;33m,\u001b[0m \u001b[0my_bounds\u001b[0m\u001b[1;33m=\u001b[0m\u001b[1;33m(\u001b[0m\u001b[1;36m4\u001b[0m\u001b[1;33m,\u001b[0m \u001b[1;36m4.5\u001b[0m\u001b[1;33m)\u001b[0m\u001b[1;33m)\u001b[0m\u001b[1;33m\u001b[0m\u001b[1;33m\u001b[0m\u001b[0m\n\u001b[0m",
      "\u001b[1;31mNameError\u001b[0m: name 'plot_region' is not defined"
     ]
    }
   ],
   "source": [
    "plot_region(x_bounds=(0, 1), y_bounds=(4, 4.5))"
   ]
  },
  {
   "cell_type": "markdown",
   "metadata": {},
   "source": [
    "### Explore semantic similarities between book characters"
   ]
  },
  {
   "cell_type": "markdown",
   "metadata": {},
   "source": [
    "**Words closest to the given word**"
   ]
  },
  {
   "cell_type": "code",
   "execution_count": 36,
   "metadata": {
    "collapsed": false
   },
   "outputs": [
    {
     "data": {
      "text/plain": [
       "[('Eddard', 0.5477069020271301),\n",
       " ('Ned', 0.49601152539253235),\n",
       " ('interred', 0.40962404012680054),\n",
       " ('dated', 0.39974522590637207),\n",
       " ('Snowbeard', 0.3994207978248596),\n",
       " ('Gwynesse', 0.3989529311656952),\n",
       " ('Provided', 0.39573848247528076),\n",
       " ('Knelt', 0.3955308794975281),\n",
       " ('fishwife', 0.3922034800052643),\n",
       " ('Harlon', 0.39078402519226074)]"
      ]
     },
     "execution_count": 36,
     "metadata": {},
     "output_type": "execute_result"
    }
   ],
   "source": [
    "thrones2vec.wv.most_similar(\"Stark\")"
   ]
  },
  {
   "cell_type": "code",
   "execution_count": 37,
   "metadata": {
    "collapsed": false
   },
   "outputs": [
    {
     "data": {
      "text/plain": [
       "[('II', 0.5436996817588806),\n",
       " ('Targaryen', 0.45346009731292725),\n",
       " ('Conciliator', 0.4516374170780182),\n",
       " ('LYANNA', 0.43061625957489014),\n",
       " ('BENJEN', 0.42489373683929443),\n",
       " ('V', 0.4218860864639282),\n",
       " ('inseparable', 0.4204847514629364),\n",
       " ('VISERYS', 0.41132625937461853),\n",
       " ('lusted', 0.4111787974834442),\n",
       " ('Bells', 0.40994927287101746)]"
      ]
     },
     "execution_count": 37,
     "metadata": {},
     "output_type": "execute_result"
    }
   ],
   "source": [
    "thrones2vec.wv.most_similar(\"Aerys\")"
   ]
  },
  {
   "cell_type": "code",
   "execution_count": 38,
   "metadata": {
    "collapsed": false
   },
   "outputs": [
    {
     "data": {
      "text/plain": [
       "[('lifelike', 0.4667336642742157),\n",
       " ('GHOST', 0.4485681653022766),\n",
       " ('nuzzle', 0.43722081184387207),\n",
       " ('SHAGGYDOG', 0.43450573086738586),\n",
       " ('RICKON', 0.42921459674835205),\n",
       " ('cornered', 0.4095626175403595),\n",
       " ('BRANDON', 0.4061349034309387),\n",
       " ('crunching', 0.403515487909317),\n",
       " ('WIND', 0.4022693336009979),\n",
       " ('bounding', 0.3885434567928314)]"
      ]
     },
     "execution_count": 38,
     "metadata": {},
     "output_type": "execute_result"
    }
   ],
   "source": [
    "thrones2vec.wv.most_similar(\"direwolf\")"
   ]
  },
  {
   "cell_type": "markdown",
   "metadata": {},
   "source": [
    "**Linear relationships between word pairs**"
   ]
  },
  {
   "cell_type": "code",
   "execution_count": 39,
   "metadata": {
    "collapsed": true
   },
   "outputs": [],
   "source": [
    "def nearest_similarity_cosmul(start1, end1, end2):\n",
    "    similarities = thrones2vec.wv.most_similar_cosmul(\n",
    "        positive=[end2, start1],\n",
    "        negative=[end1]\n",
    "    )\n",
    "    start2 = similarities[0][0]\n",
    "    print(\"{start1} is related to {end1}, as {start2} is related to {end2}\".format(**locals()))\n",
    "    return start2"
   ]
  },
  {
   "cell_type": "code",
   "execution_count": 40,
   "metadata": {
    "collapsed": false
   },
   "outputs": [
    {
     "name": "stdout",
     "output_type": "stream",
     "text": [
      "Stark is related to Winterfell, as Tully is related to Riverrun\n",
      "Jaime is related to sword, as flagon is related to wine\n",
      "Arya is related to Nymeria, as buys is related to dragons\n"
     ]
    },
    {
     "data": {
      "text/plain": [
       "'buys'"
      ]
     },
     "execution_count": 40,
     "metadata": {},
     "output_type": "execute_result"
    }
   ],
   "source": [
    "nearest_similarity_cosmul(\"Stark\", \"Winterfell\", \"Riverrun\")\n",
    "nearest_similarity_cosmul(\"Jaime\", \"sword\", \"wine\")\n",
    "nearest_similarity_cosmul(\"Arya\", \"Nymeria\", \"dragons\")"
   ]
  },
  {
   "cell_type": "code",
   "execution_count": 41,
   "metadata": {},
   "outputs": [
    {
     "data": {
      "text/plain": [
       "array([ 4.82532173e-01,  4.98011380e-01, -3.06800902e-01,  1.67669371e-01,\n",
       "        1.56866759e-01,  1.87117094e-03, -3.25347394e-01,  3.51193160e-01,\n",
       "       -6.24717712e-01,  4.88662988e-01,  1.70161575e-01,  2.58375198e-01,\n",
       "       -3.76088977e-01, -4.96356152e-02,  7.18446553e-01, -7.84900844e-01,\n",
       "       -1.03377116e+00, -4.12113905e-01,  4.34832543e-01, -4.31748599e-01,\n",
       "       -4.56624061e-01, -2.37316206e-01,  3.39304805e-02, -4.78552401e-01,\n",
       "        5.20434141e-01,  1.50782943e-01, -1.26956999e-01, -7.80486837e-02,\n",
       "        1.10623218e-01, -6.71653375e-02,  4.67048325e-02,  3.42068300e-02,\n",
       "       -8.91234726e-02, -9.25141126e-02,  1.95042312e-01, -3.44330549e-01,\n",
       "        7.77295589e-01,  5.38673103e-01, -4.62925397e-02,  4.89073753e-01,\n",
       "        4.35944289e-01,  1.65313914e-01, -2.10371420e-01,  5.67713976e-01,\n",
       "       -4.43167448e-01,  1.62512153e-01, -7.12837502e-02, -1.72893539e-01,\n",
       "       -7.90975839e-02,  4.95149195e-01, -1.15439609e-01,  3.44232023e-02,\n",
       "       -1.23586357e-01,  7.23013997e-01, -1.93846256e-01,  3.73841017e-01,\n",
       "       -2.34966010e-01, -1.43021479e-01,  5.86610019e-01,  2.77711637e-02,\n",
       "       -2.72146344e-01,  1.81176871e-01, -3.75502765e-01,  4.10325453e-02,\n",
       "       -2.16773421e-01,  2.55848438e-01,  1.19844544e+00,  2.15018243e-02,\n",
       "        5.43135703e-01,  2.97409594e-01,  5.91553189e-02, -6.56163871e-01,\n",
       "        2.40542814e-02, -5.54062009e-01,  5.42629302e-01, -3.83554280e-01,\n",
       "        2.77338386e-01,  3.59020412e-01, -4.97835994e-01,  3.45718622e-01,\n",
       "        2.15255886e-01,  5.88783443e-01,  2.66622622e-02,  4.27653432e-01,\n",
       "       -1.90890148e-01,  7.98540473e-01, -3.80215421e-02,  3.57930571e-01,\n",
       "        5.40413558e-01,  4.33468372e-01,  6.85436606e-01,  4.40402895e-01,\n",
       "        4.04001155e-04,  4.14844960e-01, -1.89996526e-01, -2.19007388e-01,\n",
       "        1.31914258e-01, -1.05339654e-01, -4.05999392e-01,  3.39305758e-01,\n",
       "       -1.67345375e-01, -1.82428494e-01, -1.83274597e-01,  1.75166696e-01,\n",
       "       -2.48751149e-01, -2.74814278e-01, -9.37301368e-02,  3.46912295e-01,\n",
       "        2.14956910e-03, -2.19705790e-01, -7.49858379e-01,  2.51698997e-02,\n",
       "       -7.84610212e-02, -2.28831202e-01, -1.60622001e-01,  5.38224399e-01,\n",
       "       -8.98970291e-02,  2.43065566e-01, -4.25023496e-01, -4.89273310e-01,\n",
       "        9.31772232e-01,  6.52848557e-02,  2.97388017e-01,  1.89331949e-01,\n",
       "        3.27336788e-02,  1.13203488e-01, -2.94966280e-01, -7.13526011e-01,\n",
       "        3.17451730e-03, -3.50552201e-01,  4.31092232e-01,  3.72451186e-01,\n",
       "       -6.17880583e-01,  9.87320691e-02,  3.28551024e-01,  8.49657655e-02,\n",
       "        3.83236080e-01, -6.69250786e-02, -5.40757656e-01, -4.50021565e-01,\n",
       "        1.58121809e-01, -7.09960282e-01, -6.55290663e-01, -6.29251957e-01,\n",
       "        1.08973670e+00, -2.00572386e-01, -8.10560703e-01, -6.04889333e-01,\n",
       "       -2.53590971e-01,  4.91564833e-02,  5.00725443e-03, -8.45904171e-01,\n",
       "       -1.31013393e-01, -3.44020873e-01,  3.78551334e-01, -3.87121260e-01,\n",
       "       -3.28489542e-01,  1.69644266e-01, -2.31403247e-01,  1.91921256e-02,\n",
       "       -3.93838435e-01,  6.80342495e-01,  8.21705461e-02, -7.52690881e-02,\n",
       "       -1.56467229e-01,  1.84874952e-01, -7.61336684e-01, -5.09765744e-01,\n",
       "       -1.69127911e-01, -1.07704625e-01, -1.93360373e-01,  1.63180649e-01,\n",
       "        2.50495285e-01, -2.19180301e-01, -1.56432077e-01, -6.03263617e-01,\n",
       "        9.19523090e-02, -5.98792553e-01,  7.74599314e-01,  1.47572190e-01,\n",
       "       -8.74456763e-01, -1.82429627e-01,  1.68230087e-01,  1.79803759e-01,\n",
       "       -7.64964283e-01, -2.62609661e-01,  9.62024271e-01,  3.86590660e-01,\n",
       "        2.07046807e-01, -4.48260188e-01, -4.17872608e-01,  4.53193367e-01,\n",
       "       -7.52796158e-02, -3.83026004e-01, -4.28559512e-01, -4.59024876e-01,\n",
       "        3.04559227e-02,  1.89975396e-01,  3.59914929e-01, -3.98334771e-01,\n",
       "       -8.35337996e-01,  1.30619794e-01,  2.58105733e-02, -2.81099975e-01,\n",
       "        1.76385015e-01, -3.19481969e-01, -7.02470765e-02, -2.59437621e-01,\n",
       "        2.73766041e-01,  4.49094027e-02, -2.86691874e-01, -7.00949728e-01,\n",
       "        2.12501854e-01, -5.37284672e-01, -2.26481080e-01,  5.27779758e-02,\n",
       "        4.01999280e-02, -9.05733764e-01, -4.37747240e-01, -1.12784719e+00,\n",
       "       -1.72959596e-01,  1.75016508e-01, -5.65197580e-02,  3.16653028e-02,\n",
       "       -7.63509512e-01, -7.26552665e-01, -6.84916228e-02,  1.66550756e-01,\n",
       "       -6.50805533e-01, -5.63422479e-02,  7.71205202e-02,  5.37119329e-01,\n",
       "        3.48668993e-01,  1.32769719e-01, -3.87225710e-02,  2.31034890e-01,\n",
       "       -3.36409390e-01, -3.44617248e-01, -6.27419055e-01, -2.53368586e-01,\n",
       "        8.55564624e-02,  1.60424873e-01, -1.70293286e-01, -3.58800650e-01,\n",
       "       -1.99986100e-01,  6.79677606e-01,  3.18898186e-02, -2.72727281e-01,\n",
       "        5.50237417e-01, -4.12451088e-01, -4.39952761e-01,  2.96190709e-01,\n",
       "        1.65441632e-01,  8.07898700e-01,  3.41002524e-01,  2.97971666e-01,\n",
       "        1.37608147e+00,  5.04759729e-01,  1.33270249e-01, -3.39565694e-01,\n",
       "       -1.31522700e-01,  8.49569321e-01, -1.15095377e-01, -8.75979513e-02,\n",
       "       -2.48501021e-02, -3.64108644e-02,  1.67305201e-01,  3.55297089e-01,\n",
       "       -2.00426400e-01, -9.99523848e-02, -4.00844328e-02, -1.79468483e-01,\n",
       "        3.89978290e-01,  9.29048881e-02,  6.60088241e-01,  9.40621719e-02,\n",
       "        7.15807199e-01, -1.92900207e-02,  8.22328091e-01,  3.99967104e-01,\n",
       "        5.25848091e-01,  3.90170999e-02, -3.42741460e-01,  9.77028310e-01,\n",
       "       -5.38138151e-02,  1.02636568e-01, -3.22205931e-01,  1.18123543e+00,\n",
       "        3.49707752e-01, -2.80295070e-02, -1.26836941e-01, -5.77456504e-02,\n",
       "        8.09893683e-02,  1.08904265e-01, -3.10084909e-01, -7.82195508e-01,\n",
       "        3.34066778e-01, -4.17636603e-01, -1.50927201e-01, -3.60934213e-02],\n",
       "      dtype=float32)"
      ]
     },
     "execution_count": 41,
     "metadata": {},
     "output_type": "execute_result"
    }
   ],
   "source": [
    "#1 Print the one-hot-vector for Arryn\n",
    "thrones2vec.wv[\"Arry\"]"
   ]
  },
  {
   "cell_type": "code",
   "execution_count": 42,
   "metadata": {},
   "outputs": [
    {
     "name": "stdout",
     "output_type": "stream",
     "text": [
      "There are: 17277 Vetors\n"
     ]
    }
   ],
   "source": [
    "#2\n",
    "print(\"There are:\", len(thrones2vec.wv),\"Vetors\")"
   ]
  },
  {
   "cell_type": "code",
   "execution_count": 43,
   "metadata": {},
   "outputs": [
    {
     "name": "stdout",
     "output_type": "stream",
     "text": [
      "The 7 most similar words for Lannister are: [('claimant', 0.40874043107032776), ('crimson', 0.3956228196620941), ('Tywin', 0.3758547604084015), ('Genna', 0.3757480978965759), ('flatly', 0.3663230836391449), ('Kingslayer', 0.36607250571250916), ('someday', 0.3568412959575653)]\n"
     ]
    }
   ],
   "source": [
    "#3\n",
    "number_of_similarities = 7\n",
    "word = \"Lannister\"\n",
    "print(\"The {} most similar words for {} are:\".format(number_of_similarities,word), thrones2vec.wv.most_similar(word,topn=number_of_similarities))"
   ]
  },
  {
   "cell_type": "code",
   "execution_count": 44,
   "metadata": {},
   "outputs": [
    {
     "name": "stdout",
     "output_type": "stream",
     "text": [
      "Similarity of Jon and Ygritte 0.41419047\n"
     ]
    }
   ],
   "source": [
    "#4\n",
    "word1 = \"Jon\"\n",
    "word2 = \"Ygritte\"\n",
    "print(\"Similarity of {} and {}\".format(word1,word2,), thrones2vec.wv.similarity(word1, word2))"
   ]
  },
  {
   "cell_type": "code",
   "execution_count": 45,
   "metadata": {},
   "outputs": [
    {
     "name": "stdout",
     "output_type": "stream",
     "text": [
      "0.19486017170406522\n",
      "['Hodor', 'that', 'was', 'all', 'he', 'ever', 'said'] ['Hold', 'the', 'door']\n",
      "Similarity of Jon and Snow 0.6545374\n"
     ]
    }
   ],
   "source": [
    "#5\n",
    "sentence1 = [\"Hodor\", \"that\", \"was\", \"all\", \"he\", \"ever\", \"said\"]\n",
    "sentence2 = [\"Hold\", \"the\", \"door\"]\n",
    "sum_of_similarities = 0\n",
    "\n",
    "for x in sentence1:\n",
    "    for y in sentence2:\n",
    "        sum_of_similarities += thrones2vec.wv.similarity(x,y)\n",
    "\n",
    "print(sum_of_similarities/(len(sentence1)*len(sentence2)))\n",
    "print(sentence1,sentence2)\n",
    "\n",
    "word1 = \"Jon\"\n",
    "word2 = \"Snow\"\n",
    "print(\"Similarity of {} and {}\".format(word1,word2,), thrones2vec.wv.similarity(word1, word2))"
   ]
  }
 ],
 "metadata": {
  "interpreter": {
   "hash": "b3ba2566441a7c06988d0923437866b63cedc61552a5af99d1f4fb67d367b25f"
  },
  "kernelspec": {
   "display_name": "Python 3.8.8 64-bit ('base': conda)",
   "name": "python3"
  },
  "language_info": {
   "codemirror_mode": {
    "name": "ipython",
    "version": 3
   },
   "file_extension": ".py",
   "mimetype": "text/x-python",
   "name": "python",
   "nbconvert_exporter": "python",
   "pygments_lexer": "ipython3",
   "version": "3.8.12"
  }
 },
 "nbformat": 4,
 "nbformat_minor": 0
}
